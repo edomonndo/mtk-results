{
  "nbformat": 4,
  "nbformat_minor": 0,
  "metadata": {
    "colab": {
      "provenance": []
    },
    "kernelspec": {
      "name": "python3",
      "display_name": "Python 3"
    },
    "language_info": {
      "name": "python"
    }
  },
  "cells": [
    {
      "cell_type": "code",
      "execution_count": 1,
      "metadata": {
        "id": "6kgO41IRNcEw"
      },
      "outputs": [],
      "source": [
        "import requests\n",
        "import json\n",
        "import time\n",
        "from bs4 import BeautifulSoup\n",
        "import pandas as pd\n",
        "import datetime\n",
        "\n",
        "import plotly.express as px\n",
        "import plotly.graph_objects as go"
      ]
    },
    {
      "cell_type": "markdown",
      "source": [
        "# コンテスト情報"
      ],
      "metadata": {
        "id": "ZVMvrAK5kA7U"
      }
    },
    {
      "cell_type": "code",
      "source": [
        "contest_id = \"rco-contest-2019-qual\"\n",
        "problem_id = \"rco_contest_2019_qual_b\"\n",
        "\n",
        "contest_start = datetime.datetime(2023,1,13,19,0,0)\n",
        "contest_end = datetime.datetime(2023,1,22,19,0,0)\n"
      ],
      "metadata": {
        "id": "6uQPN9knj_91"
      },
      "execution_count": 2,
      "outputs": []
    },
    {
      "cell_type": "markdown",
      "source": [
        "# データ作成\n",
        "コンテスト期間中の提出結果から、リストを作成"
      ],
      "metadata": {
        "id": "zsl6xeLCkjIS"
      }
    },
    {
      "cell_type": "code",
      "source": [
        "df = pd.read_csv(\"submissions.csv\", index_col = 0)\n",
        "df.columns = [\"名前\",\"チーム名\", \"言語\", \"スコア\", \"提出日時\", \"実行時間\"]\n",
        "df.head()"
      ],
      "metadata": {
        "colab": {
          "base_uri": "https://localhost:8080/",
          "height": 204
        },
        "id": "zXJ2DNSwYBgG",
        "outputId": "c6378f1c-33b5-49ab-8ade-c1085faf9499"
      },
      "execution_count": 3,
      "outputs": [
        {
          "output_type": "execute_result",
          "data": {
            "text/plain": [
              "                名前          チーム名                言語     スコア  \\\n",
              "0          r3yohei     benchmark     Rust (1.42.0)  607852   \n",
              "1         brthyyjp     benchmark     PyPy3 (7.3.0)  595747   \n",
              "2  fujikawahiroaki  逆襲のバベルクライマーズ  Crystal (0.33.0)  565300   \n",
              "3          r3yohei     benchmark     Rust (1.42.0)  611391   \n",
              "4         brthyyjp     benchmark     PyPy3 (7.3.0)  597179   \n",
              "\n",
              "                  提出日時     実行時間  \n",
              "0  2023-01-22 18:55:38  1991 ms  \n",
              "1  2023-01-22 18:55:27  1901 ms  \n",
              "2  2023-01-22 18:51:48  1963 ms  \n",
              "3  2023-01-22 18:50:36  1991 ms  \n",
              "4  2023-01-22 18:50:14  1900 ms  "
            ],
            "text/html": [
              "\n",
              "  <div id=\"df-de082c01-fe71-4833-a737-a4be9d2188c4\">\n",
              "    <div class=\"colab-df-container\">\n",
              "      <div>\n",
              "<style scoped>\n",
              "    .dataframe tbody tr th:only-of-type {\n",
              "        vertical-align: middle;\n",
              "    }\n",
              "\n",
              "    .dataframe tbody tr th {\n",
              "        vertical-align: top;\n",
              "    }\n",
              "\n",
              "    .dataframe thead th {\n",
              "        text-align: right;\n",
              "    }\n",
              "</style>\n",
              "<table border=\"1\" class=\"dataframe\">\n",
              "  <thead>\n",
              "    <tr style=\"text-align: right;\">\n",
              "      <th></th>\n",
              "      <th>名前</th>\n",
              "      <th>チーム名</th>\n",
              "      <th>言語</th>\n",
              "      <th>スコア</th>\n",
              "      <th>提出日時</th>\n",
              "      <th>実行時間</th>\n",
              "    </tr>\n",
              "  </thead>\n",
              "  <tbody>\n",
              "    <tr>\n",
              "      <th>0</th>\n",
              "      <td>r3yohei</td>\n",
              "      <td>benchmark</td>\n",
              "      <td>Rust (1.42.0)</td>\n",
              "      <td>607852</td>\n",
              "      <td>2023-01-22 18:55:38</td>\n",
              "      <td>1991 ms</td>\n",
              "    </tr>\n",
              "    <tr>\n",
              "      <th>1</th>\n",
              "      <td>brthyyjp</td>\n",
              "      <td>benchmark</td>\n",
              "      <td>PyPy3 (7.3.0)</td>\n",
              "      <td>595747</td>\n",
              "      <td>2023-01-22 18:55:27</td>\n",
              "      <td>1901 ms</td>\n",
              "    </tr>\n",
              "    <tr>\n",
              "      <th>2</th>\n",
              "      <td>fujikawahiroaki</td>\n",
              "      <td>逆襲のバベルクライマーズ</td>\n",
              "      <td>Crystal (0.33.0)</td>\n",
              "      <td>565300</td>\n",
              "      <td>2023-01-22 18:51:48</td>\n",
              "      <td>1963 ms</td>\n",
              "    </tr>\n",
              "    <tr>\n",
              "      <th>3</th>\n",
              "      <td>r3yohei</td>\n",
              "      <td>benchmark</td>\n",
              "      <td>Rust (1.42.0)</td>\n",
              "      <td>611391</td>\n",
              "      <td>2023-01-22 18:50:36</td>\n",
              "      <td>1991 ms</td>\n",
              "    </tr>\n",
              "    <tr>\n",
              "      <th>4</th>\n",
              "      <td>brthyyjp</td>\n",
              "      <td>benchmark</td>\n",
              "      <td>PyPy3 (7.3.0)</td>\n",
              "      <td>597179</td>\n",
              "      <td>2023-01-22 18:50:14</td>\n",
              "      <td>1900 ms</td>\n",
              "    </tr>\n",
              "  </tbody>\n",
              "</table>\n",
              "</div>\n",
              "      <button class=\"colab-df-convert\" onclick=\"convertToInteractive('df-de082c01-fe71-4833-a737-a4be9d2188c4')\"\n",
              "              title=\"Convert this dataframe to an interactive table.\"\n",
              "              style=\"display:none;\">\n",
              "        \n",
              "  <svg xmlns=\"http://www.w3.org/2000/svg\" height=\"24px\"viewBox=\"0 0 24 24\"\n",
              "       width=\"24px\">\n",
              "    <path d=\"M0 0h24v24H0V0z\" fill=\"none\"/>\n",
              "    <path d=\"M18.56 5.44l.94 2.06.94-2.06 2.06-.94-2.06-.94-.94-2.06-.94 2.06-2.06.94zm-11 1L8.5 8.5l.94-2.06 2.06-.94-2.06-.94L8.5 2.5l-.94 2.06-2.06.94zm10 10l.94 2.06.94-2.06 2.06-.94-2.06-.94-.94-2.06-.94 2.06-2.06.94z\"/><path d=\"M17.41 7.96l-1.37-1.37c-.4-.4-.92-.59-1.43-.59-.52 0-1.04.2-1.43.59L10.3 9.45l-7.72 7.72c-.78.78-.78 2.05 0 2.83L4 21.41c.39.39.9.59 1.41.59.51 0 1.02-.2 1.41-.59l7.78-7.78 2.81-2.81c.8-.78.8-2.07 0-2.86zM5.41 20L4 18.59l7.72-7.72 1.47 1.35L5.41 20z\"/>\n",
              "  </svg>\n",
              "      </button>\n",
              "      \n",
              "  <style>\n",
              "    .colab-df-container {\n",
              "      display:flex;\n",
              "      flex-wrap:wrap;\n",
              "      gap: 12px;\n",
              "    }\n",
              "\n",
              "    .colab-df-convert {\n",
              "      background-color: #E8F0FE;\n",
              "      border: none;\n",
              "      border-radius: 50%;\n",
              "      cursor: pointer;\n",
              "      display: none;\n",
              "      fill: #1967D2;\n",
              "      height: 32px;\n",
              "      padding: 0 0 0 0;\n",
              "      width: 32px;\n",
              "    }\n",
              "\n",
              "    .colab-df-convert:hover {\n",
              "      background-color: #E2EBFA;\n",
              "      box-shadow: 0px 1px 2px rgba(60, 64, 67, 0.3), 0px 1px 3px 1px rgba(60, 64, 67, 0.15);\n",
              "      fill: #174EA6;\n",
              "    }\n",
              "\n",
              "    [theme=dark] .colab-df-convert {\n",
              "      background-color: #3B4455;\n",
              "      fill: #D2E3FC;\n",
              "    }\n",
              "\n",
              "    [theme=dark] .colab-df-convert:hover {\n",
              "      background-color: #434B5C;\n",
              "      box-shadow: 0px 1px 3px 1px rgba(0, 0, 0, 0.15);\n",
              "      filter: drop-shadow(0px 1px 2px rgba(0, 0, 0, 0.3));\n",
              "      fill: #FFFFFF;\n",
              "    }\n",
              "  </style>\n",
              "\n",
              "      <script>\n",
              "        const buttonEl =\n",
              "          document.querySelector('#df-de082c01-fe71-4833-a737-a4be9d2188c4 button.colab-df-convert');\n",
              "        buttonEl.style.display =\n",
              "          google.colab.kernel.accessAllowed ? 'block' : 'none';\n",
              "\n",
              "        async function convertToInteractive(key) {\n",
              "          const element = document.querySelector('#df-de082c01-fe71-4833-a737-a4be9d2188c4');\n",
              "          const dataTable =\n",
              "            await google.colab.kernel.invokeFunction('convertToInteractive',\n",
              "                                                     [key], {});\n",
              "          if (!dataTable) return;\n",
              "\n",
              "          const docLinkHtml = 'Like what you see? Visit the ' +\n",
              "            '<a target=\"_blank\" href=https://colab.research.google.com/notebooks/data_table.ipynb>data table notebook</a>'\n",
              "            + ' to learn more about interactive tables.';\n",
              "          element.innerHTML = '';\n",
              "          dataTable['output_type'] = 'display_data';\n",
              "          await google.colab.output.renderOutput(dataTable, element);\n",
              "          const docLink = document.createElement('div');\n",
              "          docLink.innerHTML = docLinkHtml;\n",
              "          element.appendChild(docLink);\n",
              "        }\n",
              "      </script>\n",
              "    </div>\n",
              "  </div>\n",
              "  "
            ]
          },
          "metadata": {},
          "execution_count": 3
        }
      ]
    },
    {
      "cell_type": "markdown",
      "source": [
        "## 個人ランキング"
      ],
      "metadata": {
        "id": "dVxMTUStkw6a"
      }
    },
    {
      "cell_type": "code",
      "source": [
        "df_individual = df.loc[df.groupby(\"名前\")[\"スコア\"].idxmax()]\n",
        "df_individual = df_individual.drop(columns = [\"言語\", \"提出日時\", \"実行時間\"])\n",
        "df_individual.sort_values(\"スコア\", ascending=False, inplace=True)\n",
        "df_individual.reset_index(inplace=True, drop=True)\n",
        "df_individual[\"順位\"] = range(1,len(df_individual)+1)\n",
        "df_individual = df_individual.reindex(columns = [\"順位\", \"名前\", \"チーム名\", \"スコア\"]) \n",
        "df_individual.head()"
      ],
      "metadata": {
        "colab": {
          "base_uri": "https://localhost:8080/",
          "height": 204
        },
        "id": "fBO_hNgPZAE0",
        "outputId": "fab0f171-ec84-4097-9210-58b32c17bc9c"
      },
      "execution_count": 4,
      "outputs": [
        {
          "output_type": "execute_result",
          "data": {
            "text/plain": [
              "   順位             名前                  チーム名     スコア\n",
              "0   1  cplusplusonly             >euphonic  652081\n",
              "1   2       highjump                  山走暁飛  647497\n",
              "2   3           zatt  霧ヶ峰めっちゃ良い買い物しました！！！！  621224\n",
              "3   4         hiraku             >euphonic  620430\n",
              "4   5         8wings                  山走暁飛  615680"
            ],
            "text/html": [
              "\n",
              "  <div id=\"df-33e1660d-cbd4-4356-a7c9-372eabc9b91f\">\n",
              "    <div class=\"colab-df-container\">\n",
              "      <div>\n",
              "<style scoped>\n",
              "    .dataframe tbody tr th:only-of-type {\n",
              "        vertical-align: middle;\n",
              "    }\n",
              "\n",
              "    .dataframe tbody tr th {\n",
              "        vertical-align: top;\n",
              "    }\n",
              "\n",
              "    .dataframe thead th {\n",
              "        text-align: right;\n",
              "    }\n",
              "</style>\n",
              "<table border=\"1\" class=\"dataframe\">\n",
              "  <thead>\n",
              "    <tr style=\"text-align: right;\">\n",
              "      <th></th>\n",
              "      <th>順位</th>\n",
              "      <th>名前</th>\n",
              "      <th>チーム名</th>\n",
              "      <th>スコア</th>\n",
              "    </tr>\n",
              "  </thead>\n",
              "  <tbody>\n",
              "    <tr>\n",
              "      <th>0</th>\n",
              "      <td>1</td>\n",
              "      <td>cplusplusonly</td>\n",
              "      <td>&gt;euphonic</td>\n",
              "      <td>652081</td>\n",
              "    </tr>\n",
              "    <tr>\n",
              "      <th>1</th>\n",
              "      <td>2</td>\n",
              "      <td>highjump</td>\n",
              "      <td>山走暁飛</td>\n",
              "      <td>647497</td>\n",
              "    </tr>\n",
              "    <tr>\n",
              "      <th>2</th>\n",
              "      <td>3</td>\n",
              "      <td>zatt</td>\n",
              "      <td>霧ヶ峰めっちゃ良い買い物しました！！！！</td>\n",
              "      <td>621224</td>\n",
              "    </tr>\n",
              "    <tr>\n",
              "      <th>3</th>\n",
              "      <td>4</td>\n",
              "      <td>hiraku</td>\n",
              "      <td>&gt;euphonic</td>\n",
              "      <td>620430</td>\n",
              "    </tr>\n",
              "    <tr>\n",
              "      <th>4</th>\n",
              "      <td>5</td>\n",
              "      <td>8wings</td>\n",
              "      <td>山走暁飛</td>\n",
              "      <td>615680</td>\n",
              "    </tr>\n",
              "  </tbody>\n",
              "</table>\n",
              "</div>\n",
              "      <button class=\"colab-df-convert\" onclick=\"convertToInteractive('df-33e1660d-cbd4-4356-a7c9-372eabc9b91f')\"\n",
              "              title=\"Convert this dataframe to an interactive table.\"\n",
              "              style=\"display:none;\">\n",
              "        \n",
              "  <svg xmlns=\"http://www.w3.org/2000/svg\" height=\"24px\"viewBox=\"0 0 24 24\"\n",
              "       width=\"24px\">\n",
              "    <path d=\"M0 0h24v24H0V0z\" fill=\"none\"/>\n",
              "    <path d=\"M18.56 5.44l.94 2.06.94-2.06 2.06-.94-2.06-.94-.94-2.06-.94 2.06-2.06.94zm-11 1L8.5 8.5l.94-2.06 2.06-.94-2.06-.94L8.5 2.5l-.94 2.06-2.06.94zm10 10l.94 2.06.94-2.06 2.06-.94-2.06-.94-.94-2.06-.94 2.06-2.06.94z\"/><path d=\"M17.41 7.96l-1.37-1.37c-.4-.4-.92-.59-1.43-.59-.52 0-1.04.2-1.43.59L10.3 9.45l-7.72 7.72c-.78.78-.78 2.05 0 2.83L4 21.41c.39.39.9.59 1.41.59.51 0 1.02-.2 1.41-.59l7.78-7.78 2.81-2.81c.8-.78.8-2.07 0-2.86zM5.41 20L4 18.59l7.72-7.72 1.47 1.35L5.41 20z\"/>\n",
              "  </svg>\n",
              "      </button>\n",
              "      \n",
              "  <style>\n",
              "    .colab-df-container {\n",
              "      display:flex;\n",
              "      flex-wrap:wrap;\n",
              "      gap: 12px;\n",
              "    }\n",
              "\n",
              "    .colab-df-convert {\n",
              "      background-color: #E8F0FE;\n",
              "      border: none;\n",
              "      border-radius: 50%;\n",
              "      cursor: pointer;\n",
              "      display: none;\n",
              "      fill: #1967D2;\n",
              "      height: 32px;\n",
              "      padding: 0 0 0 0;\n",
              "      width: 32px;\n",
              "    }\n",
              "\n",
              "    .colab-df-convert:hover {\n",
              "      background-color: #E2EBFA;\n",
              "      box-shadow: 0px 1px 2px rgba(60, 64, 67, 0.3), 0px 1px 3px 1px rgba(60, 64, 67, 0.15);\n",
              "      fill: #174EA6;\n",
              "    }\n",
              "\n",
              "    [theme=dark] .colab-df-convert {\n",
              "      background-color: #3B4455;\n",
              "      fill: #D2E3FC;\n",
              "    }\n",
              "\n",
              "    [theme=dark] .colab-df-convert:hover {\n",
              "      background-color: #434B5C;\n",
              "      box-shadow: 0px 1px 3px 1px rgba(0, 0, 0, 0.15);\n",
              "      filter: drop-shadow(0px 1px 2px rgba(0, 0, 0, 0.3));\n",
              "      fill: #FFFFFF;\n",
              "    }\n",
              "  </style>\n",
              "\n",
              "      <script>\n",
              "        const buttonEl =\n",
              "          document.querySelector('#df-33e1660d-cbd4-4356-a7c9-372eabc9b91f button.colab-df-convert');\n",
              "        buttonEl.style.display =\n",
              "          google.colab.kernel.accessAllowed ? 'block' : 'none';\n",
              "\n",
              "        async function convertToInteractive(key) {\n",
              "          const element = document.querySelector('#df-33e1660d-cbd4-4356-a7c9-372eabc9b91f');\n",
              "          const dataTable =\n",
              "            await google.colab.kernel.invokeFunction('convertToInteractive',\n",
              "                                                     [key], {});\n",
              "          if (!dataTable) return;\n",
              "\n",
              "          const docLinkHtml = 'Like what you see? Visit the ' +\n",
              "            '<a target=\"_blank\" href=https://colab.research.google.com/notebooks/data_table.ipynb>data table notebook</a>'\n",
              "            + ' to learn more about interactive tables.';\n",
              "          element.innerHTML = '';\n",
              "          dataTable['output_type'] = 'display_data';\n",
              "          await google.colab.output.renderOutput(dataTable, element);\n",
              "          const docLink = document.createElement('div');\n",
              "          docLink.innerHTML = docLinkHtml;\n",
              "          element.appendChild(docLink);\n",
              "        }\n",
              "      </script>\n",
              "    </div>\n",
              "  </div>\n",
              "  "
            ]
          },
          "metadata": {},
          "execution_count": 4
        }
      ]
    },
    {
      "cell_type": "markdown",
      "source": [
        "## チームランキング"
      ],
      "metadata": {
        "id": "I8403JFSk3d_"
      }
    },
    {
      "cell_type": "code",
      "source": [
        "df_team = df.loc[df.groupby(\"チーム名\")[\"スコア\"].idxmax()]\n",
        "df_team = df_team.drop(columns = [\"言語\", \"提出日時\", \"実行時間\"])\n",
        "df_team = df_team.reindex(columns = [\"チーム名\", \"名前\", \"スコア\"])\n",
        "df_team.sort_values(\"スコア\", ascending = False, inplace = True)\n",
        "df_team.reset_index(inplace = True, drop = True)\n",
        "df_team[\"順位\"] = range(1,len(df_team)+1)\n",
        "df_team = df_team.reindex(columns = [\"順位\", \"チーム名\", \"名前\", \"スコア\"]) \n",
        "df_team.head()"
      ],
      "metadata": {
        "colab": {
          "base_uri": "https://localhost:8080/",
          "height": 204
        },
        "id": "f0VxhuVQgBeE",
        "outputId": "76876870-3b64-43e3-c1e1-20ed01c98133"
      },
      "execution_count": 5,
      "outputs": [
        {
          "output_type": "execute_result",
          "data": {
            "text/plain": [
              "   順位                  チーム名             名前     スコア\n",
              "0   1             >euphonic  cplusplusonly  652081\n",
              "1   2                  山走暁飛       highjump  647497\n",
              "2   3  霧ヶ峰めっちゃ良い買い物しました！！！！           zatt  621224\n",
              "3   4             benchmark        r3yohei  611568\n",
              "4   5      輝かしい未来を目指す不屈の戦い人       akane831  594863"
            ],
            "text/html": [
              "\n",
              "  <div id=\"df-8b57941a-bc6c-4c16-8357-30875eb24165\">\n",
              "    <div class=\"colab-df-container\">\n",
              "      <div>\n",
              "<style scoped>\n",
              "    .dataframe tbody tr th:only-of-type {\n",
              "        vertical-align: middle;\n",
              "    }\n",
              "\n",
              "    .dataframe tbody tr th {\n",
              "        vertical-align: top;\n",
              "    }\n",
              "\n",
              "    .dataframe thead th {\n",
              "        text-align: right;\n",
              "    }\n",
              "</style>\n",
              "<table border=\"1\" class=\"dataframe\">\n",
              "  <thead>\n",
              "    <tr style=\"text-align: right;\">\n",
              "      <th></th>\n",
              "      <th>順位</th>\n",
              "      <th>チーム名</th>\n",
              "      <th>名前</th>\n",
              "      <th>スコア</th>\n",
              "    </tr>\n",
              "  </thead>\n",
              "  <tbody>\n",
              "    <tr>\n",
              "      <th>0</th>\n",
              "      <td>1</td>\n",
              "      <td>&gt;euphonic</td>\n",
              "      <td>cplusplusonly</td>\n",
              "      <td>652081</td>\n",
              "    </tr>\n",
              "    <tr>\n",
              "      <th>1</th>\n",
              "      <td>2</td>\n",
              "      <td>山走暁飛</td>\n",
              "      <td>highjump</td>\n",
              "      <td>647497</td>\n",
              "    </tr>\n",
              "    <tr>\n",
              "      <th>2</th>\n",
              "      <td>3</td>\n",
              "      <td>霧ヶ峰めっちゃ良い買い物しました！！！！</td>\n",
              "      <td>zatt</td>\n",
              "      <td>621224</td>\n",
              "    </tr>\n",
              "    <tr>\n",
              "      <th>3</th>\n",
              "      <td>4</td>\n",
              "      <td>benchmark</td>\n",
              "      <td>r3yohei</td>\n",
              "      <td>611568</td>\n",
              "    </tr>\n",
              "    <tr>\n",
              "      <th>4</th>\n",
              "      <td>5</td>\n",
              "      <td>輝かしい未来を目指す不屈の戦い人</td>\n",
              "      <td>akane831</td>\n",
              "      <td>594863</td>\n",
              "    </tr>\n",
              "  </tbody>\n",
              "</table>\n",
              "</div>\n",
              "      <button class=\"colab-df-convert\" onclick=\"convertToInteractive('df-8b57941a-bc6c-4c16-8357-30875eb24165')\"\n",
              "              title=\"Convert this dataframe to an interactive table.\"\n",
              "              style=\"display:none;\">\n",
              "        \n",
              "  <svg xmlns=\"http://www.w3.org/2000/svg\" height=\"24px\"viewBox=\"0 0 24 24\"\n",
              "       width=\"24px\">\n",
              "    <path d=\"M0 0h24v24H0V0z\" fill=\"none\"/>\n",
              "    <path d=\"M18.56 5.44l.94 2.06.94-2.06 2.06-.94-2.06-.94-.94-2.06-.94 2.06-2.06.94zm-11 1L8.5 8.5l.94-2.06 2.06-.94-2.06-.94L8.5 2.5l-.94 2.06-2.06.94zm10 10l.94 2.06.94-2.06 2.06-.94-2.06-.94-.94-2.06-.94 2.06-2.06.94z\"/><path d=\"M17.41 7.96l-1.37-1.37c-.4-.4-.92-.59-1.43-.59-.52 0-1.04.2-1.43.59L10.3 9.45l-7.72 7.72c-.78.78-.78 2.05 0 2.83L4 21.41c.39.39.9.59 1.41.59.51 0 1.02-.2 1.41-.59l7.78-7.78 2.81-2.81c.8-.78.8-2.07 0-2.86zM5.41 20L4 18.59l7.72-7.72 1.47 1.35L5.41 20z\"/>\n",
              "  </svg>\n",
              "      </button>\n",
              "      \n",
              "  <style>\n",
              "    .colab-df-container {\n",
              "      display:flex;\n",
              "      flex-wrap:wrap;\n",
              "      gap: 12px;\n",
              "    }\n",
              "\n",
              "    .colab-df-convert {\n",
              "      background-color: #E8F0FE;\n",
              "      border: none;\n",
              "      border-radius: 50%;\n",
              "      cursor: pointer;\n",
              "      display: none;\n",
              "      fill: #1967D2;\n",
              "      height: 32px;\n",
              "      padding: 0 0 0 0;\n",
              "      width: 32px;\n",
              "    }\n",
              "\n",
              "    .colab-df-convert:hover {\n",
              "      background-color: #E2EBFA;\n",
              "      box-shadow: 0px 1px 2px rgba(60, 64, 67, 0.3), 0px 1px 3px 1px rgba(60, 64, 67, 0.15);\n",
              "      fill: #174EA6;\n",
              "    }\n",
              "\n",
              "    [theme=dark] .colab-df-convert {\n",
              "      background-color: #3B4455;\n",
              "      fill: #D2E3FC;\n",
              "    }\n",
              "\n",
              "    [theme=dark] .colab-df-convert:hover {\n",
              "      background-color: #434B5C;\n",
              "      box-shadow: 0px 1px 3px 1px rgba(0, 0, 0, 0.15);\n",
              "      filter: drop-shadow(0px 1px 2px rgba(0, 0, 0, 0.3));\n",
              "      fill: #FFFFFF;\n",
              "    }\n",
              "  </style>\n",
              "\n",
              "      <script>\n",
              "        const buttonEl =\n",
              "          document.querySelector('#df-8b57941a-bc6c-4c16-8357-30875eb24165 button.colab-df-convert');\n",
              "        buttonEl.style.display =\n",
              "          google.colab.kernel.accessAllowed ? 'block' : 'none';\n",
              "\n",
              "        async function convertToInteractive(key) {\n",
              "          const element = document.querySelector('#df-8b57941a-bc6c-4c16-8357-30875eb24165');\n",
              "          const dataTable =\n",
              "            await google.colab.kernel.invokeFunction('convertToInteractive',\n",
              "                                                     [key], {});\n",
              "          if (!dataTable) return;\n",
              "\n",
              "          const docLinkHtml = 'Like what you see? Visit the ' +\n",
              "            '<a target=\"_blank\" href=https://colab.research.google.com/notebooks/data_table.ipynb>data table notebook</a>'\n",
              "            + ' to learn more about interactive tables.';\n",
              "          element.innerHTML = '';\n",
              "          dataTable['output_type'] = 'display_data';\n",
              "          await google.colab.output.renderOutput(dataTable, element);\n",
              "          const docLink = document.createElement('div');\n",
              "          docLink.innerHTML = docLinkHtml;\n",
              "          element.appendChild(docLink);\n",
              "        }\n",
              "      </script>\n",
              "    </div>\n",
              "  </div>\n",
              "  "
            ]
          },
          "metadata": {},
          "execution_count": 5
        }
      ]
    },
    {
      "cell_type": "markdown",
      "source": [
        "# グラフ作成\n",
        "\n",
        "1.   縦軸：スコア、横軸：時間の折れ線グラフ（個人）\n",
        "2.   縦軸：スコア、横軸：時間の折れ線グラフ（チーム）\n",
        "3.   言語ごとのランキング\n",
        "4.   スコアとレートの相関関係（アルゴ、ヒューリスティック）\n",
        "\n",
        "\n"
      ],
      "metadata": {
        "id": "_0dtIvguk7ze"
      }
    },
    {
      "cell_type": "code",
      "source": [
        "df_line_indv = df.sort_values(\"提出日時\", ascending = True)\n",
        "df_line_indv[\"スコア\"] = df_line_indv.groupby(\"名前\")[\"スコア\"].cummax()\n",
        "\n",
        "fig_individual = px.line(df_line_indv , x=\"提出日時\", y=\"スコア\", color=\"名前\")\n",
        "fig_individual.show()"
      ],
      "metadata": {
        "colab": {
          "base_uri": "https://localhost:8080/",
          "height": 542
        },
        "id": "PPmlXrqPISnm",
        "outputId": "d3e45697-c01e-4b7d-8eee-f140ba824262"
      },
      "execution_count": 6,
      "outputs": [
        {
          "output_type": "display_data",
          "data": {
            "text/html": [
              "<html>\n",
              "<head><meta charset=\"utf-8\" /></head>\n",
              "<body>\n",
              "    <div>            <script src=\"https://cdnjs.cloudflare.com/ajax/libs/mathjax/2.7.5/MathJax.js?config=TeX-AMS-MML_SVG\"></script><script type=\"text/javascript\">if (window.MathJax && window.MathJax.Hub && window.MathJax.Hub.Config) {window.MathJax.Hub.Config({SVG: {font: \"STIX-Web\"}});}</script>                <script type=\"text/javascript\">window.PlotlyConfig = {MathJaxConfig: 'local'};</script>\n",
              "        <script src=\"https://cdn.plot.ly/plotly-2.18.2.min.js\"></script>                <div id=\"377544b3-4bba-4a0d-8749-a722f2ad3dd3\" class=\"plotly-graph-div\" style=\"height:525px; width:100%;\"></div>            <script type=\"text/javascript\">                                    window.PLOTLYENV=window.PLOTLYENV || {};                                    if (document.getElementById(\"377544b3-4bba-4a0d-8749-a722f2ad3dd3\")) {                    Plotly.newPlot(                        \"377544b3-4bba-4a0d-8749-a722f2ad3dd3\",                        [{\"hovertemplate\":\"\\u540d\\u524d=tnodino<br>\\u63d0\\u51fa\\u65e5\\u6642=%{x}<br>\\u30b9\\u30b3\\u30a2=%{y}<extra></extra>\",\"legendgroup\":\"tnodino\",\"line\":{\"color\":\"#636efa\",\"dash\":\"solid\"},\"marker\":{\"symbol\":\"circle\"},\"mode\":\"lines\",\"name\":\"tnodino\",\"orientation\":\"v\",\"showlegend\":true,\"x\":[\"2023-01-13 19:16:50\",\"2023-01-13 19:26:51\",\"2023-01-13 19:31:52\",\"2023-01-13 21:13:48\",\"2023-01-13 21:26:59\",\"2023-01-13 21:39:21\",\"2023-01-13 21:49:20\",\"2023-01-13 22:33:29\",\"2023-01-13 22:39:17\",\"2023-01-13 22:59:15\",\"2023-01-15 16:14:39\",\"2023-01-15 17:33:51\",\"2023-01-15 17:50:14\"],\"xaxis\":\"x\",\"y\":[13945,250710,250710,284940,284940,480411,480447,499581,499662,500627,500627,500627,500627],\"yaxis\":\"y\",\"type\":\"scatter\"},{\"hovertemplate\":\"\\u540d\\u524d=8wings<br>\\u63d0\\u51fa\\u65e5\\u6642=%{x}<br>\\u30b9\\u30b3\\u30a2=%{y}<extra></extra>\",\"legendgroup\":\"8wings\",\"line\":{\"color\":\"#EF553B\",\"dash\":\"solid\"},\"marker\":{\"symbol\":\"circle\"},\"mode\":\"lines\",\"name\":\"8wings\",\"orientation\":\"v\",\"showlegend\":true,\"x\":[\"2023-01-13 19:20:46\",\"2023-01-13 20:11:03\",\"2023-01-17 14:20:44\",\"2023-01-17 14:45:12\",\"2023-01-18 11:35:57\",\"2023-01-18 11:46:41\",\"2023-01-18 12:11:59\",\"2023-01-18 13:02:16\",\"2023-01-18 13:26:23\",\"2023-01-19 09:12:44\",\"2023-01-19 09:26:07\",\"2023-01-19 09:37:03\",\"2023-01-19 09:49:41\",\"2023-01-19 10:18:21\",\"2023-01-19 10:37:20\",\"2023-01-19 11:04:55\",\"2023-01-20 09:09:35\",\"2023-01-20 09:51:37\",\"2023-01-20 10:02:00\",\"2023-01-20 10:09:33\",\"2023-01-20 10:17:37\",\"2023-01-20 10:35:00\",\"2023-01-20 16:36:50\",\"2023-01-20 22:24:02\",\"2023-01-20 23:14:39\",\"2023-01-20 23:21:12\",\"2023-01-21 00:28:22\",\"2023-01-21 00:41:07\",\"2023-01-21 00:58:33\",\"2023-01-21 01:04:17\",\"2023-01-21 07:02:04\",\"2023-01-21 07:33:48\",\"2023-01-21 07:53:29\",\"2023-01-21 08:32:52\"],\"xaxis\":\"x\",\"y\":[285183,488952,488952,488952,531414,531414,537043,539475,539475,539475,555989,576271,595771,596954,598025,598025,598025,602299,602299,605953,608977,608977,608977,608977,609198,609198,615512,615680,615680,615680,615680,615680,615680,615680],\"yaxis\":\"y\",\"type\":\"scatter\"},{\"hovertemplate\":\"\\u540d\\u524d=nok0<br>\\u63d0\\u51fa\\u65e5\\u6642=%{x}<br>\\u30b9\\u30b3\\u30a2=%{y}<extra></extra>\",\"legendgroup\":\"nok0\",\"line\":{\"color\":\"#00cc96\",\"dash\":\"solid\"},\"marker\":{\"symbol\":\"circle\"},\"mode\":\"lines\",\"name\":\"nok0\",\"orientation\":\"v\",\"showlegend\":true,\"x\":[\"2023-01-13 19:34:47\",\"2023-01-13 21:26:52\"],\"xaxis\":\"x\",\"y\":[480411,549267],\"yaxis\":\"y\",\"type\":\"scatter\"},{\"hovertemplate\":\"\\u540d\\u524d=utprg<br>\\u63d0\\u51fa\\u65e5\\u6642=%{x}<br>\\u30b9\\u30b3\\u30a2=%{y}<extra></extra>\",\"legendgroup\":\"utprg\",\"line\":{\"color\":\"#ab63fa\",\"dash\":\"solid\"},\"marker\":{\"symbol\":\"circle\"},\"mode\":\"lines\",\"name\":\"utprg\",\"orientation\":\"v\",\"showlegend\":true,\"x\":[\"2023-01-13 19:35:39\",\"2023-01-13 20:38:28\",\"2023-01-14 20:35:31\",\"2023-01-16 11:07:47\",\"2023-01-16 11:34:03\",\"2023-01-16 13:05:59\",\"2023-01-16 15:54:26\",\"2023-01-16 16:53:01\",\"2023-01-16 17:19:06\",\"2023-01-16 17:24:55\",\"2023-01-17 15:06:12\",\"2023-01-17 15:16:09\",\"2023-01-17 15:23:13\",\"2023-01-19 16:22:52\",\"2023-01-19 16:30:36\",\"2023-01-19 16:40:16\",\"2023-01-19 16:51:01\",\"2023-01-21 07:25:24\",\"2023-01-21 07:49:38\",\"2023-01-21 08:04:25\"],\"xaxis\":\"x\",\"y\":[35950,35950,75308,75308,76142,160146,202950,229257,242739,245511,254257,254257,268029,282368,282368,282368,282368,311335,311335,311335],\"yaxis\":\"y\",\"type\":\"scatter\"},{\"hovertemplate\":\"\\u540d\\u524d=uni_kakurenbo<br>\\u63d0\\u51fa\\u65e5\\u6642=%{x}<br>\\u30b9\\u30b3\\u30a2=%{y}<extra></extra>\",\"legendgroup\":\"uni_kakurenbo\",\"line\":{\"color\":\"#FFA15A\",\"dash\":\"solid\"},\"marker\":{\"symbol\":\"circle\"},\"mode\":\"lines\",\"name\":\"uni_kakurenbo\",\"orientation\":\"v\",\"showlegend\":true,\"x\":[\"2023-01-13 19:42:40\",\"2023-01-13 22:50:38\",\"2023-01-13 23:10:59\",\"2023-01-14 13:06:22\"],\"xaxis\":\"x\",\"y\":[0,52403,101307,476647],\"yaxis\":\"y\",\"type\":\"scatter\"},{\"hovertemplate\":\"\\u540d\\u524d=bio4eta<br>\\u63d0\\u51fa\\u65e5\\u6642=%{x}<br>\\u30b9\\u30b3\\u30a2=%{y}<extra></extra>\",\"legendgroup\":\"bio4eta\",\"line\":{\"color\":\"#19d3f3\",\"dash\":\"solid\"},\"marker\":{\"symbol\":\"circle\"},\"mode\":\"lines\",\"name\":\"bio4eta\",\"orientation\":\"v\",\"showlegend\":true,\"x\":[\"2023-01-13 20:40:44\",\"2023-01-13 22:59:53\",\"2023-01-14 00:04:41\",\"2023-01-14 00:25:38\",\"2023-01-14 00:39:07\",\"2023-01-15 21:54:30\",\"2023-01-15 22:18:11\",\"2023-01-15 22:23:37\",\"2023-01-15 22:31:43\",\"2023-01-15 23:41:01\"],\"xaxis\":\"x\",\"y\":[284940,284940,296046,435834,485568,485568,591760,591760,591760,591760],\"yaxis\":\"y\",\"type\":\"scatter\"},{\"hovertemplate\":\"\\u540d\\u524d=gunmaneko<br>\\u63d0\\u51fa\\u65e5\\u6642=%{x}<br>\\u30b9\\u30b3\\u30a2=%{y}<extra></extra>\",\"legendgroup\":\"gunmaneko\",\"line\":{\"color\":\"#FF6692\",\"dash\":\"solid\"},\"marker\":{\"symbol\":\"circle\"},\"mode\":\"lines\",\"name\":\"gunmaneko\",\"orientation\":\"v\",\"showlegend\":true,\"x\":[\"2023-01-13 20:42:14\",\"2023-01-13 22:51:04\",\"2023-01-13 23:39:40\",\"2023-01-13 23:59:01\",\"2023-01-14 00:13:06\",\"2023-01-14 02:27:38\",\"2023-01-14 02:36:20\",\"2023-01-14 02:41:38\",\"2023-01-14 22:54:15\",\"2023-01-15 00:05:57\",\"2023-01-15 00:33:32\",\"2023-01-15 00:49:39\",\"2023-01-15 01:10:58\",\"2023-01-15 01:24:52\",\"2023-01-15 03:04:11\",\"2023-01-15 03:54:12\",\"2023-01-15 07:54:50\",\"2023-01-16 22:07:20\",\"2023-01-16 22:34:05\",\"2023-01-17 22:29:01\",\"2023-01-17 23:14:57\",\"2023-01-18 01:12:37\",\"2023-01-18 01:17:37\",\"2023-01-18 01:24:53\",\"2023-01-18 01:29:57\"],\"xaxis\":\"x\",\"y\":[35950,297110,389200,392120,489483,499077,500076,500733,500733,501930,507267,511362,516519,516915,516915,520434,520434,544338,544338,544590,548766,548766,548766,548766,552753],\"yaxis\":\"y\",\"type\":\"scatter\"},{\"hovertemplate\":\"\\u540d\\u524d=milkcoffee<br>\\u63d0\\u51fa\\u65e5\\u6642=%{x}<br>\\u30b9\\u30b3\\u30a2=%{y}<extra></extra>\",\"legendgroup\":\"milkcoffee\",\"line\":{\"color\":\"#B6E880\",\"dash\":\"solid\"},\"marker\":{\"symbol\":\"circle\"},\"mode\":\"lines\",\"name\":\"milkcoffee\",\"orientation\":\"v\",\"showlegend\":true,\"x\":[\"2023-01-13 20:55:39\"],\"xaxis\":\"x\",\"y\":[35950],\"yaxis\":\"y\",\"type\":\"scatter\"},{\"hovertemplate\":\"\\u540d\\u524d=nephrologist<br>\\u63d0\\u51fa\\u65e5\\u6642=%{x}<br>\\u30b9\\u30b3\\u30a2=%{y}<extra></extra>\",\"legendgroup\":\"nephrologist\",\"line\":{\"color\":\"#FF97FF\",\"dash\":\"solid\"},\"marker\":{\"symbol\":\"circle\"},\"mode\":\"lines\",\"name\":\"nephrologist\",\"orientation\":\"v\",\"showlegend\":true,\"x\":[\"2023-01-13 21:34:36\",\"2023-01-21 13:09:30\"],\"xaxis\":\"x\",\"y\":[176018,336739],\"yaxis\":\"y\",\"type\":\"scatter\"},{\"hovertemplate\":\"\\u540d\\u524d=yuuki_n<br>\\u63d0\\u51fa\\u65e5\\u6642=%{x}<br>\\u30b9\\u30b3\\u30a2=%{y}<extra></extra>\",\"legendgroup\":\"yuuki_n\",\"line\":{\"color\":\"#FECB52\",\"dash\":\"solid\"},\"marker\":{\"symbol\":\"circle\"},\"mode\":\"lines\",\"name\":\"yuuki_n\",\"orientation\":\"v\",\"showlegend\":true,\"x\":[\"2023-01-13 21:37:23\",\"2023-01-14 14:20:46\",\"2023-01-14 14:48:14\",\"2023-01-14 15:53:45\",\"2023-01-14 16:40:32\",\"2023-01-14 16:56:35\",\"2023-01-14 17:42:57\",\"2023-01-14 19:59:08\",\"2023-01-14 20:37:44\",\"2023-01-16 17:47:02\",\"2023-01-16 18:36:45\",\"2023-01-16 20:28:24\",\"2023-01-16 20:49:29\",\"2023-01-16 21:42:38\",\"2023-01-16 23:11:44\",\"2023-01-16 23:37:13\",\"2023-01-16 23:50:11\",\"2023-01-21 19:13:40\",\"2023-01-22 07:07:36\",\"2023-01-22 07:40:01\",\"2023-01-22 08:23:49\",\"2023-01-22 08:57:16\",\"2023-01-22 09:31:22\",\"2023-01-22 09:43:55\",\"2023-01-22 10:34:58\",\"2023-01-22 10:40:04\",\"2023-01-22 12:17:15\",\"2023-01-22 12:42:06\"],\"xaxis\":\"x\",\"y\":[27667,27667,322745,424364,424364,428268,451780,466469,466469,467028,493765,493765,573955,573955,573955,575859,577842,577842,577842,577842,577842,577842,577842,577842,577842,577842,577842,577842],\"yaxis\":\"y\",\"type\":\"scatter\"},{\"hovertemplate\":\"\\u540d\\u524d=brthyyjp<br>\\u63d0\\u51fa\\u65e5\\u6642=%{x}<br>\\u30b9\\u30b3\\u30a2=%{y}<extra></extra>\",\"legendgroup\":\"brthyyjp\",\"line\":{\"color\":\"#636efa\",\"dash\":\"solid\"},\"marker\":{\"symbol\":\"circle\"},\"mode\":\"lines\",\"name\":\"brthyyjp\",\"orientation\":\"v\",\"showlegend\":true,\"x\":[\"2023-01-13 21:59:36\",\"2023-01-13 23:23:48\",\"2023-01-13 23:45:49\",\"2023-01-13 23:55:39\",\"2023-01-14 17:41:46\",\"2023-01-14 17:49:16\",\"2023-01-14 17:57:12\",\"2023-01-14 18:04:14\",\"2023-01-14 18:26:11\",\"2023-01-14 20:30:33\",\"2023-01-14 21:24:43\",\"2023-01-14 21:39:41\",\"2023-01-14 22:19:14\",\"2023-01-14 22:34:57\",\"2023-01-15 01:18:53\",\"2023-01-15 01:35:46\",\"2023-01-15 02:16:33\",\"2023-01-15 02:46:29\",\"2023-01-15 03:20:30\",\"2023-01-15 03:30:59\",\"2023-01-15 16:33:58\",\"2023-01-15 16:49:47\",\"2023-01-15 17:36:44\",\"2023-01-16 22:29:20\",\"2023-01-16 22:43:03\",\"2023-01-16 23:08:21\",\"2023-01-16 23:35:23\",\"2023-01-17 23:29:37\",\"2023-01-18 00:33:26\",\"2023-01-20 21:19:24\",\"2023-01-20 23:34:08\",\"2023-01-20 23:52:01\",\"2023-01-21 00:01:54\",\"2023-01-21 00:18:57\",\"2023-01-21 06:32:10\",\"2023-01-21 18:23:39\",\"2023-01-21 18:45:08\",\"2023-01-22 18:26:32\",\"2023-01-22 18:31:36\",\"2023-01-22 18:37:17\",\"2023-01-22 18:42:46\",\"2023-01-22 18:50:14\",\"2023-01-22 18:55:27\"],\"xaxis\":\"x\",\"y\":[35950,427113,486298,487846,487846,487846,487846,487846,509379,509379,534076,536901,542343,542343,542343,542343,542343,542343,567940,573885,573885,573885,574129,574129,574129,574129,576534,596939,596939,597046,597046,597046,597046,597136,597136,597136,597136,597136,597136,597136,597136,597179,597179],\"yaxis\":\"y\",\"type\":\"scatter\"},{\"hovertemplate\":\"\\u540d\\u524d=r3yohei<br>\\u63d0\\u51fa\\u65e5\\u6642=%{x}<br>\\u30b9\\u30b3\\u30a2=%{y}<extra></extra>\",\"legendgroup\":\"r3yohei\",\"line\":{\"color\":\"#EF553B\",\"dash\":\"solid\"},\"marker\":{\"symbol\":\"circle\"},\"mode\":\"lines\",\"name\":\"r3yohei\",\"orientation\":\"v\",\"showlegend\":true,\"x\":[\"2023-01-13 22:49:32\",\"2023-01-13 23:29:50\",\"2023-01-13 23:40:44\",\"2023-01-14 13:43:33\",\"2023-01-14 14:40:51\",\"2023-01-14 16:24:27\",\"2023-01-14 21:08:33\",\"2023-01-14 23:16:54\",\"2023-01-15 00:45:42\",\"2023-01-15 02:16:20\",\"2023-01-15 02:53:44\",\"2023-01-15 10:55:23\",\"2023-01-15 11:56:00\",\"2023-01-15 13:12:21\",\"2023-01-16 10:50:52\",\"2023-01-17 02:25:54\",\"2023-01-20 01:28:18\",\"2023-01-20 18:12:27\",\"2023-01-21 04:39:59\",\"2023-01-21 05:02:03\",\"2023-01-21 05:44:36\",\"2023-01-21 06:28:25\",\"2023-01-21 15:15:59\",\"2023-01-21 15:29:54\",\"2023-01-21 15:38:25\",\"2023-01-21 15:44:18\",\"2023-01-21 16:57:34\",\"2023-01-21 17:25:02\",\"2023-01-21 17:59:23\",\"2023-01-21 18:39:36\",\"2023-01-21 18:45:42\",\"2023-01-21 19:43:42\",\"2023-01-21 23:54:09\",\"2023-01-22 00:14:33\",\"2023-01-22 01:16:36\",\"2023-01-22 02:35:24\",\"2023-01-22 02:57:14\",\"2023-01-22 04:13:14\",\"2023-01-22 04:19:09\",\"2023-01-22 04:34:28\",\"2023-01-22 04:50:46\",\"2023-01-22 18:08:19\",\"2023-01-22 18:15:17\",\"2023-01-22 18:20:49\",\"2023-01-22 18:26:47\",\"2023-01-22 18:35:31\",\"2023-01-22 18:43:10\",\"2023-01-22 18:50:36\",\"2023-01-22 18:55:38\"],\"xaxis\":\"x\",\"y\":[295515,451287,459117,484083,485325,499148,513533,513533,530206,553541,553541,554095,554095,554095,556828,556828,556828,556828,556828,576212,584246,584463,590539,590539,590539,593197,595895,595895,599658,599658,599658,599658,609296,609296,609296,609296,609296,609296,609537,611450,611450,611568,611568,611568,611568,611568,611568,611568,611568],\"yaxis\":\"y\",\"type\":\"scatter\"},{\"hovertemplate\":\"\\u540d\\u524d=jamuojisan<br>\\u63d0\\u51fa\\u65e5\\u6642=%{x}<br>\\u30b9\\u30b3\\u30a2=%{y}<extra></extra>\",\"legendgroup\":\"jamuojisan\",\"line\":{\"color\":\"#00cc96\",\"dash\":\"solid\"},\"marker\":{\"symbol\":\"circle\"},\"mode\":\"lines\",\"name\":\"jamuojisan\",\"orientation\":\"v\",\"showlegend\":true,\"x\":[\"2023-01-13 22:57:43\",\"2023-01-13 23:09:11\",\"2023-01-14 13:05:38\",\"2023-01-14 13:10:44\",\"2023-01-14 13:29:09\",\"2023-01-14 14:51:47\",\"2023-01-14 15:41:37\",\"2023-01-14 15:46:37\",\"2023-01-14 16:04:10\",\"2023-01-14 16:10:01\",\"2023-01-14 16:15:03\",\"2023-01-14 18:15:55\",\"2023-01-14 20:45:32\",\"2023-01-14 20:54:24\",\"2023-01-14 21:08:31\",\"2023-01-14 21:47:19\",\"2023-01-14 22:00:19\",\"2023-01-14 22:19:46\",\"2023-01-14 22:49:08\",\"2023-01-14 23:06:30\",\"2023-01-14 23:13:38\",\"2023-01-14 23:19:50\",\"2023-01-15 12:00:34\",\"2023-01-15 12:12:48\",\"2023-01-15 12:19:29\",\"2023-01-15 12:30:41\",\"2023-01-15 12:40:57\",\"2023-01-16 00:33:13\",\"2023-01-16 00:50:44\",\"2023-01-16 00:59:05\",\"2023-01-16 07:57:57\",\"2023-01-16 08:45:12\",\"2023-01-16 12:21:29\",\"2023-01-16 12:34:06\",\"2023-01-16 23:56:11\",\"2023-01-17 00:39:51\",\"2023-01-17 00:53:44\",\"2023-01-18 22:19:59\",\"2023-01-18 22:28:51\",\"2023-01-18 23:09:13\",\"2023-01-20 00:38:22\",\"2023-01-20 00:52:42\",\"2023-01-20 01:00:21\",\"2023-01-20 18:28:14\",\"2023-01-20 18:38:10\",\"2023-01-22 18:14:47\",\"2023-01-22 18:36:36\",\"2023-01-22 18:42:40\"],\"xaxis\":\"x\",\"y\":[4,8,8,285786,285786,285786,324864,362628,483120,496116,496386,496386,504108,504108,504108,504108,504108,510435,510435,510435,510435,510435,510435,510435,511236,513081,513261,525222,525222,525222,530001,536328,536328,536328,536328,536328,547740,547740,547740,551358,553856,553856,553990,557033,563004,563004,563004,563004],\"yaxis\":\"y\",\"type\":\"scatter\"},{\"hovertemplate\":\"\\u540d\\u524d=michirakara<br>\\u63d0\\u51fa\\u65e5\\u6642=%{x}<br>\\u30b9\\u30b3\\u30a2=%{y}<extra></extra>\",\"legendgroup\":\"michirakara\",\"line\":{\"color\":\"#ab63fa\",\"dash\":\"solid\"},\"marker\":{\"symbol\":\"circle\"},\"mode\":\"lines\",\"name\":\"michirakara\",\"orientation\":\"v\",\"showlegend\":true,\"x\":[\"2023-01-13 23:02:44\",\"2023-01-14 00:03:42\",\"2023-01-14 00:09:46\",\"2023-01-14 13:31:43\",\"2023-01-14 13:49:14\",\"2023-01-14 13:54:14\",\"2023-01-14 13:59:17\",\"2023-01-14 14:04:17\",\"2023-01-14 14:10:06\",\"2023-01-14 14:15:53\",\"2023-01-15 06:04:56\",\"2023-01-15 06:10:33\",\"2023-01-15 10:58:44\",\"2023-01-17 07:53:08\",\"2023-01-17 09:17:57\"],\"xaxis\":\"x\",\"y\":[35950,479637,479637,479637,497916,504279,504279,504279,504279,504279,504279,504279,504279,504279,504279],\"yaxis\":\"y\",\"type\":\"scatter\"},{\"hovertemplate\":\"\\u540d\\u524d=highjump<br>\\u63d0\\u51fa\\u65e5\\u6642=%{x}<br>\\u30b9\\u30b3\\u30a2=%{y}<extra></extra>\",\"legendgroup\":\"highjump\",\"line\":{\"color\":\"#FFA15A\",\"dash\":\"solid\"},\"marker\":{\"symbol\":\"circle\"},\"mode\":\"lines\",\"name\":\"highjump\",\"orientation\":\"v\",\"showlegend\":true,\"x\":[\"2023-01-14 01:59:12\",\"2023-01-14 11:08:10\",\"2023-01-15 19:27:34\",\"2023-01-19 00:07:14\",\"2023-01-21 10:40:49\",\"2023-01-21 11:44:32\",\"2023-01-21 17:50:02\",\"2023-01-21 23:02:21\",\"2023-01-22 00:49:03\",\"2023-01-22 01:31:02\",\"2023-01-22 10:43:03\",\"2023-01-22 14:40:53\"],\"xaxis\":\"x\",\"y\":[508778,569099,605691,618989,622723,626447,630480,630480,639344,640095,646071,647497],\"yaxis\":\"y\",\"type\":\"scatter\"},{\"hovertemplate\":\"\\u540d\\u524d=cplusplusonly<br>\\u63d0\\u51fa\\u65e5\\u6642=%{x}<br>\\u30b9\\u30b3\\u30a2=%{y}<extra></extra>\",\"legendgroup\":\"cplusplusonly\",\"line\":{\"color\":\"#19d3f3\",\"dash\":\"solid\"},\"marker\":{\"symbol\":\"circle\"},\"mode\":\"lines\",\"name\":\"cplusplusonly\",\"orientation\":\"v\",\"showlegend\":true,\"x\":[\"2023-01-14 15:07:16\",\"2023-01-15 14:01:08\",\"2023-01-21 16:50:16\",\"2023-01-21 16:58:56\",\"2023-01-21 17:28:41\",\"2023-01-21 17:33:42\",\"2023-01-21 23:17:55\",\"2023-01-22 13:26:30\",\"2023-01-22 13:52:27\",\"2023-01-22 13:59:31\",\"2023-01-22 14:07:04\",\"2023-01-22 14:25:23\",\"2023-01-22 15:56:29\",\"2023-01-22 16:04:32\",\"2023-01-22 16:13:00\",\"2023-01-22 16:19:02\",\"2023-01-22 17:07:40\",\"2023-01-22 17:43:50\",\"2023-01-22 17:55:25\",\"2023-01-22 18:01:00\",\"2023-01-22 18:06:32\",\"2023-01-22 18:19:23\",\"2023-01-22 18:27:15\"],\"xaxis\":\"x\",\"y\":[35950,515303,515303,600339,632936,638653,639349,647363,647363,647363,647363,647384,647384,647384,647780,647780,647780,647780,647780,651223,651624,651966,652081],\"yaxis\":\"y\",\"type\":\"scatter\"},{\"hovertemplate\":\"\\u540d\\u524d=hiraku<br>\\u63d0\\u51fa\\u65e5\\u6642=%{x}<br>\\u30b9\\u30b3\\u30a2=%{y}<extra></extra>\",\"legendgroup\":\"hiraku\",\"line\":{\"color\":\"#FF6692\",\"dash\":\"solid\"},\"marker\":{\"symbol\":\"circle\"},\"mode\":\"lines\",\"name\":\"hiraku\",\"orientation\":\"v\",\"showlegend\":true,\"x\":[\"2023-01-14 18:29:42\",\"2023-01-15 00:30:32\",\"2023-01-15 00:57:37\",\"2023-01-15 12:56:16\",\"2023-01-15 18:41:21\",\"2023-01-15 18:47:27\",\"2023-01-15 20:09:02\",\"2023-01-16 18:46:26\",\"2023-01-16 19:58:37\",\"2023-01-16 20:35:06\",\"2023-01-16 20:44:34\",\"2023-01-16 23:02:43\",\"2023-01-17 06:28:57\",\"2023-01-17 06:34:01\",\"2023-01-18 23:51:50\",\"2023-01-19 20:29:32\",\"2023-01-19 20:34:34\",\"2023-01-19 20:45:22\",\"2023-01-19 20:50:23\",\"2023-01-19 20:55:26\",\"2023-01-19 21:44:54\",\"2023-01-19 21:49:54\",\"2023-01-20 07:14:41\",\"2023-01-20 19:40:00\",\"2023-01-20 19:45:05\",\"2023-01-20 20:41:33\",\"2023-01-21 05:54:11\",\"2023-01-21 14:10:35\"],\"xaxis\":\"x\",\"y\":[511992,537480,549297,593783,593783,593783,595600,599977,599977,599977,612763,614761,614761,614761,616258,616258,616304,616568,618308,618308,618308,618308,618479,618479,618479,618623,618913,620430],\"yaxis\":\"y\",\"type\":\"scatter\"},{\"hovertemplate\":\"\\u540d\\u524d=burioden<br>\\u63d0\\u51fa\\u65e5\\u6642=%{x}<br>\\u30b9\\u30b3\\u30a2=%{y}<extra></extra>\",\"legendgroup\":\"burioden\",\"line\":{\"color\":\"#B6E880\",\"dash\":\"solid\"},\"marker\":{\"symbol\":\"circle\"},\"mode\":\"lines\",\"name\":\"burioden\",\"orientation\":\"v\",\"showlegend\":true,\"x\":[\"2023-01-14 20:18:16\"],\"xaxis\":\"x\",\"y\":[50004],\"yaxis\":\"y\",\"type\":\"scatter\"},{\"hovertemplate\":\"\\u540d\\u524d=ainem<br>\\u63d0\\u51fa\\u65e5\\u6642=%{x}<br>\\u30b9\\u30b3\\u30a2=%{y}<extra></extra>\",\"legendgroup\":\"ainem\",\"line\":{\"color\":\"#FF97FF\",\"dash\":\"solid\"},\"marker\":{\"symbol\":\"circle\"},\"mode\":\"lines\",\"name\":\"ainem\",\"orientation\":\"v\",\"showlegend\":true,\"x\":[\"2023-01-14 21:23:51\",\"2023-01-15 00:58:37\",\"2023-01-15 01:12:51\",\"2023-01-15 01:28:09\",\"2023-01-15 01:34:03\",\"2023-01-15 02:00:37\",\"2023-01-17 09:41:54\",\"2023-01-17 10:00:01\",\"2023-01-17 11:29:03\",\"2023-01-17 13:41:25\",\"2023-01-17 18:59:58\",\"2023-01-18 13:30:59\",\"2023-01-18 13:38:20\",\"2023-01-19 18:30:17\",\"2023-01-19 19:02:23\",\"2023-01-20 10:22:20\",\"2023-01-20 13:17:47\",\"2023-01-20 17:52:58\",\"2023-01-21 15:51:55\"],\"xaxis\":\"x\",\"y\":[88848,372958,510577,510577,510577,510577,510577,510577,510577,587336,587336,587492,587492,587492,587492,589331,591772,593008,593008],\"yaxis\":\"y\",\"type\":\"scatter\"},{\"hovertemplate\":\"\\u540d\\u524d=otsuneko<br>\\u63d0\\u51fa\\u65e5\\u6642=%{x}<br>\\u30b9\\u30b3\\u30a2=%{y}<extra></extra>\",\"legendgroup\":\"otsuneko\",\"line\":{\"color\":\"#FECB52\",\"dash\":\"solid\"},\"marker\":{\"symbol\":\"circle\"},\"mode\":\"lines\",\"name\":\"otsuneko\",\"orientation\":\"v\",\"showlegend\":true,\"x\":[\"2023-01-14 21:49:27\"],\"xaxis\":\"x\",\"y\":[284121],\"yaxis\":\"y\",\"type\":\"scatter\"},{\"hovertemplate\":\"\\u540d\\u524d=hal0taso<br>\\u63d0\\u51fa\\u65e5\\u6642=%{x}<br>\\u30b9\\u30b3\\u30a2=%{y}<extra></extra>\",\"legendgroup\":\"hal0taso\",\"line\":{\"color\":\"#636efa\",\"dash\":\"solid\"},\"marker\":{\"symbol\":\"circle\"},\"mode\":\"lines\",\"name\":\"hal0taso\",\"orientation\":\"v\",\"showlegend\":true,\"x\":[\"2023-01-15 14:42:39\",\"2023-01-15 15:30:57\",\"2023-01-15 16:04:53\",\"2023-01-20 01:08:58\",\"2023-01-22 18:27:20\"],\"xaxis\":\"x\",\"y\":[282681,504954,528018,546358,546358],\"yaxis\":\"y\",\"type\":\"scatter\"},{\"hovertemplate\":\"\\u540d\\u524d=akane831<br>\\u63d0\\u51fa\\u65e5\\u6642=%{x}<br>\\u30b9\\u30b3\\u30a2=%{y}<extra></extra>\",\"legendgroup\":\"akane831\",\"line\":{\"color\":\"#EF553B\",\"dash\":\"solid\"},\"marker\":{\"symbol\":\"circle\"},\"mode\":\"lines\",\"name\":\"akane831\",\"orientation\":\"v\",\"showlegend\":true,\"x\":[\"2023-01-16 15:06:12\",\"2023-01-16 17:08:11\",\"2023-01-16 17:17:06\",\"2023-01-16 17:39:06\",\"2023-01-16 17:54:18\",\"2023-01-16 18:13:14\",\"2023-01-16 18:18:21\",\"2023-01-17 12:16:06\",\"2023-01-17 12:48:18\",\"2023-01-17 13:08:59\",\"2023-01-17 13:58:12\",\"2023-01-17 14:19:43\",\"2023-01-17 14:27:08\",\"2023-01-18 16:20:07\",\"2023-01-18 16:54:51\",\"2023-01-18 18:01:42\",\"2023-01-18 18:15:18\",\"2023-01-19 10:29:43\",\"2023-01-19 10:35:15\",\"2023-01-19 10:48:46\",\"2023-01-19 10:58:16\",\"2023-01-19 11:05:57\"],\"xaxis\":\"x\",\"y\":[35950,35950,35950,190764,190764,190764,338040,537912,542538,545733,549279,552465,552465,567297,575344,579644,583823,594488,594488,594863,594863,594863],\"yaxis\":\"y\",\"type\":\"scatter\"},{\"hovertemplate\":\"\\u540d\\u524d=zatt<br>\\u63d0\\u51fa\\u65e5\\u6642=%{x}<br>\\u30b9\\u30b3\\u30a2=%{y}<extra></extra>\",\"legendgroup\":\"zatt\",\"line\":{\"color\":\"#00cc96\",\"dash\":\"solid\"},\"marker\":{\"symbol\":\"circle\"},\"mode\":\"lines\",\"name\":\"zatt\",\"orientation\":\"v\",\"showlegend\":true,\"x\":[\"2023-01-17 00:38:44\",\"2023-01-17 00:54:38\",\"2023-01-21 16:20:15\",\"2023-01-21 16:27:14\",\"2023-01-21 18:50:40\",\"2023-01-21 18:56:55\",\"2023-01-22 01:14:23\",\"2023-01-22 02:06:47\",\"2023-01-22 02:21:03\",\"2023-01-22 02:34:35\",\"2023-01-22 02:54:29\",\"2023-01-22 03:16:59\",\"2023-01-22 03:24:23\",\"2023-01-22 04:00:32\",\"2023-01-22 16:59:13\",\"2023-01-22 17:07:46\",\"2023-01-22 17:26:22\",\"2023-01-22 18:35:48\"],\"xaxis\":\"x\",\"y\":[511526,522164,538583,564832,564832,569260,583416,591547,596750,597027,597027,599042,599042,600957,618556,618966,619808,621224],\"yaxis\":\"y\",\"type\":\"scatter\"},{\"hovertemplate\":\"\\u540d\\u524d=keizin<br>\\u63d0\\u51fa\\u65e5\\u6642=%{x}<br>\\u30b9\\u30b3\\u30a2=%{y}<extra></extra>\",\"legendgroup\":\"keizin\",\"line\":{\"color\":\"#ab63fa\",\"dash\":\"solid\"},\"marker\":{\"symbol\":\"circle\"},\"mode\":\"lines\",\"name\":\"keizin\",\"orientation\":\"v\",\"showlegend\":true,\"x\":[\"2023-01-17 12:15:57\"],\"xaxis\":\"x\",\"y\":[35950],\"yaxis\":\"y\",\"type\":\"scatter\"},{\"hovertemplate\":\"\\u540d\\u524d=jaku<br>\\u63d0\\u51fa\\u65e5\\u6642=%{x}<br>\\u30b9\\u30b3\\u30a2=%{y}<extra></extra>\",\"legendgroup\":\"jaku\",\"line\":{\"color\":\"#FFA15A\",\"dash\":\"solid\"},\"marker\":{\"symbol\":\"circle\"},\"mode\":\"lines\",\"name\":\"jaku\",\"orientation\":\"v\",\"showlegend\":true,\"x\":[\"2023-01-17 22:48:00\",\"2023-01-17 23:51:53\",\"2023-01-21 20:21:58\"],\"xaxis\":\"x\",\"y\":[80591,365577,469292],\"yaxis\":\"y\",\"type\":\"scatter\"},{\"hovertemplate\":\"\\u540d\\u524d=keroru<br>\\u63d0\\u51fa\\u65e5\\u6642=%{x}<br>\\u30b9\\u30b3\\u30a2=%{y}<extra></extra>\",\"legendgroup\":\"keroru\",\"line\":{\"color\":\"#19d3f3\",\"dash\":\"solid\"},\"marker\":{\"symbol\":\"circle\"},\"mode\":\"lines\",\"name\":\"keroru\",\"orientation\":\"v\",\"showlegend\":true,\"x\":[\"2023-01-18 22:00:54\",\"2023-01-22 18:01:19\"],\"xaxis\":\"x\",\"y\":[549015,553780],\"yaxis\":\"y\",\"type\":\"scatter\"},{\"hovertemplate\":\"\\u540d\\u524d=Gex777<br>\\u63d0\\u51fa\\u65e5\\u6642=%{x}<br>\\u30b9\\u30b3\\u30a2=%{y}<extra></extra>\",\"legendgroup\":\"Gex777\",\"line\":{\"color\":\"#FF6692\",\"dash\":\"solid\"},\"marker\":{\"symbol\":\"circle\"},\"mode\":\"lines\",\"name\":\"Gex777\",\"orientation\":\"v\",\"showlegend\":true,\"x\":[\"2023-01-21 03:36:40\",\"2023-01-21 13:46:01\"],\"xaxis\":\"x\",\"y\":[18,35950],\"yaxis\":\"y\",\"type\":\"scatter\"},{\"hovertemplate\":\"\\u540d\\u524d=motoshira<br>\\u63d0\\u51fa\\u65e5\\u6642=%{x}<br>\\u30b9\\u30b3\\u30a2=%{y}<extra></extra>\",\"legendgroup\":\"motoshira\",\"line\":{\"color\":\"#B6E880\",\"dash\":\"solid\"},\"marker\":{\"symbol\":\"circle\"},\"mode\":\"lines\",\"name\":\"motoshira\",\"orientation\":\"v\",\"showlegend\":true,\"x\":[\"2023-01-21 11:17:16\",\"2023-01-21 13:59:12\",\"2023-01-21 14:22:19\",\"2023-01-22 10:28:49\"],\"xaxis\":\"x\",\"y\":[531262,531262,546136,551907],\"yaxis\":\"y\",\"type\":\"scatter\"},{\"hovertemplate\":\"\\u540d\\u524d=fujikawahiroaki<br>\\u63d0\\u51fa\\u65e5\\u6642=%{x}<br>\\u30b9\\u30b3\\u30a2=%{y}<extra></extra>\",\"legendgroup\":\"fujikawahiroaki\",\"line\":{\"color\":\"#FF97FF\",\"dash\":\"solid\"},\"marker\":{\"symbol\":\"circle\"},\"mode\":\"lines\",\"name\":\"fujikawahiroaki\",\"orientation\":\"v\",\"showlegend\":true,\"x\":[\"2023-01-22 15:27:47\",\"2023-01-22 15:52:29\",\"2023-01-22 18:51:48\"],\"xaxis\":\"x\",\"y\":[510636,546562,565300],\"yaxis\":\"y\",\"type\":\"scatter\"},{\"hovertemplate\":\"\\u540d\\u524d=kokatsu<br>\\u63d0\\u51fa\\u65e5\\u6642=%{x}<br>\\u30b9\\u30b3\\u30a2=%{y}<extra></extra>\",\"legendgroup\":\"kokatsu\",\"line\":{\"color\":\"#FECB52\",\"dash\":\"solid\"},\"marker\":{\"symbol\":\"circle\"},\"mode\":\"lines\",\"name\":\"kokatsu\",\"orientation\":\"v\",\"showlegend\":true,\"x\":[\"2023-01-22 18:12:10\",\"2023-01-22 18:18:01\",\"2023-01-22 18:23:29\",\"2023-01-22 18:28:40\",\"2023-01-22 18:37:49\"],\"xaxis\":\"x\",\"y\":[308,7753,13929,13929,35950],\"yaxis\":\"y\",\"type\":\"scatter\"}],                        {\"template\":{\"data\":{\"histogram2dcontour\":[{\"type\":\"histogram2dcontour\",\"colorbar\":{\"outlinewidth\":0,\"ticks\":\"\"},\"colorscale\":[[0.0,\"#0d0887\"],[0.1111111111111111,\"#46039f\"],[0.2222222222222222,\"#7201a8\"],[0.3333333333333333,\"#9c179e\"],[0.4444444444444444,\"#bd3786\"],[0.5555555555555556,\"#d8576b\"],[0.6666666666666666,\"#ed7953\"],[0.7777777777777778,\"#fb9f3a\"],[0.8888888888888888,\"#fdca26\"],[1.0,\"#f0f921\"]]}],\"choropleth\":[{\"type\":\"choropleth\",\"colorbar\":{\"outlinewidth\":0,\"ticks\":\"\"}}],\"histogram2d\":[{\"type\":\"histogram2d\",\"colorbar\":{\"outlinewidth\":0,\"ticks\":\"\"},\"colorscale\":[[0.0,\"#0d0887\"],[0.1111111111111111,\"#46039f\"],[0.2222222222222222,\"#7201a8\"],[0.3333333333333333,\"#9c179e\"],[0.4444444444444444,\"#bd3786\"],[0.5555555555555556,\"#d8576b\"],[0.6666666666666666,\"#ed7953\"],[0.7777777777777778,\"#fb9f3a\"],[0.8888888888888888,\"#fdca26\"],[1.0,\"#f0f921\"]]}],\"heatmap\":[{\"type\":\"heatmap\",\"colorbar\":{\"outlinewidth\":0,\"ticks\":\"\"},\"colorscale\":[[0.0,\"#0d0887\"],[0.1111111111111111,\"#46039f\"],[0.2222222222222222,\"#7201a8\"],[0.3333333333333333,\"#9c179e\"],[0.4444444444444444,\"#bd3786\"],[0.5555555555555556,\"#d8576b\"],[0.6666666666666666,\"#ed7953\"],[0.7777777777777778,\"#fb9f3a\"],[0.8888888888888888,\"#fdca26\"],[1.0,\"#f0f921\"]]}],\"heatmapgl\":[{\"type\":\"heatmapgl\",\"colorbar\":{\"outlinewidth\":0,\"ticks\":\"\"},\"colorscale\":[[0.0,\"#0d0887\"],[0.1111111111111111,\"#46039f\"],[0.2222222222222222,\"#7201a8\"],[0.3333333333333333,\"#9c179e\"],[0.4444444444444444,\"#bd3786\"],[0.5555555555555556,\"#d8576b\"],[0.6666666666666666,\"#ed7953\"],[0.7777777777777778,\"#fb9f3a\"],[0.8888888888888888,\"#fdca26\"],[1.0,\"#f0f921\"]]}],\"contourcarpet\":[{\"type\":\"contourcarpet\",\"colorbar\":{\"outlinewidth\":0,\"ticks\":\"\"}}],\"contour\":[{\"type\":\"contour\",\"colorbar\":{\"outlinewidth\":0,\"ticks\":\"\"},\"colorscale\":[[0.0,\"#0d0887\"],[0.1111111111111111,\"#46039f\"],[0.2222222222222222,\"#7201a8\"],[0.3333333333333333,\"#9c179e\"],[0.4444444444444444,\"#bd3786\"],[0.5555555555555556,\"#d8576b\"],[0.6666666666666666,\"#ed7953\"],[0.7777777777777778,\"#fb9f3a\"],[0.8888888888888888,\"#fdca26\"],[1.0,\"#f0f921\"]]}],\"surface\":[{\"type\":\"surface\",\"colorbar\":{\"outlinewidth\":0,\"ticks\":\"\"},\"colorscale\":[[0.0,\"#0d0887\"],[0.1111111111111111,\"#46039f\"],[0.2222222222222222,\"#7201a8\"],[0.3333333333333333,\"#9c179e\"],[0.4444444444444444,\"#bd3786\"],[0.5555555555555556,\"#d8576b\"],[0.6666666666666666,\"#ed7953\"],[0.7777777777777778,\"#fb9f3a\"],[0.8888888888888888,\"#fdca26\"],[1.0,\"#f0f921\"]]}],\"mesh3d\":[{\"type\":\"mesh3d\",\"colorbar\":{\"outlinewidth\":0,\"ticks\":\"\"}}],\"scatter\":[{\"fillpattern\":{\"fillmode\":\"overlay\",\"size\":10,\"solidity\":0.2},\"type\":\"scatter\"}],\"parcoords\":[{\"type\":\"parcoords\",\"line\":{\"colorbar\":{\"outlinewidth\":0,\"ticks\":\"\"}}}],\"scatterpolargl\":[{\"type\":\"scatterpolargl\",\"marker\":{\"colorbar\":{\"outlinewidth\":0,\"ticks\":\"\"}}}],\"bar\":[{\"error_x\":{\"color\":\"#2a3f5f\"},\"error_y\":{\"color\":\"#2a3f5f\"},\"marker\":{\"line\":{\"color\":\"#E5ECF6\",\"width\":0.5},\"pattern\":{\"fillmode\":\"overlay\",\"size\":10,\"solidity\":0.2}},\"type\":\"bar\"}],\"scattergeo\":[{\"type\":\"scattergeo\",\"marker\":{\"colorbar\":{\"outlinewidth\":0,\"ticks\":\"\"}}}],\"scatterpolar\":[{\"type\":\"scatterpolar\",\"marker\":{\"colorbar\":{\"outlinewidth\":0,\"ticks\":\"\"}}}],\"histogram\":[{\"marker\":{\"pattern\":{\"fillmode\":\"overlay\",\"size\":10,\"solidity\":0.2}},\"type\":\"histogram\"}],\"scattergl\":[{\"type\":\"scattergl\",\"marker\":{\"colorbar\":{\"outlinewidth\":0,\"ticks\":\"\"}}}],\"scatter3d\":[{\"type\":\"scatter3d\",\"line\":{\"colorbar\":{\"outlinewidth\":0,\"ticks\":\"\"}},\"marker\":{\"colorbar\":{\"outlinewidth\":0,\"ticks\":\"\"}}}],\"scattermapbox\":[{\"type\":\"scattermapbox\",\"marker\":{\"colorbar\":{\"outlinewidth\":0,\"ticks\":\"\"}}}],\"scatterternary\":[{\"type\":\"scatterternary\",\"marker\":{\"colorbar\":{\"outlinewidth\":0,\"ticks\":\"\"}}}],\"scattercarpet\":[{\"type\":\"scattercarpet\",\"marker\":{\"colorbar\":{\"outlinewidth\":0,\"ticks\":\"\"}}}],\"carpet\":[{\"aaxis\":{\"endlinecolor\":\"#2a3f5f\",\"gridcolor\":\"white\",\"linecolor\":\"white\",\"minorgridcolor\":\"white\",\"startlinecolor\":\"#2a3f5f\"},\"baxis\":{\"endlinecolor\":\"#2a3f5f\",\"gridcolor\":\"white\",\"linecolor\":\"white\",\"minorgridcolor\":\"white\",\"startlinecolor\":\"#2a3f5f\"},\"type\":\"carpet\"}],\"table\":[{\"cells\":{\"fill\":{\"color\":\"#EBF0F8\"},\"line\":{\"color\":\"white\"}},\"header\":{\"fill\":{\"color\":\"#C8D4E3\"},\"line\":{\"color\":\"white\"}},\"type\":\"table\"}],\"barpolar\":[{\"marker\":{\"line\":{\"color\":\"#E5ECF6\",\"width\":0.5},\"pattern\":{\"fillmode\":\"overlay\",\"size\":10,\"solidity\":0.2}},\"type\":\"barpolar\"}],\"pie\":[{\"automargin\":true,\"type\":\"pie\"}]},\"layout\":{\"autotypenumbers\":\"strict\",\"colorway\":[\"#636efa\",\"#EF553B\",\"#00cc96\",\"#ab63fa\",\"#FFA15A\",\"#19d3f3\",\"#FF6692\",\"#B6E880\",\"#FF97FF\",\"#FECB52\"],\"font\":{\"color\":\"#2a3f5f\"},\"hovermode\":\"closest\",\"hoverlabel\":{\"align\":\"left\"},\"paper_bgcolor\":\"white\",\"plot_bgcolor\":\"#E5ECF6\",\"polar\":{\"bgcolor\":\"#E5ECF6\",\"angularaxis\":{\"gridcolor\":\"white\",\"linecolor\":\"white\",\"ticks\":\"\"},\"radialaxis\":{\"gridcolor\":\"white\",\"linecolor\":\"white\",\"ticks\":\"\"}},\"ternary\":{\"bgcolor\":\"#E5ECF6\",\"aaxis\":{\"gridcolor\":\"white\",\"linecolor\":\"white\",\"ticks\":\"\"},\"baxis\":{\"gridcolor\":\"white\",\"linecolor\":\"white\",\"ticks\":\"\"},\"caxis\":{\"gridcolor\":\"white\",\"linecolor\":\"white\",\"ticks\":\"\"}},\"coloraxis\":{\"colorbar\":{\"outlinewidth\":0,\"ticks\":\"\"}},\"colorscale\":{\"sequential\":[[0.0,\"#0d0887\"],[0.1111111111111111,\"#46039f\"],[0.2222222222222222,\"#7201a8\"],[0.3333333333333333,\"#9c179e\"],[0.4444444444444444,\"#bd3786\"],[0.5555555555555556,\"#d8576b\"],[0.6666666666666666,\"#ed7953\"],[0.7777777777777778,\"#fb9f3a\"],[0.8888888888888888,\"#fdca26\"],[1.0,\"#f0f921\"]],\"sequentialminus\":[[0.0,\"#0d0887\"],[0.1111111111111111,\"#46039f\"],[0.2222222222222222,\"#7201a8\"],[0.3333333333333333,\"#9c179e\"],[0.4444444444444444,\"#bd3786\"],[0.5555555555555556,\"#d8576b\"],[0.6666666666666666,\"#ed7953\"],[0.7777777777777778,\"#fb9f3a\"],[0.8888888888888888,\"#fdca26\"],[1.0,\"#f0f921\"]],\"diverging\":[[0,\"#8e0152\"],[0.1,\"#c51b7d\"],[0.2,\"#de77ae\"],[0.3,\"#f1b6da\"],[0.4,\"#fde0ef\"],[0.5,\"#f7f7f7\"],[0.6,\"#e6f5d0\"],[0.7,\"#b8e186\"],[0.8,\"#7fbc41\"],[0.9,\"#4d9221\"],[1,\"#276419\"]]},\"xaxis\":{\"gridcolor\":\"white\",\"linecolor\":\"white\",\"ticks\":\"\",\"title\":{\"standoff\":15},\"zerolinecolor\":\"white\",\"automargin\":true,\"zerolinewidth\":2},\"yaxis\":{\"gridcolor\":\"white\",\"linecolor\":\"white\",\"ticks\":\"\",\"title\":{\"standoff\":15},\"zerolinecolor\":\"white\",\"automargin\":true,\"zerolinewidth\":2},\"scene\":{\"xaxis\":{\"backgroundcolor\":\"#E5ECF6\",\"gridcolor\":\"white\",\"linecolor\":\"white\",\"showbackground\":true,\"ticks\":\"\",\"zerolinecolor\":\"white\",\"gridwidth\":2},\"yaxis\":{\"backgroundcolor\":\"#E5ECF6\",\"gridcolor\":\"white\",\"linecolor\":\"white\",\"showbackground\":true,\"ticks\":\"\",\"zerolinecolor\":\"white\",\"gridwidth\":2},\"zaxis\":{\"backgroundcolor\":\"#E5ECF6\",\"gridcolor\":\"white\",\"linecolor\":\"white\",\"showbackground\":true,\"ticks\":\"\",\"zerolinecolor\":\"white\",\"gridwidth\":2}},\"shapedefaults\":{\"line\":{\"color\":\"#2a3f5f\"}},\"annotationdefaults\":{\"arrowcolor\":\"#2a3f5f\",\"arrowhead\":0,\"arrowwidth\":1},\"geo\":{\"bgcolor\":\"white\",\"landcolor\":\"#E5ECF6\",\"subunitcolor\":\"white\",\"showland\":true,\"showlakes\":true,\"lakecolor\":\"white\"},\"title\":{\"x\":0.05},\"mapbox\":{\"style\":\"light\"}}},\"xaxis\":{\"anchor\":\"y\",\"domain\":[0.0,1.0],\"title\":{\"text\":\"\\u63d0\\u51fa\\u65e5\\u6642\"}},\"yaxis\":{\"anchor\":\"x\",\"domain\":[0.0,1.0],\"title\":{\"text\":\"\\u30b9\\u30b3\\u30a2\"}},\"legend\":{\"title\":{\"text\":\"\\u540d\\u524d\"},\"tracegroupgap\":0},\"margin\":{\"t\":60}},                        {\"responsive\": true}                    ).then(function(){\n",
              "                            \n",
              "var gd = document.getElementById('377544b3-4bba-4a0d-8749-a722f2ad3dd3');\n",
              "var x = new MutationObserver(function (mutations, observer) {{\n",
              "        var display = window.getComputedStyle(gd).display;\n",
              "        if (!display || display === 'none') {{\n",
              "            console.log([gd, 'removed!']);\n",
              "            Plotly.purge(gd);\n",
              "            observer.disconnect();\n",
              "        }}\n",
              "}});\n",
              "\n",
              "// Listen for the removal of the full notebook cells\n",
              "var notebookContainer = gd.closest('#notebook-container');\n",
              "if (notebookContainer) {{\n",
              "    x.observe(notebookContainer, {childList: true});\n",
              "}}\n",
              "\n",
              "// Listen for the clearing of the current output cell\n",
              "var outputEl = gd.closest('.output');\n",
              "if (outputEl) {{\n",
              "    x.observe(outputEl, {childList: true});\n",
              "}}\n",
              "\n",
              "                        })                };                            </script>        </div>\n",
              "</body>\n",
              "</html>"
            ]
          },
          "metadata": {}
        }
      ]
    },
    {
      "cell_type": "code",
      "source": [
        "df_line_team = df.sort_values(\"提出日時\", ascending = True)\n",
        "df_line_team[\"スコア\"] = df_line_team.groupby(\"チーム名\")[\"スコア\"].cummax()\n",
        "\n",
        "fig_team = px.line(df_line_team, x=\"提出日時\", y=\"スコア\", color=\"チーム名\")\n",
        "fig_team.show()"
      ],
      "metadata": {
        "colab": {
          "base_uri": "https://localhost:8080/",
          "height": 542
        },
        "id": "EpxqzKzMJTRE",
        "outputId": "121f20b9-8ce2-4690-bb46-d50d8f3c1393"
      },
      "execution_count": 7,
      "outputs": [
        {
          "output_type": "display_data",
          "data": {
            "text/html": [
              "<html>\n",
              "<head><meta charset=\"utf-8\" /></head>\n",
              "<body>\n",
              "    <div>            <script src=\"https://cdnjs.cloudflare.com/ajax/libs/mathjax/2.7.5/MathJax.js?config=TeX-AMS-MML_SVG\"></script><script type=\"text/javascript\">if (window.MathJax && window.MathJax.Hub && window.MathJax.Hub.Config) {window.MathJax.Hub.Config({SVG: {font: \"STIX-Web\"}});}</script>                <script type=\"text/javascript\">window.PlotlyConfig = {MathJaxConfig: 'local'};</script>\n",
              "        <script src=\"https://cdn.plot.ly/plotly-2.18.2.min.js\"></script>                <div id=\"5b43a8c4-3cdc-4900-aa9c-f9af2e4c60e7\" class=\"plotly-graph-div\" style=\"height:525px; width:100%;\"></div>            <script type=\"text/javascript\">                                    window.PLOTLYENV=window.PLOTLYENV || {};                                    if (document.getElementById(\"5b43a8c4-3cdc-4900-aa9c-f9af2e4c60e7\")) {                    Plotly.newPlot(                        \"5b43a8c4-3cdc-4900-aa9c-f9af2e4c60e7\",                        [{\"hovertemplate\":\"\\u30c1\\u30fc\\u30e0\\u540d=\\u9727\\u30f6\\u5cf0\\u3081\\u3063\\u3061\\u3083\\u826f\\u3044\\u8cb7\\u3044\\u7269\\u3057\\u307e\\u3057\\u305f\\uff01\\uff01\\uff01\\uff01<br>\\u63d0\\u51fa\\u65e5\\u6642=%{x}<br>\\u30b9\\u30b3\\u30a2=%{y}<extra></extra>\",\"legendgroup\":\"\\u9727\\u30f6\\u5cf0\\u3081\\u3063\\u3061\\u3083\\u826f\\u3044\\u8cb7\\u3044\\u7269\\u3057\\u307e\\u3057\\u305f\\uff01\\uff01\\uff01\\uff01\",\"line\":{\"color\":\"#636efa\",\"dash\":\"solid\"},\"marker\":{\"symbol\":\"circle\"},\"mode\":\"lines\",\"name\":\"\\u9727\\u30f6\\u5cf0\\u3081\\u3063\\u3061\\u3083\\u826f\\u3044\\u8cb7\\u3044\\u7269\\u3057\\u307e\\u3057\\u305f\\uff01\\uff01\\uff01\\uff01\",\"orientation\":\"v\",\"showlegend\":true,\"x\":[\"2023-01-13 19:16:50\",\"2023-01-13 19:26:51\",\"2023-01-13 19:31:52\",\"2023-01-13 20:40:44\",\"2023-01-13 21:13:48\",\"2023-01-13 21:26:59\",\"2023-01-13 21:39:21\",\"2023-01-13 21:49:20\",\"2023-01-13 22:33:29\",\"2023-01-13 22:39:17\",\"2023-01-13 22:59:15\",\"2023-01-13 22:59:53\",\"2023-01-13 23:02:44\",\"2023-01-14 00:03:42\",\"2023-01-14 00:04:41\",\"2023-01-14 00:09:46\",\"2023-01-14 00:25:38\",\"2023-01-14 00:39:07\",\"2023-01-14 13:31:43\",\"2023-01-14 13:49:14\",\"2023-01-14 13:54:14\",\"2023-01-14 13:59:17\",\"2023-01-14 14:04:17\",\"2023-01-14 14:10:06\",\"2023-01-14 14:15:53\",\"2023-01-15 06:04:56\",\"2023-01-15 06:10:33\",\"2023-01-15 10:58:44\",\"2023-01-15 14:42:39\",\"2023-01-15 15:30:57\",\"2023-01-15 16:04:53\",\"2023-01-15 16:14:39\",\"2023-01-15 17:33:51\",\"2023-01-15 17:50:14\",\"2023-01-15 21:54:30\",\"2023-01-15 22:18:11\",\"2023-01-15 22:23:37\",\"2023-01-15 22:31:43\",\"2023-01-15 23:41:01\",\"2023-01-17 00:38:44\",\"2023-01-17 00:54:38\",\"2023-01-17 07:53:08\",\"2023-01-17 09:17:57\",\"2023-01-20 01:08:58\",\"2023-01-21 16:20:15\",\"2023-01-21 16:27:14\",\"2023-01-21 18:50:40\",\"2023-01-21 18:56:55\",\"2023-01-22 01:14:23\",\"2023-01-22 02:06:47\",\"2023-01-22 02:21:03\",\"2023-01-22 02:34:35\",\"2023-01-22 02:54:29\",\"2023-01-22 03:16:59\",\"2023-01-22 03:24:23\",\"2023-01-22 04:00:32\",\"2023-01-22 16:59:13\",\"2023-01-22 17:07:46\",\"2023-01-22 17:26:22\",\"2023-01-22 18:27:20\",\"2023-01-22 18:35:48\"],\"xaxis\":\"x\",\"y\":[13945,250710,250710,284940,284940,284940,480411,480447,499581,499662,500627,500627,500627,500627,500627,500627,500627,500627,500627,500627,504279,504279,504279,504279,504279,504279,504279,504279,504279,504954,528018,528018,528018,528018,528018,591760,591760,591760,591760,591760,591760,591760,591760,591760,591760,591760,591760,591760,591760,591760,596750,597027,597027,599042,599042,600957,618556,618966,619808,619808,621224],\"yaxis\":\"y\",\"type\":\"scatter\"},{\"hovertemplate\":\"\\u30c1\\u30fc\\u30e0\\u540d=\\u5c71\\u8d70\\u6681\\u98db<br>\\u63d0\\u51fa\\u65e5\\u6642=%{x}<br>\\u30b9\\u30b3\\u30a2=%{y}<extra></extra>\",\"legendgroup\":\"\\u5c71\\u8d70\\u6681\\u98db\",\"line\":{\"color\":\"#EF553B\",\"dash\":\"solid\"},\"marker\":{\"symbol\":\"circle\"},\"mode\":\"lines\",\"name\":\"\\u5c71\\u8d70\\u6681\\u98db\",\"orientation\":\"v\",\"showlegend\":true,\"x\":[\"2023-01-13 19:20:46\",\"2023-01-13 19:34:47\",\"2023-01-13 20:11:03\",\"2023-01-13 20:55:39\",\"2023-01-13 21:26:52\",\"2023-01-14 01:59:12\",\"2023-01-14 11:08:10\",\"2023-01-15 19:27:34\",\"2023-01-17 14:20:44\",\"2023-01-17 14:45:12\",\"2023-01-18 11:35:57\",\"2023-01-18 11:46:41\",\"2023-01-18 12:11:59\",\"2023-01-18 13:02:16\",\"2023-01-18 13:26:23\",\"2023-01-19 00:07:14\",\"2023-01-19 09:12:44\",\"2023-01-19 09:26:07\",\"2023-01-19 09:37:03\",\"2023-01-19 09:49:41\",\"2023-01-19 10:18:21\",\"2023-01-19 10:37:20\",\"2023-01-19 11:04:55\",\"2023-01-20 09:09:35\",\"2023-01-20 09:51:37\",\"2023-01-20 10:02:00\",\"2023-01-20 10:09:33\",\"2023-01-20 10:17:37\",\"2023-01-20 10:35:00\",\"2023-01-20 16:36:50\",\"2023-01-20 22:24:02\",\"2023-01-20 23:14:39\",\"2023-01-20 23:21:12\",\"2023-01-21 00:28:22\",\"2023-01-21 00:41:07\",\"2023-01-21 00:58:33\",\"2023-01-21 01:04:17\",\"2023-01-21 07:02:04\",\"2023-01-21 07:33:48\",\"2023-01-21 07:53:29\",\"2023-01-21 08:32:52\",\"2023-01-21 10:40:49\",\"2023-01-21 11:44:32\",\"2023-01-21 17:50:02\",\"2023-01-21 23:02:21\",\"2023-01-22 00:49:03\",\"2023-01-22 01:31:02\",\"2023-01-22 10:43:03\",\"2023-01-22 14:40:53\"],\"xaxis\":\"x\",\"y\":[285183,480411,488952,488952,549267,549267,569099,605691,605691,605691,605691,605691,605691,605691,605691,618989,618989,618989,618989,618989,618989,618989,618989,618989,618989,618989,618989,618989,618989,618989,618989,618989,618989,618989,618989,618989,618989,618989,618989,618989,618989,622723,626447,630480,630480,639344,640095,646071,647497],\"yaxis\":\"y\",\"type\":\"scatter\"},{\"hovertemplate\":\"\\u30c1\\u30fc\\u30e0\\u540d=benchmark<br>\\u63d0\\u51fa\\u65e5\\u6642=%{x}<br>\\u30b9\\u30b3\\u30a2=%{y}<extra></extra>\",\"legendgroup\":\"benchmark\",\"line\":{\"color\":\"#00cc96\",\"dash\":\"solid\"},\"marker\":{\"symbol\":\"circle\"},\"mode\":\"lines\",\"name\":\"benchmark\",\"orientation\":\"v\",\"showlegend\":true,\"x\":[\"2023-01-13 19:35:39\",\"2023-01-13 20:38:28\",\"2023-01-13 21:34:36\",\"2023-01-13 21:59:36\",\"2023-01-13 22:49:32\",\"2023-01-13 23:23:48\",\"2023-01-13 23:29:50\",\"2023-01-13 23:40:44\",\"2023-01-13 23:45:49\",\"2023-01-13 23:55:39\",\"2023-01-14 13:43:33\",\"2023-01-14 14:40:51\",\"2023-01-14 16:24:27\",\"2023-01-14 17:41:46\",\"2023-01-14 17:49:16\",\"2023-01-14 17:57:12\",\"2023-01-14 18:04:14\",\"2023-01-14 18:26:11\",\"2023-01-14 20:30:33\",\"2023-01-14 20:35:31\",\"2023-01-14 21:08:33\",\"2023-01-14 21:24:43\",\"2023-01-14 21:39:41\",\"2023-01-14 22:19:14\",\"2023-01-14 22:34:57\",\"2023-01-14 23:16:54\",\"2023-01-15 00:45:42\",\"2023-01-15 01:18:53\",\"2023-01-15 01:35:46\",\"2023-01-15 02:16:20\",\"2023-01-15 02:16:33\",\"2023-01-15 02:46:29\",\"2023-01-15 02:53:44\",\"2023-01-15 03:20:30\",\"2023-01-15 03:30:59\",\"2023-01-15 10:55:23\",\"2023-01-15 11:56:00\",\"2023-01-15 13:12:21\",\"2023-01-15 16:33:58\",\"2023-01-15 16:49:47\",\"2023-01-15 17:36:44\",\"2023-01-16 10:50:52\",\"2023-01-16 11:07:47\",\"2023-01-16 11:34:03\",\"2023-01-16 13:05:59\",\"2023-01-16 15:54:26\",\"2023-01-16 16:53:01\",\"2023-01-16 17:19:06\",\"2023-01-16 17:24:55\",\"2023-01-16 22:29:20\",\"2023-01-16 22:43:03\",\"2023-01-16 23:08:21\",\"2023-01-16 23:35:23\",\"2023-01-17 02:25:54\",\"2023-01-17 15:06:12\",\"2023-01-17 15:16:09\",\"2023-01-17 15:23:13\",\"2023-01-17 23:29:37\",\"2023-01-18 00:33:26\",\"2023-01-19 16:22:52\",\"2023-01-19 16:30:36\",\"2023-01-19 16:40:16\",\"2023-01-19 16:51:01\",\"2023-01-20 01:28:18\",\"2023-01-20 18:12:27\",\"2023-01-20 21:19:24\",\"2023-01-20 23:34:08\",\"2023-01-20 23:52:01\",\"2023-01-21 00:01:54\",\"2023-01-21 00:18:57\",\"2023-01-21 04:39:59\",\"2023-01-21 05:02:03\",\"2023-01-21 05:44:36\",\"2023-01-21 06:28:25\",\"2023-01-21 06:32:10\",\"2023-01-21 07:25:24\",\"2023-01-21 07:49:38\",\"2023-01-21 08:04:25\",\"2023-01-21 13:09:30\",\"2023-01-21 15:15:59\",\"2023-01-21 15:29:54\",\"2023-01-21 15:38:25\",\"2023-01-21 15:44:18\",\"2023-01-21 16:57:34\",\"2023-01-21 17:25:02\",\"2023-01-21 17:59:23\",\"2023-01-21 18:23:39\",\"2023-01-21 18:39:36\",\"2023-01-21 18:45:08\",\"2023-01-21 18:45:42\",\"2023-01-21 19:43:42\",\"2023-01-21 23:54:09\",\"2023-01-22 00:14:33\",\"2023-01-22 01:16:36\",\"2023-01-22 02:35:24\",\"2023-01-22 02:57:14\",\"2023-01-22 04:13:14\",\"2023-01-22 04:19:09\",\"2023-01-22 04:34:28\",\"2023-01-22 04:50:46\",\"2023-01-22 18:08:19\",\"2023-01-22 18:15:17\",\"2023-01-22 18:20:49\",\"2023-01-22 18:26:32\",\"2023-01-22 18:26:47\",\"2023-01-22 18:31:36\",\"2023-01-22 18:35:31\",\"2023-01-22 18:37:17\",\"2023-01-22 18:42:46\",\"2023-01-22 18:43:10\",\"2023-01-22 18:50:14\",\"2023-01-22 18:50:36\",\"2023-01-22 18:55:27\",\"2023-01-22 18:55:38\"],\"xaxis\":\"x\",\"y\":[35950,35950,176018,176018,295515,427113,451287,459117,486298,487846,487846,487846,499148,499148,499148,499148,499148,509379,509379,509379,513533,534076,536901,542343,542343,542343,542343,542343,542343,553541,553541,553541,553541,567940,573885,573885,573885,573885,573885,573885,574129,574129,574129,574129,574129,574129,574129,574129,574129,574129,574129,574129,576534,576534,576534,576534,576534,596939,596939,596939,596939,596939,596939,596939,596939,597046,597046,597046,597046,597136,597136,597136,597136,597136,597136,597136,597136,597136,597136,597136,597136,597136,597136,597136,597136,599658,599658,599658,599658,599658,599658,609296,609296,609296,609296,609296,609296,609537,611450,611450,611568,611568,611568,611568,611568,611568,611568,611568,611568,611568,611568,611568,611568,611568],\"yaxis\":\"y\",\"type\":\"scatter\"},{\"hovertemplate\":\"\\u30c1\\u30fc\\u30e0\\u540d=>euphonic<br>\\u63d0\\u51fa\\u65e5\\u6642=%{x}<br>\\u30b9\\u30b3\\u30a2=%{y}<extra></extra>\",\"legendgroup\":\">euphonic\",\"line\":{\"color\":\"#ab63fa\",\"dash\":\"solid\"},\"marker\":{\"symbol\":\"circle\"},\"mode\":\"lines\",\"name\":\">euphonic\",\"orientation\":\"v\",\"showlegend\":true,\"x\":[\"2023-01-13 19:42:40\",\"2023-01-13 22:50:38\",\"2023-01-13 23:10:59\",\"2023-01-14 13:06:22\",\"2023-01-14 15:07:16\",\"2023-01-14 18:29:42\",\"2023-01-14 21:49:27\",\"2023-01-15 00:30:32\",\"2023-01-15 00:57:37\",\"2023-01-15 12:56:16\",\"2023-01-15 14:01:08\",\"2023-01-15 18:41:21\",\"2023-01-15 18:47:27\",\"2023-01-15 20:09:02\",\"2023-01-16 18:46:26\",\"2023-01-16 19:58:37\",\"2023-01-16 20:35:06\",\"2023-01-16 20:44:34\",\"2023-01-16 23:02:43\",\"2023-01-17 06:28:57\",\"2023-01-17 06:34:01\",\"2023-01-18 23:51:50\",\"2023-01-19 20:29:32\",\"2023-01-19 20:34:34\",\"2023-01-19 20:45:22\",\"2023-01-19 20:50:23\",\"2023-01-19 20:55:26\",\"2023-01-19 21:44:54\",\"2023-01-19 21:49:54\",\"2023-01-20 07:14:41\",\"2023-01-20 19:40:00\",\"2023-01-20 19:45:05\",\"2023-01-20 20:41:33\",\"2023-01-21 03:36:40\",\"2023-01-21 05:54:11\",\"2023-01-21 13:46:01\",\"2023-01-21 14:10:35\",\"2023-01-21 16:50:16\",\"2023-01-21 16:58:56\",\"2023-01-21 17:28:41\",\"2023-01-21 17:33:42\",\"2023-01-21 23:17:55\",\"2023-01-22 13:26:30\",\"2023-01-22 13:52:27\",\"2023-01-22 13:59:31\",\"2023-01-22 14:07:04\",\"2023-01-22 14:25:23\",\"2023-01-22 15:56:29\",\"2023-01-22 16:04:32\",\"2023-01-22 16:13:00\",\"2023-01-22 16:19:02\",\"2023-01-22 17:07:40\",\"2023-01-22 17:43:50\",\"2023-01-22 17:55:25\",\"2023-01-22 18:01:00\",\"2023-01-22 18:06:32\",\"2023-01-22 18:19:23\",\"2023-01-22 18:27:15\"],\"xaxis\":\"x\",\"y\":[0,52403,101307,476647,476647,511992,511992,537480,549297,593783,593783,593783,593783,595600,599977,599977,599977,612763,614761,614761,614761,616258,616258,616304,616568,618308,618308,618308,618308,618479,618479,618479,618623,618623,618913,618913,620430,620430,620430,632936,638653,639349,647363,647363,647363,647363,647384,647384,647384,647780,647780,647780,647780,647780,651223,651624,651966,652081],\"yaxis\":\"y\",\"type\":\"scatter\"},{\"hovertemplate\":\"\\u30c1\\u30fc\\u30e0\\u540d=AHC\\u3084\\u3063\\u3066\\u307f\\u968a<br>\\u63d0\\u51fa\\u65e5\\u6642=%{x}<br>\\u30b9\\u30b3\\u30a2=%{y}<extra></extra>\",\"legendgroup\":\"AHC\\u3084\\u3063\\u3066\\u307f\\u968a\",\"line\":{\"color\":\"#FFA15A\",\"dash\":\"solid\"},\"marker\":{\"symbol\":\"circle\"},\"mode\":\"lines\",\"name\":\"AHC\\u3084\\u3063\\u3066\\u307f\\u968a\",\"orientation\":\"v\",\"showlegend\":true,\"x\":[\"2023-01-13 20:42:14\",\"2023-01-13 22:51:04\",\"2023-01-13 22:57:43\",\"2023-01-13 23:09:11\",\"2023-01-13 23:39:40\",\"2023-01-13 23:59:01\",\"2023-01-14 00:13:06\",\"2023-01-14 02:27:38\",\"2023-01-14 02:36:20\",\"2023-01-14 02:41:38\",\"2023-01-14 13:05:38\",\"2023-01-14 13:10:44\",\"2023-01-14 13:29:09\",\"2023-01-14 14:51:47\",\"2023-01-14 15:41:37\",\"2023-01-14 15:46:37\",\"2023-01-14 16:04:10\",\"2023-01-14 16:10:01\",\"2023-01-14 16:15:03\",\"2023-01-14 18:15:55\",\"2023-01-14 20:18:16\",\"2023-01-14 20:45:32\",\"2023-01-14 20:54:24\",\"2023-01-14 21:08:31\",\"2023-01-14 21:47:19\",\"2023-01-14 22:00:19\",\"2023-01-14 22:19:46\",\"2023-01-14 22:49:08\",\"2023-01-14 22:54:15\",\"2023-01-14 23:06:30\",\"2023-01-14 23:13:38\",\"2023-01-14 23:19:50\",\"2023-01-15 00:05:57\",\"2023-01-15 00:33:32\",\"2023-01-15 00:49:39\",\"2023-01-15 01:10:58\",\"2023-01-15 01:24:52\",\"2023-01-15 03:04:11\",\"2023-01-15 03:54:12\",\"2023-01-15 07:54:50\",\"2023-01-15 12:00:34\",\"2023-01-15 12:12:48\",\"2023-01-15 12:19:29\",\"2023-01-15 12:30:41\",\"2023-01-15 12:40:57\",\"2023-01-16 00:33:13\",\"2023-01-16 00:50:44\",\"2023-01-16 00:59:05\",\"2023-01-16 07:57:57\",\"2023-01-16 08:45:12\",\"2023-01-16 12:21:29\",\"2023-01-16 12:34:06\",\"2023-01-16 22:07:20\",\"2023-01-16 22:34:05\",\"2023-01-16 23:56:11\",\"2023-01-17 00:39:51\",\"2023-01-17 00:53:44\",\"2023-01-17 22:29:01\",\"2023-01-17 23:14:57\",\"2023-01-18 01:12:37\",\"2023-01-18 01:17:37\",\"2023-01-18 01:24:53\",\"2023-01-18 01:29:57\",\"2023-01-18 22:19:59\",\"2023-01-18 22:28:51\",\"2023-01-18 23:09:13\",\"2023-01-20 00:38:22\",\"2023-01-20 00:52:42\",\"2023-01-20 01:00:21\",\"2023-01-20 18:28:14\",\"2023-01-20 18:38:10\",\"2023-01-22 18:14:47\",\"2023-01-22 18:36:36\",\"2023-01-22 18:42:40\"],\"xaxis\":\"x\",\"y\":[35950,297110,297110,297110,389200,392120,489483,499077,500076,500733,500733,500733,500733,500733,500733,500733,500733,500733,500733,500733,500733,504108,504108,504108,504108,504108,510435,510435,510435,510435,510435,510435,510435,510435,511362,516519,516915,516915,520434,520434,520434,520434,520434,520434,520434,525222,525222,525222,530001,536328,536328,536328,544338,544338,544338,544338,547740,547740,548766,548766,548766,548766,552753,552753,552753,552753,553856,553856,553990,557033,563004,563004,563004,563004],\"yaxis\":\"y\",\"type\":\"scatter\"},{\"hovertemplate\":\"\\u30c1\\u30fc\\u30e0\\u540d=\\u9006\\u8972\\u306e\\u30d0\\u30d9\\u30eb\\u30af\\u30e9\\u30a4\\u30de\\u30fc\\u30ba<br>\\u63d0\\u51fa\\u65e5\\u6642=%{x}<br>\\u30b9\\u30b3\\u30a2=%{y}<extra></extra>\",\"legendgroup\":\"\\u9006\\u8972\\u306e\\u30d0\\u30d9\\u30eb\\u30af\\u30e9\\u30a4\\u30de\\u30fc\\u30ba\",\"line\":{\"color\":\"#19d3f3\",\"dash\":\"solid\"},\"marker\":{\"symbol\":\"circle\"},\"mode\":\"lines\",\"name\":\"\\u9006\\u8972\\u306e\\u30d0\\u30d9\\u30eb\\u30af\\u30e9\\u30a4\\u30de\\u30fc\\u30ba\",\"orientation\":\"v\",\"showlegend\":true,\"x\":[\"2023-01-13 21:37:23\",\"2023-01-14 14:20:46\",\"2023-01-14 14:48:14\",\"2023-01-14 15:53:45\",\"2023-01-14 16:40:32\",\"2023-01-14 16:56:35\",\"2023-01-14 17:42:57\",\"2023-01-14 19:59:08\",\"2023-01-14 20:37:44\",\"2023-01-16 17:47:02\",\"2023-01-16 18:36:45\",\"2023-01-16 20:28:24\",\"2023-01-16 20:49:29\",\"2023-01-16 21:42:38\",\"2023-01-16 23:11:44\",\"2023-01-16 23:37:13\",\"2023-01-16 23:50:11\",\"2023-01-21 11:17:16\",\"2023-01-21 13:59:12\",\"2023-01-21 14:22:19\",\"2023-01-21 19:13:40\",\"2023-01-22 07:07:36\",\"2023-01-22 07:40:01\",\"2023-01-22 08:23:49\",\"2023-01-22 08:57:16\",\"2023-01-22 09:31:22\",\"2023-01-22 09:43:55\",\"2023-01-22 10:28:49\",\"2023-01-22 10:34:58\",\"2023-01-22 10:40:04\",\"2023-01-22 12:17:15\",\"2023-01-22 12:42:06\",\"2023-01-22 15:27:47\",\"2023-01-22 15:52:29\",\"2023-01-22 18:12:10\",\"2023-01-22 18:18:01\",\"2023-01-22 18:23:29\",\"2023-01-22 18:28:40\",\"2023-01-22 18:37:49\",\"2023-01-22 18:51:48\"],\"xaxis\":\"x\",\"y\":[27667,27667,322745,424364,424364,428268,451780,466469,466469,467028,493765,493765,573955,573955,573955,575859,577842,577842,577842,577842,577842,577842,577842,577842,577842,577842,577842,577842,577842,577842,577842,577842,577842,577842,577842,577842,577842,577842,577842,577842],\"yaxis\":\"y\",\"type\":\"scatter\"},{\"hovertemplate\":\"\\u30c1\\u30fc\\u30e0\\u540d=\\u904b\\u55b6<br>\\u63d0\\u51fa\\u65e5\\u6642=%{x}<br>\\u30b9\\u30b3\\u30a2=%{y}<extra></extra>\",\"legendgroup\":\"\\u904b\\u55b6\",\"line\":{\"color\":\"#FF6692\",\"dash\":\"solid\"},\"marker\":{\"symbol\":\"circle\"},\"mode\":\"lines\",\"name\":\"\\u904b\\u55b6\",\"orientation\":\"v\",\"showlegend\":true,\"x\":[\"2023-01-14 21:23:51\",\"2023-01-15 00:58:37\",\"2023-01-15 01:12:51\",\"2023-01-15 01:28:09\",\"2023-01-15 01:34:03\",\"2023-01-15 02:00:37\",\"2023-01-17 09:41:54\",\"2023-01-17 10:00:01\",\"2023-01-17 11:29:03\",\"2023-01-17 13:41:25\",\"2023-01-17 18:59:58\",\"2023-01-18 13:30:59\",\"2023-01-18 13:38:20\",\"2023-01-19 18:30:17\",\"2023-01-19 19:02:23\",\"2023-01-20 10:22:20\",\"2023-01-20 13:17:47\",\"2023-01-20 17:52:58\",\"2023-01-21 15:51:55\"],\"xaxis\":\"x\",\"y\":[88848,372958,510577,510577,510577,510577,510577,510577,510577,587336,587336,587492,587492,587492,587492,589331,591772,593008,593008],\"yaxis\":\"y\",\"type\":\"scatter\"},{\"hovertemplate\":\"\\u30c1\\u30fc\\u30e0\\u540d=\\u8f1d\\u304b\\u3057\\u3044\\u672a\\u6765\\u3092\\u76ee\\u6307\\u3059\\u4e0d\\u5c48\\u306e\\u6226\\u3044\\u4eba<br>\\u63d0\\u51fa\\u65e5\\u6642=%{x}<br>\\u30b9\\u30b3\\u30a2=%{y}<extra></extra>\",\"legendgroup\":\"\\u8f1d\\u304b\\u3057\\u3044\\u672a\\u6765\\u3092\\u76ee\\u6307\\u3059\\u4e0d\\u5c48\\u306e\\u6226\\u3044\\u4eba\",\"line\":{\"color\":\"#B6E880\",\"dash\":\"solid\"},\"marker\":{\"symbol\":\"circle\"},\"mode\":\"lines\",\"name\":\"\\u8f1d\\u304b\\u3057\\u3044\\u672a\\u6765\\u3092\\u76ee\\u6307\\u3059\\u4e0d\\u5c48\\u306e\\u6226\\u3044\\u4eba\",\"orientation\":\"v\",\"showlegend\":true,\"x\":[\"2023-01-16 15:06:12\",\"2023-01-16 17:08:11\",\"2023-01-16 17:17:06\",\"2023-01-16 17:39:06\",\"2023-01-16 17:54:18\",\"2023-01-16 18:13:14\",\"2023-01-16 18:18:21\",\"2023-01-17 12:15:57\",\"2023-01-17 12:16:06\",\"2023-01-17 12:48:18\",\"2023-01-17 13:08:59\",\"2023-01-17 13:58:12\",\"2023-01-17 14:19:43\",\"2023-01-17 14:27:08\",\"2023-01-17 22:48:00\",\"2023-01-17 23:51:53\",\"2023-01-18 16:20:07\",\"2023-01-18 16:54:51\",\"2023-01-18 18:01:42\",\"2023-01-18 18:15:18\",\"2023-01-18 22:00:54\",\"2023-01-19 10:29:43\",\"2023-01-19 10:35:15\",\"2023-01-19 10:48:46\",\"2023-01-19 10:58:16\",\"2023-01-19 11:05:57\",\"2023-01-21 20:21:58\",\"2023-01-22 18:01:19\"],\"xaxis\":\"x\",\"y\":[35950,35950,35950,190764,190764,190764,338040,338040,537912,542538,545733,549279,552465,552465,552465,552465,567297,575344,579644,583823,583823,594488,594488,594863,594863,594863,594863,594863],\"yaxis\":\"y\",\"type\":\"scatter\"}],                        {\"template\":{\"data\":{\"histogram2dcontour\":[{\"type\":\"histogram2dcontour\",\"colorbar\":{\"outlinewidth\":0,\"ticks\":\"\"},\"colorscale\":[[0.0,\"#0d0887\"],[0.1111111111111111,\"#46039f\"],[0.2222222222222222,\"#7201a8\"],[0.3333333333333333,\"#9c179e\"],[0.4444444444444444,\"#bd3786\"],[0.5555555555555556,\"#d8576b\"],[0.6666666666666666,\"#ed7953\"],[0.7777777777777778,\"#fb9f3a\"],[0.8888888888888888,\"#fdca26\"],[1.0,\"#f0f921\"]]}],\"choropleth\":[{\"type\":\"choropleth\",\"colorbar\":{\"outlinewidth\":0,\"ticks\":\"\"}}],\"histogram2d\":[{\"type\":\"histogram2d\",\"colorbar\":{\"outlinewidth\":0,\"ticks\":\"\"},\"colorscale\":[[0.0,\"#0d0887\"],[0.1111111111111111,\"#46039f\"],[0.2222222222222222,\"#7201a8\"],[0.3333333333333333,\"#9c179e\"],[0.4444444444444444,\"#bd3786\"],[0.5555555555555556,\"#d8576b\"],[0.6666666666666666,\"#ed7953\"],[0.7777777777777778,\"#fb9f3a\"],[0.8888888888888888,\"#fdca26\"],[1.0,\"#f0f921\"]]}],\"heatmap\":[{\"type\":\"heatmap\",\"colorbar\":{\"outlinewidth\":0,\"ticks\":\"\"},\"colorscale\":[[0.0,\"#0d0887\"],[0.1111111111111111,\"#46039f\"],[0.2222222222222222,\"#7201a8\"],[0.3333333333333333,\"#9c179e\"],[0.4444444444444444,\"#bd3786\"],[0.5555555555555556,\"#d8576b\"],[0.6666666666666666,\"#ed7953\"],[0.7777777777777778,\"#fb9f3a\"],[0.8888888888888888,\"#fdca26\"],[1.0,\"#f0f921\"]]}],\"heatmapgl\":[{\"type\":\"heatmapgl\",\"colorbar\":{\"outlinewidth\":0,\"ticks\":\"\"},\"colorscale\":[[0.0,\"#0d0887\"],[0.1111111111111111,\"#46039f\"],[0.2222222222222222,\"#7201a8\"],[0.3333333333333333,\"#9c179e\"],[0.4444444444444444,\"#bd3786\"],[0.5555555555555556,\"#d8576b\"],[0.6666666666666666,\"#ed7953\"],[0.7777777777777778,\"#fb9f3a\"],[0.8888888888888888,\"#fdca26\"],[1.0,\"#f0f921\"]]}],\"contourcarpet\":[{\"type\":\"contourcarpet\",\"colorbar\":{\"outlinewidth\":0,\"ticks\":\"\"}}],\"contour\":[{\"type\":\"contour\",\"colorbar\":{\"outlinewidth\":0,\"ticks\":\"\"},\"colorscale\":[[0.0,\"#0d0887\"],[0.1111111111111111,\"#46039f\"],[0.2222222222222222,\"#7201a8\"],[0.3333333333333333,\"#9c179e\"],[0.4444444444444444,\"#bd3786\"],[0.5555555555555556,\"#d8576b\"],[0.6666666666666666,\"#ed7953\"],[0.7777777777777778,\"#fb9f3a\"],[0.8888888888888888,\"#fdca26\"],[1.0,\"#f0f921\"]]}],\"surface\":[{\"type\":\"surface\",\"colorbar\":{\"outlinewidth\":0,\"ticks\":\"\"},\"colorscale\":[[0.0,\"#0d0887\"],[0.1111111111111111,\"#46039f\"],[0.2222222222222222,\"#7201a8\"],[0.3333333333333333,\"#9c179e\"],[0.4444444444444444,\"#bd3786\"],[0.5555555555555556,\"#d8576b\"],[0.6666666666666666,\"#ed7953\"],[0.7777777777777778,\"#fb9f3a\"],[0.8888888888888888,\"#fdca26\"],[1.0,\"#f0f921\"]]}],\"mesh3d\":[{\"type\":\"mesh3d\",\"colorbar\":{\"outlinewidth\":0,\"ticks\":\"\"}}],\"scatter\":[{\"fillpattern\":{\"fillmode\":\"overlay\",\"size\":10,\"solidity\":0.2},\"type\":\"scatter\"}],\"parcoords\":[{\"type\":\"parcoords\",\"line\":{\"colorbar\":{\"outlinewidth\":0,\"ticks\":\"\"}}}],\"scatterpolargl\":[{\"type\":\"scatterpolargl\",\"marker\":{\"colorbar\":{\"outlinewidth\":0,\"ticks\":\"\"}}}],\"bar\":[{\"error_x\":{\"color\":\"#2a3f5f\"},\"error_y\":{\"color\":\"#2a3f5f\"},\"marker\":{\"line\":{\"color\":\"#E5ECF6\",\"width\":0.5},\"pattern\":{\"fillmode\":\"overlay\",\"size\":10,\"solidity\":0.2}},\"type\":\"bar\"}],\"scattergeo\":[{\"type\":\"scattergeo\",\"marker\":{\"colorbar\":{\"outlinewidth\":0,\"ticks\":\"\"}}}],\"scatterpolar\":[{\"type\":\"scatterpolar\",\"marker\":{\"colorbar\":{\"outlinewidth\":0,\"ticks\":\"\"}}}],\"histogram\":[{\"marker\":{\"pattern\":{\"fillmode\":\"overlay\",\"size\":10,\"solidity\":0.2}},\"type\":\"histogram\"}],\"scattergl\":[{\"type\":\"scattergl\",\"marker\":{\"colorbar\":{\"outlinewidth\":0,\"ticks\":\"\"}}}],\"scatter3d\":[{\"type\":\"scatter3d\",\"line\":{\"colorbar\":{\"outlinewidth\":0,\"ticks\":\"\"}},\"marker\":{\"colorbar\":{\"outlinewidth\":0,\"ticks\":\"\"}}}],\"scattermapbox\":[{\"type\":\"scattermapbox\",\"marker\":{\"colorbar\":{\"outlinewidth\":0,\"ticks\":\"\"}}}],\"scatterternary\":[{\"type\":\"scatterternary\",\"marker\":{\"colorbar\":{\"outlinewidth\":0,\"ticks\":\"\"}}}],\"scattercarpet\":[{\"type\":\"scattercarpet\",\"marker\":{\"colorbar\":{\"outlinewidth\":0,\"ticks\":\"\"}}}],\"carpet\":[{\"aaxis\":{\"endlinecolor\":\"#2a3f5f\",\"gridcolor\":\"white\",\"linecolor\":\"white\",\"minorgridcolor\":\"white\",\"startlinecolor\":\"#2a3f5f\"},\"baxis\":{\"endlinecolor\":\"#2a3f5f\",\"gridcolor\":\"white\",\"linecolor\":\"white\",\"minorgridcolor\":\"white\",\"startlinecolor\":\"#2a3f5f\"},\"type\":\"carpet\"}],\"table\":[{\"cells\":{\"fill\":{\"color\":\"#EBF0F8\"},\"line\":{\"color\":\"white\"}},\"header\":{\"fill\":{\"color\":\"#C8D4E3\"},\"line\":{\"color\":\"white\"}},\"type\":\"table\"}],\"barpolar\":[{\"marker\":{\"line\":{\"color\":\"#E5ECF6\",\"width\":0.5},\"pattern\":{\"fillmode\":\"overlay\",\"size\":10,\"solidity\":0.2}},\"type\":\"barpolar\"}],\"pie\":[{\"automargin\":true,\"type\":\"pie\"}]},\"layout\":{\"autotypenumbers\":\"strict\",\"colorway\":[\"#636efa\",\"#EF553B\",\"#00cc96\",\"#ab63fa\",\"#FFA15A\",\"#19d3f3\",\"#FF6692\",\"#B6E880\",\"#FF97FF\",\"#FECB52\"],\"font\":{\"color\":\"#2a3f5f\"},\"hovermode\":\"closest\",\"hoverlabel\":{\"align\":\"left\"},\"paper_bgcolor\":\"white\",\"plot_bgcolor\":\"#E5ECF6\",\"polar\":{\"bgcolor\":\"#E5ECF6\",\"angularaxis\":{\"gridcolor\":\"white\",\"linecolor\":\"white\",\"ticks\":\"\"},\"radialaxis\":{\"gridcolor\":\"white\",\"linecolor\":\"white\",\"ticks\":\"\"}},\"ternary\":{\"bgcolor\":\"#E5ECF6\",\"aaxis\":{\"gridcolor\":\"white\",\"linecolor\":\"white\",\"ticks\":\"\"},\"baxis\":{\"gridcolor\":\"white\",\"linecolor\":\"white\",\"ticks\":\"\"},\"caxis\":{\"gridcolor\":\"white\",\"linecolor\":\"white\",\"ticks\":\"\"}},\"coloraxis\":{\"colorbar\":{\"outlinewidth\":0,\"ticks\":\"\"}},\"colorscale\":{\"sequential\":[[0.0,\"#0d0887\"],[0.1111111111111111,\"#46039f\"],[0.2222222222222222,\"#7201a8\"],[0.3333333333333333,\"#9c179e\"],[0.4444444444444444,\"#bd3786\"],[0.5555555555555556,\"#d8576b\"],[0.6666666666666666,\"#ed7953\"],[0.7777777777777778,\"#fb9f3a\"],[0.8888888888888888,\"#fdca26\"],[1.0,\"#f0f921\"]],\"sequentialminus\":[[0.0,\"#0d0887\"],[0.1111111111111111,\"#46039f\"],[0.2222222222222222,\"#7201a8\"],[0.3333333333333333,\"#9c179e\"],[0.4444444444444444,\"#bd3786\"],[0.5555555555555556,\"#d8576b\"],[0.6666666666666666,\"#ed7953\"],[0.7777777777777778,\"#fb9f3a\"],[0.8888888888888888,\"#fdca26\"],[1.0,\"#f0f921\"]],\"diverging\":[[0,\"#8e0152\"],[0.1,\"#c51b7d\"],[0.2,\"#de77ae\"],[0.3,\"#f1b6da\"],[0.4,\"#fde0ef\"],[0.5,\"#f7f7f7\"],[0.6,\"#e6f5d0\"],[0.7,\"#b8e186\"],[0.8,\"#7fbc41\"],[0.9,\"#4d9221\"],[1,\"#276419\"]]},\"xaxis\":{\"gridcolor\":\"white\",\"linecolor\":\"white\",\"ticks\":\"\",\"title\":{\"standoff\":15},\"zerolinecolor\":\"white\",\"automargin\":true,\"zerolinewidth\":2},\"yaxis\":{\"gridcolor\":\"white\",\"linecolor\":\"white\",\"ticks\":\"\",\"title\":{\"standoff\":15},\"zerolinecolor\":\"white\",\"automargin\":true,\"zerolinewidth\":2},\"scene\":{\"xaxis\":{\"backgroundcolor\":\"#E5ECF6\",\"gridcolor\":\"white\",\"linecolor\":\"white\",\"showbackground\":true,\"ticks\":\"\",\"zerolinecolor\":\"white\",\"gridwidth\":2},\"yaxis\":{\"backgroundcolor\":\"#E5ECF6\",\"gridcolor\":\"white\",\"linecolor\":\"white\",\"showbackground\":true,\"ticks\":\"\",\"zerolinecolor\":\"white\",\"gridwidth\":2},\"zaxis\":{\"backgroundcolor\":\"#E5ECF6\",\"gridcolor\":\"white\",\"linecolor\":\"white\",\"showbackground\":true,\"ticks\":\"\",\"zerolinecolor\":\"white\",\"gridwidth\":2}},\"shapedefaults\":{\"line\":{\"color\":\"#2a3f5f\"}},\"annotationdefaults\":{\"arrowcolor\":\"#2a3f5f\",\"arrowhead\":0,\"arrowwidth\":1},\"geo\":{\"bgcolor\":\"white\",\"landcolor\":\"#E5ECF6\",\"subunitcolor\":\"white\",\"showland\":true,\"showlakes\":true,\"lakecolor\":\"white\"},\"title\":{\"x\":0.05},\"mapbox\":{\"style\":\"light\"}}},\"xaxis\":{\"anchor\":\"y\",\"domain\":[0.0,1.0],\"title\":{\"text\":\"\\u63d0\\u51fa\\u65e5\\u6642\"}},\"yaxis\":{\"anchor\":\"x\",\"domain\":[0.0,1.0],\"title\":{\"text\":\"\\u30b9\\u30b3\\u30a2\"}},\"legend\":{\"title\":{\"text\":\"\\u30c1\\u30fc\\u30e0\\u540d\"},\"tracegroupgap\":0},\"margin\":{\"t\":60}},                        {\"responsive\": true}                    ).then(function(){\n",
              "                            \n",
              "var gd = document.getElementById('5b43a8c4-3cdc-4900-aa9c-f9af2e4c60e7');\n",
              "var x = new MutationObserver(function (mutations, observer) {{\n",
              "        var display = window.getComputedStyle(gd).display;\n",
              "        if (!display || display === 'none') {{\n",
              "            console.log([gd, 'removed!']);\n",
              "            Plotly.purge(gd);\n",
              "            observer.disconnect();\n",
              "        }}\n",
              "}});\n",
              "\n",
              "// Listen for the removal of the full notebook cells\n",
              "var notebookContainer = gd.closest('#notebook-container');\n",
              "if (notebookContainer) {{\n",
              "    x.observe(notebookContainer, {childList: true});\n",
              "}}\n",
              "\n",
              "// Listen for the clearing of the current output cell\n",
              "var outputEl = gd.closest('.output');\n",
              "if (outputEl) {{\n",
              "    x.observe(outputEl, {childList: true});\n",
              "}}\n",
              "\n",
              "                        })                };                            </script>        </div>\n",
              "</body>\n",
              "</html>"
            ]
          },
          "metadata": {}
        }
      ]
    },
    {
      "cell_type": "code",
      "source": [
        "df_lang = df.replace(\"C++ (GCC 9.2.1)\", \"C++\"\n",
        "            ).replace(\"C++ (Clang 10.0.0)\", \"C++\"\n",
        "            ).replace(\"C++14\", \"C++\"\n",
        "            ).replace(\"C# (.NET Core 3.1.201)\", \"C#\"\n",
        "            ).replace(\"PyPy3 (7.3.0)\", \"Python\"\n",
        "            ).replace(\"Python (3.8.2)\", \"Python\"\n",
        "            ).replace(\"Rust (1.42.0)\", \"Rust\"\n",
        "            ).replace(\"Crystal (0.33.0)\", \"Crystal\"\n",
        "            ).replace(\"D (DMD 2.091.0)\", \"D\"\n",
        "            ).replace(\"D (LDC 1.20.1)\", \"D\"\n",
        "            ).replace(\"Common Lisp (SBCL 2.0.3)\", \"Common Lisp\"\n",
        "            ).replace(\"Java (OpenJDK 11.0.6)\", \"Java\"\n",
        "            )\n",
        "df_lang = df_lang.loc[df_lang.groupby(\"名前\")[\"スコア\"].idxmax()]\n",
        "\n",
        "fig_lang = px.box(df_lang, x=\"言語\", y=\"スコア\", points='all')\n",
        "fig_lang.show()"
      ],
      "metadata": {
        "colab": {
          "base_uri": "https://localhost:8080/",
          "height": 542
        },
        "id": "vruofln8JyYq",
        "outputId": "4c062c55-824e-483e-ff93-c835acaf32b1"
      },
      "execution_count": 8,
      "outputs": [
        {
          "output_type": "display_data",
          "data": {
            "text/html": [
              "<html>\n",
              "<head><meta charset=\"utf-8\" /></head>\n",
              "<body>\n",
              "    <div>            <script src=\"https://cdnjs.cloudflare.com/ajax/libs/mathjax/2.7.5/MathJax.js?config=TeX-AMS-MML_SVG\"></script><script type=\"text/javascript\">if (window.MathJax && window.MathJax.Hub && window.MathJax.Hub.Config) {window.MathJax.Hub.Config({SVG: {font: \"STIX-Web\"}});}</script>                <script type=\"text/javascript\">window.PlotlyConfig = {MathJaxConfig: 'local'};</script>\n",
              "        <script src=\"https://cdn.plot.ly/plotly-2.18.2.min.js\"></script>                <div id=\"f29fee46-7e56-479f-9984-02a464c54022\" class=\"plotly-graph-div\" style=\"height:525px; width:100%;\"></div>            <script type=\"text/javascript\">                                    window.PLOTLYENV=window.PLOTLYENV || {};                                    if (document.getElementById(\"f29fee46-7e56-479f-9984-02a464c54022\")) {                    Plotly.newPlot(                        \"f29fee46-7e56-479f-9984-02a464c54022\",                        [{\"alignmentgroup\":\"True\",\"boxpoints\":\"all\",\"hovertemplate\":\"\\u8a00\\u8a9e=%{x}<br>\\u30b9\\u30b3\\u30a2=%{y}<extra></extra>\",\"legendgroup\":\"\",\"marker\":{\"color\":\"#636efa\"},\"name\":\"\",\"notched\":false,\"offsetgroup\":\"\",\"orientation\":\"v\",\"showlegend\":false,\"x\":[\"Python\",\"C++\",\"Rust\",\"C++\",\"Python\",\"Python\",\"Python\",\"C++\",\"Crystal\",\"C++\",\"C++\",\"C++\",\"Python\",\"Python\",\"Python\",\"Python\",\"Python\",\"D\",\"Python\",\"C++\",\"Common Lisp\",\"Python\",\"C++\",\"Rust\",\"Rust\",\"Python\",\"C++\",\"Python\",\"Java\",\"Rust\"],\"x0\":\" \",\"xaxis\":\"x\",\"y\":[615680,35950,593008,594863,591760,597179,50004,652081,565300,552753,546358,647497,620430,469292,563004,35950,553780,35950,504279,35950,551907,336739,549267,284121,611568,500627,476647,311335,577842,621224],\"y0\":\" \",\"yaxis\":\"y\",\"type\":\"box\"}],                        {\"template\":{\"data\":{\"histogram2dcontour\":[{\"type\":\"histogram2dcontour\",\"colorbar\":{\"outlinewidth\":0,\"ticks\":\"\"},\"colorscale\":[[0.0,\"#0d0887\"],[0.1111111111111111,\"#46039f\"],[0.2222222222222222,\"#7201a8\"],[0.3333333333333333,\"#9c179e\"],[0.4444444444444444,\"#bd3786\"],[0.5555555555555556,\"#d8576b\"],[0.6666666666666666,\"#ed7953\"],[0.7777777777777778,\"#fb9f3a\"],[0.8888888888888888,\"#fdca26\"],[1.0,\"#f0f921\"]]}],\"choropleth\":[{\"type\":\"choropleth\",\"colorbar\":{\"outlinewidth\":0,\"ticks\":\"\"}}],\"histogram2d\":[{\"type\":\"histogram2d\",\"colorbar\":{\"outlinewidth\":0,\"ticks\":\"\"},\"colorscale\":[[0.0,\"#0d0887\"],[0.1111111111111111,\"#46039f\"],[0.2222222222222222,\"#7201a8\"],[0.3333333333333333,\"#9c179e\"],[0.4444444444444444,\"#bd3786\"],[0.5555555555555556,\"#d8576b\"],[0.6666666666666666,\"#ed7953\"],[0.7777777777777778,\"#fb9f3a\"],[0.8888888888888888,\"#fdca26\"],[1.0,\"#f0f921\"]]}],\"heatmap\":[{\"type\":\"heatmap\",\"colorbar\":{\"outlinewidth\":0,\"ticks\":\"\"},\"colorscale\":[[0.0,\"#0d0887\"],[0.1111111111111111,\"#46039f\"],[0.2222222222222222,\"#7201a8\"],[0.3333333333333333,\"#9c179e\"],[0.4444444444444444,\"#bd3786\"],[0.5555555555555556,\"#d8576b\"],[0.6666666666666666,\"#ed7953\"],[0.7777777777777778,\"#fb9f3a\"],[0.8888888888888888,\"#fdca26\"],[1.0,\"#f0f921\"]]}],\"heatmapgl\":[{\"type\":\"heatmapgl\",\"colorbar\":{\"outlinewidth\":0,\"ticks\":\"\"},\"colorscale\":[[0.0,\"#0d0887\"],[0.1111111111111111,\"#46039f\"],[0.2222222222222222,\"#7201a8\"],[0.3333333333333333,\"#9c179e\"],[0.4444444444444444,\"#bd3786\"],[0.5555555555555556,\"#d8576b\"],[0.6666666666666666,\"#ed7953\"],[0.7777777777777778,\"#fb9f3a\"],[0.8888888888888888,\"#fdca26\"],[1.0,\"#f0f921\"]]}],\"contourcarpet\":[{\"type\":\"contourcarpet\",\"colorbar\":{\"outlinewidth\":0,\"ticks\":\"\"}}],\"contour\":[{\"type\":\"contour\",\"colorbar\":{\"outlinewidth\":0,\"ticks\":\"\"},\"colorscale\":[[0.0,\"#0d0887\"],[0.1111111111111111,\"#46039f\"],[0.2222222222222222,\"#7201a8\"],[0.3333333333333333,\"#9c179e\"],[0.4444444444444444,\"#bd3786\"],[0.5555555555555556,\"#d8576b\"],[0.6666666666666666,\"#ed7953\"],[0.7777777777777778,\"#fb9f3a\"],[0.8888888888888888,\"#fdca26\"],[1.0,\"#f0f921\"]]}],\"surface\":[{\"type\":\"surface\",\"colorbar\":{\"outlinewidth\":0,\"ticks\":\"\"},\"colorscale\":[[0.0,\"#0d0887\"],[0.1111111111111111,\"#46039f\"],[0.2222222222222222,\"#7201a8\"],[0.3333333333333333,\"#9c179e\"],[0.4444444444444444,\"#bd3786\"],[0.5555555555555556,\"#d8576b\"],[0.6666666666666666,\"#ed7953\"],[0.7777777777777778,\"#fb9f3a\"],[0.8888888888888888,\"#fdca26\"],[1.0,\"#f0f921\"]]}],\"mesh3d\":[{\"type\":\"mesh3d\",\"colorbar\":{\"outlinewidth\":0,\"ticks\":\"\"}}],\"scatter\":[{\"fillpattern\":{\"fillmode\":\"overlay\",\"size\":10,\"solidity\":0.2},\"type\":\"scatter\"}],\"parcoords\":[{\"type\":\"parcoords\",\"line\":{\"colorbar\":{\"outlinewidth\":0,\"ticks\":\"\"}}}],\"scatterpolargl\":[{\"type\":\"scatterpolargl\",\"marker\":{\"colorbar\":{\"outlinewidth\":0,\"ticks\":\"\"}}}],\"bar\":[{\"error_x\":{\"color\":\"#2a3f5f\"},\"error_y\":{\"color\":\"#2a3f5f\"},\"marker\":{\"line\":{\"color\":\"#E5ECF6\",\"width\":0.5},\"pattern\":{\"fillmode\":\"overlay\",\"size\":10,\"solidity\":0.2}},\"type\":\"bar\"}],\"scattergeo\":[{\"type\":\"scattergeo\",\"marker\":{\"colorbar\":{\"outlinewidth\":0,\"ticks\":\"\"}}}],\"scatterpolar\":[{\"type\":\"scatterpolar\",\"marker\":{\"colorbar\":{\"outlinewidth\":0,\"ticks\":\"\"}}}],\"histogram\":[{\"marker\":{\"pattern\":{\"fillmode\":\"overlay\",\"size\":10,\"solidity\":0.2}},\"type\":\"histogram\"}],\"scattergl\":[{\"type\":\"scattergl\",\"marker\":{\"colorbar\":{\"outlinewidth\":0,\"ticks\":\"\"}}}],\"scatter3d\":[{\"type\":\"scatter3d\",\"line\":{\"colorbar\":{\"outlinewidth\":0,\"ticks\":\"\"}},\"marker\":{\"colorbar\":{\"outlinewidth\":0,\"ticks\":\"\"}}}],\"scattermapbox\":[{\"type\":\"scattermapbox\",\"marker\":{\"colorbar\":{\"outlinewidth\":0,\"ticks\":\"\"}}}],\"scatterternary\":[{\"type\":\"scatterternary\",\"marker\":{\"colorbar\":{\"outlinewidth\":0,\"ticks\":\"\"}}}],\"scattercarpet\":[{\"type\":\"scattercarpet\",\"marker\":{\"colorbar\":{\"outlinewidth\":0,\"ticks\":\"\"}}}],\"carpet\":[{\"aaxis\":{\"endlinecolor\":\"#2a3f5f\",\"gridcolor\":\"white\",\"linecolor\":\"white\",\"minorgridcolor\":\"white\",\"startlinecolor\":\"#2a3f5f\"},\"baxis\":{\"endlinecolor\":\"#2a3f5f\",\"gridcolor\":\"white\",\"linecolor\":\"white\",\"minorgridcolor\":\"white\",\"startlinecolor\":\"#2a3f5f\"},\"type\":\"carpet\"}],\"table\":[{\"cells\":{\"fill\":{\"color\":\"#EBF0F8\"},\"line\":{\"color\":\"white\"}},\"header\":{\"fill\":{\"color\":\"#C8D4E3\"},\"line\":{\"color\":\"white\"}},\"type\":\"table\"}],\"barpolar\":[{\"marker\":{\"line\":{\"color\":\"#E5ECF6\",\"width\":0.5},\"pattern\":{\"fillmode\":\"overlay\",\"size\":10,\"solidity\":0.2}},\"type\":\"barpolar\"}],\"pie\":[{\"automargin\":true,\"type\":\"pie\"}]},\"layout\":{\"autotypenumbers\":\"strict\",\"colorway\":[\"#636efa\",\"#EF553B\",\"#00cc96\",\"#ab63fa\",\"#FFA15A\",\"#19d3f3\",\"#FF6692\",\"#B6E880\",\"#FF97FF\",\"#FECB52\"],\"font\":{\"color\":\"#2a3f5f\"},\"hovermode\":\"closest\",\"hoverlabel\":{\"align\":\"left\"},\"paper_bgcolor\":\"white\",\"plot_bgcolor\":\"#E5ECF6\",\"polar\":{\"bgcolor\":\"#E5ECF6\",\"angularaxis\":{\"gridcolor\":\"white\",\"linecolor\":\"white\",\"ticks\":\"\"},\"radialaxis\":{\"gridcolor\":\"white\",\"linecolor\":\"white\",\"ticks\":\"\"}},\"ternary\":{\"bgcolor\":\"#E5ECF6\",\"aaxis\":{\"gridcolor\":\"white\",\"linecolor\":\"white\",\"ticks\":\"\"},\"baxis\":{\"gridcolor\":\"white\",\"linecolor\":\"white\",\"ticks\":\"\"},\"caxis\":{\"gridcolor\":\"white\",\"linecolor\":\"white\",\"ticks\":\"\"}},\"coloraxis\":{\"colorbar\":{\"outlinewidth\":0,\"ticks\":\"\"}},\"colorscale\":{\"sequential\":[[0.0,\"#0d0887\"],[0.1111111111111111,\"#46039f\"],[0.2222222222222222,\"#7201a8\"],[0.3333333333333333,\"#9c179e\"],[0.4444444444444444,\"#bd3786\"],[0.5555555555555556,\"#d8576b\"],[0.6666666666666666,\"#ed7953\"],[0.7777777777777778,\"#fb9f3a\"],[0.8888888888888888,\"#fdca26\"],[1.0,\"#f0f921\"]],\"sequentialminus\":[[0.0,\"#0d0887\"],[0.1111111111111111,\"#46039f\"],[0.2222222222222222,\"#7201a8\"],[0.3333333333333333,\"#9c179e\"],[0.4444444444444444,\"#bd3786\"],[0.5555555555555556,\"#d8576b\"],[0.6666666666666666,\"#ed7953\"],[0.7777777777777778,\"#fb9f3a\"],[0.8888888888888888,\"#fdca26\"],[1.0,\"#f0f921\"]],\"diverging\":[[0,\"#8e0152\"],[0.1,\"#c51b7d\"],[0.2,\"#de77ae\"],[0.3,\"#f1b6da\"],[0.4,\"#fde0ef\"],[0.5,\"#f7f7f7\"],[0.6,\"#e6f5d0\"],[0.7,\"#b8e186\"],[0.8,\"#7fbc41\"],[0.9,\"#4d9221\"],[1,\"#276419\"]]},\"xaxis\":{\"gridcolor\":\"white\",\"linecolor\":\"white\",\"ticks\":\"\",\"title\":{\"standoff\":15},\"zerolinecolor\":\"white\",\"automargin\":true,\"zerolinewidth\":2},\"yaxis\":{\"gridcolor\":\"white\",\"linecolor\":\"white\",\"ticks\":\"\",\"title\":{\"standoff\":15},\"zerolinecolor\":\"white\",\"automargin\":true,\"zerolinewidth\":2},\"scene\":{\"xaxis\":{\"backgroundcolor\":\"#E5ECF6\",\"gridcolor\":\"white\",\"linecolor\":\"white\",\"showbackground\":true,\"ticks\":\"\",\"zerolinecolor\":\"white\",\"gridwidth\":2},\"yaxis\":{\"backgroundcolor\":\"#E5ECF6\",\"gridcolor\":\"white\",\"linecolor\":\"white\",\"showbackground\":true,\"ticks\":\"\",\"zerolinecolor\":\"white\",\"gridwidth\":2},\"zaxis\":{\"backgroundcolor\":\"#E5ECF6\",\"gridcolor\":\"white\",\"linecolor\":\"white\",\"showbackground\":true,\"ticks\":\"\",\"zerolinecolor\":\"white\",\"gridwidth\":2}},\"shapedefaults\":{\"line\":{\"color\":\"#2a3f5f\"}},\"annotationdefaults\":{\"arrowcolor\":\"#2a3f5f\",\"arrowhead\":0,\"arrowwidth\":1},\"geo\":{\"bgcolor\":\"white\",\"landcolor\":\"#E5ECF6\",\"subunitcolor\":\"white\",\"showland\":true,\"showlakes\":true,\"lakecolor\":\"white\"},\"title\":{\"x\":0.05},\"mapbox\":{\"style\":\"light\"}}},\"xaxis\":{\"anchor\":\"y\",\"domain\":[0.0,1.0],\"title\":{\"text\":\"\\u8a00\\u8a9e\"}},\"yaxis\":{\"anchor\":\"x\",\"domain\":[0.0,1.0],\"title\":{\"text\":\"\\u30b9\\u30b3\\u30a2\"}},\"legend\":{\"tracegroupgap\":0},\"margin\":{\"t\":60},\"boxmode\":\"group\"},                        {\"responsive\": true}                    ).then(function(){\n",
              "                            \n",
              "var gd = document.getElementById('f29fee46-7e56-479f-9984-02a464c54022');\n",
              "var x = new MutationObserver(function (mutations, observer) {{\n",
              "        var display = window.getComputedStyle(gd).display;\n",
              "        if (!display || display === 'none') {{\n",
              "            console.log([gd, 'removed!']);\n",
              "            Plotly.purge(gd);\n",
              "            observer.disconnect();\n",
              "        }}\n",
              "}});\n",
              "\n",
              "// Listen for the removal of the full notebook cells\n",
              "var notebookContainer = gd.closest('#notebook-container');\n",
              "if (notebookContainer) {{\n",
              "    x.observe(notebookContainer, {childList: true});\n",
              "}}\n",
              "\n",
              "// Listen for the clearing of the current output cell\n",
              "var outputEl = gd.closest('.output');\n",
              "if (outputEl) {{\n",
              "    x.observe(outputEl, {childList: true});\n",
              "}}\n",
              "\n",
              "                        })                };                            </script>        </div>\n",
              "</body>\n",
              "</html>"
            ]
          },
          "metadata": {}
        }
      ]
    },
    {
      "cell_type": "code",
      "source": [
        "\"\"\"\n",
        "df_rate = df.loc[df.groupby(\"名前\")[\"スコア\"].idxmax()]\n",
        "\n",
        "layout = go.Layout(\n",
        "    xaxis = dict(title=\"レート\", range = [0,3001], dtick=500),   # rangeで範囲、dtick で区間幅\n",
        "    yaxis = dict(title=\"スコア（対数）\"))\n",
        "\n",
        "fig_rate = go.Figure(layout = layout)\n",
        "fig_rate.add_trace(go.Scatter(x = df_rate[\"アルゴレート\"],\n",
        "                              y = df_rate[\"スコア\"],\n",
        "                              mode = \"markers\",\n",
        "                              name = \"アルゴ\"))\n",
        "fig_rate.add_trace(go.Scatter(x = df_rate[\"ヒューリスティックレート\"],\n",
        "                              y = df_rate[\"スコア\"],\n",
        "                              mode = \"markers\",\n",
        "                              name = \"ヒューリスティック\"))\n",
        "fig_rate.update_yaxes(type=\"log\")\n",
        "fig_rate.show()\n",
        "\"\"\""
      ],
      "metadata": {
        "colab": {
          "base_uri": "https://localhost:8080/",
          "height": 154
        },
        "id": "RilTd-rqPwP_",
        "outputId": "e9e4b896-ab5b-4820-b9c6-3b9a737befaa"
      },
      "execution_count": 9,
      "outputs": [
        {
          "output_type": "execute_result",
          "data": {
            "text/plain": [
              "'\\ndf_rate = df.loc[df.groupby(\"名前\")[\"スコア\"].idxmax()]\\n\\nlayout = go.Layout(\\n    xaxis = dict(title=\"レート\", range = [0,3001], dtick=500),   # rangeで範囲、dtick で区間幅\\n    yaxis = dict(title=\"スコア（対数）\"))\\n\\nfig_rate = go.Figure(layout = layout)\\nfig_rate.add_trace(go.Scatter(x = df_rate[\"アルゴレート\"],\\n                              y = df_rate[\"スコア\"],\\n                              mode = \"markers\",\\n                              name = \"アルゴ\"))\\nfig_rate.add_trace(go.Scatter(x = df_rate[\"ヒューリスティックレート\"],\\n                              y = df_rate[\"スコア\"],\\n                              mode = \"markers\",\\n                              name = \"ヒューリスティック\"))\\nfig_rate.update_yaxes(type=\"log\")\\nfig_rate.show()\\n'"
            ],
            "application/vnd.google.colaboratory.intrinsic+json": {
              "type": "string"
            }
          },
          "metadata": {},
          "execution_count": 9
        }
      ]
    },
    {
      "cell_type": "markdown",
      "source": [
        "## HTMLで書き出し"
      ],
      "metadata": {
        "id": "H00Xt_2d-kz1"
      }
    },
    {
      "cell_type": "code",
      "source": [
        "fig_individual.write_html(\"line_individual.html\")\n",
        "fig_team.write_html(\"line_team.html\")\n",
        "fig_lang.write_html(\"box_lang.html\")\n",
        "#fig_rate.write_html(\"scatter_rate.html\")"
      ],
      "metadata": {
        "id": "A1N18qR7NI4L"
      },
      "execution_count": 10,
      "outputs": []
    },
    {
      "cell_type": "code",
      "source": [
        "df_individual.to_html(border = 0,\n",
        "                      classes = [\"table\", \"table-striped\", \"table-hover\"],\n",
        "                      index = False,\n",
        "                      justify = \"left\")"
      ],
      "metadata": {
        "colab": {
          "base_uri": "https://localhost:8080/",
          "height": 205
        },
        "id": "K7S5xxFWNjB2",
        "outputId": "338767de-456d-4e10-8b6a-7479e29a9a7e"
      },
      "execution_count": 11,
      "outputs": [
        {
          "output_type": "execute_result",
          "data": {
            "text/plain": [
              "'<table class=\"dataframe table table-striped table-hover\">\\n  <thead>\\n    <tr style=\"text-align: left;\">\\n      <th>順位</th>\\n      <th>名前</th>\\n      <th>チーム名</th>\\n      <th>スコア</th>\\n    </tr>\\n  </thead>\\n  <tbody>\\n    <tr>\\n      <td>1</td>\\n      <td>cplusplusonly</td>\\n      <td>&gt;euphonic</td>\\n      <td>652081</td>\\n    </tr>\\n    <tr>\\n      <td>2</td>\\n      <td>highjump</td>\\n      <td>山走暁飛</td>\\n      <td>647497</td>\\n    </tr>\\n    <tr>\\n      <td>3</td>\\n      <td>zatt</td>\\n      <td>霧ヶ峰めっちゃ良い買い物しました！！！！</td>\\n      <td>621224</td>\\n    </tr>\\n    <tr>\\n      <td>4</td>\\n      <td>hiraku</td>\\n      <td>&gt;euphonic</td>\\n      <td>620430</td>\\n    </tr>\\n    <tr>\\n      <td>5</td>\\n      <td>8wings</td>\\n      <td>山走暁飛</td>\\n      <td>615680</td>\\n    </tr>\\n    <tr>\\n      <td>6</td>\\n      <td>r3yohei</td>\\n      <td>benchmark</td>\\n      <td>611568</td>\\n    </tr>\\n    <tr>\\n      <td>7</td>\\n      <td>brthyyjp</td>\\n      <td>benchmark</td>\\n      <td>597179</td>\\n    </tr>\\n    <tr>\\n      <td>8</td>\\n      <td>akane831</td>\\n      <td>輝かしい未来を目指す不屈の戦い人</td>\\n      <td>594863</td>\\n    </tr>\\n    <tr>\\n      <td>9</td>\\n      <td>ainem</td>\\n      <td>運営</td>\\n      <td>593008</td>\\n    </tr>\\n    <tr>\\n      <td>10</td>\\n      <td>bio4eta</td>\\n      <td>霧ヶ峰めっちゃ良い買い物しました！！！！</td>\\n      <td>591760</td>\\n    </tr>\\n    <tr>\\n      <td>11</td>\\n      <td>yuuki_n</td>\\n      <td>逆襲のバベルクライマーズ</td>\\n      <td>577842</td>\\n    </tr>\\n    <tr>\\n      <td>12</td>\\n      <td>fujikawahiroaki</td>\\n      <td>逆襲のバベルクライマーズ</td>\\n      <td>565300</td>\\n    </tr>\\n    <tr>\\n      <td>13</td>\\n      <td>jamuojisan</td>\\n      <td>AHCやってみ隊</td>\\n      <td>563004</td>\\n    </tr>\\n    <tr>\\n      <td>14</td>\\n      <td>keroru</td>\\n      <td>輝かしい未来を目指す不屈の戦い人</td>\\n      <td>553780</td>\\n    </tr>\\n    <tr>\\n      <td>15</td>\\n      <td>gunmaneko</td>\\n      <td>AHCやってみ隊</td>\\n      <td>552753</td>\\n    </tr>\\n    <tr>\\n      <td>16</td>\\n      <td>motoshira</td>\\n      <td>逆襲のバベルクライマーズ</td>\\n      <td>551907</td>\\n    </tr>\\n    <tr>\\n      <td>17</td>\\n      <td>nok0</td>\\n      <td>山走暁飛</td>\\n      <td>549267</td>\\n    </tr>\\n    <tr>\\n      <td>18</td>\\n      <td>hal0taso</td>\\n      <td>霧ヶ峰めっちゃ良い買い物しました！！！！</td>\\n      <td>546358</td>\\n    </tr>\\n    <tr>\\n      <td>19</td>\\n      <td>michirakara</td>\\n      <td>霧ヶ峰めっちゃ良い買い物しました！！！！</td>\\n      <td>504279</td>\\n    </tr>\\n    <tr>\\n      <td>20</td>\\n      <td>tnodino</td>\\n      <td>霧ヶ峰めっちゃ良い買い物しました！！！！</td>\\n      <td>500627</td>\\n    </tr>\\n    <tr>\\n      <td>21</td>\\n      <td>uni_kakurenbo</td>\\n      <td>&gt;euphonic</td>\\n      <td>476647</td>\\n    </tr>\\n    <tr>\\n      <td>22</td>\\n      <td>jaku</td>\\n      <td>輝かしい未来を目指す不屈の戦い人</td>\\n      <td>469292</td>\\n    </tr>\\n    <tr>\\n      <td>23</td>\\n      <td>nephrologist</td>\\n      <td>benchmark</td>\\n      <td>336739</td>\\n    </tr>\\n    <tr>\\n      <td>24</td>\\n      <td>utprg</td>\\n      <td>benchmark</td>\\n      <td>311335</td>\\n    </tr>\\n    <tr>\\n      <td>25</td>\\n      <td>otsuneko</td>\\n      <td>&gt;euphonic</td>\\n      <td>284121</td>\\n    </tr>\\n    <tr>\\n      <td>26</td>\\n      <td>burioden</td>\\n      <td>AHCやってみ隊</td>\\n      <td>50004</td>\\n    </tr>\\n    <tr>\\n      <td>27</td>\\n      <td>kokatsu</td>\\n      <td>逆襲のバベルクライマーズ</td>\\n      <td>35950</td>\\n    </tr>\\n    <tr>\\n      <td>28</td>\\n      <td>milkcoffee</td>\\n      <td>山走暁飛</td>\\n      <td>35950</td>\\n    </tr>\\n    <tr>\\n      <td>29</td>\\n      <td>Gex777</td>\\n      <td>&gt;euphonic</td>\\n      <td>35950</td>\\n    </tr>\\n    <tr>\\n      <td>30</td>\\n      <td>keizin</td>\\n      <td>輝かしい未来を目指す不屈の戦い人</td>\\n      <td>35950</td>\\n    </tr>\\n  </tbody>\\n</table>'"
            ],
            "application/vnd.google.colaboratory.intrinsic+json": {
              "type": "string"
            }
          },
          "metadata": {},
          "execution_count": 11
        }
      ]
    },
    {
      "cell_type": "code",
      "source": [
        "df_team.to_html(border = 0,\n",
        "                classes = [\"table\", \"table-striped\", \"table-hover\"],\n",
        "                index = False,\n",
        "                justify = \"left\")"
      ],
      "metadata": {
        "colab": {
          "base_uri": "https://localhost:8080/",
          "height": 205
        },
        "id": "rPPEgEgTQANd",
        "outputId": "4c44a6cd-ec52-4a4d-bd7f-4dba14270a04"
      },
      "execution_count": 12,
      "outputs": [
        {
          "output_type": "execute_result",
          "data": {
            "text/plain": [
              "'<table class=\"dataframe table table-striped table-hover\">\\n  <thead>\\n    <tr style=\"text-align: left;\">\\n      <th>順位</th>\\n      <th>チーム名</th>\\n      <th>名前</th>\\n      <th>スコア</th>\\n    </tr>\\n  </thead>\\n  <tbody>\\n    <tr>\\n      <td>1</td>\\n      <td>&gt;euphonic</td>\\n      <td>cplusplusonly</td>\\n      <td>652081</td>\\n    </tr>\\n    <tr>\\n      <td>2</td>\\n      <td>山走暁飛</td>\\n      <td>highjump</td>\\n      <td>647497</td>\\n    </tr>\\n    <tr>\\n      <td>3</td>\\n      <td>霧ヶ峰めっちゃ良い買い物しました！！！！</td>\\n      <td>zatt</td>\\n      <td>621224</td>\\n    </tr>\\n    <tr>\\n      <td>4</td>\\n      <td>benchmark</td>\\n      <td>r3yohei</td>\\n      <td>611568</td>\\n    </tr>\\n    <tr>\\n      <td>5</td>\\n      <td>輝かしい未来を目指す不屈の戦い人</td>\\n      <td>akane831</td>\\n      <td>594863</td>\\n    </tr>\\n    <tr>\\n      <td>6</td>\\n      <td>運営</td>\\n      <td>ainem</td>\\n      <td>593008</td>\\n    </tr>\\n    <tr>\\n      <td>7</td>\\n      <td>逆襲のバベルクライマーズ</td>\\n      <td>yuuki_n</td>\\n      <td>577842</td>\\n    </tr>\\n    <tr>\\n      <td>8</td>\\n      <td>AHCやってみ隊</td>\\n      <td>jamuojisan</td>\\n      <td>563004</td>\\n    </tr>\\n  </tbody>\\n</table>'"
            ],
            "application/vnd.google.colaboratory.intrinsic+json": {
              "type": "string"
            }
          },
          "metadata": {},
          "execution_count": 12
        }
      ]
    }
  ]
}