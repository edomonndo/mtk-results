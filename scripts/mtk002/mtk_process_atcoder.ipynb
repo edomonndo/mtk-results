{
  "nbformat": 4,
  "nbformat_minor": 0,
  "metadata": {
    "colab": {
      "provenance": []
    },
    "kernelspec": {
      "name": "python3",
      "display_name": "Python 3"
    },
    "language_info": {
      "name": "python"
    }
  },
  "cells": [
    {
      "cell_type": "code",
      "execution_count": 1,
      "metadata": {
        "id": "6kgO41IRNcEw"
      },
      "outputs": [],
      "source": [
        "import requests\n",
        "import json\n",
        "import time\n",
        "from bs4 import BeautifulSoup\n",
        "import pandas as pd\n",
        "import datetime\n",
        "\n",
        "import plotly.express as px\n",
        "import plotly.graph_objects as go"
      ]
    },
    {
      "cell_type": "markdown",
      "source": [
        "# コンテスト情報"
      ],
      "metadata": {
        "id": "ZVMvrAK5kA7U"
      }
    },
    {
      "cell_type": "code",
      "source": [
        "contest_id = \"ahc002\"\n",
        "problem_id = \"ahc002_a\"\n",
        "\n",
        "contest_start = datetime.datetime(2022,12,9,19,0,0)\n",
        "contest_end = datetime.datetime(2022,12,11,19,0,0)\n"
      ],
      "metadata": {
        "id": "6uQPN9knj_91"
      },
      "execution_count": 2,
      "outputs": []
    },
    {
      "cell_type": "markdown",
      "source": [
        "# データ作成\n",
        "コンテスト期間中の提出結果から、リストを作成"
      ],
      "metadata": {
        "id": "zsl6xeLCkjIS"
      }
    },
    {
      "cell_type": "code",
      "source": [
        "df = pd.read_csv(\"submissions.csv\", index_col = 0)\n",
        "df.columns = [\"名前\",\"チーム名\", \"言語\", \"スコア\", \"提出日時\", \"実行時間\"]\n",
        "df.head()"
      ],
      "metadata": {
        "colab": {
          "base_uri": "https://localhost:8080/",
          "height": 204
        },
        "id": "zXJ2DNSwYBgG",
        "outputId": "dfe39da4-29b0-49c1-d20e-14fbc0dda302"
      },
      "execution_count": 3,
      "outputs": [
        {
          "output_type": "execute_result",
          "data": {
            "text/plain": [
              "        名前       チーム名             言語      スコア                 提出日時     実行時間\n",
              "0   keroru  Moréchond  PyPy3 (7.3.0)  6104095  2022-12-11 18:58:28  1988 ms\n",
              "1   keroru  Moréchond  PyPy3 (7.3.0)  6100764  2022-12-11 18:51:28  1989 ms\n",
              "2   keroru  Moréchond  PyPy3 (7.3.0)  6092961  2022-12-11 18:45:38  1989 ms\n",
              "3   keroru  Moréchond  PyPy3 (7.3.0)  6109592  2022-12-11 18:15:09  1990 ms\n",
              "4  r3yohei    焼きにゃまし隊  Rust (1.42.0)  6032343  2022-12-11 18:08:34  1999 ms"
            ],
            "text/html": [
              "\n",
              "  <div id=\"df-192c01f0-56dc-4971-b009-20125bd80c54\">\n",
              "    <div class=\"colab-df-container\">\n",
              "      <div>\n",
              "<style scoped>\n",
              "    .dataframe tbody tr th:only-of-type {\n",
              "        vertical-align: middle;\n",
              "    }\n",
              "\n",
              "    .dataframe tbody tr th {\n",
              "        vertical-align: top;\n",
              "    }\n",
              "\n",
              "    .dataframe thead th {\n",
              "        text-align: right;\n",
              "    }\n",
              "</style>\n",
              "<table border=\"1\" class=\"dataframe\">\n",
              "  <thead>\n",
              "    <tr style=\"text-align: right;\">\n",
              "      <th></th>\n",
              "      <th>名前</th>\n",
              "      <th>チーム名</th>\n",
              "      <th>言語</th>\n",
              "      <th>スコア</th>\n",
              "      <th>提出日時</th>\n",
              "      <th>実行時間</th>\n",
              "    </tr>\n",
              "  </thead>\n",
              "  <tbody>\n",
              "    <tr>\n",
              "      <th>0</th>\n",
              "      <td>keroru</td>\n",
              "      <td>Moréchond</td>\n",
              "      <td>PyPy3 (7.3.0)</td>\n",
              "      <td>6104095</td>\n",
              "      <td>2022-12-11 18:58:28</td>\n",
              "      <td>1988 ms</td>\n",
              "    </tr>\n",
              "    <tr>\n",
              "      <th>1</th>\n",
              "      <td>keroru</td>\n",
              "      <td>Moréchond</td>\n",
              "      <td>PyPy3 (7.3.0)</td>\n",
              "      <td>6100764</td>\n",
              "      <td>2022-12-11 18:51:28</td>\n",
              "      <td>1989 ms</td>\n",
              "    </tr>\n",
              "    <tr>\n",
              "      <th>2</th>\n",
              "      <td>keroru</td>\n",
              "      <td>Moréchond</td>\n",
              "      <td>PyPy3 (7.3.0)</td>\n",
              "      <td>6092961</td>\n",
              "      <td>2022-12-11 18:45:38</td>\n",
              "      <td>1989 ms</td>\n",
              "    </tr>\n",
              "    <tr>\n",
              "      <th>3</th>\n",
              "      <td>keroru</td>\n",
              "      <td>Moréchond</td>\n",
              "      <td>PyPy3 (7.3.0)</td>\n",
              "      <td>6109592</td>\n",
              "      <td>2022-12-11 18:15:09</td>\n",
              "      <td>1990 ms</td>\n",
              "    </tr>\n",
              "    <tr>\n",
              "      <th>4</th>\n",
              "      <td>r3yohei</td>\n",
              "      <td>焼きにゃまし隊</td>\n",
              "      <td>Rust (1.42.0)</td>\n",
              "      <td>6032343</td>\n",
              "      <td>2022-12-11 18:08:34</td>\n",
              "      <td>1999 ms</td>\n",
              "    </tr>\n",
              "  </tbody>\n",
              "</table>\n",
              "</div>\n",
              "      <button class=\"colab-df-convert\" onclick=\"convertToInteractive('df-192c01f0-56dc-4971-b009-20125bd80c54')\"\n",
              "              title=\"Convert this dataframe to an interactive table.\"\n",
              "              style=\"display:none;\">\n",
              "        \n",
              "  <svg xmlns=\"http://www.w3.org/2000/svg\" height=\"24px\"viewBox=\"0 0 24 24\"\n",
              "       width=\"24px\">\n",
              "    <path d=\"M0 0h24v24H0V0z\" fill=\"none\"/>\n",
              "    <path d=\"M18.56 5.44l.94 2.06.94-2.06 2.06-.94-2.06-.94-.94-2.06-.94 2.06-2.06.94zm-11 1L8.5 8.5l.94-2.06 2.06-.94-2.06-.94L8.5 2.5l-.94 2.06-2.06.94zm10 10l.94 2.06.94-2.06 2.06-.94-2.06-.94-.94-2.06-.94 2.06-2.06.94z\"/><path d=\"M17.41 7.96l-1.37-1.37c-.4-.4-.92-.59-1.43-.59-.52 0-1.04.2-1.43.59L10.3 9.45l-7.72 7.72c-.78.78-.78 2.05 0 2.83L4 21.41c.39.39.9.59 1.41.59.51 0 1.02-.2 1.41-.59l7.78-7.78 2.81-2.81c.8-.78.8-2.07 0-2.86zM5.41 20L4 18.59l7.72-7.72 1.47 1.35L5.41 20z\"/>\n",
              "  </svg>\n",
              "      </button>\n",
              "      \n",
              "  <style>\n",
              "    .colab-df-container {\n",
              "      display:flex;\n",
              "      flex-wrap:wrap;\n",
              "      gap: 12px;\n",
              "    }\n",
              "\n",
              "    .colab-df-convert {\n",
              "      background-color: #E8F0FE;\n",
              "      border: none;\n",
              "      border-radius: 50%;\n",
              "      cursor: pointer;\n",
              "      display: none;\n",
              "      fill: #1967D2;\n",
              "      height: 32px;\n",
              "      padding: 0 0 0 0;\n",
              "      width: 32px;\n",
              "    }\n",
              "\n",
              "    .colab-df-convert:hover {\n",
              "      background-color: #E2EBFA;\n",
              "      box-shadow: 0px 1px 2px rgba(60, 64, 67, 0.3), 0px 1px 3px 1px rgba(60, 64, 67, 0.15);\n",
              "      fill: #174EA6;\n",
              "    }\n",
              "\n",
              "    [theme=dark] .colab-df-convert {\n",
              "      background-color: #3B4455;\n",
              "      fill: #D2E3FC;\n",
              "    }\n",
              "\n",
              "    [theme=dark] .colab-df-convert:hover {\n",
              "      background-color: #434B5C;\n",
              "      box-shadow: 0px 1px 3px 1px rgba(0, 0, 0, 0.15);\n",
              "      filter: drop-shadow(0px 1px 2px rgba(0, 0, 0, 0.3));\n",
              "      fill: #FFFFFF;\n",
              "    }\n",
              "  </style>\n",
              "\n",
              "      <script>\n",
              "        const buttonEl =\n",
              "          document.querySelector('#df-192c01f0-56dc-4971-b009-20125bd80c54 button.colab-df-convert');\n",
              "        buttonEl.style.display =\n",
              "          google.colab.kernel.accessAllowed ? 'block' : 'none';\n",
              "\n",
              "        async function convertToInteractive(key) {\n",
              "          const element = document.querySelector('#df-192c01f0-56dc-4971-b009-20125bd80c54');\n",
              "          const dataTable =\n",
              "            await google.colab.kernel.invokeFunction('convertToInteractive',\n",
              "                                                     [key], {});\n",
              "          if (!dataTable) return;\n",
              "\n",
              "          const docLinkHtml = 'Like what you see? Visit the ' +\n",
              "            '<a target=\"_blank\" href=https://colab.research.google.com/notebooks/data_table.ipynb>data table notebook</a>'\n",
              "            + ' to learn more about interactive tables.';\n",
              "          element.innerHTML = '';\n",
              "          dataTable['output_type'] = 'display_data';\n",
              "          await google.colab.output.renderOutput(dataTable, element);\n",
              "          const docLink = document.createElement('div');\n",
              "          docLink.innerHTML = docLinkHtml;\n",
              "          element.appendChild(docLink);\n",
              "        }\n",
              "      </script>\n",
              "    </div>\n",
              "  </div>\n",
              "  "
            ]
          },
          "metadata": {},
          "execution_count": 3
        }
      ]
    },
    {
      "cell_type": "markdown",
      "source": [
        "## 個人ランキング"
      ],
      "metadata": {
        "id": "dVxMTUStkw6a"
      }
    },
    {
      "cell_type": "code",
      "source": [
        "df_individual = df.loc[df.groupby(\"名前\")[\"スコア\"].idxmax()]\n",
        "df_individual = df_individual.drop(columns = [\"言語\", \"提出日時\", \"実行時間\"])\n",
        "df_individual.sort_values(\"スコア\", ascending=False, inplace=True)\n",
        "df_individual.reset_index(inplace=True, drop=True)\n",
        "df_individual[\"順位\"] = range(1,len(df_individual)+1)\n",
        "df_individual = df_individual.reindex(columns = [\"順位\", \"名前\", \"チーム名\", \"スコア\"]) \n",
        "df_individual.head()"
      ],
      "metadata": {
        "colab": {
          "base_uri": "https://localhost:8080/",
          "height": 204
        },
        "id": "fBO_hNgPZAE0",
        "outputId": "a45713bc-952d-49e0-ab11-8a8e8ee952cc"
      },
      "execution_count": 4,
      "outputs": [
        {
          "output_type": "execute_result",
          "data": {
            "text/plain": [
              "   順位             名前              チーム名      スコア\n",
              "0   1  uni_kakurenbo             a1nem  6304639\n",
              "1   2     tardigrade  俺はタスマニア！お前は何マニア？  6149264\n",
              "2   3         keroru         Moréchond  6110893\n",
              "3   4        r3yohei           焼きにゃまし隊  6045383\n",
              "4   5     takekinmkk  俺はタスマニア！お前は何マニア？  6036707"
            ],
            "text/html": [
              "\n",
              "  <div id=\"df-23212017-b616-40b1-9bc5-3e72a140099e\">\n",
              "    <div class=\"colab-df-container\">\n",
              "      <div>\n",
              "<style scoped>\n",
              "    .dataframe tbody tr th:only-of-type {\n",
              "        vertical-align: middle;\n",
              "    }\n",
              "\n",
              "    .dataframe tbody tr th {\n",
              "        vertical-align: top;\n",
              "    }\n",
              "\n",
              "    .dataframe thead th {\n",
              "        text-align: right;\n",
              "    }\n",
              "</style>\n",
              "<table border=\"1\" class=\"dataframe\">\n",
              "  <thead>\n",
              "    <tr style=\"text-align: right;\">\n",
              "      <th></th>\n",
              "      <th>順位</th>\n",
              "      <th>名前</th>\n",
              "      <th>チーム名</th>\n",
              "      <th>スコア</th>\n",
              "    </tr>\n",
              "  </thead>\n",
              "  <tbody>\n",
              "    <tr>\n",
              "      <th>0</th>\n",
              "      <td>1</td>\n",
              "      <td>uni_kakurenbo</td>\n",
              "      <td>a1nem</td>\n",
              "      <td>6304639</td>\n",
              "    </tr>\n",
              "    <tr>\n",
              "      <th>1</th>\n",
              "      <td>2</td>\n",
              "      <td>tardigrade</td>\n",
              "      <td>俺はタスマニア！お前は何マニア？</td>\n",
              "      <td>6149264</td>\n",
              "    </tr>\n",
              "    <tr>\n",
              "      <th>2</th>\n",
              "      <td>3</td>\n",
              "      <td>keroru</td>\n",
              "      <td>Moréchond</td>\n",
              "      <td>6110893</td>\n",
              "    </tr>\n",
              "    <tr>\n",
              "      <th>3</th>\n",
              "      <td>4</td>\n",
              "      <td>r3yohei</td>\n",
              "      <td>焼きにゃまし隊</td>\n",
              "      <td>6045383</td>\n",
              "    </tr>\n",
              "    <tr>\n",
              "      <th>4</th>\n",
              "      <td>5</td>\n",
              "      <td>takekinmkk</td>\n",
              "      <td>俺はタスマニア！お前は何マニア？</td>\n",
              "      <td>6036707</td>\n",
              "    </tr>\n",
              "  </tbody>\n",
              "</table>\n",
              "</div>\n",
              "      <button class=\"colab-df-convert\" onclick=\"convertToInteractive('df-23212017-b616-40b1-9bc5-3e72a140099e')\"\n",
              "              title=\"Convert this dataframe to an interactive table.\"\n",
              "              style=\"display:none;\">\n",
              "        \n",
              "  <svg xmlns=\"http://www.w3.org/2000/svg\" height=\"24px\"viewBox=\"0 0 24 24\"\n",
              "       width=\"24px\">\n",
              "    <path d=\"M0 0h24v24H0V0z\" fill=\"none\"/>\n",
              "    <path d=\"M18.56 5.44l.94 2.06.94-2.06 2.06-.94-2.06-.94-.94-2.06-.94 2.06-2.06.94zm-11 1L8.5 8.5l.94-2.06 2.06-.94-2.06-.94L8.5 2.5l-.94 2.06-2.06.94zm10 10l.94 2.06.94-2.06 2.06-.94-2.06-.94-.94-2.06-.94 2.06-2.06.94z\"/><path d=\"M17.41 7.96l-1.37-1.37c-.4-.4-.92-.59-1.43-.59-.52 0-1.04.2-1.43.59L10.3 9.45l-7.72 7.72c-.78.78-.78 2.05 0 2.83L4 21.41c.39.39.9.59 1.41.59.51 0 1.02-.2 1.41-.59l7.78-7.78 2.81-2.81c.8-.78.8-2.07 0-2.86zM5.41 20L4 18.59l7.72-7.72 1.47 1.35L5.41 20z\"/>\n",
              "  </svg>\n",
              "      </button>\n",
              "      \n",
              "  <style>\n",
              "    .colab-df-container {\n",
              "      display:flex;\n",
              "      flex-wrap:wrap;\n",
              "      gap: 12px;\n",
              "    }\n",
              "\n",
              "    .colab-df-convert {\n",
              "      background-color: #E8F0FE;\n",
              "      border: none;\n",
              "      border-radius: 50%;\n",
              "      cursor: pointer;\n",
              "      display: none;\n",
              "      fill: #1967D2;\n",
              "      height: 32px;\n",
              "      padding: 0 0 0 0;\n",
              "      width: 32px;\n",
              "    }\n",
              "\n",
              "    .colab-df-convert:hover {\n",
              "      background-color: #E2EBFA;\n",
              "      box-shadow: 0px 1px 2px rgba(60, 64, 67, 0.3), 0px 1px 3px 1px rgba(60, 64, 67, 0.15);\n",
              "      fill: #174EA6;\n",
              "    }\n",
              "\n",
              "    [theme=dark] .colab-df-convert {\n",
              "      background-color: #3B4455;\n",
              "      fill: #D2E3FC;\n",
              "    }\n",
              "\n",
              "    [theme=dark] .colab-df-convert:hover {\n",
              "      background-color: #434B5C;\n",
              "      box-shadow: 0px 1px 3px 1px rgba(0, 0, 0, 0.15);\n",
              "      filter: drop-shadow(0px 1px 2px rgba(0, 0, 0, 0.3));\n",
              "      fill: #FFFFFF;\n",
              "    }\n",
              "  </style>\n",
              "\n",
              "      <script>\n",
              "        const buttonEl =\n",
              "          document.querySelector('#df-23212017-b616-40b1-9bc5-3e72a140099e button.colab-df-convert');\n",
              "        buttonEl.style.display =\n",
              "          google.colab.kernel.accessAllowed ? 'block' : 'none';\n",
              "\n",
              "        async function convertToInteractive(key) {\n",
              "          const element = document.querySelector('#df-23212017-b616-40b1-9bc5-3e72a140099e');\n",
              "          const dataTable =\n",
              "            await google.colab.kernel.invokeFunction('convertToInteractive',\n",
              "                                                     [key], {});\n",
              "          if (!dataTable) return;\n",
              "\n",
              "          const docLinkHtml = 'Like what you see? Visit the ' +\n",
              "            '<a target=\"_blank\" href=https://colab.research.google.com/notebooks/data_table.ipynb>data table notebook</a>'\n",
              "            + ' to learn more about interactive tables.';\n",
              "          element.innerHTML = '';\n",
              "          dataTable['output_type'] = 'display_data';\n",
              "          await google.colab.output.renderOutput(dataTable, element);\n",
              "          const docLink = document.createElement('div');\n",
              "          docLink.innerHTML = docLinkHtml;\n",
              "          element.appendChild(docLink);\n",
              "        }\n",
              "      </script>\n",
              "    </div>\n",
              "  </div>\n",
              "  "
            ]
          },
          "metadata": {},
          "execution_count": 4
        }
      ]
    },
    {
      "cell_type": "markdown",
      "source": [
        "## チームランキング"
      ],
      "metadata": {
        "id": "I8403JFSk3d_"
      }
    },
    {
      "cell_type": "code",
      "source": [
        "df_team = df.loc[df.groupby(\"チーム名\")[\"スコア\"].idxmax()]\n",
        "df_team = df_team.drop(columns = [\"言語\", \"提出日時\", \"実行時間\"])\n",
        "df_team = df_team.reindex(columns = [\"チーム名\", \"名前\", \"スコア\"])\n",
        "df_team.sort_values(\"スコア\", ascending = False, inplace = True)\n",
        "df_team.reset_index(inplace = True, drop = True)\n",
        "df_team[\"順位\"] = range(1,len(df_team)+1)\n",
        "df_team = df_team.reindex(columns = [\"順位\", \"チーム名\", \"名前\", \"スコア\"]) \n",
        "df_team.head()"
      ],
      "metadata": {
        "colab": {
          "base_uri": "https://localhost:8080/",
          "height": 204
        },
        "id": "f0VxhuVQgBeE",
        "outputId": "ad4059ce-6cef-4591-a002-716d46cd7b92"
      },
      "execution_count": 5,
      "outputs": [
        {
          "output_type": "execute_result",
          "data": {
            "text/plain": [
              "   順位              チーム名             名前      スコア\n",
              "0   1             a1nem  uni_kakurenbo  6304639\n",
              "1   2  俺はタスマニア！お前は何マニア？     tardigrade  6149264\n",
              "2   3         Moréchond         keroru  6110893\n",
              "3   4           焼きにゃまし隊        r3yohei  6045383\n",
              "4   5               ひよこ        bio4eta  6022374"
            ],
            "text/html": [
              "\n",
              "  <div id=\"df-260f470e-b04f-42ce-8ef4-f544fe2c5366\">\n",
              "    <div class=\"colab-df-container\">\n",
              "      <div>\n",
              "<style scoped>\n",
              "    .dataframe tbody tr th:only-of-type {\n",
              "        vertical-align: middle;\n",
              "    }\n",
              "\n",
              "    .dataframe tbody tr th {\n",
              "        vertical-align: top;\n",
              "    }\n",
              "\n",
              "    .dataframe thead th {\n",
              "        text-align: right;\n",
              "    }\n",
              "</style>\n",
              "<table border=\"1\" class=\"dataframe\">\n",
              "  <thead>\n",
              "    <tr style=\"text-align: right;\">\n",
              "      <th></th>\n",
              "      <th>順位</th>\n",
              "      <th>チーム名</th>\n",
              "      <th>名前</th>\n",
              "      <th>スコア</th>\n",
              "    </tr>\n",
              "  </thead>\n",
              "  <tbody>\n",
              "    <tr>\n",
              "      <th>0</th>\n",
              "      <td>1</td>\n",
              "      <td>a1nem</td>\n",
              "      <td>uni_kakurenbo</td>\n",
              "      <td>6304639</td>\n",
              "    </tr>\n",
              "    <tr>\n",
              "      <th>1</th>\n",
              "      <td>2</td>\n",
              "      <td>俺はタスマニア！お前は何マニア？</td>\n",
              "      <td>tardigrade</td>\n",
              "      <td>6149264</td>\n",
              "    </tr>\n",
              "    <tr>\n",
              "      <th>2</th>\n",
              "      <td>3</td>\n",
              "      <td>Moréchond</td>\n",
              "      <td>keroru</td>\n",
              "      <td>6110893</td>\n",
              "    </tr>\n",
              "    <tr>\n",
              "      <th>3</th>\n",
              "      <td>4</td>\n",
              "      <td>焼きにゃまし隊</td>\n",
              "      <td>r3yohei</td>\n",
              "      <td>6045383</td>\n",
              "    </tr>\n",
              "    <tr>\n",
              "      <th>4</th>\n",
              "      <td>5</td>\n",
              "      <td>ひよこ</td>\n",
              "      <td>bio4eta</td>\n",
              "      <td>6022374</td>\n",
              "    </tr>\n",
              "  </tbody>\n",
              "</table>\n",
              "</div>\n",
              "      <button class=\"colab-df-convert\" onclick=\"convertToInteractive('df-260f470e-b04f-42ce-8ef4-f544fe2c5366')\"\n",
              "              title=\"Convert this dataframe to an interactive table.\"\n",
              "              style=\"display:none;\">\n",
              "        \n",
              "  <svg xmlns=\"http://www.w3.org/2000/svg\" height=\"24px\"viewBox=\"0 0 24 24\"\n",
              "       width=\"24px\">\n",
              "    <path d=\"M0 0h24v24H0V0z\" fill=\"none\"/>\n",
              "    <path d=\"M18.56 5.44l.94 2.06.94-2.06 2.06-.94-2.06-.94-.94-2.06-.94 2.06-2.06.94zm-11 1L8.5 8.5l.94-2.06 2.06-.94-2.06-.94L8.5 2.5l-.94 2.06-2.06.94zm10 10l.94 2.06.94-2.06 2.06-.94-2.06-.94-.94-2.06-.94 2.06-2.06.94z\"/><path d=\"M17.41 7.96l-1.37-1.37c-.4-.4-.92-.59-1.43-.59-.52 0-1.04.2-1.43.59L10.3 9.45l-7.72 7.72c-.78.78-.78 2.05 0 2.83L4 21.41c.39.39.9.59 1.41.59.51 0 1.02-.2 1.41-.59l7.78-7.78 2.81-2.81c.8-.78.8-2.07 0-2.86zM5.41 20L4 18.59l7.72-7.72 1.47 1.35L5.41 20z\"/>\n",
              "  </svg>\n",
              "      </button>\n",
              "      \n",
              "  <style>\n",
              "    .colab-df-container {\n",
              "      display:flex;\n",
              "      flex-wrap:wrap;\n",
              "      gap: 12px;\n",
              "    }\n",
              "\n",
              "    .colab-df-convert {\n",
              "      background-color: #E8F0FE;\n",
              "      border: none;\n",
              "      border-radius: 50%;\n",
              "      cursor: pointer;\n",
              "      display: none;\n",
              "      fill: #1967D2;\n",
              "      height: 32px;\n",
              "      padding: 0 0 0 0;\n",
              "      width: 32px;\n",
              "    }\n",
              "\n",
              "    .colab-df-convert:hover {\n",
              "      background-color: #E2EBFA;\n",
              "      box-shadow: 0px 1px 2px rgba(60, 64, 67, 0.3), 0px 1px 3px 1px rgba(60, 64, 67, 0.15);\n",
              "      fill: #174EA6;\n",
              "    }\n",
              "\n",
              "    [theme=dark] .colab-df-convert {\n",
              "      background-color: #3B4455;\n",
              "      fill: #D2E3FC;\n",
              "    }\n",
              "\n",
              "    [theme=dark] .colab-df-convert:hover {\n",
              "      background-color: #434B5C;\n",
              "      box-shadow: 0px 1px 3px 1px rgba(0, 0, 0, 0.15);\n",
              "      filter: drop-shadow(0px 1px 2px rgba(0, 0, 0, 0.3));\n",
              "      fill: #FFFFFF;\n",
              "    }\n",
              "  </style>\n",
              "\n",
              "      <script>\n",
              "        const buttonEl =\n",
              "          document.querySelector('#df-260f470e-b04f-42ce-8ef4-f544fe2c5366 button.colab-df-convert');\n",
              "        buttonEl.style.display =\n",
              "          google.colab.kernel.accessAllowed ? 'block' : 'none';\n",
              "\n",
              "        async function convertToInteractive(key) {\n",
              "          const element = document.querySelector('#df-260f470e-b04f-42ce-8ef4-f544fe2c5366');\n",
              "          const dataTable =\n",
              "            await google.colab.kernel.invokeFunction('convertToInteractive',\n",
              "                                                     [key], {});\n",
              "          if (!dataTable) return;\n",
              "\n",
              "          const docLinkHtml = 'Like what you see? Visit the ' +\n",
              "            '<a target=\"_blank\" href=https://colab.research.google.com/notebooks/data_table.ipynb>data table notebook</a>'\n",
              "            + ' to learn more about interactive tables.';\n",
              "          element.innerHTML = '';\n",
              "          dataTable['output_type'] = 'display_data';\n",
              "          await google.colab.output.renderOutput(dataTable, element);\n",
              "          const docLink = document.createElement('div');\n",
              "          docLink.innerHTML = docLinkHtml;\n",
              "          element.appendChild(docLink);\n",
              "        }\n",
              "      </script>\n",
              "    </div>\n",
              "  </div>\n",
              "  "
            ]
          },
          "metadata": {},
          "execution_count": 5
        }
      ]
    },
    {
      "cell_type": "markdown",
      "source": [
        "# グラフ作成\n",
        "\n",
        "1.   縦軸：スコア、横軸：時間の折れ線グラフ（個人）\n",
        "2.   縦軸：スコア、横軸：時間の折れ線グラフ（チーム）\n",
        "3.   言語ごとのランキング\n",
        "4.   スコアとレートの相関関係（アルゴ、ヒューリスティック）\n",
        "\n",
        "\n"
      ],
      "metadata": {
        "id": "_0dtIvguk7ze"
      }
    },
    {
      "cell_type": "code",
      "source": [
        "df_line_indv = df.sort_values(\"提出日時\", ascending = True)\n",
        "df_line_indv[\"スコア\"] = df_line_indv.groupby(\"名前\")[\"スコア\"].cummax()\n",
        "\n",
        "fig_individual = px.line(df_line_indv , x=\"提出日時\", y=\"スコア\", color=\"名前\")\n",
        "fig_individual.show()"
      ],
      "metadata": {
        "colab": {
          "base_uri": "https://localhost:8080/",
          "height": 542
        },
        "id": "PPmlXrqPISnm",
        "outputId": "5bfe5d3d-1af6-4c46-92a2-8c114cae6873"
      },
      "execution_count": 6,
      "outputs": [
        {
          "output_type": "display_data",
          "data": {
            "text/html": [
              "<html>\n",
              "<head><meta charset=\"utf-8\" /></head>\n",
              "<body>\n",
              "    <div>            <script src=\"https://cdnjs.cloudflare.com/ajax/libs/mathjax/2.7.5/MathJax.js?config=TeX-AMS-MML_SVG\"></script><script type=\"text/javascript\">if (window.MathJax && window.MathJax.Hub && window.MathJax.Hub.Config) {window.MathJax.Hub.Config({SVG: {font: \"STIX-Web\"}});}</script>                <script type=\"text/javascript\">window.PlotlyConfig = {MathJaxConfig: 'local'};</script>\n",
              "        <script src=\"https://cdn.plot.ly/plotly-2.18.2.min.js\"></script>                <div id=\"1438d310-7a86-48bd-a3f3-727dda8239d6\" class=\"plotly-graph-div\" style=\"height:525px; width:100%;\"></div>            <script type=\"text/javascript\">                                    window.PLOTLYENV=window.PLOTLYENV || {};                                    if (document.getElementById(\"1438d310-7a86-48bd-a3f3-727dda8239d6\")) {                    Plotly.newPlot(                        \"1438d310-7a86-48bd-a3f3-727dda8239d6\",                        [{\"hovertemplate\":\"\\u540d\\u524d=tardigrade<br>\\u63d0\\u51fa\\u65e5\\u6642=%{x}<br>\\u30b9\\u30b3\\u30a2=%{y}<extra></extra>\",\"legendgroup\":\"tardigrade\",\"line\":{\"color\":\"#636efa\",\"dash\":\"solid\"},\"marker\":{\"symbol\":\"circle\"},\"mode\":\"lines\",\"name\":\"tardigrade\",\"orientation\":\"v\",\"showlegend\":true,\"x\":[\"2022-12-02 19:06:52\",\"2022-12-02 20:14:52\",\"2022-12-02 21:09:33\",\"2022-12-02 22:04:38\",\"2022-12-02 22:30:12\",\"2022-12-02 22:44:01\",\"2022-12-03 04:59:43\",\"2022-12-03 05:46:55\",\"2022-12-03 14:40:15\",\"2022-12-03 15:09:18\",\"2022-12-03 15:51:48\",\"2022-12-05 11:24:05\",\"2022-12-05 12:02:02\",\"2022-12-05 13:14:59\",\"2022-12-05 13:33:03\",\"2022-12-05 13:38:39\",\"2022-12-05 13:44:25\",\"2022-12-05 13:52:45\",\"2022-12-06 09:34:25\",\"2022-12-06 09:39:34\",\"2022-12-06 09:46:38\",\"2022-12-06 20:12:37\",\"2022-12-07 19:47:24\",\"2022-12-07 19:58:02\",\"2022-12-07 20:09:32\",\"2022-12-11 03:30:03\"],\"xaxis\":\"x\",\"y\":[4861,1119489,3837319,4472075,4472075,4472363,5809364,6103167,6120705,6120705,6120705,6143916,6143916,6143916,6143916,6143916,6143916,6144594,6144594,6144594,6144594,6144594,6144594,6144594,6144594,6149264],\"yaxis\":\"y\",\"type\":\"scatter\"},{\"hovertemplate\":\"\\u540d\\u524d=ococonomy1<br>\\u63d0\\u51fa\\u65e5\\u6642=%{x}<br>\\u30b9\\u30b3\\u30a2=%{y}<extra></extra>\",\"legendgroup\":\"ococonomy1\",\"line\":{\"color\":\"#EF553B\",\"dash\":\"solid\"},\"marker\":{\"symbol\":\"circle\"},\"mode\":\"lines\",\"name\":\"ococonomy1\",\"orientation\":\"v\",\"showlegend\":true,\"x\":[\"2022-12-02 19:20:25\",\"2022-12-02 19:45:36\",\"2022-12-02 20:15:56\",\"2022-12-02 23:01:40\",\"2022-12-03 00:44:28\",\"2022-12-03 02:02:58\",\"2022-12-03 23:59:09\",\"2022-12-04 00:08:35\",\"2022-12-04 00:13:35\",\"2022-12-04 00:18:35\",\"2022-12-04 03:21:43\",\"2022-12-06 04:22:26\",\"2022-12-06 04:33:43\",\"2022-12-06 04:59:40\",\"2022-12-06 05:04:53\",\"2022-12-06 05:29:23\",\"2022-12-06 05:39:27\",\"2022-12-06 16:06:42\",\"2022-12-06 16:30:29\",\"2022-12-08 00:41:59\",\"2022-12-08 03:12:04\",\"2022-12-08 04:07:05\",\"2022-12-08 04:14:01\",\"2022-12-08 04:23:46\",\"2022-12-08 04:44:41\",\"2022-12-08 05:02:18\",\"2022-12-08 06:51:48\",\"2022-12-08 11:32:42\",\"2022-12-08 11:37:53\",\"2022-12-08 11:48:38\",\"2022-12-08 12:58:44\",\"2022-12-08 13:15:29\",\"2022-12-09 03:21:50\",\"2022-12-09 03:36:28\",\"2022-12-10 08:27:13\",\"2022-12-10 08:57:34\"],\"xaxis\":\"x\",\"y\":[7929,206679,1149200,1149200,2675018,3440929,4510843,4510843,4510843,4510843,4510843,4510843,4510843,4510843,4510843,4510843,4510843,4510843,4510843,4510843,4510843,5222102,5284292,5308611,5308611,5326187,5326187,5326187,5326187,5326187,5371042,5371042,5371042,5371042,5371821,5371821],\"yaxis\":\"y\",\"type\":\"scatter\"},{\"hovertemplate\":\"\\u540d\\u524d=bio4eta<br>\\u63d0\\u51fa\\u65e5\\u6642=%{x}<br>\\u30b9\\u30b3\\u30a2=%{y}<extra></extra>\",\"legendgroup\":\"bio4eta\",\"line\":{\"color\":\"#00cc96\",\"dash\":\"solid\"},\"marker\":{\"symbol\":\"circle\"},\"mode\":\"lines\",\"name\":\"bio4eta\",\"orientation\":\"v\",\"showlegend\":true,\"x\":[\"2022-12-02 19:52:25\",\"2022-12-03 13:16:25\",\"2022-12-03 16:52:12\",\"2022-12-03 17:48:51\",\"2022-12-04 00:14:46\",\"2022-12-04 00:26:30\",\"2022-12-04 00:50:17\",\"2022-12-04 13:03:29\",\"2022-12-04 13:43:42\",\"2022-12-04 14:05:00\",\"2022-12-05 20:31:15\",\"2022-12-05 20:53:28\",\"2022-12-09 16:45:23\",\"2022-12-09 18:09:50\",\"2022-12-10 00:04:00\",\"2022-12-10 00:18:13\",\"2022-12-10 00:23:13\",\"2022-12-10 01:18:18\",\"2022-12-10 01:24:33\",\"2022-12-11 11:49:58\"],\"xaxis\":\"x\",\"y\":[4861,2486036,2486036,2486036,2486036,2486036,3253391,3259080,4976493,5100760,5209314,5209314,5520436,5815872,6003041,6003041,6022374,6022374,6022374,6022374],\"yaxis\":\"y\",\"type\":\"scatter\"},{\"hovertemplate\":\"\\u540d\\u524d=r3yohei<br>\\u63d0\\u51fa\\u65e5\\u6642=%{x}<br>\\u30b9\\u30b3\\u30a2=%{y}<extra></extra>\",\"legendgroup\":\"r3yohei\",\"line\":{\"color\":\"#ab63fa\",\"dash\":\"solid\"},\"marker\":{\"symbol\":\"circle\"},\"mode\":\"lines\",\"name\":\"r3yohei\",\"orientation\":\"v\",\"showlegend\":true,\"x\":[\"2022-12-02 20:05:11\",\"2022-12-02 22:48:29\",\"2022-12-02 23:05:10\",\"2022-12-02 23:36:45\",\"2022-12-02 23:43:22\",\"2022-12-02 23:53:08\",\"2022-12-03 16:08:12\",\"2022-12-03 19:39:07\",\"2022-12-06 04:14:33\",\"2022-12-07 03:53:02\",\"2022-12-07 06:25:30\",\"2022-12-07 19:44:55\",\"2022-12-08 00:18:42\",\"2022-12-08 00:27:24\",\"2022-12-08 00:35:26\",\"2022-12-08 00:43:49\",\"2022-12-08 00:52:42\",\"2022-12-08 00:58:36\",\"2022-12-08 02:11:36\",\"2022-12-08 02:19:44\",\"2022-12-08 02:25:03\",\"2022-12-08 02:35:45\",\"2022-12-08 02:41:55\",\"2022-12-08 02:51:04\",\"2022-12-08 11:33:46\",\"2022-12-08 14:44:30\",\"2022-12-08 15:20:17\",\"2022-12-08 16:41:41\",\"2022-12-08 17:07:26\",\"2022-12-08 20:27:05\",\"2022-12-08 20:35:06\",\"2022-12-08 20:41:07\",\"2022-12-08 20:52:40\",\"2022-12-08 21:15:15\",\"2022-12-08 21:29:15\",\"2022-12-08 21:38:12\",\"2022-12-08 21:45:31\",\"2022-12-08 21:51:15\",\"2022-12-08 21:58:41\",\"2022-12-08 23:02:28\",\"2022-12-09 00:45:14\",\"2022-12-09 01:00:16\",\"2022-12-09 01:27:35\",\"2022-12-09 01:34:24\",\"2022-12-09 23:26:10\",\"2022-12-09 23:31:17\",\"2022-12-09 23:36:18\",\"2022-12-09 23:42:52\",\"2022-12-09 23:54:58\",\"2022-12-10 00:01:23\",\"2022-12-10 00:07:33\",\"2022-12-10 00:14:00\",\"2022-12-10 00:20:05\",\"2022-12-10 00:26:54\",\"2022-12-10 00:42:40\",\"2022-12-10 00:51:11\",\"2022-12-10 01:02:42\",\"2022-12-10 01:08:36\",\"2022-12-10 05:43:50\",\"2022-12-10 05:51:34\",\"2022-12-10 05:59:02\",\"2022-12-10 06:26:13\",\"2022-12-10 06:35:47\",\"2022-12-10 06:42:44\",\"2022-12-10 06:53:09\",\"2022-12-10 07:04:10\",\"2022-12-10 07:10:03\",\"2022-12-10 16:09:59\",\"2022-12-10 18:04:06\",\"2022-12-10 18:13:32\",\"2022-12-10 18:24:29\",\"2022-12-10 18:44:07\",\"2022-12-10 18:49:55\",\"2022-12-10 19:10:56\",\"2022-12-10 22:57:49\",\"2022-12-11 02:03:25\",\"2022-12-11 03:14:04\",\"2022-12-11 03:47:44\",\"2022-12-11 03:52:53\",\"2022-12-11 04:05:44\",\"2022-12-11 09:31:49\",\"2022-12-11 09:37:02\",\"2022-12-11 12:41:35\",\"2022-12-11 12:48:02\",\"2022-12-11 13:37:32\",\"2022-12-11 13:44:29\",\"2022-12-11 14:12:39\",\"2022-12-11 14:27:37\",\"2022-12-11 14:35:58\",\"2022-12-11 14:42:09\",\"2022-12-11 14:54:46\",\"2022-12-11 14:59:58\",\"2022-12-11 15:16:01\",\"2022-12-11 17:57:32\",\"2022-12-11 18:08:34\"],\"xaxis\":\"x\",\"y\":[774689,774689,774689,774689,774689,774689,774689,774689,2277710,3302199,3302199,4222730,5744193,5744193,5744193,5744193,5744193,5744193,5815405,5824424,5824424,5824424,5824424,5824424,5824424,5824424,5824424,5824424,5848159,5923827,5930136,5930136,5930136,5930136,5930136,5930136,5930136,5936049,5942910,5942910,5942910,5942910,5942910,5942910,5942910,5942910,5942910,5942910,5942910,5942910,5942910,5942910,5942910,5942910,5956648,5956648,5956648,5956648,5956648,5956648,5956648,5956648,5956648,5956648,5968786,5968786,5968786,5968786,5989223,6005034,6005034,6005034,6005034,6005034,6005034,6005034,6022815,6028503,6029322,6031436,6036748,6036748,6036748,6036748,6036748,6036748,6036748,6036748,6036748,6045383,6045383,6045383,6045383,6045383,6045383],\"yaxis\":\"y\",\"type\":\"scatter\"},{\"hovertemplate\":\"\\u540d\\u524d=uni_kakurenbo<br>\\u63d0\\u51fa\\u65e5\\u6642=%{x}<br>\\u30b9\\u30b3\\u30a2=%{y}<extra></extra>\",\"legendgroup\":\"uni_kakurenbo\",\"line\":{\"color\":\"#FFA15A\",\"dash\":\"solid\"},\"marker\":{\"symbol\":\"circle\"},\"mode\":\"lines\",\"name\":\"uni_kakurenbo\",\"orientation\":\"v\",\"showlegend\":true,\"x\":[\"2022-12-02 20:09:17\",\"2022-12-02 22:32:37\",\"2022-12-03 11:09:32\",\"2022-12-03 11:28:29\",\"2022-12-03 11:50:46\",\"2022-12-03 11:57:32\",\"2022-12-03 12:02:38\",\"2022-12-03 12:07:49\",\"2022-12-03 12:23:22\",\"2022-12-03 12:32:00\",\"2022-12-03 16:30:11\",\"2022-12-04 13:36:04\",\"2022-12-05 00:08:39\",\"2022-12-05 08:25:07\",\"2022-12-05 13:31:08\",\"2022-12-06 07:55:16\",\"2022-12-06 23:22:08\",\"2022-12-07 11:59:38\",\"2022-12-07 12:10:27\",\"2022-12-07 23:03:14\",\"2022-12-07 23:19:31\",\"2022-12-07 23:37:22\",\"2022-12-08 00:00:23\",\"2022-12-08 06:46:31\",\"2022-12-08 07:51:45\",\"2022-12-08 09:40:05\",\"2022-12-08 21:29:32\",\"2022-12-08 22:31:25\",\"2022-12-08 23:01:08\",\"2022-12-08 23:19:55\",\"2022-12-08 23:31:16\",\"2022-12-09 00:01:57\",\"2022-12-09 00:07:48\",\"2022-12-09 00:21:13\",\"2022-12-09 07:41:10\",\"2022-12-09 08:38:45\",\"2022-12-09 09:38:36\",\"2022-12-09 12:30:53\",\"2022-12-09 12:47:33\",\"2022-12-09 16:24:33\",\"2022-12-09 16:35:15\",\"2022-12-09 16:56:11\",\"2022-12-09 18:56:57\",\"2022-12-09 19:30:13\",\"2022-12-09 19:42:42\",\"2022-12-09 19:51:51\",\"2022-12-09 19:57:47\",\"2022-12-09 20:03:47\",\"2022-12-09 20:17:45\",\"2022-12-09 20:39:57\",\"2022-12-09 20:58:33\",\"2022-12-09 21:38:31\",\"2022-12-09 22:08:45\",\"2022-12-09 22:41:38\",\"2022-12-09 22:49:49\",\"2022-12-09 22:54:51\",\"2022-12-09 23:01:04\",\"2022-12-10 08:15:56\"],\"xaxis\":\"x\",\"y\":[1377893,2235582,4556870,4556870,4556870,4556870,4556876,4556876,4556876,4556876,4556876,4556876,4556876,4569140,4569140,5714196,6238443,6238443,6238443,6246052,6258882,6260176,6260176,6260176,6260176,6261379,6261379,6302210,6302210,6302210,6302210,6302210,6303715,6303715,6303715,6303715,6303715,6303715,6303715,6303715,6303715,6303715,6303715,6303715,6303715,6303715,6303715,6303715,6304639,6304639,6304639,6304639,6304639,6304639,6304639,6304639,6304639,6304639],\"yaxis\":\"y\",\"type\":\"scatter\"},{\"hovertemplate\":\"\\u540d\\u524d=hiraku<br>\\u63d0\\u51fa\\u65e5\\u6642=%{x}<br>\\u30b9\\u30b3\\u30a2=%{y}<extra></extra>\",\"legendgroup\":\"hiraku\",\"line\":{\"color\":\"#19d3f3\",\"dash\":\"solid\"},\"marker\":{\"symbol\":\"circle\"},\"mode\":\"lines\",\"name\":\"hiraku\",\"orientation\":\"v\",\"showlegend\":true,\"x\":[\"2022-12-02 21:16:56\",\"2022-12-05 17:17:38\",\"2022-12-05 21:36:05\",\"2022-12-06 06:01:17\",\"2022-12-07 18:25:57\",\"2022-12-07 21:59:42\",\"2022-12-07 22:24:26\",\"2022-12-09 21:23:38\",\"2022-12-09 22:40:20\",\"2022-12-10 00:15:50\"],\"xaxis\":\"x\",\"y\":[4861,2886159,2970381,3966024,5366916,5366916,5366916,5366916,5423895,5423895],\"yaxis\":\"y\",\"type\":\"scatter\"},{\"hovertemplate\":\"\\u540d\\u524d=nephrologist<br>\\u63d0\\u51fa\\u65e5\\u6642=%{x}<br>\\u30b9\\u30b3\\u30a2=%{y}<extra></extra>\",\"legendgroup\":\"nephrologist\",\"line\":{\"color\":\"#FF6692\",\"dash\":\"solid\"},\"marker\":{\"symbol\":\"circle\"},\"mode\":\"lines\",\"name\":\"nephrologist\",\"orientation\":\"v\",\"showlegend\":true,\"x\":[\"2022-12-02 22:17:09\",\"2022-12-02 22:27:42\",\"2022-12-06 13:36:04\",\"2022-12-07 10:53:40\",\"2022-12-07 11:20:54\"],\"xaxis\":\"x\",\"y\":[3776168,3776653,3830922,3830922,3830922],\"yaxis\":\"y\",\"type\":\"scatter\"},{\"hovertemplate\":\"\\u540d\\u524d=kokatsu<br>\\u63d0\\u51fa\\u65e5\\u6642=%{x}<br>\\u30b9\\u30b3\\u30a2=%{y}<extra></extra>\",\"legendgroup\":\"kokatsu\",\"line\":{\"color\":\"#B6E880\",\"dash\":\"solid\"},\"marker\":{\"symbol\":\"circle\"},\"mode\":\"lines\",\"name\":\"kokatsu\",\"orientation\":\"v\",\"showlegend\":true,\"x\":[\"2022-12-02 22:26:56\",\"2022-12-02 22:32:18\",\"2022-12-02 22:37:47\",\"2022-12-02 22:44:45\",\"2022-12-02 22:53:15\",\"2022-12-02 23:36:06\",\"2022-12-03 00:04:37\",\"2022-12-03 00:15:26\",\"2022-12-03 00:23:36\",\"2022-12-06 00:58:03\",\"2022-12-06 01:07:15\",\"2022-12-06 01:14:06\",\"2022-12-06 01:20:50\",\"2022-12-06 12:32:07\",\"2022-12-06 12:54:20\",\"2022-12-06 13:00:20\",\"2022-12-06 23:51:22\",\"2022-12-06 23:57:47\",\"2022-12-07 00:06:43\",\"2022-12-07 00:40:26\",\"2022-12-07 23:52:30\",\"2022-12-08 00:08:08\",\"2022-12-08 00:13:28\",\"2022-12-08 00:19:18\",\"2022-12-08 00:32:14\",\"2022-12-08 00:41:29\"],\"xaxis\":\"x\",\"y\":[289970,345056,349241,415753,427676,1390578,3750030,3750030,3800646,4294068,4294068,4294068,4336440,4336440,4340902,4340902,4359330,4453201,4453201,4453201,4492961,4858755,4858755,4858755,4935534,5007759],\"yaxis\":\"y\",\"type\":\"scatter\"},{\"hovertemplate\":\"\\u540d\\u524d=michirakara<br>\\u63d0\\u51fa\\u65e5\\u6642=%{x}<br>\\u30b9\\u30b3\\u30a2=%{y}<extra></extra>\",\"legendgroup\":\"michirakara\",\"line\":{\"color\":\"#FF97FF\",\"dash\":\"solid\"},\"marker\":{\"symbol\":\"circle\"},\"mode\":\"lines\",\"name\":\"michirakara\",\"orientation\":\"v\",\"showlegend\":true,\"x\":[\"2022-12-02 22:29:34\",\"2022-12-02 22:35:40\",\"2022-12-02 22:40:43\",\"2022-12-02 23:25:22\",\"2022-12-03 00:04:12\",\"2022-12-03 00:33:30\",\"2022-12-03 01:04:41\",\"2022-12-03 10:34:19\",\"2022-12-03 10:52:23\",\"2022-12-04 03:11:05\",\"2022-12-04 12:16:42\",\"2022-12-04 12:42:00\",\"2022-12-04 14:15:10\",\"2022-12-05 03:52:51\",\"2022-12-05 04:07:43\",\"2022-12-05 04:18:33\",\"2022-12-05 04:24:07\",\"2022-12-05 04:34:03\",\"2022-12-05 05:21:19\",\"2022-12-05 05:29:58\",\"2022-12-05 05:35:00\",\"2022-12-05 10:12:51\",\"2022-12-05 13:50:03\",\"2022-12-05 13:56:54\",\"2022-12-05 14:10:44\",\"2022-12-05 14:16:52\",\"2022-12-06 09:21:40\",\"2022-12-06 10:00:39\",\"2022-12-06 10:05:51\",\"2022-12-06 10:18:23\",\"2022-12-07 04:07:49\",\"2022-12-07 04:15:26\",\"2022-12-07 04:21:42\",\"2022-12-07 10:41:28\",\"2022-12-07 11:48:03\",\"2022-12-07 11:56:27\",\"2022-12-07 12:01:28\",\"2022-12-07 12:07:50\",\"2022-12-07 12:13:06\",\"2022-12-07 12:18:08\",\"2022-12-07 12:23:08\",\"2022-12-07 12:28:57\",\"2022-12-07 14:20:32\",\"2022-12-07 14:25:57\",\"2022-12-08 14:30:20\",\"2022-12-09 09:48:17\",\"2022-12-09 10:02:24\",\"2022-12-09 10:13:54\",\"2022-12-09 10:20:54\",\"2022-12-09 10:44:34\",\"2022-12-09 10:49:53\",\"2022-12-09 10:57:51\",\"2022-12-10 07:12:38\",\"2022-12-10 13:42:10\",\"2022-12-10 13:48:39\",\"2022-12-10 14:14:29\",\"2022-12-10 14:24:44\"],\"xaxis\":\"x\",\"y\":[253299,257943,597152,597152,878064,995514,995514,995514,995514,995514,1523131,1523131,1523131,1523131,1523131,1523131,1523131,1523131,1523131,1900681,1905120,1905120,2958572,2959379,2959379,3510926,3510926,3600649,3600649,3600649,3600649,3600828,3600828,4658799,4658799,4658799,4658799,4658799,4658799,4658799,4658799,4664334,4664334,4664916,4664916,4664916,4664916,4664916,4664916,4664916,4664916,4664916,5977825,5977825,5996611,5996611,5996611],\"yaxis\":\"y\",\"type\":\"scatter\"},{\"hovertemplate\":\"\\u540d\\u524d=a9ua1i0n<br>\\u63d0\\u51fa\\u65e5\\u6642=%{x}<br>\\u30b9\\u30b3\\u30a2=%{y}<extra></extra>\",\"legendgroup\":\"a9ua1i0n\",\"line\":{\"color\":\"#FECB52\",\"dash\":\"solid\"},\"marker\":{\"symbol\":\"circle\"},\"mode\":\"lines\",\"name\":\"a9ua1i0n\",\"orientation\":\"v\",\"showlegend\":true,\"x\":[\"2022-12-02 23:06:55\"],\"xaxis\":\"x\",\"y\":[1863401],\"yaxis\":\"y\",\"type\":\"scatter\"},{\"hovertemplate\":\"\\u540d\\u524d=kaede2020<br>\\u63d0\\u51fa\\u65e5\\u6642=%{x}<br>\\u30b9\\u30b3\\u30a2=%{y}<extra></extra>\",\"legendgroup\":\"kaede2020\",\"line\":{\"color\":\"#636efa\",\"dash\":\"solid\"},\"marker\":{\"symbol\":\"circle\"},\"mode\":\"lines\",\"name\":\"kaede2020\",\"orientation\":\"v\",\"showlegend\":true,\"x\":[\"2022-12-02 23:31:07\",\"2022-12-04 11:14:59\",\"2022-12-04 21:42:16\",\"2022-12-05 21:51:28\",\"2022-12-07 06:49:54\",\"2022-12-07 23:00:17\",\"2022-12-07 23:30:19\",\"2022-12-09 06:00:48\",\"2022-12-10 20:01:49\",\"2022-12-10 20:07:53\",\"2022-12-10 20:47:28\"],\"xaxis\":\"x\",\"y\":[180042,645067,1339878,1339878,3645837,3645837,3666992,3666992,3953729,4317563,4377385],\"yaxis\":\"y\",\"type\":\"scatter\"},{\"hovertemplate\":\"\\u540d\\u524d=bk_cocoa<br>\\u63d0\\u51fa\\u65e5\\u6642=%{x}<br>\\u30b9\\u30b3\\u30a2=%{y}<extra></extra>\",\"legendgroup\":\"bk_cocoa\",\"line\":{\"color\":\"#EF553B\",\"dash\":\"solid\"},\"marker\":{\"symbol\":\"circle\"},\"mode\":\"lines\",\"name\":\"bk_cocoa\",\"orientation\":\"v\",\"showlegend\":true,\"x\":[\"2022-12-03 01:57:46\",\"2022-12-07 15:37:14\"],\"xaxis\":\"x\",\"y\":[136230,811763],\"yaxis\":\"y\",\"type\":\"scatter\"},{\"hovertemplate\":\"\\u540d\\u524d=G4NP0N<br>\\u63d0\\u51fa\\u65e5\\u6642=%{x}<br>\\u30b9\\u30b3\\u30a2=%{y}<extra></extra>\",\"legendgroup\":\"G4NP0N\",\"line\":{\"color\":\"#00cc96\",\"dash\":\"solid\"},\"marker\":{\"symbol\":\"circle\"},\"mode\":\"lines\",\"name\":\"G4NP0N\",\"orientation\":\"v\",\"showlegend\":true,\"x\":[\"2022-12-03 02:20:27\",\"2022-12-03 03:29:37\",\"2022-12-03 13:26:20\"],\"xaxis\":\"x\",\"y\":[2440078,2440078,3211512],\"yaxis\":\"y\",\"type\":\"scatter\"},{\"hovertemplate\":\"\\u540d\\u524d=jabee<br>\\u63d0\\u51fa\\u65e5\\u6642=%{x}<br>\\u30b9\\u30b3\\u30a2=%{y}<extra></extra>\",\"legendgroup\":\"jabee\",\"line\":{\"color\":\"#ab63fa\",\"dash\":\"solid\"},\"marker\":{\"symbol\":\"circle\"},\"mode\":\"lines\",\"name\":\"jabee\",\"orientation\":\"v\",\"showlegend\":true,\"x\":[\"2022-12-03 20:27:33\",\"2022-12-04 15:35:38\",\"2022-12-08 12:14:31\",\"2022-12-09 06:01:16\",\"2022-12-10 00:28:43\",\"2022-12-10 16:04:18\",\"2022-12-10 16:15:38\"],\"xaxis\":\"x\",\"y\":[4861,2536991,3690771,3690771,4326901,4326901,4363493],\"yaxis\":\"y\",\"type\":\"scatter\"},{\"hovertemplate\":\"\\u540d\\u524d=rinrion<br>\\u63d0\\u51fa\\u65e5\\u6642=%{x}<br>\\u30b9\\u30b3\\u30a2=%{y}<extra></extra>\",\"legendgroup\":\"rinrion\",\"line\":{\"color\":\"#FFA15A\",\"dash\":\"solid\"},\"marker\":{\"symbol\":\"circle\"},\"mode\":\"lines\",\"name\":\"rinrion\",\"orientation\":\"v\",\"showlegend\":true,\"x\":[\"2022-12-03 21:48:48\",\"2022-12-08 11:19:47\",\"2022-12-08 15:24:49\",\"2022-12-08 15:33:26\",\"2022-12-08 22:19:41\",\"2022-12-08 22:24:46\",\"2022-12-08 22:29:46\",\"2022-12-09 07:48:15\",\"2022-12-09 07:53:39\",\"2022-12-09 08:12:16\",\"2022-12-09 08:18:28\",\"2022-12-09 08:42:25\",\"2022-12-09 09:02:13\",\"2022-12-11 11:01:08\"],\"xaxis\":\"x\",\"y\":[2966834,4315058,4315058,4315058,4716675,4716675,4716675,4716675,4716675,4716675,4716675,4716675,4717157,4717214],\"yaxis\":\"y\",\"type\":\"scatter\"},{\"hovertemplate\":\"\\u540d\\u524d=meowmeowcats<br>\\u63d0\\u51fa\\u65e5\\u6642=%{x}<br>\\u30b9\\u30b3\\u30a2=%{y}<extra></extra>\",\"legendgroup\":\"meowmeowcats\",\"line\":{\"color\":\"#19d3f3\",\"dash\":\"solid\"},\"marker\":{\"symbol\":\"circle\"},\"mode\":\"lines\",\"name\":\"meowmeowcats\",\"orientation\":\"v\",\"showlegend\":true,\"x\":[\"2022-12-03 22:51:53\",\"2022-12-04 00:00:03\",\"2022-12-04 15:49:53\",\"2022-12-05 08:54:17\",\"2022-12-05 13:52:55\",\"2022-12-07 08:06:47\",\"2022-12-07 08:16:03\",\"2022-12-07 08:21:08\",\"2022-12-07 09:22:58\",\"2022-12-07 14:26:21\",\"2022-12-07 14:33:19\",\"2022-12-11 00:56:44\",\"2022-12-11 17:06:13\"],\"xaxis\":\"x\",\"y\":[4861,341998,582026,4124680,4159844,4159844,4159844,4159844,4159844,4159844,4159844,4159844,4159844],\"yaxis\":\"y\",\"type\":\"scatter\"},{\"hovertemplate\":\"\\u540d\\u524d=takekinmkk<br>\\u63d0\\u51fa\\u65e5\\u6642=%{x}<br>\\u30b9\\u30b3\\u30a2=%{y}<extra></extra>\",\"legendgroup\":\"takekinmkk\",\"line\":{\"color\":\"#FF6692\",\"dash\":\"solid\"},\"marker\":{\"symbol\":\"circle\"},\"mode\":\"lines\",\"name\":\"takekinmkk\",\"orientation\":\"v\",\"showlegend\":true,\"x\":[\"2022-12-03 23:47:21\",\"2022-12-06 02:26:08\",\"2022-12-06 02:49:21\",\"2022-12-06 03:01:50\",\"2022-12-11 16:01:22\",\"2022-12-11 16:36:30\",\"2022-12-11 17:36:46\",\"2022-12-11 17:58:21\"],\"xaxis\":\"x\",\"y\":[543835,4842139,5420042,5624094,5998749,6036707,6036707,6036707],\"yaxis\":\"y\",\"type\":\"scatter\"},{\"hovertemplate\":\"\\u540d\\u524d=akane831<br>\\u63d0\\u51fa\\u65e5\\u6642=%{x}<br>\\u30b9\\u30b3\\u30a2=%{y}<extra></extra>\",\"legendgroup\":\"akane831\",\"line\":{\"color\":\"#B6E880\",\"dash\":\"solid\"},\"marker\":{\"symbol\":\"circle\"},\"mode\":\"lines\",\"name\":\"akane831\",\"orientation\":\"v\",\"showlegend\":true,\"x\":[\"2022-12-04 03:48:42\",\"2022-12-04 05:25:34\",\"2022-12-04 11:28:01\",\"2022-12-04 11:38:08\",\"2022-12-04 18:01:50\",\"2022-12-04 18:08:47\",\"2022-12-05 13:03:06\",\"2022-12-05 13:14:50\",\"2022-12-05 14:43:03\",\"2022-12-05 14:53:47\",\"2022-12-05 15:00:11\",\"2022-12-05 15:19:07\",\"2022-12-05 15:25:57\",\"2022-12-06 16:56:58\"],\"xaxis\":\"x\",\"y\":[180078,180078,702320,2048329,2051196,2834625,4063311,4166154,4166154,4166154,4166154,4166154,4166154,4166154],\"yaxis\":\"y\",\"type\":\"scatter\"},{\"hovertemplate\":\"\\u540d\\u524d=gabriel55_<br>\\u63d0\\u51fa\\u65e5\\u6642=%{x}<br>\\u30b9\\u30b3\\u30a2=%{y}<extra></extra>\",\"legendgroup\":\"gabriel55_\",\"line\":{\"color\":\"#FF97FF\",\"dash\":\"solid\"},\"marker\":{\"symbol\":\"circle\"},\"mode\":\"lines\",\"name\":\"gabriel55_\",\"orientation\":\"v\",\"showlegend\":true,\"x\":[\"2022-12-04 09:14:52\",\"2022-12-10 02:02:10\",\"2022-12-10 02:18:03\",\"2022-12-10 02:25:36\"],\"xaxis\":\"x\",\"y\":[174011,462523,462523,4226395],\"yaxis\":\"y\",\"type\":\"scatter\"},{\"hovertemplate\":\"\\u540d\\u524d=amylase<br>\\u63d0\\u51fa\\u65e5\\u6642=%{x}<br>\\u30b9\\u30b3\\u30a2=%{y}<extra></extra>\",\"legendgroup\":\"amylase\",\"line\":{\"color\":\"#FECB52\",\"dash\":\"solid\"},\"marker\":{\"symbol\":\"circle\"},\"mode\":\"lines\",\"name\":\"amylase\",\"orientation\":\"v\",\"showlegend\":true,\"x\":[\"2022-12-04 11:40:00\",\"2022-12-04 13:05:43\",\"2022-12-04 13:51:42\",\"2022-12-04 17:03:39\",\"2022-12-04 17:29:46\"],\"xaxis\":\"x\",\"y\":[3558309,3558309,3622110,3622110,3624732],\"yaxis\":\"y\",\"type\":\"scatter\"},{\"hovertemplate\":\"\\u540d\\u524d=keroru<br>\\u63d0\\u51fa\\u65e5\\u6642=%{x}<br>\\u30b9\\u30b3\\u30a2=%{y}<extra></extra>\",\"legendgroup\":\"keroru\",\"line\":{\"color\":\"#636efa\",\"dash\":\"solid\"},\"marker\":{\"symbol\":\"circle\"},\"mode\":\"lines\",\"name\":\"keroru\",\"orientation\":\"v\",\"showlegend\":true,\"x\":[\"2022-12-04 13:52:14\",\"2022-12-05 18:58:41\",\"2022-12-05 19:36:12\",\"2022-12-05 20:47:36\",\"2022-12-05 20:54:14\",\"2022-12-05 21:02:53\",\"2022-12-06 20:59:37\",\"2022-12-08 21:59:47\",\"2022-12-08 22:12:34\",\"2022-12-08 22:18:26\",\"2022-12-10 02:21:00\",\"2022-12-10 02:29:06\",\"2022-12-10 02:42:26\",\"2022-12-10 02:57:35\",\"2022-12-10 03:07:46\",\"2022-12-10 03:15:09\",\"2022-12-10 03:23:39\",\"2022-12-10 03:29:12\",\"2022-12-10 03:38:09\",\"2022-12-10 09:12:46\",\"2022-12-10 10:15:16\",\"2022-12-10 10:50:54\",\"2022-12-10 10:56:35\",\"2022-12-10 12:32:32\",\"2022-12-10 14:41:54\",\"2022-12-10 14:56:14\",\"2022-12-10 15:03:54\",\"2022-12-10 15:15:35\",\"2022-12-10 15:30:39\",\"2022-12-10 15:35:40\",\"2022-12-10 15:42:53\",\"2022-12-10 15:56:53\",\"2022-12-10 16:13:33\",\"2022-12-10 17:01:27\",\"2022-12-10 17:20:09\",\"2022-12-10 17:48:01\",\"2022-12-10 17:59:54\",\"2022-12-10 18:05:10\",\"2022-12-10 18:43:20\",\"2022-12-10 20:25:30\",\"2022-12-10 20:41:49\",\"2022-12-10 22:35:27\",\"2022-12-10 22:41:51\",\"2022-12-10 23:56:46\",\"2022-12-11 00:05:03\",\"2022-12-11 00:19:05\",\"2022-12-11 00:59:26\",\"2022-12-11 01:44:37\",\"2022-12-11 01:49:38\",\"2022-12-11 01:55:43\",\"2022-12-11 02:02:38\",\"2022-12-11 02:38:20\",\"2022-12-11 03:00:26\",\"2022-12-11 10:11:04\",\"2022-12-11 12:05:02\",\"2022-12-11 13:33:46\",\"2022-12-11 15:02:56\",\"2022-12-11 15:09:27\",\"2022-12-11 15:35:07\",\"2022-12-11 15:55:37\",\"2022-12-11 16:19:09\",\"2022-12-11 16:25:43\",\"2022-12-11 16:39:55\",\"2022-12-11 16:49:19\",\"2022-12-11 17:26:57\",\"2022-12-11 17:39:09\",\"2022-12-11 18:02:29\",\"2022-12-11 18:08:00\",\"2022-12-11 18:15:09\",\"2022-12-11 18:45:38\",\"2022-12-11 18:51:28\",\"2022-12-11 18:58:28\"],\"xaxis\":\"x\",\"y\":[1260943,2471573,2620555,2620555,2620555,2620555,3373845,4635364,4682182,4685731,5835908,5835908,5953220,5987705,5990336,5999047,5999047,5999047,5999047,5999047,5999047,5999047,5999047,5999047,5999047,5999047,5999047,5999047,5999064,5999064,6000746,6036384,6060334,6060334,6060334,6060334,6060334,6060334,6060334,6060334,6060334,6060334,6060334,6060334,6060334,6062132,6062132,6062132,6062132,6062132,6062132,6062132,6062132,6062132,6062132,6062132,6062132,6062132,6062132,6062132,6062132,6062132,6062132,6062132,6087799,6099667,6099667,6110893,6110893,6110893,6110893,6110893],\"yaxis\":\"y\",\"type\":\"scatter\"},{\"hovertemplate\":\"\\u540d\\u524d=kuruton456<br>\\u63d0\\u51fa\\u65e5\\u6642=%{x}<br>\\u30b9\\u30b3\\u30a2=%{y}<extra></extra>\",\"legendgroup\":\"kuruton456\",\"line\":{\"color\":\"#EF553B\",\"dash\":\"solid\"},\"marker\":{\"symbol\":\"circle\"},\"mode\":\"lines\",\"name\":\"kuruton456\",\"orientation\":\"v\",\"showlegend\":true,\"x\":[\"2022-12-04 20:30:02\"],\"xaxis\":\"x\",\"y\":[2922291],\"yaxis\":\"y\",\"type\":\"scatter\"},{\"hovertemplate\":\"\\u540d\\u524d=ainem<br>\\u63d0\\u51fa\\u65e5\\u6642=%{x}<br>\\u30b9\\u30b3\\u30a2=%{y}<extra></extra>\",\"legendgroup\":\"ainem\",\"line\":{\"color\":\"#00cc96\",\"dash\":\"solid\"},\"marker\":{\"symbol\":\"circle\"},\"mode\":\"lines\",\"name\":\"ainem\",\"orientation\":\"v\",\"showlegend\":true,\"x\":[\"2022-12-05 10:51:06\",\"2022-12-05 11:28:22\",\"2022-12-05 13:42:34\",\"2022-12-05 17:24:20\",\"2022-12-05 18:14:12\",\"2022-12-06 09:26:32\",\"2022-12-06 10:14:14\",\"2022-12-06 11:05:14\",\"2022-12-07 12:34:07\",\"2022-12-08 17:17:15\",\"2022-12-09 12:50:21\"],\"xaxis\":\"x\",\"y\":[3307104,4268062,4520107,4520107,4520107,4520107,4520107,4520107,4520107,5257160,5257160],\"yaxis\":\"y\",\"type\":\"scatter\"},{\"hovertemplate\":\"\\u540d\\u524d=yas_yasyu<br>\\u63d0\\u51fa\\u65e5\\u6642=%{x}<br>\\u30b9\\u30b3\\u30a2=%{y}<extra></extra>\",\"legendgroup\":\"yas_yasyu\",\"line\":{\"color\":\"#ab63fa\",\"dash\":\"solid\"},\"marker\":{\"symbol\":\"circle\"},\"mode\":\"lines\",\"name\":\"yas_yasyu\",\"orientation\":\"v\",\"showlegend\":true,\"x\":[\"2022-12-05 15:02:56\",\"2022-12-05 15:16:54\",\"2022-12-05 15:59:35\",\"2022-12-05 16:05:56\",\"2022-12-05 16:25:15\",\"2022-12-05 17:19:57\",\"2022-12-07 09:19:56\",\"2022-12-07 09:24:56\",\"2022-12-07 09:33:34\",\"2022-12-07 10:43:09\",\"2022-12-07 11:22:06\",\"2022-12-07 13:16:35\",\"2022-12-07 14:13:58\",\"2022-12-07 14:19:41\",\"2022-12-07 14:29:30\",\"2022-12-07 16:04:10\",\"2022-12-07 17:14:02\",\"2022-12-07 17:35:01\",\"2022-12-09 03:15:19\",\"2022-12-09 03:25:24\",\"2022-12-09 03:30:37\",\"2022-12-09 04:01:54\",\"2022-12-09 04:08:01\",\"2022-12-09 04:13:01\",\"2022-12-09 04:19:05\",\"2022-12-09 04:24:54\",\"2022-12-09 04:30:03\",\"2022-12-09 04:35:27\",\"2022-12-09 04:40:27\",\"2022-12-09 04:46:52\",\"2022-12-09 04:51:53\",\"2022-12-09 04:56:53\",\"2022-12-09 05:03:34\",\"2022-12-09 05:08:38\",\"2022-12-09 05:30:16\",\"2022-12-09 05:39:15\",\"2022-12-09 07:01:51\",\"2022-12-09 16:15:31\"],\"xaxis\":\"x\",\"y\":[3526180,3531529,3531529,3531529,3531529,3531529,4192556,4296901,4644674,4644674,4644674,4644674,4644674,4644674,4657354,4657354,4657354,4657354,4657354,4657354,4657354,4657354,4657354,4657354,4871492,4900483,4900483,4900483,4906392,4906392,4949712,4949712,4949712,4949712,4951868,4951868,4951868,4951868],\"yaxis\":\"y\",\"type\":\"scatter\"},{\"hovertemplate\":\"\\u540d\\u524d=fujikawahiroaki<br>\\u63d0\\u51fa\\u65e5\\u6642=%{x}<br>\\u30b9\\u30b3\\u30a2=%{y}<extra></extra>\",\"legendgroup\":\"fujikawahiroaki\",\"line\":{\"color\":\"#FFA15A\",\"dash\":\"solid\"},\"marker\":{\"symbol\":\"circle\"},\"mode\":\"lines\",\"name\":\"fujikawahiroaki\",\"orientation\":\"v\",\"showlegend\":true,\"x\":[\"2022-12-06 14:47:24\",\"2022-12-06 15:29:30\",\"2022-12-07 05:51:39\",\"2022-12-07 06:21:41\",\"2022-12-07 07:33:41\",\"2022-12-07 09:33:57\",\"2022-12-07 09:52:53\",\"2022-12-07 10:12:48\",\"2022-12-07 14:48:22\",\"2022-12-08 11:58:13\",\"2022-12-08 21:05:48\",\"2022-12-09 15:13:01\",\"2022-12-09 22:16:46\",\"2022-12-10 15:19:15\",\"2022-12-10 19:01:19\",\"2022-12-11 14:30:59\",\"2022-12-11 16:31:12\",\"2022-12-11 18:03:57\"],\"xaxis\":\"x\",\"y\":[2795925,2823587,4244061,4244061,4244061,4555001,4607162,4683820,4683820,4683820,4738395,4787239,4787977,5814795,5843099,5877068,5912645,5912645],\"yaxis\":\"y\",\"type\":\"scatter\"},{\"hovertemplate\":\"\\u540d\\u524d=Gex777<br>\\u63d0\\u51fa\\u65e5\\u6642=%{x}<br>\\u30b9\\u30b3\\u30a2=%{y}<extra></extra>\",\"legendgroup\":\"Gex777\",\"line\":{\"color\":\"#19d3f3\",\"dash\":\"solid\"},\"marker\":{\"symbol\":\"circle\"},\"mode\":\"lines\",\"name\":\"Gex777\",\"orientation\":\"v\",\"showlegend\":true,\"x\":[\"2022-12-06 23:40:43\",\"2022-12-07 00:10:52\",\"2022-12-07 00:38:08\",\"2022-12-07 00:51:28\",\"2022-12-07 01:05:51\",\"2022-12-07 01:14:25\",\"2022-12-07 01:19:32\",\"2022-12-07 01:28:00\",\"2022-12-07 01:33:00\",\"2022-12-07 01:38:40\",\"2022-12-07 01:43:43\",\"2022-12-07 01:48:56\",\"2022-12-07 01:54:13\",\"2022-12-07 01:59:50\",\"2022-12-07 02:05:17\",\"2022-12-07 02:11:26\",\"2022-12-07 02:16:57\",\"2022-12-07 02:22:35\",\"2022-12-07 02:27:48\",\"2022-12-07 02:35:15\",\"2022-12-07 02:40:53\",\"2022-12-07 02:45:53\",\"2022-12-07 02:52:47\",\"2022-12-07 02:58:10\",\"2022-12-07 03:03:33\",\"2022-12-07 03:08:53\",\"2022-12-07 03:15:52\",\"2022-12-07 03:22:43\",\"2022-12-08 20:59:13\",\"2022-12-08 22:31:55\",\"2022-12-09 00:11:06\",\"2022-12-09 00:16:06\",\"2022-12-09 02:00:53\",\"2022-12-09 02:06:08\",\"2022-12-09 02:18:24\"],\"xaxis\":\"x\",\"y\":[3778800,3778800,3778800,3778800,3779621,4210672,4210672,4210672,4210672,4210672,4210672,4210672,4210672,4210672,4210672,4226447,4226447,4226447,4226447,4226447,4226447,4226447,4226447,4226447,4226447,4226447,4226447,4226447,4226447,4226447,4226447,4226447,4226447,4226447,4226447],\"yaxis\":\"y\",\"type\":\"scatter\"}],                        {\"template\":{\"data\":{\"histogram2dcontour\":[{\"type\":\"histogram2dcontour\",\"colorbar\":{\"outlinewidth\":0,\"ticks\":\"\"},\"colorscale\":[[0.0,\"#0d0887\"],[0.1111111111111111,\"#46039f\"],[0.2222222222222222,\"#7201a8\"],[0.3333333333333333,\"#9c179e\"],[0.4444444444444444,\"#bd3786\"],[0.5555555555555556,\"#d8576b\"],[0.6666666666666666,\"#ed7953\"],[0.7777777777777778,\"#fb9f3a\"],[0.8888888888888888,\"#fdca26\"],[1.0,\"#f0f921\"]]}],\"choropleth\":[{\"type\":\"choropleth\",\"colorbar\":{\"outlinewidth\":0,\"ticks\":\"\"}}],\"histogram2d\":[{\"type\":\"histogram2d\",\"colorbar\":{\"outlinewidth\":0,\"ticks\":\"\"},\"colorscale\":[[0.0,\"#0d0887\"],[0.1111111111111111,\"#46039f\"],[0.2222222222222222,\"#7201a8\"],[0.3333333333333333,\"#9c179e\"],[0.4444444444444444,\"#bd3786\"],[0.5555555555555556,\"#d8576b\"],[0.6666666666666666,\"#ed7953\"],[0.7777777777777778,\"#fb9f3a\"],[0.8888888888888888,\"#fdca26\"],[1.0,\"#f0f921\"]]}],\"heatmap\":[{\"type\":\"heatmap\",\"colorbar\":{\"outlinewidth\":0,\"ticks\":\"\"},\"colorscale\":[[0.0,\"#0d0887\"],[0.1111111111111111,\"#46039f\"],[0.2222222222222222,\"#7201a8\"],[0.3333333333333333,\"#9c179e\"],[0.4444444444444444,\"#bd3786\"],[0.5555555555555556,\"#d8576b\"],[0.6666666666666666,\"#ed7953\"],[0.7777777777777778,\"#fb9f3a\"],[0.8888888888888888,\"#fdca26\"],[1.0,\"#f0f921\"]]}],\"heatmapgl\":[{\"type\":\"heatmapgl\",\"colorbar\":{\"outlinewidth\":0,\"ticks\":\"\"},\"colorscale\":[[0.0,\"#0d0887\"],[0.1111111111111111,\"#46039f\"],[0.2222222222222222,\"#7201a8\"],[0.3333333333333333,\"#9c179e\"],[0.4444444444444444,\"#bd3786\"],[0.5555555555555556,\"#d8576b\"],[0.6666666666666666,\"#ed7953\"],[0.7777777777777778,\"#fb9f3a\"],[0.8888888888888888,\"#fdca26\"],[1.0,\"#f0f921\"]]}],\"contourcarpet\":[{\"type\":\"contourcarpet\",\"colorbar\":{\"outlinewidth\":0,\"ticks\":\"\"}}],\"contour\":[{\"type\":\"contour\",\"colorbar\":{\"outlinewidth\":0,\"ticks\":\"\"},\"colorscale\":[[0.0,\"#0d0887\"],[0.1111111111111111,\"#46039f\"],[0.2222222222222222,\"#7201a8\"],[0.3333333333333333,\"#9c179e\"],[0.4444444444444444,\"#bd3786\"],[0.5555555555555556,\"#d8576b\"],[0.6666666666666666,\"#ed7953\"],[0.7777777777777778,\"#fb9f3a\"],[0.8888888888888888,\"#fdca26\"],[1.0,\"#f0f921\"]]}],\"surface\":[{\"type\":\"surface\",\"colorbar\":{\"outlinewidth\":0,\"ticks\":\"\"},\"colorscale\":[[0.0,\"#0d0887\"],[0.1111111111111111,\"#46039f\"],[0.2222222222222222,\"#7201a8\"],[0.3333333333333333,\"#9c179e\"],[0.4444444444444444,\"#bd3786\"],[0.5555555555555556,\"#d8576b\"],[0.6666666666666666,\"#ed7953\"],[0.7777777777777778,\"#fb9f3a\"],[0.8888888888888888,\"#fdca26\"],[1.0,\"#f0f921\"]]}],\"mesh3d\":[{\"type\":\"mesh3d\",\"colorbar\":{\"outlinewidth\":0,\"ticks\":\"\"}}],\"scatter\":[{\"fillpattern\":{\"fillmode\":\"overlay\",\"size\":10,\"solidity\":0.2},\"type\":\"scatter\"}],\"parcoords\":[{\"type\":\"parcoords\",\"line\":{\"colorbar\":{\"outlinewidth\":0,\"ticks\":\"\"}}}],\"scatterpolargl\":[{\"type\":\"scatterpolargl\",\"marker\":{\"colorbar\":{\"outlinewidth\":0,\"ticks\":\"\"}}}],\"bar\":[{\"error_x\":{\"color\":\"#2a3f5f\"},\"error_y\":{\"color\":\"#2a3f5f\"},\"marker\":{\"line\":{\"color\":\"#E5ECF6\",\"width\":0.5},\"pattern\":{\"fillmode\":\"overlay\",\"size\":10,\"solidity\":0.2}},\"type\":\"bar\"}],\"scattergeo\":[{\"type\":\"scattergeo\",\"marker\":{\"colorbar\":{\"outlinewidth\":0,\"ticks\":\"\"}}}],\"scatterpolar\":[{\"type\":\"scatterpolar\",\"marker\":{\"colorbar\":{\"outlinewidth\":0,\"ticks\":\"\"}}}],\"histogram\":[{\"marker\":{\"pattern\":{\"fillmode\":\"overlay\",\"size\":10,\"solidity\":0.2}},\"type\":\"histogram\"}],\"scattergl\":[{\"type\":\"scattergl\",\"marker\":{\"colorbar\":{\"outlinewidth\":0,\"ticks\":\"\"}}}],\"scatter3d\":[{\"type\":\"scatter3d\",\"line\":{\"colorbar\":{\"outlinewidth\":0,\"ticks\":\"\"}},\"marker\":{\"colorbar\":{\"outlinewidth\":0,\"ticks\":\"\"}}}],\"scattermapbox\":[{\"type\":\"scattermapbox\",\"marker\":{\"colorbar\":{\"outlinewidth\":0,\"ticks\":\"\"}}}],\"scatterternary\":[{\"type\":\"scatterternary\",\"marker\":{\"colorbar\":{\"outlinewidth\":0,\"ticks\":\"\"}}}],\"scattercarpet\":[{\"type\":\"scattercarpet\",\"marker\":{\"colorbar\":{\"outlinewidth\":0,\"ticks\":\"\"}}}],\"carpet\":[{\"aaxis\":{\"endlinecolor\":\"#2a3f5f\",\"gridcolor\":\"white\",\"linecolor\":\"white\",\"minorgridcolor\":\"white\",\"startlinecolor\":\"#2a3f5f\"},\"baxis\":{\"endlinecolor\":\"#2a3f5f\",\"gridcolor\":\"white\",\"linecolor\":\"white\",\"minorgridcolor\":\"white\",\"startlinecolor\":\"#2a3f5f\"},\"type\":\"carpet\"}],\"table\":[{\"cells\":{\"fill\":{\"color\":\"#EBF0F8\"},\"line\":{\"color\":\"white\"}},\"header\":{\"fill\":{\"color\":\"#C8D4E3\"},\"line\":{\"color\":\"white\"}},\"type\":\"table\"}],\"barpolar\":[{\"marker\":{\"line\":{\"color\":\"#E5ECF6\",\"width\":0.5},\"pattern\":{\"fillmode\":\"overlay\",\"size\":10,\"solidity\":0.2}},\"type\":\"barpolar\"}],\"pie\":[{\"automargin\":true,\"type\":\"pie\"}]},\"layout\":{\"autotypenumbers\":\"strict\",\"colorway\":[\"#636efa\",\"#EF553B\",\"#00cc96\",\"#ab63fa\",\"#FFA15A\",\"#19d3f3\",\"#FF6692\",\"#B6E880\",\"#FF97FF\",\"#FECB52\"],\"font\":{\"color\":\"#2a3f5f\"},\"hovermode\":\"closest\",\"hoverlabel\":{\"align\":\"left\"},\"paper_bgcolor\":\"white\",\"plot_bgcolor\":\"#E5ECF6\",\"polar\":{\"bgcolor\":\"#E5ECF6\",\"angularaxis\":{\"gridcolor\":\"white\",\"linecolor\":\"white\",\"ticks\":\"\"},\"radialaxis\":{\"gridcolor\":\"white\",\"linecolor\":\"white\",\"ticks\":\"\"}},\"ternary\":{\"bgcolor\":\"#E5ECF6\",\"aaxis\":{\"gridcolor\":\"white\",\"linecolor\":\"white\",\"ticks\":\"\"},\"baxis\":{\"gridcolor\":\"white\",\"linecolor\":\"white\",\"ticks\":\"\"},\"caxis\":{\"gridcolor\":\"white\",\"linecolor\":\"white\",\"ticks\":\"\"}},\"coloraxis\":{\"colorbar\":{\"outlinewidth\":0,\"ticks\":\"\"}},\"colorscale\":{\"sequential\":[[0.0,\"#0d0887\"],[0.1111111111111111,\"#46039f\"],[0.2222222222222222,\"#7201a8\"],[0.3333333333333333,\"#9c179e\"],[0.4444444444444444,\"#bd3786\"],[0.5555555555555556,\"#d8576b\"],[0.6666666666666666,\"#ed7953\"],[0.7777777777777778,\"#fb9f3a\"],[0.8888888888888888,\"#fdca26\"],[1.0,\"#f0f921\"]],\"sequentialminus\":[[0.0,\"#0d0887\"],[0.1111111111111111,\"#46039f\"],[0.2222222222222222,\"#7201a8\"],[0.3333333333333333,\"#9c179e\"],[0.4444444444444444,\"#bd3786\"],[0.5555555555555556,\"#d8576b\"],[0.6666666666666666,\"#ed7953\"],[0.7777777777777778,\"#fb9f3a\"],[0.8888888888888888,\"#fdca26\"],[1.0,\"#f0f921\"]],\"diverging\":[[0,\"#8e0152\"],[0.1,\"#c51b7d\"],[0.2,\"#de77ae\"],[0.3,\"#f1b6da\"],[0.4,\"#fde0ef\"],[0.5,\"#f7f7f7\"],[0.6,\"#e6f5d0\"],[0.7,\"#b8e186\"],[0.8,\"#7fbc41\"],[0.9,\"#4d9221\"],[1,\"#276419\"]]},\"xaxis\":{\"gridcolor\":\"white\",\"linecolor\":\"white\",\"ticks\":\"\",\"title\":{\"standoff\":15},\"zerolinecolor\":\"white\",\"automargin\":true,\"zerolinewidth\":2},\"yaxis\":{\"gridcolor\":\"white\",\"linecolor\":\"white\",\"ticks\":\"\",\"title\":{\"standoff\":15},\"zerolinecolor\":\"white\",\"automargin\":true,\"zerolinewidth\":2},\"scene\":{\"xaxis\":{\"backgroundcolor\":\"#E5ECF6\",\"gridcolor\":\"white\",\"linecolor\":\"white\",\"showbackground\":true,\"ticks\":\"\",\"zerolinecolor\":\"white\",\"gridwidth\":2},\"yaxis\":{\"backgroundcolor\":\"#E5ECF6\",\"gridcolor\":\"white\",\"linecolor\":\"white\",\"showbackground\":true,\"ticks\":\"\",\"zerolinecolor\":\"white\",\"gridwidth\":2},\"zaxis\":{\"backgroundcolor\":\"#E5ECF6\",\"gridcolor\":\"white\",\"linecolor\":\"white\",\"showbackground\":true,\"ticks\":\"\",\"zerolinecolor\":\"white\",\"gridwidth\":2}},\"shapedefaults\":{\"line\":{\"color\":\"#2a3f5f\"}},\"annotationdefaults\":{\"arrowcolor\":\"#2a3f5f\",\"arrowhead\":0,\"arrowwidth\":1},\"geo\":{\"bgcolor\":\"white\",\"landcolor\":\"#E5ECF6\",\"subunitcolor\":\"white\",\"showland\":true,\"showlakes\":true,\"lakecolor\":\"white\"},\"title\":{\"x\":0.05},\"mapbox\":{\"style\":\"light\"}}},\"xaxis\":{\"anchor\":\"y\",\"domain\":[0.0,1.0],\"title\":{\"text\":\"\\u63d0\\u51fa\\u65e5\\u6642\"}},\"yaxis\":{\"anchor\":\"x\",\"domain\":[0.0,1.0],\"title\":{\"text\":\"\\u30b9\\u30b3\\u30a2\"}},\"legend\":{\"title\":{\"text\":\"\\u540d\\u524d\"},\"tracegroupgap\":0},\"margin\":{\"t\":60}},                        {\"responsive\": true}                    ).then(function(){\n",
              "                            \n",
              "var gd = document.getElementById('1438d310-7a86-48bd-a3f3-727dda8239d6');\n",
              "var x = new MutationObserver(function (mutations, observer) {{\n",
              "        var display = window.getComputedStyle(gd).display;\n",
              "        if (!display || display === 'none') {{\n",
              "            console.log([gd, 'removed!']);\n",
              "            Plotly.purge(gd);\n",
              "            observer.disconnect();\n",
              "        }}\n",
              "}});\n",
              "\n",
              "// Listen for the removal of the full notebook cells\n",
              "var notebookContainer = gd.closest('#notebook-container');\n",
              "if (notebookContainer) {{\n",
              "    x.observe(notebookContainer, {childList: true});\n",
              "}}\n",
              "\n",
              "// Listen for the clearing of the current output cell\n",
              "var outputEl = gd.closest('.output');\n",
              "if (outputEl) {{\n",
              "    x.observe(outputEl, {childList: true});\n",
              "}}\n",
              "\n",
              "                        })                };                            </script>        </div>\n",
              "</body>\n",
              "</html>"
            ]
          },
          "metadata": {}
        }
      ]
    },
    {
      "cell_type": "code",
      "source": [
        "df_line_team = df.sort_values(\"提出日時\", ascending = True)\n",
        "df_line_team[\"スコア\"] = df_line_team.groupby(\"チーム名\")[\"スコア\"].cummax()\n",
        "\n",
        "fig_team = px.line(df_line_team, x=\"提出日時\", y=\"スコア\", color=\"チーム名\")\n",
        "fig_team.show()"
      ],
      "metadata": {
        "colab": {
          "base_uri": "https://localhost:8080/",
          "height": 542
        },
        "id": "EpxqzKzMJTRE",
        "outputId": "ff91d03e-8248-4667-9b92-e392510603e1"
      },
      "execution_count": 7,
      "outputs": [
        {
          "output_type": "display_data",
          "data": {
            "text/html": [
              "<html>\n",
              "<head><meta charset=\"utf-8\" /></head>\n",
              "<body>\n",
              "    <div>            <script src=\"https://cdnjs.cloudflare.com/ajax/libs/mathjax/2.7.5/MathJax.js?config=TeX-AMS-MML_SVG\"></script><script type=\"text/javascript\">if (window.MathJax && window.MathJax.Hub && window.MathJax.Hub.Config) {window.MathJax.Hub.Config({SVG: {font: \"STIX-Web\"}});}</script>                <script type=\"text/javascript\">window.PlotlyConfig = {MathJaxConfig: 'local'};</script>\n",
              "        <script src=\"https://cdn.plot.ly/plotly-2.18.2.min.js\"></script>                <div id=\"94687536-e15a-4cc0-a141-866ee969c464\" class=\"plotly-graph-div\" style=\"height:525px; width:100%;\"></div>            <script type=\"text/javascript\">                                    window.PLOTLYENV=window.PLOTLYENV || {};                                    if (document.getElementById(\"94687536-e15a-4cc0-a141-866ee969c464\")) {                    Plotly.newPlot(                        \"94687536-e15a-4cc0-a141-866ee969c464\",                        [{\"hovertemplate\":\"\\u30c1\\u30fc\\u30e0\\u540d=\\u4ffa\\u306f\\u30bf\\u30b9\\u30de\\u30cb\\u30a2\\uff01\\u304a\\u524d\\u306f\\u4f55\\u30de\\u30cb\\u30a2\\uff1f<br>\\u63d0\\u51fa\\u65e5\\u6642=%{x}<br>\\u30b9\\u30b3\\u30a2=%{y}<extra></extra>\",\"legendgroup\":\"\\u4ffa\\u306f\\u30bf\\u30b9\\u30de\\u30cb\\u30a2\\uff01\\u304a\\u524d\\u306f\\u4f55\\u30de\\u30cb\\u30a2\\uff1f\",\"line\":{\"color\":\"#636efa\",\"dash\":\"solid\"},\"marker\":{\"symbol\":\"circle\"},\"mode\":\"lines\",\"name\":\"\\u4ffa\\u306f\\u30bf\\u30b9\\u30de\\u30cb\\u30a2\\uff01\\u304a\\u524d\\u306f\\u4f55\\u30de\\u30cb\\u30a2\\uff1f\",\"orientation\":\"v\",\"showlegend\":true,\"x\":[\"2022-12-02 19:06:52\",\"2022-12-02 20:14:52\",\"2022-12-02 21:09:33\",\"2022-12-02 22:04:38\",\"2022-12-02 22:30:12\",\"2022-12-02 22:44:01\",\"2022-12-03 02:20:27\",\"2022-12-03 03:29:37\",\"2022-12-03 04:59:43\",\"2022-12-03 05:46:55\",\"2022-12-03 13:26:20\",\"2022-12-03 14:40:15\",\"2022-12-03 15:09:18\",\"2022-12-03 15:51:48\",\"2022-12-03 23:47:21\",\"2022-12-04 11:40:00\",\"2022-12-04 13:05:43\",\"2022-12-04 13:51:42\",\"2022-12-04 17:03:39\",\"2022-12-04 17:29:46\",\"2022-12-05 11:24:05\",\"2022-12-05 12:02:02\",\"2022-12-05 13:14:59\",\"2022-12-05 13:33:03\",\"2022-12-05 13:38:39\",\"2022-12-05 13:44:25\",\"2022-12-05 13:52:45\",\"2022-12-06 02:26:08\",\"2022-12-06 02:49:21\",\"2022-12-06 03:01:50\",\"2022-12-06 09:34:25\",\"2022-12-06 09:39:34\",\"2022-12-06 09:46:38\",\"2022-12-06 20:12:37\",\"2022-12-07 19:47:24\",\"2022-12-07 19:58:02\",\"2022-12-07 20:09:32\",\"2022-12-11 03:30:03\",\"2022-12-11 16:01:22\",\"2022-12-11 16:36:30\",\"2022-12-11 17:36:46\",\"2022-12-11 17:58:21\"],\"xaxis\":\"x\",\"y\":[4861,1119489,3837319,4472075,4472075,4472363,4472363,4472363,5809364,6103167,6103167,6120705,6120705,6120705,6120705,6120705,6120705,6120705,6120705,6120705,6143916,6143916,6143916,6143916,6143916,6143916,6144594,6144594,6144594,6144594,6144594,6144594,6144594,6144594,6144594,6144594,6144594,6149264,6149264,6149264,6149264,6149264],\"yaxis\":\"y\",\"type\":\"scatter\"},{\"hovertemplate\":\"\\u30c1\\u30fc\\u30e0\\u540d=a1nem<br>\\u63d0\\u51fa\\u65e5\\u6642=%{x}<br>\\u30b9\\u30b3\\u30a2=%{y}<extra></extra>\",\"legendgroup\":\"a1nem\",\"line\":{\"color\":\"#EF553B\",\"dash\":\"solid\"},\"marker\":{\"symbol\":\"circle\"},\"mode\":\"lines\",\"name\":\"a1nem\",\"orientation\":\"v\",\"showlegend\":true,\"x\":[\"2022-12-02 19:20:25\",\"2022-12-02 19:45:36\",\"2022-12-02 20:09:17\",\"2022-12-02 20:15:56\",\"2022-12-02 22:32:37\",\"2022-12-02 23:01:40\",\"2022-12-02 23:06:55\",\"2022-12-03 00:44:28\",\"2022-12-03 02:02:58\",\"2022-12-03 11:09:32\",\"2022-12-03 11:28:29\",\"2022-12-03 11:50:46\",\"2022-12-03 11:57:32\",\"2022-12-03 12:02:38\",\"2022-12-03 12:07:49\",\"2022-12-03 12:23:22\",\"2022-12-03 12:32:00\",\"2022-12-03 16:30:11\",\"2022-12-03 23:59:09\",\"2022-12-04 00:08:35\",\"2022-12-04 00:13:35\",\"2022-12-04 00:18:35\",\"2022-12-04 03:21:43\",\"2022-12-04 13:36:04\",\"2022-12-05 00:08:39\",\"2022-12-05 08:25:07\",\"2022-12-05 13:31:08\",\"2022-12-06 04:22:26\",\"2022-12-06 04:33:43\",\"2022-12-06 04:59:40\",\"2022-12-06 05:04:53\",\"2022-12-06 05:29:23\",\"2022-12-06 05:39:27\",\"2022-12-06 07:55:16\",\"2022-12-06 16:06:42\",\"2022-12-06 16:30:29\",\"2022-12-06 23:22:08\",\"2022-12-07 11:59:38\",\"2022-12-07 12:10:27\",\"2022-12-07 23:03:14\",\"2022-12-07 23:19:31\",\"2022-12-07 23:37:22\",\"2022-12-08 00:00:23\",\"2022-12-08 00:41:59\",\"2022-12-08 03:12:04\",\"2022-12-08 04:07:05\",\"2022-12-08 04:14:01\",\"2022-12-08 04:23:46\",\"2022-12-08 04:44:41\",\"2022-12-08 05:02:18\",\"2022-12-08 06:46:31\",\"2022-12-08 06:51:48\",\"2022-12-08 07:51:45\",\"2022-12-08 09:40:05\",\"2022-12-08 11:32:42\",\"2022-12-08 11:37:53\",\"2022-12-08 11:48:38\",\"2022-12-08 12:58:44\",\"2022-12-08 13:15:29\",\"2022-12-08 21:29:32\",\"2022-12-08 22:31:25\",\"2022-12-08 23:01:08\",\"2022-12-08 23:19:55\",\"2022-12-08 23:31:16\",\"2022-12-09 00:01:57\",\"2022-12-09 00:07:48\",\"2022-12-09 00:21:13\",\"2022-12-09 03:21:50\",\"2022-12-09 03:36:28\",\"2022-12-09 07:41:10\",\"2022-12-09 08:38:45\",\"2022-12-09 09:38:36\",\"2022-12-09 12:30:53\",\"2022-12-09 12:47:33\",\"2022-12-09 16:24:33\",\"2022-12-09 16:35:15\",\"2022-12-09 16:56:11\",\"2022-12-09 18:56:57\",\"2022-12-09 19:30:13\",\"2022-12-09 19:42:42\",\"2022-12-09 19:51:51\",\"2022-12-09 19:57:47\",\"2022-12-09 20:03:47\",\"2022-12-09 20:17:45\",\"2022-12-09 20:39:57\",\"2022-12-09 20:58:33\",\"2022-12-09 21:38:31\",\"2022-12-09 22:08:45\",\"2022-12-09 22:41:38\",\"2022-12-09 22:49:49\",\"2022-12-09 22:54:51\",\"2022-12-09 23:01:04\",\"2022-12-10 08:15:56\",\"2022-12-10 08:27:13\",\"2022-12-10 08:57:34\"],\"xaxis\":\"x\",\"y\":[7929,206679,1377893,1377893,2235582,2235582,2235582,2675018,3440929,4556870,4556870,4556870,4556870,4556876,4556876,4556876,4556876,4556876,4556876,4556876,4556876,4556876,4556876,4556876,4556876,4569140,4569140,4569140,4569140,4569140,4569140,4569140,4569140,5714196,5714196,5714196,6238443,6238443,6238443,6246052,6258882,6260176,6260176,6260176,6260176,6260176,6260176,6260176,6260176,6260176,6260176,6260176,6260176,6261379,6261379,6261379,6261379,6261379,6261379,6261379,6302210,6302210,6302210,6302210,6302210,6303715,6303715,6303715,6303715,6303715,6303715,6303715,6303715,6303715,6303715,6303715,6303715,6303715,6303715,6303715,6303715,6303715,6303715,6304639,6304639,6304639,6304639,6304639,6304639,6304639,6304639,6304639,6304639,6304639,6304639],\"yaxis\":\"y\",\"type\":\"scatter\"},{\"hovertemplate\":\"\\u30c1\\u30fc\\u30e0\\u540d=\\u3072\\u3088\\u3053<br>\\u63d0\\u51fa\\u65e5\\u6642=%{x}<br>\\u30b9\\u30b3\\u30a2=%{y}<extra></extra>\",\"legendgroup\":\"\\u3072\\u3088\\u3053\",\"line\":{\"color\":\"#00cc96\",\"dash\":\"solid\"},\"marker\":{\"symbol\":\"circle\"},\"mode\":\"lines\",\"name\":\"\\u3072\\u3088\\u3053\",\"orientation\":\"v\",\"showlegend\":true,\"x\":[\"2022-12-02 19:52:25\",\"2022-12-02 22:17:09\",\"2022-12-02 22:26:56\",\"2022-12-02 22:27:42\",\"2022-12-02 22:32:18\",\"2022-12-02 22:37:47\",\"2022-12-02 22:44:45\",\"2022-12-02 22:53:15\",\"2022-12-02 23:36:06\",\"2022-12-03 00:04:37\",\"2022-12-03 00:15:26\",\"2022-12-03 00:23:36\",\"2022-12-03 01:57:46\",\"2022-12-03 13:16:25\",\"2022-12-03 16:52:12\",\"2022-12-03 17:48:51\",\"2022-12-04 00:14:46\",\"2022-12-04 00:26:30\",\"2022-12-04 00:50:17\",\"2022-12-04 13:03:29\",\"2022-12-04 13:43:42\",\"2022-12-04 14:05:00\",\"2022-12-05 20:31:15\",\"2022-12-05 20:53:28\",\"2022-12-06 00:58:03\",\"2022-12-06 01:07:15\",\"2022-12-06 01:14:06\",\"2022-12-06 01:20:50\",\"2022-12-06 12:32:07\",\"2022-12-06 12:54:20\",\"2022-12-06 13:00:20\",\"2022-12-06 13:36:04\",\"2022-12-06 23:51:22\",\"2022-12-06 23:57:47\",\"2022-12-07 00:06:43\",\"2022-12-07 00:40:26\",\"2022-12-07 10:53:40\",\"2022-12-07 11:20:54\",\"2022-12-07 15:37:14\",\"2022-12-07 23:52:30\",\"2022-12-08 00:08:08\",\"2022-12-08 00:13:28\",\"2022-12-08 00:19:18\",\"2022-12-08 00:32:14\",\"2022-12-08 00:41:29\",\"2022-12-09 16:45:23\",\"2022-12-09 18:09:50\",\"2022-12-10 00:04:00\",\"2022-12-10 00:18:13\",\"2022-12-10 00:23:13\",\"2022-12-10 01:18:18\",\"2022-12-10 01:24:33\",\"2022-12-11 11:49:58\"],\"xaxis\":\"x\",\"y\":[4861,3776168,3776168,3776653,3776653,3776653,3776653,3776653,3776653,3776653,3776653,3800646,3800646,3800646,3800646,3800646,3800646,3800646,3800646,3800646,4976493,5100760,5209314,5209314,5209314,5209314,5209314,5209314,5209314,5209314,5209314,5209314,5209314,5209314,5209314,5209314,5209314,5209314,5209314,5209314,5209314,5209314,5209314,5209314,5209314,5520436,5815872,6003041,6003041,6022374,6022374,6022374,6022374],\"yaxis\":\"y\",\"type\":\"scatter\"},{\"hovertemplate\":\"\\u30c1\\u30fc\\u30e0\\u540d=\\u713c\\u304d\\u306b\\u3083\\u307e\\u3057\\u968a<br>\\u63d0\\u51fa\\u65e5\\u6642=%{x}<br>\\u30b9\\u30b3\\u30a2=%{y}<extra></extra>\",\"legendgroup\":\"\\u713c\\u304d\\u306b\\u3083\\u307e\\u3057\\u968a\",\"line\":{\"color\":\"#ab63fa\",\"dash\":\"solid\"},\"marker\":{\"symbol\":\"circle\"},\"mode\":\"lines\",\"name\":\"\\u713c\\u304d\\u306b\\u3083\\u307e\\u3057\\u968a\",\"orientation\":\"v\",\"showlegend\":true,\"x\":[\"2022-12-02 20:05:11\",\"2022-12-02 21:16:56\",\"2022-12-02 22:48:29\",\"2022-12-02 23:05:10\",\"2022-12-02 23:36:45\",\"2022-12-02 23:43:22\",\"2022-12-02 23:53:08\",\"2022-12-03 16:08:12\",\"2022-12-03 19:39:07\",\"2022-12-03 22:51:53\",\"2022-12-04 00:00:03\",\"2022-12-04 03:48:42\",\"2022-12-04 05:25:34\",\"2022-12-04 11:28:01\",\"2022-12-04 11:38:08\",\"2022-12-04 15:49:53\",\"2022-12-04 18:01:50\",\"2022-12-04 18:08:47\",\"2022-12-05 08:54:17\",\"2022-12-05 13:03:06\",\"2022-12-05 13:14:50\",\"2022-12-05 13:52:55\",\"2022-12-05 14:43:03\",\"2022-12-05 14:53:47\",\"2022-12-05 15:00:11\",\"2022-12-05 15:19:07\",\"2022-12-05 15:25:57\",\"2022-12-05 17:17:38\",\"2022-12-05 21:36:05\",\"2022-12-06 04:14:33\",\"2022-12-06 06:01:17\",\"2022-12-06 16:56:58\",\"2022-12-07 03:53:02\",\"2022-12-07 06:25:30\",\"2022-12-07 08:06:47\",\"2022-12-07 08:16:03\",\"2022-12-07 08:21:08\",\"2022-12-07 09:22:58\",\"2022-12-07 14:26:21\",\"2022-12-07 14:33:19\",\"2022-12-07 18:25:57\",\"2022-12-07 19:44:55\",\"2022-12-07 21:59:42\",\"2022-12-07 22:24:26\",\"2022-12-08 00:18:42\",\"2022-12-08 00:27:24\",\"2022-12-08 00:35:26\",\"2022-12-08 00:43:49\",\"2022-12-08 00:52:42\",\"2022-12-08 00:58:36\",\"2022-12-08 02:11:36\",\"2022-12-08 02:19:44\",\"2022-12-08 02:25:03\",\"2022-12-08 02:35:45\",\"2022-12-08 02:41:55\",\"2022-12-08 02:51:04\",\"2022-12-08 11:33:46\",\"2022-12-08 14:44:30\",\"2022-12-08 15:20:17\",\"2022-12-08 16:41:41\",\"2022-12-08 17:07:26\",\"2022-12-08 20:27:05\",\"2022-12-08 20:35:06\",\"2022-12-08 20:41:07\",\"2022-12-08 20:52:40\",\"2022-12-08 21:15:15\",\"2022-12-08 21:29:15\",\"2022-12-08 21:38:12\",\"2022-12-08 21:45:31\",\"2022-12-08 21:51:15\",\"2022-12-08 21:58:41\",\"2022-12-08 23:02:28\",\"2022-12-09 00:45:14\",\"2022-12-09 01:00:16\",\"2022-12-09 01:27:35\",\"2022-12-09 01:34:24\",\"2022-12-09 21:23:38\",\"2022-12-09 22:40:20\",\"2022-12-09 23:26:10\",\"2022-12-09 23:31:17\",\"2022-12-09 23:36:18\",\"2022-12-09 23:42:52\",\"2022-12-09 23:54:58\",\"2022-12-10 00:01:23\",\"2022-12-10 00:07:33\",\"2022-12-10 00:14:00\",\"2022-12-10 00:15:50\",\"2022-12-10 00:20:05\",\"2022-12-10 00:26:54\",\"2022-12-10 00:42:40\",\"2022-12-10 00:51:11\",\"2022-12-10 01:02:42\",\"2022-12-10 01:08:36\",\"2022-12-10 05:43:50\",\"2022-12-10 05:51:34\",\"2022-12-10 05:59:02\",\"2022-12-10 06:26:13\",\"2022-12-10 06:35:47\",\"2022-12-10 06:42:44\",\"2022-12-10 06:53:09\",\"2022-12-10 07:04:10\",\"2022-12-10 07:10:03\",\"2022-12-10 16:09:59\",\"2022-12-10 18:04:06\",\"2022-12-10 18:13:32\",\"2022-12-10 18:24:29\",\"2022-12-10 18:44:07\",\"2022-12-10 18:49:55\",\"2022-12-10 19:10:56\",\"2022-12-10 22:57:49\",\"2022-12-11 00:56:44\",\"2022-12-11 02:03:25\",\"2022-12-11 03:14:04\",\"2022-12-11 03:47:44\",\"2022-12-11 03:52:53\",\"2022-12-11 04:05:44\",\"2022-12-11 09:31:49\",\"2022-12-11 09:37:02\",\"2022-12-11 12:41:35\",\"2022-12-11 12:48:02\",\"2022-12-11 13:37:32\",\"2022-12-11 13:44:29\",\"2022-12-11 14:12:39\",\"2022-12-11 14:27:37\",\"2022-12-11 14:35:58\",\"2022-12-11 14:42:09\",\"2022-12-11 14:54:46\",\"2022-12-11 14:59:58\",\"2022-12-11 15:16:01\",\"2022-12-11 17:06:13\",\"2022-12-11 17:57:32\",\"2022-12-11 18:08:34\"],\"xaxis\":\"x\",\"y\":[774689,774689,774689,774689,774689,774689,774689,774689,774689,774689,774689,774689,774689,774689,2048329,2048329,2051196,2834625,4124680,4124680,4166154,4166154,4166154,4166154,4166154,4166154,4166154,4166154,4166154,4166154,4166154,4166154,4166154,4166154,4166154,4166154,4166154,4166154,4166154,4166154,5366916,5366916,5366916,5366916,5744193,5744193,5744193,5744193,5744193,5744193,5815405,5824424,5824424,5824424,5824424,5824424,5824424,5824424,5824424,5824424,5848159,5923827,5930136,5930136,5930136,5930136,5930136,5930136,5930136,5936049,5942910,5942910,5942910,5942910,5942910,5942910,5942910,5942910,5942910,5942910,5942910,5942910,5942910,5942910,5942910,5942910,5942910,5942910,5942910,5956648,5956648,5956648,5956648,5956648,5956648,5956648,5956648,5956648,5956648,5968786,5968786,5968786,5968786,5989223,6005034,6005034,6005034,6005034,6005034,6005034,6005034,6005034,6022815,6028503,6029322,6031436,6036748,6036748,6036748,6036748,6036748,6036748,6036748,6036748,6036748,6045383,6045383,6045383,6045383,6045383,6045383,6045383],\"yaxis\":\"y\",\"type\":\"scatter\"},{\"hovertemplate\":\"\\u30c1\\u30fc\\u30e0\\u540d=Mor\\u00e9chond<br>\\u63d0\\u51fa\\u65e5\\u6642=%{x}<br>\\u30b9\\u30b3\\u30a2=%{y}<extra></extra>\",\"legendgroup\":\"Mor\\u00e9chond\",\"line\":{\"color\":\"#FFA15A\",\"dash\":\"solid\"},\"marker\":{\"symbol\":\"circle\"},\"mode\":\"lines\",\"name\":\"Mor\\u00e9chond\",\"orientation\":\"v\",\"showlegend\":true,\"x\":[\"2022-12-02 22:29:34\",\"2022-12-02 22:35:40\",\"2022-12-02 22:40:43\",\"2022-12-02 23:25:22\",\"2022-12-02 23:31:07\",\"2022-12-03 00:04:12\",\"2022-12-03 00:33:30\",\"2022-12-03 01:04:41\",\"2022-12-03 10:34:19\",\"2022-12-03 10:52:23\",\"2022-12-04 03:11:05\",\"2022-12-04 11:14:59\",\"2022-12-04 12:16:42\",\"2022-12-04 12:42:00\",\"2022-12-04 13:52:14\",\"2022-12-04 14:15:10\",\"2022-12-04 20:30:02\",\"2022-12-04 21:42:16\",\"2022-12-05 03:52:51\",\"2022-12-05 04:07:43\",\"2022-12-05 04:18:33\",\"2022-12-05 04:24:07\",\"2022-12-05 04:34:03\",\"2022-12-05 05:21:19\",\"2022-12-05 05:29:58\",\"2022-12-05 05:35:00\",\"2022-12-05 10:12:51\",\"2022-12-05 13:50:03\",\"2022-12-05 13:56:54\",\"2022-12-05 14:10:44\",\"2022-12-05 14:16:52\",\"2022-12-05 15:02:56\",\"2022-12-05 15:16:54\",\"2022-12-05 15:59:35\",\"2022-12-05 16:05:56\",\"2022-12-05 16:25:15\",\"2022-12-05 17:19:57\",\"2022-12-05 18:58:41\",\"2022-12-05 19:36:12\",\"2022-12-05 20:47:36\",\"2022-12-05 20:54:14\",\"2022-12-05 21:02:53\",\"2022-12-05 21:51:28\",\"2022-12-06 09:21:40\",\"2022-12-06 10:00:39\",\"2022-12-06 10:05:51\",\"2022-12-06 10:18:23\",\"2022-12-06 20:59:37\",\"2022-12-07 04:07:49\",\"2022-12-07 04:15:26\",\"2022-12-07 04:21:42\",\"2022-12-07 06:49:54\",\"2022-12-07 09:19:56\",\"2022-12-07 09:24:56\",\"2022-12-07 09:33:34\",\"2022-12-07 10:41:28\",\"2022-12-07 10:43:09\",\"2022-12-07 11:22:06\",\"2022-12-07 11:48:03\",\"2022-12-07 11:56:27\",\"2022-12-07 12:01:28\",\"2022-12-07 12:07:50\",\"2022-12-07 12:13:06\",\"2022-12-07 12:18:08\",\"2022-12-07 12:23:08\",\"2022-12-07 12:28:57\",\"2022-12-07 13:16:35\",\"2022-12-07 14:13:58\",\"2022-12-07 14:19:41\",\"2022-12-07 14:20:32\",\"2022-12-07 14:25:57\",\"2022-12-07 14:29:30\",\"2022-12-07 16:04:10\",\"2022-12-07 17:14:02\",\"2022-12-07 17:35:01\",\"2022-12-07 23:00:17\",\"2022-12-07 23:30:19\",\"2022-12-08 14:30:20\",\"2022-12-08 21:59:47\",\"2022-12-08 22:12:34\",\"2022-12-08 22:18:26\",\"2022-12-09 03:15:19\",\"2022-12-09 03:25:24\",\"2022-12-09 03:30:37\",\"2022-12-09 04:01:54\",\"2022-12-09 04:08:01\",\"2022-12-09 04:13:01\",\"2022-12-09 04:19:05\",\"2022-12-09 04:24:54\",\"2022-12-09 04:30:03\",\"2022-12-09 04:35:27\",\"2022-12-09 04:40:27\",\"2022-12-09 04:46:52\",\"2022-12-09 04:51:53\",\"2022-12-09 04:56:53\",\"2022-12-09 05:03:34\",\"2022-12-09 05:08:38\",\"2022-12-09 05:30:16\",\"2022-12-09 05:39:15\",\"2022-12-09 06:00:48\",\"2022-12-09 07:01:51\",\"2022-12-09 09:48:17\",\"2022-12-09 10:02:24\",\"2022-12-09 10:13:54\",\"2022-12-09 10:20:54\",\"2022-12-09 10:44:34\",\"2022-12-09 10:49:53\",\"2022-12-09 10:57:51\",\"2022-12-09 16:15:31\",\"2022-12-10 02:21:00\",\"2022-12-10 02:29:06\",\"2022-12-10 02:42:26\",\"2022-12-10 02:57:35\",\"2022-12-10 03:07:46\",\"2022-12-10 03:15:09\",\"2022-12-10 03:23:39\",\"2022-12-10 03:29:12\",\"2022-12-10 03:38:09\",\"2022-12-10 07:12:38\",\"2022-12-10 09:12:46\",\"2022-12-10 10:15:16\",\"2022-12-10 10:50:54\",\"2022-12-10 10:56:35\",\"2022-12-10 12:32:32\",\"2022-12-10 13:42:10\",\"2022-12-10 13:48:39\",\"2022-12-10 14:14:29\",\"2022-12-10 14:24:44\",\"2022-12-10 14:41:54\",\"2022-12-10 14:56:14\",\"2022-12-10 15:03:54\",\"2022-12-10 15:15:35\",\"2022-12-10 15:30:39\",\"2022-12-10 15:35:40\",\"2022-12-10 15:42:53\",\"2022-12-10 15:56:53\",\"2022-12-10 16:13:33\",\"2022-12-10 17:01:27\",\"2022-12-10 17:20:09\",\"2022-12-10 17:48:01\",\"2022-12-10 17:59:54\",\"2022-12-10 18:05:10\",\"2022-12-10 18:43:20\",\"2022-12-10 20:01:49\",\"2022-12-10 20:07:53\",\"2022-12-10 20:25:30\",\"2022-12-10 20:41:49\",\"2022-12-10 20:47:28\",\"2022-12-10 22:35:27\",\"2022-12-10 22:41:51\",\"2022-12-10 23:56:46\",\"2022-12-11 00:05:03\",\"2022-12-11 00:19:05\",\"2022-12-11 00:59:26\",\"2022-12-11 01:44:37\",\"2022-12-11 01:49:38\",\"2022-12-11 01:55:43\",\"2022-12-11 02:02:38\",\"2022-12-11 02:38:20\",\"2022-12-11 03:00:26\",\"2022-12-11 10:11:04\",\"2022-12-11 12:05:02\",\"2022-12-11 13:33:46\",\"2022-12-11 15:02:56\",\"2022-12-11 15:09:27\",\"2022-12-11 15:35:07\",\"2022-12-11 15:55:37\",\"2022-12-11 16:19:09\",\"2022-12-11 16:25:43\",\"2022-12-11 16:39:55\",\"2022-12-11 16:49:19\",\"2022-12-11 17:26:57\",\"2022-12-11 17:39:09\",\"2022-12-11 18:02:29\",\"2022-12-11 18:08:00\",\"2022-12-11 18:15:09\",\"2022-12-11 18:45:38\",\"2022-12-11 18:51:28\",\"2022-12-11 18:58:28\"],\"xaxis\":\"x\",\"y\":[253299,257943,597152,597152,597152,878064,995514,995514,995514,995514,995514,995514,1523131,1523131,1523131,1523131,2922291,2922291,2922291,2922291,2922291,2922291,2922291,2922291,2922291,2922291,2922291,2958572,2959379,2959379,3510926,3526180,3531529,3531529,3531529,3531529,3531529,3531529,3531529,3531529,3531529,3531529,3531529,3531529,3600649,3600649,3600649,3600649,3600649,3600828,3600828,3645837,4192556,4296901,4644674,4658799,4658799,4658799,4658799,4658799,4658799,4658799,4658799,4658799,4658799,4664334,4664334,4664334,4664334,4664334,4664916,4664916,4664916,4664916,4664916,4664916,4664916,4664916,4664916,4682182,4685731,4685731,4685731,4685731,4685731,4685731,4685731,4871492,4900483,4900483,4900483,4906392,4906392,4949712,4949712,4949712,4949712,4951868,4951868,4951868,4951868,4951868,4951868,4951868,4951868,4951868,4951868,4951868,4951868,5835908,5835908,5953220,5987705,5990336,5999047,5999047,5999047,5999047,5999047,5999047,5999047,5999047,5999047,5999047,5999047,5999047,5999047,5999047,5999047,5999047,5999047,5999047,5999064,5999064,6000746,6036384,6060334,6060334,6060334,6060334,6060334,6060334,6060334,6060334,6060334,6060334,6060334,6060334,6060334,6060334,6060334,6060334,6062132,6062132,6062132,6062132,6062132,6062132,6062132,6062132,6062132,6062132,6062132,6062132,6062132,6062132,6062132,6062132,6062132,6062132,6062132,6087799,6099667,6099667,6110893,6110893,6110893,6110893,6110893],\"yaxis\":\"y\",\"type\":\"scatter\"},{\"hovertemplate\":\"\\u30c1\\u30fc\\u30e0\\u540d=\\u4e09\\u5c3a\\u79cb\\u6c34<br>\\u63d0\\u51fa\\u65e5\\u6642=%{x}<br>\\u30b9\\u30b3\\u30a2=%{y}<extra></extra>\",\"legendgroup\":\"\\u4e09\\u5c3a\\u79cb\\u6c34\",\"line\":{\"color\":\"#19d3f3\",\"dash\":\"solid\"},\"marker\":{\"symbol\":\"circle\"},\"mode\":\"lines\",\"name\":\"\\u4e09\\u5c3a\\u79cb\\u6c34\",\"orientation\":\"v\",\"showlegend\":true,\"x\":[\"2022-12-03 20:27:33\",\"2022-12-03 21:48:48\",\"2022-12-04 09:14:52\",\"2022-12-04 15:35:38\",\"2022-12-06 14:47:24\",\"2022-12-06 15:29:30\",\"2022-12-06 23:40:43\",\"2022-12-07 00:10:52\",\"2022-12-07 00:38:08\",\"2022-12-07 00:51:28\",\"2022-12-07 01:05:51\",\"2022-12-07 01:14:25\",\"2022-12-07 01:19:32\",\"2022-12-07 01:28:00\",\"2022-12-07 01:33:00\",\"2022-12-07 01:38:40\",\"2022-12-07 01:43:43\",\"2022-12-07 01:48:56\",\"2022-12-07 01:54:13\",\"2022-12-07 01:59:50\",\"2022-12-07 02:05:17\",\"2022-12-07 02:11:26\",\"2022-12-07 02:16:57\",\"2022-12-07 02:22:35\",\"2022-12-07 02:27:48\",\"2022-12-07 02:35:15\",\"2022-12-07 02:40:53\",\"2022-12-07 02:45:53\",\"2022-12-07 02:52:47\",\"2022-12-07 02:58:10\",\"2022-12-07 03:03:33\",\"2022-12-07 03:08:53\",\"2022-12-07 03:15:52\",\"2022-12-07 03:22:43\",\"2022-12-07 05:51:39\",\"2022-12-07 06:21:41\",\"2022-12-07 07:33:41\",\"2022-12-07 09:33:57\",\"2022-12-07 09:52:53\",\"2022-12-07 10:12:48\",\"2022-12-07 14:48:22\",\"2022-12-08 11:19:47\",\"2022-12-08 11:58:13\",\"2022-12-08 12:14:31\",\"2022-12-08 15:24:49\",\"2022-12-08 15:33:26\",\"2022-12-08 20:59:13\",\"2022-12-08 21:05:48\",\"2022-12-08 22:19:41\",\"2022-12-08 22:24:46\",\"2022-12-08 22:29:46\",\"2022-12-08 22:31:55\",\"2022-12-09 00:11:06\",\"2022-12-09 00:16:06\",\"2022-12-09 02:00:53\",\"2022-12-09 02:06:08\",\"2022-12-09 02:18:24\",\"2022-12-09 06:01:16\",\"2022-12-09 07:48:15\",\"2022-12-09 07:53:39\",\"2022-12-09 08:12:16\",\"2022-12-09 08:18:28\",\"2022-12-09 08:42:25\",\"2022-12-09 09:02:13\",\"2022-12-09 15:13:01\",\"2022-12-09 22:16:46\",\"2022-12-10 00:28:43\",\"2022-12-10 02:02:10\",\"2022-12-10 02:18:03\",\"2022-12-10 02:25:36\",\"2022-12-10 15:19:15\",\"2022-12-10 16:04:18\",\"2022-12-10 16:15:38\",\"2022-12-10 19:01:19\",\"2022-12-11 11:01:08\",\"2022-12-11 14:30:59\",\"2022-12-11 16:31:12\",\"2022-12-11 18:03:57\"],\"xaxis\":\"x\",\"y\":[4861,2966834,2966834,2966834,2966834,2966834,3778800,3778800,3778800,3778800,3779621,4210672,4210672,4210672,4210672,4210672,4210672,4210672,4210672,4210672,4210672,4226447,4226447,4226447,4226447,4226447,4226447,4226447,4226447,4226447,4226447,4226447,4226447,4226447,4244061,4244061,4244061,4555001,4607162,4683820,4683820,4683820,4683820,4683820,4683820,4683820,4683820,4738395,4738395,4738395,4738395,4738395,4738395,4738395,4738395,4738395,4738395,4738395,4738395,4738395,4738395,4738395,4738395,4738395,4787239,4787977,4787977,4787977,4787977,4787977,5814795,5814795,5814795,5843099,5843099,5877068,5912645,5912645],\"yaxis\":\"y\",\"type\":\"scatter\"},{\"hovertemplate\":\"\\u30c1\\u30fc\\u30e0\\u540d=\\u904b\\u55b6<br>\\u63d0\\u51fa\\u65e5\\u6642=%{x}<br>\\u30b9\\u30b3\\u30a2=%{y}<extra></extra>\",\"legendgroup\":\"\\u904b\\u55b6\",\"line\":{\"color\":\"#FF6692\",\"dash\":\"solid\"},\"marker\":{\"symbol\":\"circle\"},\"mode\":\"lines\",\"name\":\"\\u904b\\u55b6\",\"orientation\":\"v\",\"showlegend\":true,\"x\":[\"2022-12-05 10:51:06\",\"2022-12-05 11:28:22\",\"2022-12-05 13:42:34\",\"2022-12-05 17:24:20\",\"2022-12-05 18:14:12\",\"2022-12-06 09:26:32\",\"2022-12-06 10:14:14\",\"2022-12-06 11:05:14\",\"2022-12-07 12:34:07\",\"2022-12-08 17:17:15\",\"2022-12-09 12:50:21\"],\"xaxis\":\"x\",\"y\":[3307104,4268062,4520107,4520107,4520107,4520107,4520107,4520107,4520107,5257160,5257160],\"yaxis\":\"y\",\"type\":\"scatter\"}],                        {\"template\":{\"data\":{\"histogram2dcontour\":[{\"type\":\"histogram2dcontour\",\"colorbar\":{\"outlinewidth\":0,\"ticks\":\"\"},\"colorscale\":[[0.0,\"#0d0887\"],[0.1111111111111111,\"#46039f\"],[0.2222222222222222,\"#7201a8\"],[0.3333333333333333,\"#9c179e\"],[0.4444444444444444,\"#bd3786\"],[0.5555555555555556,\"#d8576b\"],[0.6666666666666666,\"#ed7953\"],[0.7777777777777778,\"#fb9f3a\"],[0.8888888888888888,\"#fdca26\"],[1.0,\"#f0f921\"]]}],\"choropleth\":[{\"type\":\"choropleth\",\"colorbar\":{\"outlinewidth\":0,\"ticks\":\"\"}}],\"histogram2d\":[{\"type\":\"histogram2d\",\"colorbar\":{\"outlinewidth\":0,\"ticks\":\"\"},\"colorscale\":[[0.0,\"#0d0887\"],[0.1111111111111111,\"#46039f\"],[0.2222222222222222,\"#7201a8\"],[0.3333333333333333,\"#9c179e\"],[0.4444444444444444,\"#bd3786\"],[0.5555555555555556,\"#d8576b\"],[0.6666666666666666,\"#ed7953\"],[0.7777777777777778,\"#fb9f3a\"],[0.8888888888888888,\"#fdca26\"],[1.0,\"#f0f921\"]]}],\"heatmap\":[{\"type\":\"heatmap\",\"colorbar\":{\"outlinewidth\":0,\"ticks\":\"\"},\"colorscale\":[[0.0,\"#0d0887\"],[0.1111111111111111,\"#46039f\"],[0.2222222222222222,\"#7201a8\"],[0.3333333333333333,\"#9c179e\"],[0.4444444444444444,\"#bd3786\"],[0.5555555555555556,\"#d8576b\"],[0.6666666666666666,\"#ed7953\"],[0.7777777777777778,\"#fb9f3a\"],[0.8888888888888888,\"#fdca26\"],[1.0,\"#f0f921\"]]}],\"heatmapgl\":[{\"type\":\"heatmapgl\",\"colorbar\":{\"outlinewidth\":0,\"ticks\":\"\"},\"colorscale\":[[0.0,\"#0d0887\"],[0.1111111111111111,\"#46039f\"],[0.2222222222222222,\"#7201a8\"],[0.3333333333333333,\"#9c179e\"],[0.4444444444444444,\"#bd3786\"],[0.5555555555555556,\"#d8576b\"],[0.6666666666666666,\"#ed7953\"],[0.7777777777777778,\"#fb9f3a\"],[0.8888888888888888,\"#fdca26\"],[1.0,\"#f0f921\"]]}],\"contourcarpet\":[{\"type\":\"contourcarpet\",\"colorbar\":{\"outlinewidth\":0,\"ticks\":\"\"}}],\"contour\":[{\"type\":\"contour\",\"colorbar\":{\"outlinewidth\":0,\"ticks\":\"\"},\"colorscale\":[[0.0,\"#0d0887\"],[0.1111111111111111,\"#46039f\"],[0.2222222222222222,\"#7201a8\"],[0.3333333333333333,\"#9c179e\"],[0.4444444444444444,\"#bd3786\"],[0.5555555555555556,\"#d8576b\"],[0.6666666666666666,\"#ed7953\"],[0.7777777777777778,\"#fb9f3a\"],[0.8888888888888888,\"#fdca26\"],[1.0,\"#f0f921\"]]}],\"surface\":[{\"type\":\"surface\",\"colorbar\":{\"outlinewidth\":0,\"ticks\":\"\"},\"colorscale\":[[0.0,\"#0d0887\"],[0.1111111111111111,\"#46039f\"],[0.2222222222222222,\"#7201a8\"],[0.3333333333333333,\"#9c179e\"],[0.4444444444444444,\"#bd3786\"],[0.5555555555555556,\"#d8576b\"],[0.6666666666666666,\"#ed7953\"],[0.7777777777777778,\"#fb9f3a\"],[0.8888888888888888,\"#fdca26\"],[1.0,\"#f0f921\"]]}],\"mesh3d\":[{\"type\":\"mesh3d\",\"colorbar\":{\"outlinewidth\":0,\"ticks\":\"\"}}],\"scatter\":[{\"fillpattern\":{\"fillmode\":\"overlay\",\"size\":10,\"solidity\":0.2},\"type\":\"scatter\"}],\"parcoords\":[{\"type\":\"parcoords\",\"line\":{\"colorbar\":{\"outlinewidth\":0,\"ticks\":\"\"}}}],\"scatterpolargl\":[{\"type\":\"scatterpolargl\",\"marker\":{\"colorbar\":{\"outlinewidth\":0,\"ticks\":\"\"}}}],\"bar\":[{\"error_x\":{\"color\":\"#2a3f5f\"},\"error_y\":{\"color\":\"#2a3f5f\"},\"marker\":{\"line\":{\"color\":\"#E5ECF6\",\"width\":0.5},\"pattern\":{\"fillmode\":\"overlay\",\"size\":10,\"solidity\":0.2}},\"type\":\"bar\"}],\"scattergeo\":[{\"type\":\"scattergeo\",\"marker\":{\"colorbar\":{\"outlinewidth\":0,\"ticks\":\"\"}}}],\"scatterpolar\":[{\"type\":\"scatterpolar\",\"marker\":{\"colorbar\":{\"outlinewidth\":0,\"ticks\":\"\"}}}],\"histogram\":[{\"marker\":{\"pattern\":{\"fillmode\":\"overlay\",\"size\":10,\"solidity\":0.2}},\"type\":\"histogram\"}],\"scattergl\":[{\"type\":\"scattergl\",\"marker\":{\"colorbar\":{\"outlinewidth\":0,\"ticks\":\"\"}}}],\"scatter3d\":[{\"type\":\"scatter3d\",\"line\":{\"colorbar\":{\"outlinewidth\":0,\"ticks\":\"\"}},\"marker\":{\"colorbar\":{\"outlinewidth\":0,\"ticks\":\"\"}}}],\"scattermapbox\":[{\"type\":\"scattermapbox\",\"marker\":{\"colorbar\":{\"outlinewidth\":0,\"ticks\":\"\"}}}],\"scatterternary\":[{\"type\":\"scatterternary\",\"marker\":{\"colorbar\":{\"outlinewidth\":0,\"ticks\":\"\"}}}],\"scattercarpet\":[{\"type\":\"scattercarpet\",\"marker\":{\"colorbar\":{\"outlinewidth\":0,\"ticks\":\"\"}}}],\"carpet\":[{\"aaxis\":{\"endlinecolor\":\"#2a3f5f\",\"gridcolor\":\"white\",\"linecolor\":\"white\",\"minorgridcolor\":\"white\",\"startlinecolor\":\"#2a3f5f\"},\"baxis\":{\"endlinecolor\":\"#2a3f5f\",\"gridcolor\":\"white\",\"linecolor\":\"white\",\"minorgridcolor\":\"white\",\"startlinecolor\":\"#2a3f5f\"},\"type\":\"carpet\"}],\"table\":[{\"cells\":{\"fill\":{\"color\":\"#EBF0F8\"},\"line\":{\"color\":\"white\"}},\"header\":{\"fill\":{\"color\":\"#C8D4E3\"},\"line\":{\"color\":\"white\"}},\"type\":\"table\"}],\"barpolar\":[{\"marker\":{\"line\":{\"color\":\"#E5ECF6\",\"width\":0.5},\"pattern\":{\"fillmode\":\"overlay\",\"size\":10,\"solidity\":0.2}},\"type\":\"barpolar\"}],\"pie\":[{\"automargin\":true,\"type\":\"pie\"}]},\"layout\":{\"autotypenumbers\":\"strict\",\"colorway\":[\"#636efa\",\"#EF553B\",\"#00cc96\",\"#ab63fa\",\"#FFA15A\",\"#19d3f3\",\"#FF6692\",\"#B6E880\",\"#FF97FF\",\"#FECB52\"],\"font\":{\"color\":\"#2a3f5f\"},\"hovermode\":\"closest\",\"hoverlabel\":{\"align\":\"left\"},\"paper_bgcolor\":\"white\",\"plot_bgcolor\":\"#E5ECF6\",\"polar\":{\"bgcolor\":\"#E5ECF6\",\"angularaxis\":{\"gridcolor\":\"white\",\"linecolor\":\"white\",\"ticks\":\"\"},\"radialaxis\":{\"gridcolor\":\"white\",\"linecolor\":\"white\",\"ticks\":\"\"}},\"ternary\":{\"bgcolor\":\"#E5ECF6\",\"aaxis\":{\"gridcolor\":\"white\",\"linecolor\":\"white\",\"ticks\":\"\"},\"baxis\":{\"gridcolor\":\"white\",\"linecolor\":\"white\",\"ticks\":\"\"},\"caxis\":{\"gridcolor\":\"white\",\"linecolor\":\"white\",\"ticks\":\"\"}},\"coloraxis\":{\"colorbar\":{\"outlinewidth\":0,\"ticks\":\"\"}},\"colorscale\":{\"sequential\":[[0.0,\"#0d0887\"],[0.1111111111111111,\"#46039f\"],[0.2222222222222222,\"#7201a8\"],[0.3333333333333333,\"#9c179e\"],[0.4444444444444444,\"#bd3786\"],[0.5555555555555556,\"#d8576b\"],[0.6666666666666666,\"#ed7953\"],[0.7777777777777778,\"#fb9f3a\"],[0.8888888888888888,\"#fdca26\"],[1.0,\"#f0f921\"]],\"sequentialminus\":[[0.0,\"#0d0887\"],[0.1111111111111111,\"#46039f\"],[0.2222222222222222,\"#7201a8\"],[0.3333333333333333,\"#9c179e\"],[0.4444444444444444,\"#bd3786\"],[0.5555555555555556,\"#d8576b\"],[0.6666666666666666,\"#ed7953\"],[0.7777777777777778,\"#fb9f3a\"],[0.8888888888888888,\"#fdca26\"],[1.0,\"#f0f921\"]],\"diverging\":[[0,\"#8e0152\"],[0.1,\"#c51b7d\"],[0.2,\"#de77ae\"],[0.3,\"#f1b6da\"],[0.4,\"#fde0ef\"],[0.5,\"#f7f7f7\"],[0.6,\"#e6f5d0\"],[0.7,\"#b8e186\"],[0.8,\"#7fbc41\"],[0.9,\"#4d9221\"],[1,\"#276419\"]]},\"xaxis\":{\"gridcolor\":\"white\",\"linecolor\":\"white\",\"ticks\":\"\",\"title\":{\"standoff\":15},\"zerolinecolor\":\"white\",\"automargin\":true,\"zerolinewidth\":2},\"yaxis\":{\"gridcolor\":\"white\",\"linecolor\":\"white\",\"ticks\":\"\",\"title\":{\"standoff\":15},\"zerolinecolor\":\"white\",\"automargin\":true,\"zerolinewidth\":2},\"scene\":{\"xaxis\":{\"backgroundcolor\":\"#E5ECF6\",\"gridcolor\":\"white\",\"linecolor\":\"white\",\"showbackground\":true,\"ticks\":\"\",\"zerolinecolor\":\"white\",\"gridwidth\":2},\"yaxis\":{\"backgroundcolor\":\"#E5ECF6\",\"gridcolor\":\"white\",\"linecolor\":\"white\",\"showbackground\":true,\"ticks\":\"\",\"zerolinecolor\":\"white\",\"gridwidth\":2},\"zaxis\":{\"backgroundcolor\":\"#E5ECF6\",\"gridcolor\":\"white\",\"linecolor\":\"white\",\"showbackground\":true,\"ticks\":\"\",\"zerolinecolor\":\"white\",\"gridwidth\":2}},\"shapedefaults\":{\"line\":{\"color\":\"#2a3f5f\"}},\"annotationdefaults\":{\"arrowcolor\":\"#2a3f5f\",\"arrowhead\":0,\"arrowwidth\":1},\"geo\":{\"bgcolor\":\"white\",\"landcolor\":\"#E5ECF6\",\"subunitcolor\":\"white\",\"showland\":true,\"showlakes\":true,\"lakecolor\":\"white\"},\"title\":{\"x\":0.05},\"mapbox\":{\"style\":\"light\"}}},\"xaxis\":{\"anchor\":\"y\",\"domain\":[0.0,1.0],\"title\":{\"text\":\"\\u63d0\\u51fa\\u65e5\\u6642\"}},\"yaxis\":{\"anchor\":\"x\",\"domain\":[0.0,1.0],\"title\":{\"text\":\"\\u30b9\\u30b3\\u30a2\"}},\"legend\":{\"title\":{\"text\":\"\\u30c1\\u30fc\\u30e0\\u540d\"},\"tracegroupgap\":0},\"margin\":{\"t\":60}},                        {\"responsive\": true}                    ).then(function(){\n",
              "                            \n",
              "var gd = document.getElementById('94687536-e15a-4cc0-a141-866ee969c464');\n",
              "var x = new MutationObserver(function (mutations, observer) {{\n",
              "        var display = window.getComputedStyle(gd).display;\n",
              "        if (!display || display === 'none') {{\n",
              "            console.log([gd, 'removed!']);\n",
              "            Plotly.purge(gd);\n",
              "            observer.disconnect();\n",
              "        }}\n",
              "}});\n",
              "\n",
              "// Listen for the removal of the full notebook cells\n",
              "var notebookContainer = gd.closest('#notebook-container');\n",
              "if (notebookContainer) {{\n",
              "    x.observe(notebookContainer, {childList: true});\n",
              "}}\n",
              "\n",
              "// Listen for the clearing of the current output cell\n",
              "var outputEl = gd.closest('.output');\n",
              "if (outputEl) {{\n",
              "    x.observe(outputEl, {childList: true});\n",
              "}}\n",
              "\n",
              "                        })                };                            </script>        </div>\n",
              "</body>\n",
              "</html>"
            ]
          },
          "metadata": {}
        }
      ]
    },
    {
      "cell_type": "code",
      "source": [
        "df_lang = df.replace(\"C++ (GCC 9.2.1)\", \"C++\"\n",
        "            ).replace(\"C++ (Clang 10.0.0)\", \"C++\"\n",
        "            ).replace(\"C++14\", \"C++\"\n",
        "            ).replace(\"C# (.NET Core 3.1.201)\", \"C#\"\n",
        "            ).replace(\"PyPy3 (7.3.0)\", \"PyPy3\"\n",
        "            ).replace(\"Rust (1.42.0)\", \"Rust\"\n",
        "            ).replace(\"Crystal (0.33.0)\", \"Crystal\"\n",
        "            ).replace(\"D (DMD 2.091.0)\", \"D\"\n",
        "            )\n",
        "df_lang = df_lang.loc[df_lang.groupby(\"名前\")[\"スコア\"].idxmax()]\n",
        "\n",
        "fig_lang = px.box(df_lang, x=\"言語\", y=\"スコア\", points='all')\n",
        "fig_lang.show()"
      ],
      "metadata": {
        "colab": {
          "base_uri": "https://localhost:8080/",
          "height": 542
        },
        "id": "vruofln8JyYq",
        "outputId": "8c6c582a-40b5-401d-baa7-40271b368364"
      },
      "execution_count": 8,
      "outputs": [
        {
          "output_type": "display_data",
          "data": {
            "text/html": [
              "<html>\n",
              "<head><meta charset=\"utf-8\" /></head>\n",
              "<body>\n",
              "    <div>            <script src=\"https://cdnjs.cloudflare.com/ajax/libs/mathjax/2.7.5/MathJax.js?config=TeX-AMS-MML_SVG\"></script><script type=\"text/javascript\">if (window.MathJax && window.MathJax.Hub && window.MathJax.Hub.Config) {window.MathJax.Hub.Config({SVG: {font: \"STIX-Web\"}});}</script>                <script type=\"text/javascript\">window.PlotlyConfig = {MathJaxConfig: 'local'};</script>\n",
              "        <script src=\"https://cdn.plot.ly/plotly-2.18.2.min.js\"></script>                <div id=\"1494e72a-c447-427e-ad55-2654ef4487e5\" class=\"plotly-graph-div\" style=\"height:525px; width:100%;\"></div>            <script type=\"text/javascript\">                                    window.PLOTLYENV=window.PLOTLYENV || {};                                    if (document.getElementById(\"1494e72a-c447-427e-ad55-2654ef4487e5\")) {                    Plotly.newPlot(                        \"1494e72a-c447-427e-ad55-2654ef4487e5\",                        [{\"alignmentgroup\":\"True\",\"boxpoints\":\"all\",\"hovertemplate\":\"\\u8a00\\u8a9e=%{x}<br>\\u30b9\\u30b3\\u30a2=%{y}<extra></extra>\",\"legendgroup\":\"\",\"marker\":{\"color\":\"#636efa\"},\"name\":\"\",\"notched\":false,\"offsetgroup\":\"\",\"orientation\":\"v\",\"showlegend\":false,\"x\":[\"C#\",\"C++\",\"Rust\",\"Rust\",\"C++\",\"C++\",\"Rust\",\"PyPy3\",\"Crystal\",\"C++\",\"PyPy3\",\"C++\",\"C++\",\"PyPy3\",\"D\",\"PyPy3\",\"PyPy3\",\"PyPy3\",\"Rust\",\"C++\",\"Rust\",\"C++\",\"C++\",\"C++\",\"C++\",\"PyPy3\"],\"x0\":\" \",\"xaxis\":\"x\",\"y\":[3211512,4226447,1863401,5257160,4166154,3624732,6022374,811763,5912645,4226395,5423895,4363493,4377385,6110893,5007759,2922291,4159844,5996611,3830922,5371821,6045383,4717214,6036707,6149264,6304639,4951868],\"y0\":\" \",\"yaxis\":\"y\",\"type\":\"box\"}],                        {\"template\":{\"data\":{\"histogram2dcontour\":[{\"type\":\"histogram2dcontour\",\"colorbar\":{\"outlinewidth\":0,\"ticks\":\"\"},\"colorscale\":[[0.0,\"#0d0887\"],[0.1111111111111111,\"#46039f\"],[0.2222222222222222,\"#7201a8\"],[0.3333333333333333,\"#9c179e\"],[0.4444444444444444,\"#bd3786\"],[0.5555555555555556,\"#d8576b\"],[0.6666666666666666,\"#ed7953\"],[0.7777777777777778,\"#fb9f3a\"],[0.8888888888888888,\"#fdca26\"],[1.0,\"#f0f921\"]]}],\"choropleth\":[{\"type\":\"choropleth\",\"colorbar\":{\"outlinewidth\":0,\"ticks\":\"\"}}],\"histogram2d\":[{\"type\":\"histogram2d\",\"colorbar\":{\"outlinewidth\":0,\"ticks\":\"\"},\"colorscale\":[[0.0,\"#0d0887\"],[0.1111111111111111,\"#46039f\"],[0.2222222222222222,\"#7201a8\"],[0.3333333333333333,\"#9c179e\"],[0.4444444444444444,\"#bd3786\"],[0.5555555555555556,\"#d8576b\"],[0.6666666666666666,\"#ed7953\"],[0.7777777777777778,\"#fb9f3a\"],[0.8888888888888888,\"#fdca26\"],[1.0,\"#f0f921\"]]}],\"heatmap\":[{\"type\":\"heatmap\",\"colorbar\":{\"outlinewidth\":0,\"ticks\":\"\"},\"colorscale\":[[0.0,\"#0d0887\"],[0.1111111111111111,\"#46039f\"],[0.2222222222222222,\"#7201a8\"],[0.3333333333333333,\"#9c179e\"],[0.4444444444444444,\"#bd3786\"],[0.5555555555555556,\"#d8576b\"],[0.6666666666666666,\"#ed7953\"],[0.7777777777777778,\"#fb9f3a\"],[0.8888888888888888,\"#fdca26\"],[1.0,\"#f0f921\"]]}],\"heatmapgl\":[{\"type\":\"heatmapgl\",\"colorbar\":{\"outlinewidth\":0,\"ticks\":\"\"},\"colorscale\":[[0.0,\"#0d0887\"],[0.1111111111111111,\"#46039f\"],[0.2222222222222222,\"#7201a8\"],[0.3333333333333333,\"#9c179e\"],[0.4444444444444444,\"#bd3786\"],[0.5555555555555556,\"#d8576b\"],[0.6666666666666666,\"#ed7953\"],[0.7777777777777778,\"#fb9f3a\"],[0.8888888888888888,\"#fdca26\"],[1.0,\"#f0f921\"]]}],\"contourcarpet\":[{\"type\":\"contourcarpet\",\"colorbar\":{\"outlinewidth\":0,\"ticks\":\"\"}}],\"contour\":[{\"type\":\"contour\",\"colorbar\":{\"outlinewidth\":0,\"ticks\":\"\"},\"colorscale\":[[0.0,\"#0d0887\"],[0.1111111111111111,\"#46039f\"],[0.2222222222222222,\"#7201a8\"],[0.3333333333333333,\"#9c179e\"],[0.4444444444444444,\"#bd3786\"],[0.5555555555555556,\"#d8576b\"],[0.6666666666666666,\"#ed7953\"],[0.7777777777777778,\"#fb9f3a\"],[0.8888888888888888,\"#fdca26\"],[1.0,\"#f0f921\"]]}],\"surface\":[{\"type\":\"surface\",\"colorbar\":{\"outlinewidth\":0,\"ticks\":\"\"},\"colorscale\":[[0.0,\"#0d0887\"],[0.1111111111111111,\"#46039f\"],[0.2222222222222222,\"#7201a8\"],[0.3333333333333333,\"#9c179e\"],[0.4444444444444444,\"#bd3786\"],[0.5555555555555556,\"#d8576b\"],[0.6666666666666666,\"#ed7953\"],[0.7777777777777778,\"#fb9f3a\"],[0.8888888888888888,\"#fdca26\"],[1.0,\"#f0f921\"]]}],\"mesh3d\":[{\"type\":\"mesh3d\",\"colorbar\":{\"outlinewidth\":0,\"ticks\":\"\"}}],\"scatter\":[{\"fillpattern\":{\"fillmode\":\"overlay\",\"size\":10,\"solidity\":0.2},\"type\":\"scatter\"}],\"parcoords\":[{\"type\":\"parcoords\",\"line\":{\"colorbar\":{\"outlinewidth\":0,\"ticks\":\"\"}}}],\"scatterpolargl\":[{\"type\":\"scatterpolargl\",\"marker\":{\"colorbar\":{\"outlinewidth\":0,\"ticks\":\"\"}}}],\"bar\":[{\"error_x\":{\"color\":\"#2a3f5f\"},\"error_y\":{\"color\":\"#2a3f5f\"},\"marker\":{\"line\":{\"color\":\"#E5ECF6\",\"width\":0.5},\"pattern\":{\"fillmode\":\"overlay\",\"size\":10,\"solidity\":0.2}},\"type\":\"bar\"}],\"scattergeo\":[{\"type\":\"scattergeo\",\"marker\":{\"colorbar\":{\"outlinewidth\":0,\"ticks\":\"\"}}}],\"scatterpolar\":[{\"type\":\"scatterpolar\",\"marker\":{\"colorbar\":{\"outlinewidth\":0,\"ticks\":\"\"}}}],\"histogram\":[{\"marker\":{\"pattern\":{\"fillmode\":\"overlay\",\"size\":10,\"solidity\":0.2}},\"type\":\"histogram\"}],\"scattergl\":[{\"type\":\"scattergl\",\"marker\":{\"colorbar\":{\"outlinewidth\":0,\"ticks\":\"\"}}}],\"scatter3d\":[{\"type\":\"scatter3d\",\"line\":{\"colorbar\":{\"outlinewidth\":0,\"ticks\":\"\"}},\"marker\":{\"colorbar\":{\"outlinewidth\":0,\"ticks\":\"\"}}}],\"scattermapbox\":[{\"type\":\"scattermapbox\",\"marker\":{\"colorbar\":{\"outlinewidth\":0,\"ticks\":\"\"}}}],\"scatterternary\":[{\"type\":\"scatterternary\",\"marker\":{\"colorbar\":{\"outlinewidth\":0,\"ticks\":\"\"}}}],\"scattercarpet\":[{\"type\":\"scattercarpet\",\"marker\":{\"colorbar\":{\"outlinewidth\":0,\"ticks\":\"\"}}}],\"carpet\":[{\"aaxis\":{\"endlinecolor\":\"#2a3f5f\",\"gridcolor\":\"white\",\"linecolor\":\"white\",\"minorgridcolor\":\"white\",\"startlinecolor\":\"#2a3f5f\"},\"baxis\":{\"endlinecolor\":\"#2a3f5f\",\"gridcolor\":\"white\",\"linecolor\":\"white\",\"minorgridcolor\":\"white\",\"startlinecolor\":\"#2a3f5f\"},\"type\":\"carpet\"}],\"table\":[{\"cells\":{\"fill\":{\"color\":\"#EBF0F8\"},\"line\":{\"color\":\"white\"}},\"header\":{\"fill\":{\"color\":\"#C8D4E3\"},\"line\":{\"color\":\"white\"}},\"type\":\"table\"}],\"barpolar\":[{\"marker\":{\"line\":{\"color\":\"#E5ECF6\",\"width\":0.5},\"pattern\":{\"fillmode\":\"overlay\",\"size\":10,\"solidity\":0.2}},\"type\":\"barpolar\"}],\"pie\":[{\"automargin\":true,\"type\":\"pie\"}]},\"layout\":{\"autotypenumbers\":\"strict\",\"colorway\":[\"#636efa\",\"#EF553B\",\"#00cc96\",\"#ab63fa\",\"#FFA15A\",\"#19d3f3\",\"#FF6692\",\"#B6E880\",\"#FF97FF\",\"#FECB52\"],\"font\":{\"color\":\"#2a3f5f\"},\"hovermode\":\"closest\",\"hoverlabel\":{\"align\":\"left\"},\"paper_bgcolor\":\"white\",\"plot_bgcolor\":\"#E5ECF6\",\"polar\":{\"bgcolor\":\"#E5ECF6\",\"angularaxis\":{\"gridcolor\":\"white\",\"linecolor\":\"white\",\"ticks\":\"\"},\"radialaxis\":{\"gridcolor\":\"white\",\"linecolor\":\"white\",\"ticks\":\"\"}},\"ternary\":{\"bgcolor\":\"#E5ECF6\",\"aaxis\":{\"gridcolor\":\"white\",\"linecolor\":\"white\",\"ticks\":\"\"},\"baxis\":{\"gridcolor\":\"white\",\"linecolor\":\"white\",\"ticks\":\"\"},\"caxis\":{\"gridcolor\":\"white\",\"linecolor\":\"white\",\"ticks\":\"\"}},\"coloraxis\":{\"colorbar\":{\"outlinewidth\":0,\"ticks\":\"\"}},\"colorscale\":{\"sequential\":[[0.0,\"#0d0887\"],[0.1111111111111111,\"#46039f\"],[0.2222222222222222,\"#7201a8\"],[0.3333333333333333,\"#9c179e\"],[0.4444444444444444,\"#bd3786\"],[0.5555555555555556,\"#d8576b\"],[0.6666666666666666,\"#ed7953\"],[0.7777777777777778,\"#fb9f3a\"],[0.8888888888888888,\"#fdca26\"],[1.0,\"#f0f921\"]],\"sequentialminus\":[[0.0,\"#0d0887\"],[0.1111111111111111,\"#46039f\"],[0.2222222222222222,\"#7201a8\"],[0.3333333333333333,\"#9c179e\"],[0.4444444444444444,\"#bd3786\"],[0.5555555555555556,\"#d8576b\"],[0.6666666666666666,\"#ed7953\"],[0.7777777777777778,\"#fb9f3a\"],[0.8888888888888888,\"#fdca26\"],[1.0,\"#f0f921\"]],\"diverging\":[[0,\"#8e0152\"],[0.1,\"#c51b7d\"],[0.2,\"#de77ae\"],[0.3,\"#f1b6da\"],[0.4,\"#fde0ef\"],[0.5,\"#f7f7f7\"],[0.6,\"#e6f5d0\"],[0.7,\"#b8e186\"],[0.8,\"#7fbc41\"],[0.9,\"#4d9221\"],[1,\"#276419\"]]},\"xaxis\":{\"gridcolor\":\"white\",\"linecolor\":\"white\",\"ticks\":\"\",\"title\":{\"standoff\":15},\"zerolinecolor\":\"white\",\"automargin\":true,\"zerolinewidth\":2},\"yaxis\":{\"gridcolor\":\"white\",\"linecolor\":\"white\",\"ticks\":\"\",\"title\":{\"standoff\":15},\"zerolinecolor\":\"white\",\"automargin\":true,\"zerolinewidth\":2},\"scene\":{\"xaxis\":{\"backgroundcolor\":\"#E5ECF6\",\"gridcolor\":\"white\",\"linecolor\":\"white\",\"showbackground\":true,\"ticks\":\"\",\"zerolinecolor\":\"white\",\"gridwidth\":2},\"yaxis\":{\"backgroundcolor\":\"#E5ECF6\",\"gridcolor\":\"white\",\"linecolor\":\"white\",\"showbackground\":true,\"ticks\":\"\",\"zerolinecolor\":\"white\",\"gridwidth\":2},\"zaxis\":{\"backgroundcolor\":\"#E5ECF6\",\"gridcolor\":\"white\",\"linecolor\":\"white\",\"showbackground\":true,\"ticks\":\"\",\"zerolinecolor\":\"white\",\"gridwidth\":2}},\"shapedefaults\":{\"line\":{\"color\":\"#2a3f5f\"}},\"annotationdefaults\":{\"arrowcolor\":\"#2a3f5f\",\"arrowhead\":0,\"arrowwidth\":1},\"geo\":{\"bgcolor\":\"white\",\"landcolor\":\"#E5ECF6\",\"subunitcolor\":\"white\",\"showland\":true,\"showlakes\":true,\"lakecolor\":\"white\"},\"title\":{\"x\":0.05},\"mapbox\":{\"style\":\"light\"}}},\"xaxis\":{\"anchor\":\"y\",\"domain\":[0.0,1.0],\"title\":{\"text\":\"\\u8a00\\u8a9e\"}},\"yaxis\":{\"anchor\":\"x\",\"domain\":[0.0,1.0],\"title\":{\"text\":\"\\u30b9\\u30b3\\u30a2\"}},\"legend\":{\"tracegroupgap\":0},\"margin\":{\"t\":60},\"boxmode\":\"group\"},                        {\"responsive\": true}                    ).then(function(){\n",
              "                            \n",
              "var gd = document.getElementById('1494e72a-c447-427e-ad55-2654ef4487e5');\n",
              "var x = new MutationObserver(function (mutations, observer) {{\n",
              "        var display = window.getComputedStyle(gd).display;\n",
              "        if (!display || display === 'none') {{\n",
              "            console.log([gd, 'removed!']);\n",
              "            Plotly.purge(gd);\n",
              "            observer.disconnect();\n",
              "        }}\n",
              "}});\n",
              "\n",
              "// Listen for the removal of the full notebook cells\n",
              "var notebookContainer = gd.closest('#notebook-container');\n",
              "if (notebookContainer) {{\n",
              "    x.observe(notebookContainer, {childList: true});\n",
              "}}\n",
              "\n",
              "// Listen for the clearing of the current output cell\n",
              "var outputEl = gd.closest('.output');\n",
              "if (outputEl) {{\n",
              "    x.observe(outputEl, {childList: true});\n",
              "}}\n",
              "\n",
              "                        })                };                            </script>        </div>\n",
              "</body>\n",
              "</html>"
            ]
          },
          "metadata": {}
        }
      ]
    },
    {
      "cell_type": "code",
      "source": [
        "\"\"\"\n",
        "df_rate = df.loc[df.groupby(\"名前\")[\"スコア\"].idxmax()]\n",
        "\n",
        "layout = go.Layout(\n",
        "    xaxis = dict(title=\"レート\", range = [0,3001], dtick=500),   # rangeで範囲、dtick で区間幅\n",
        "    yaxis = dict(title=\"スコア（対数）\"))\n",
        "\n",
        "fig_rate = go.Figure(layout = layout)\n",
        "fig_rate.add_trace(go.Scatter(x = df_rate[\"アルゴレート\"],\n",
        "                              y = df_rate[\"スコア\"],\n",
        "                              mode = \"markers\",\n",
        "                              name = \"アルゴ\"))\n",
        "fig_rate.add_trace(go.Scatter(x = df_rate[\"ヒューリスティックレート\"],\n",
        "                              y = df_rate[\"スコア\"],\n",
        "                              mode = \"markers\",\n",
        "                              name = \"ヒューリスティック\"))\n",
        "fig_rate.update_yaxes(type=\"log\")\n",
        "fig_rate.show()\n",
        "\"\"\""
      ],
      "metadata": {
        "colab": {
          "base_uri": "https://localhost:8080/",
          "height": 154
        },
        "id": "RilTd-rqPwP_",
        "outputId": "253c296b-1e34-4136-820b-7eca6f4bc563"
      },
      "execution_count": 9,
      "outputs": [
        {
          "output_type": "execute_result",
          "data": {
            "text/plain": [
              "'\\ndf_rate = df.loc[df.groupby(\"名前\")[\"スコア\"].idxmax()]\\n\\nlayout = go.Layout(\\n    xaxis = dict(title=\"レート\", range = [0,3001], dtick=500),   # rangeで範囲、dtick で区間幅\\n    yaxis = dict(title=\"スコア（対数）\"))\\n\\nfig_rate = go.Figure(layout = layout)\\nfig_rate.add_trace(go.Scatter(x = df_rate[\"アルゴレート\"],\\n                              y = df_rate[\"スコア\"],\\n                              mode = \"markers\",\\n                              name = \"アルゴ\"))\\nfig_rate.add_trace(go.Scatter(x = df_rate[\"ヒューリスティックレート\"],\\n                              y = df_rate[\"スコア\"],\\n                              mode = \"markers\",\\n                              name = \"ヒューリスティック\"))\\nfig_rate.update_yaxes(type=\"log\")\\nfig_rate.show()\\n'"
            ],
            "application/vnd.google.colaboratory.intrinsic+json": {
              "type": "string"
            }
          },
          "metadata": {},
          "execution_count": 9
        }
      ]
    },
    {
      "cell_type": "markdown",
      "source": [
        "## HTMLで書き出し"
      ],
      "metadata": {
        "id": "H00Xt_2d-kz1"
      }
    },
    {
      "cell_type": "code",
      "source": [
        "fig_individual.write_html(\"line_individual.html\")\n",
        "fig_team.write_html(\"line_team.html\")\n",
        "fig_lang.write_html(\"box_lang.html\")\n",
        "#fig_rate.write_html(\"scatter_rate.html\")"
      ],
      "metadata": {
        "id": "A1N18qR7NI4L"
      },
      "execution_count": 10,
      "outputs": []
    },
    {
      "cell_type": "code",
      "source": [
        "df_individual.to_html(border = 0,\n",
        "                      classes = [\"table\", \"table-striped\", \"table-hover\"],\n",
        "                      index = False,\n",
        "                      justify = \"left\")"
      ],
      "metadata": {
        "colab": {
          "base_uri": "https://localhost:8080/",
          "height": 205
        },
        "id": "K7S5xxFWNjB2",
        "outputId": "2135c20d-1449-4726-a104-3d4a30fadc69"
      },
      "execution_count": 11,
      "outputs": [
        {
          "output_type": "execute_result",
          "data": {
            "text/plain": [
              "'<table class=\"dataframe table table-striped table-hover\">\\n  <thead>\\n    <tr style=\"text-align: left;\">\\n      <th>順位</th>\\n      <th>名前</th>\\n      <th>チーム名</th>\\n      <th>スコア</th>\\n    </tr>\\n  </thead>\\n  <tbody>\\n    <tr>\\n      <td>1</td>\\n      <td>uni_kakurenbo</td>\\n      <td>a1nem</td>\\n      <td>6304639</td>\\n    </tr>\\n    <tr>\\n      <td>2</td>\\n      <td>tardigrade</td>\\n      <td>俺はタスマニア！お前は何マニア？</td>\\n      <td>6149264</td>\\n    </tr>\\n    <tr>\\n      <td>3</td>\\n      <td>keroru</td>\\n      <td>Moréchond</td>\\n      <td>6110893</td>\\n    </tr>\\n    <tr>\\n      <td>4</td>\\n      <td>r3yohei</td>\\n      <td>焼きにゃまし隊</td>\\n      <td>6045383</td>\\n    </tr>\\n    <tr>\\n      <td>5</td>\\n      <td>takekinmkk</td>\\n      <td>俺はタスマニア！お前は何マニア？</td>\\n      <td>6036707</td>\\n    </tr>\\n    <tr>\\n      <td>6</td>\\n      <td>bio4eta</td>\\n      <td>ひよこ</td>\\n      <td>6022374</td>\\n    </tr>\\n    <tr>\\n      <td>7</td>\\n      <td>michirakara</td>\\n      <td>Moréchond</td>\\n      <td>5996611</td>\\n    </tr>\\n    <tr>\\n      <td>8</td>\\n      <td>fujikawahiroaki</td>\\n      <td>三尺秋水</td>\\n      <td>5912645</td>\\n    </tr>\\n    <tr>\\n      <td>9</td>\\n      <td>hiraku</td>\\n      <td>焼きにゃまし隊</td>\\n      <td>5423895</td>\\n    </tr>\\n    <tr>\\n      <td>10</td>\\n      <td>ococonomy1</td>\\n      <td>a1nem</td>\\n      <td>5371821</td>\\n    </tr>\\n    <tr>\\n      <td>11</td>\\n      <td>ainem</td>\\n      <td>運営</td>\\n      <td>5257160</td>\\n    </tr>\\n    <tr>\\n      <td>12</td>\\n      <td>kokatsu</td>\\n      <td>ひよこ</td>\\n      <td>5007759</td>\\n    </tr>\\n    <tr>\\n      <td>13</td>\\n      <td>yas_yasyu</td>\\n      <td>Moréchond</td>\\n      <td>4951868</td>\\n    </tr>\\n    <tr>\\n      <td>14</td>\\n      <td>rinrion</td>\\n      <td>三尺秋水</td>\\n      <td>4717214</td>\\n    </tr>\\n    <tr>\\n      <td>15</td>\\n      <td>kaede2020</td>\\n      <td>Moréchond</td>\\n      <td>4377385</td>\\n    </tr>\\n    <tr>\\n      <td>16</td>\\n      <td>jabee</td>\\n      <td>三尺秋水</td>\\n      <td>4363493</td>\\n    </tr>\\n    <tr>\\n      <td>17</td>\\n      <td>Gex777</td>\\n      <td>三尺秋水</td>\\n      <td>4226447</td>\\n    </tr>\\n    <tr>\\n      <td>18</td>\\n      <td>gabriel55_</td>\\n      <td>三尺秋水</td>\\n      <td>4226395</td>\\n    </tr>\\n    <tr>\\n      <td>19</td>\\n      <td>akane831</td>\\n      <td>焼きにゃまし隊</td>\\n      <td>4166154</td>\\n    </tr>\\n    <tr>\\n      <td>20</td>\\n      <td>meowmeowcats</td>\\n      <td>焼きにゃまし隊</td>\\n      <td>4159844</td>\\n    </tr>\\n    <tr>\\n      <td>21</td>\\n      <td>nephrologist</td>\\n      <td>ひよこ</td>\\n      <td>3830922</td>\\n    </tr>\\n    <tr>\\n      <td>22</td>\\n      <td>amylase</td>\\n      <td>俺はタスマニア！お前は何マニア？</td>\\n      <td>3624732</td>\\n    </tr>\\n    <tr>\\n      <td>23</td>\\n      <td>G4NP0N</td>\\n      <td>俺はタスマニア！お前は何マニア？</td>\\n      <td>3211512</td>\\n    </tr>\\n    <tr>\\n      <td>24</td>\\n      <td>kuruton456</td>\\n      <td>Moréchond</td>\\n      <td>2922291</td>\\n    </tr>\\n    <tr>\\n      <td>25</td>\\n      <td>a9ua1i0n</td>\\n      <td>a1nem</td>\\n      <td>1863401</td>\\n    </tr>\\n    <tr>\\n      <td>26</td>\\n      <td>bk_cocoa</td>\\n      <td>ひよこ</td>\\n      <td>811763</td>\\n    </tr>\\n  </tbody>\\n</table>'"
            ],
            "application/vnd.google.colaboratory.intrinsic+json": {
              "type": "string"
            }
          },
          "metadata": {},
          "execution_count": 11
        }
      ]
    },
    {
      "cell_type": "code",
      "source": [
        "df_team.to_html(border = 0,\n",
        "                classes = [\"table\", \"table-striped\", \"table-hover\"],\n",
        "                index = False,\n",
        "                justify = \"left\")"
      ],
      "metadata": {
        "colab": {
          "base_uri": "https://localhost:8080/",
          "height": 205
        },
        "id": "rPPEgEgTQANd",
        "outputId": "dafa33cb-1f05-41ae-9ecc-a5c507f5e5b5"
      },
      "execution_count": 12,
      "outputs": [
        {
          "output_type": "execute_result",
          "data": {
            "text/plain": [
              "'<table class=\"dataframe table table-striped table-hover\">\\n  <thead>\\n    <tr style=\"text-align: left;\">\\n      <th>順位</th>\\n      <th>チーム名</th>\\n      <th>名前</th>\\n      <th>スコア</th>\\n    </tr>\\n  </thead>\\n  <tbody>\\n    <tr>\\n      <td>1</td>\\n      <td>a1nem</td>\\n      <td>uni_kakurenbo</td>\\n      <td>6304639</td>\\n    </tr>\\n    <tr>\\n      <td>2</td>\\n      <td>俺はタスマニア！お前は何マニア？</td>\\n      <td>tardigrade</td>\\n      <td>6149264</td>\\n    </tr>\\n    <tr>\\n      <td>3</td>\\n      <td>Moréchond</td>\\n      <td>keroru</td>\\n      <td>6110893</td>\\n    </tr>\\n    <tr>\\n      <td>4</td>\\n      <td>焼きにゃまし隊</td>\\n      <td>r3yohei</td>\\n      <td>6045383</td>\\n    </tr>\\n    <tr>\\n      <td>5</td>\\n      <td>ひよこ</td>\\n      <td>bio4eta</td>\\n      <td>6022374</td>\\n    </tr>\\n    <tr>\\n      <td>6</td>\\n      <td>三尺秋水</td>\\n      <td>fujikawahiroaki</td>\\n      <td>5912645</td>\\n    </tr>\\n    <tr>\\n      <td>7</td>\\n      <td>運営</td>\\n      <td>ainem</td>\\n      <td>5257160</td>\\n    </tr>\\n  </tbody>\\n</table>'"
            ],
            "application/vnd.google.colaboratory.intrinsic+json": {
              "type": "string"
            }
          },
          "metadata": {},
          "execution_count": 12
        }
      ]
    }
  ]
}