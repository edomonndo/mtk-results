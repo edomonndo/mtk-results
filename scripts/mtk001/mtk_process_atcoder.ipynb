{
  "nbformat": 4,
  "nbformat_minor": 0,
  "metadata": {
    "colab": {
      "provenance": []
    },
    "kernelspec": {
      "name": "python3",
      "display_name": "Python 3"
    },
    "language_info": {
      "name": "python"
    }
  },
  "cells": [
    {
      "cell_type": "code",
      "execution_count": 1,
      "metadata": {
        "id": "6kgO41IRNcEw"
      },
      "outputs": [],
      "source": [
        "import requests\n",
        "import json\n",
        "import time\n",
        "from bs4 import BeautifulSoup\n",
        "import pandas as pd\n",
        "import datetime\n",
        "\n",
        "import plotly.express as px\n",
        "import plotly.graph_objects as go"
      ]
    },
    {
      "cell_type": "markdown",
      "source": [
        "# コンテスト情報"
      ],
      "metadata": {
        "id": "ZVMvrAK5kA7U"
      }
    },
    {
      "cell_type": "code",
      "source": [
        "contest_id = \"ahc001\"\n",
        "problem_id = \"ahc001_a\"\n",
        "\n",
        "contest_start = datetime.datetime(2022,10,13,19,0,0)\n",
        "contest_end = datetime.datetime(2022,10,20,19,0,0)\n"
      ],
      "metadata": {
        "id": "6uQPN9knj_91"
      },
      "execution_count": 2,
      "outputs": []
    },
    {
      "cell_type": "markdown",
      "source": [
        "# データ作成\n",
        "コンテスト期間中の提出結果から、リストを作成"
      ],
      "metadata": {
        "id": "zsl6xeLCkjIS"
      }
    },
    {
      "cell_type": "code",
      "source": [
        "df = pd.read_csv(\"submissions.csv\", index_col = 0)\n",
        "df.columns = [\"名前\",\"チーム名\", \"言語\", \"スコア\", \"提出日時\", \"実行時間\"]\n",
        "df.head()"
      ],
      "metadata": {
        "colab": {
          "base_uri": "https://localhost:8080/",
          "height": 204
        },
        "id": "zXJ2DNSwYBgG",
        "outputId": "9f8ebdf3-00e2-48ce-9bc8-7b08af774af0"
      },
      "execution_count": 3,
      "outputs": [
        {
          "output_type": "execute_result",
          "data": {
            "text/plain": [
              "         名前       チーム名               言語          スコア                 提出日時  \\\n",
              "0   r3yohei  バベルクライマーズ    Rust (1.42.0)  47637101331  2022-10-20 18:59:44   \n",
              "1     jabee     a･Cyan  C++ (GCC 9.2.1)  48643175751  2022-10-20 18:56:31   \n",
              "2  ponjuice        松竹梅  C++ (GCC 9.2.1)  48154137543  2022-10-20 18:54:16   \n",
              "3    keroru        松竹梅    PyPy3 (7.3.0)  48052667826  2022-10-20 18:48:47   \n",
              "4     ainem         運営    Rust (1.42.0)  47945432845  2022-10-20 18:33:53   \n",
              "\n",
              "      実行時間  \n",
              "0  4995 ms  \n",
              "1  4949 ms  \n",
              "2  4958 ms  \n",
              "3  4960 ms  \n",
              "4  4985 ms  "
            ],
            "text/html": [
              "\n",
              "  <div id=\"df-fe4ed7a9-6fa4-4d58-acde-d01be0db5407\">\n",
              "    <div class=\"colab-df-container\">\n",
              "      <div>\n",
              "<style scoped>\n",
              "    .dataframe tbody tr th:only-of-type {\n",
              "        vertical-align: middle;\n",
              "    }\n",
              "\n",
              "    .dataframe tbody tr th {\n",
              "        vertical-align: top;\n",
              "    }\n",
              "\n",
              "    .dataframe thead th {\n",
              "        text-align: right;\n",
              "    }\n",
              "</style>\n",
              "<table border=\"1\" class=\"dataframe\">\n",
              "  <thead>\n",
              "    <tr style=\"text-align: right;\">\n",
              "      <th></th>\n",
              "      <th>名前</th>\n",
              "      <th>チーム名</th>\n",
              "      <th>言語</th>\n",
              "      <th>スコア</th>\n",
              "      <th>提出日時</th>\n",
              "      <th>実行時間</th>\n",
              "    </tr>\n",
              "  </thead>\n",
              "  <tbody>\n",
              "    <tr>\n",
              "      <th>0</th>\n",
              "      <td>r3yohei</td>\n",
              "      <td>バベルクライマーズ</td>\n",
              "      <td>Rust (1.42.0)</td>\n",
              "      <td>47637101331</td>\n",
              "      <td>2022-10-20 18:59:44</td>\n",
              "      <td>4995 ms</td>\n",
              "    </tr>\n",
              "    <tr>\n",
              "      <th>1</th>\n",
              "      <td>jabee</td>\n",
              "      <td>a･Cyan</td>\n",
              "      <td>C++ (GCC 9.2.1)</td>\n",
              "      <td>48643175751</td>\n",
              "      <td>2022-10-20 18:56:31</td>\n",
              "      <td>4949 ms</td>\n",
              "    </tr>\n",
              "    <tr>\n",
              "      <th>2</th>\n",
              "      <td>ponjuice</td>\n",
              "      <td>松竹梅</td>\n",
              "      <td>C++ (GCC 9.2.1)</td>\n",
              "      <td>48154137543</td>\n",
              "      <td>2022-10-20 18:54:16</td>\n",
              "      <td>4958 ms</td>\n",
              "    </tr>\n",
              "    <tr>\n",
              "      <th>3</th>\n",
              "      <td>keroru</td>\n",
              "      <td>松竹梅</td>\n",
              "      <td>PyPy3 (7.3.0)</td>\n",
              "      <td>48052667826</td>\n",
              "      <td>2022-10-20 18:48:47</td>\n",
              "      <td>4960 ms</td>\n",
              "    </tr>\n",
              "    <tr>\n",
              "      <th>4</th>\n",
              "      <td>ainem</td>\n",
              "      <td>運営</td>\n",
              "      <td>Rust (1.42.0)</td>\n",
              "      <td>47945432845</td>\n",
              "      <td>2022-10-20 18:33:53</td>\n",
              "      <td>4985 ms</td>\n",
              "    </tr>\n",
              "  </tbody>\n",
              "</table>\n",
              "</div>\n",
              "      <button class=\"colab-df-convert\" onclick=\"convertToInteractive('df-fe4ed7a9-6fa4-4d58-acde-d01be0db5407')\"\n",
              "              title=\"Convert this dataframe to an interactive table.\"\n",
              "              style=\"display:none;\">\n",
              "        \n",
              "  <svg xmlns=\"http://www.w3.org/2000/svg\" height=\"24px\"viewBox=\"0 0 24 24\"\n",
              "       width=\"24px\">\n",
              "    <path d=\"M0 0h24v24H0V0z\" fill=\"none\"/>\n",
              "    <path d=\"M18.56 5.44l.94 2.06.94-2.06 2.06-.94-2.06-.94-.94-2.06-.94 2.06-2.06.94zm-11 1L8.5 8.5l.94-2.06 2.06-.94-2.06-.94L8.5 2.5l-.94 2.06-2.06.94zm10 10l.94 2.06.94-2.06 2.06-.94-2.06-.94-.94-2.06-.94 2.06-2.06.94z\"/><path d=\"M17.41 7.96l-1.37-1.37c-.4-.4-.92-.59-1.43-.59-.52 0-1.04.2-1.43.59L10.3 9.45l-7.72 7.72c-.78.78-.78 2.05 0 2.83L4 21.41c.39.39.9.59 1.41.59.51 0 1.02-.2 1.41-.59l7.78-7.78 2.81-2.81c.8-.78.8-2.07 0-2.86zM5.41 20L4 18.59l7.72-7.72 1.47 1.35L5.41 20z\"/>\n",
              "  </svg>\n",
              "      </button>\n",
              "      \n",
              "  <style>\n",
              "    .colab-df-container {\n",
              "      display:flex;\n",
              "      flex-wrap:wrap;\n",
              "      gap: 12px;\n",
              "    }\n",
              "\n",
              "    .colab-df-convert {\n",
              "      background-color: #E8F0FE;\n",
              "      border: none;\n",
              "      border-radius: 50%;\n",
              "      cursor: pointer;\n",
              "      display: none;\n",
              "      fill: #1967D2;\n",
              "      height: 32px;\n",
              "      padding: 0 0 0 0;\n",
              "      width: 32px;\n",
              "    }\n",
              "\n",
              "    .colab-df-convert:hover {\n",
              "      background-color: #E2EBFA;\n",
              "      box-shadow: 0px 1px 2px rgba(60, 64, 67, 0.3), 0px 1px 3px 1px rgba(60, 64, 67, 0.15);\n",
              "      fill: #174EA6;\n",
              "    }\n",
              "\n",
              "    [theme=dark] .colab-df-convert {\n",
              "      background-color: #3B4455;\n",
              "      fill: #D2E3FC;\n",
              "    }\n",
              "\n",
              "    [theme=dark] .colab-df-convert:hover {\n",
              "      background-color: #434B5C;\n",
              "      box-shadow: 0px 1px 3px 1px rgba(0, 0, 0, 0.15);\n",
              "      filter: drop-shadow(0px 1px 2px rgba(0, 0, 0, 0.3));\n",
              "      fill: #FFFFFF;\n",
              "    }\n",
              "  </style>\n",
              "\n",
              "      <script>\n",
              "        const buttonEl =\n",
              "          document.querySelector('#df-fe4ed7a9-6fa4-4d58-acde-d01be0db5407 button.colab-df-convert');\n",
              "        buttonEl.style.display =\n",
              "          google.colab.kernel.accessAllowed ? 'block' : 'none';\n",
              "\n",
              "        async function convertToInteractive(key) {\n",
              "          const element = document.querySelector('#df-fe4ed7a9-6fa4-4d58-acde-d01be0db5407');\n",
              "          const dataTable =\n",
              "            await google.colab.kernel.invokeFunction('convertToInteractive',\n",
              "                                                     [key], {});\n",
              "          if (!dataTable) return;\n",
              "\n",
              "          const docLinkHtml = 'Like what you see? Visit the ' +\n",
              "            '<a target=\"_blank\" href=https://colab.research.google.com/notebooks/data_table.ipynb>data table notebook</a>'\n",
              "            + ' to learn more about interactive tables.';\n",
              "          element.innerHTML = '';\n",
              "          dataTable['output_type'] = 'display_data';\n",
              "          await google.colab.output.renderOutput(dataTable, element);\n",
              "          const docLink = document.createElement('div');\n",
              "          docLink.innerHTML = docLinkHtml;\n",
              "          element.appendChild(docLink);\n",
              "        }\n",
              "      </script>\n",
              "    </div>\n",
              "  </div>\n",
              "  "
            ]
          },
          "metadata": {},
          "execution_count": 3
        }
      ]
    },
    {
      "cell_type": "markdown",
      "source": [
        "## 個人ランキング"
      ],
      "metadata": {
        "id": "dVxMTUStkw6a"
      }
    },
    {
      "cell_type": "code",
      "source": [
        "df_individual = df.loc[df.groupby(\"名前\")[\"スコア\"].idxmax()]\n",
        "df_individual = df_individual.drop(columns = [\"言語\", \"提出日時\", \"実行時間\"])\n",
        "df_individual.sort_values(\"スコア\", ascending=False, inplace=True)\n",
        "df_individual.reset_index(inplace=True, drop=True)\n",
        "df_individual[\"順位\"] = range(1,len(df_individual)+1)\n",
        "df_individual = df_individual.reindex(columns = [\"順位\", \"名前\", \"チーム名\", \"スコア\"]) \n",
        "df_individual.head()"
      ],
      "metadata": {
        "colab": {
          "base_uri": "https://localhost:8080/",
          "height": 204
        },
        "id": "fBO_hNgPZAE0",
        "outputId": "db858dd2-bdc2-4633-cd42-c918ad653a0d"
      },
      "execution_count": 4,
      "outputs": [
        {
          "output_type": "execute_result",
          "data": {
            "text/plain": [
              "   順位               名前       チーム名          スコア\n",
              "0   1       takekinmkk        松竹梅  48951109803\n",
              "1   2            jabee     a･Cyan  48663972389\n",
              "2   3         ponjuice        松竹梅  48154137543\n",
              "3   4           keroru        松竹梅  48103891151\n",
              "4   5  fujikawahiroaki  バベルクライマーズ  48036924202"
            ],
            "text/html": [
              "\n",
              "  <div id=\"df-d9c79040-f7d1-483a-9d5c-25c13a4e40a0\">\n",
              "    <div class=\"colab-df-container\">\n",
              "      <div>\n",
              "<style scoped>\n",
              "    .dataframe tbody tr th:only-of-type {\n",
              "        vertical-align: middle;\n",
              "    }\n",
              "\n",
              "    .dataframe tbody tr th {\n",
              "        vertical-align: top;\n",
              "    }\n",
              "\n",
              "    .dataframe thead th {\n",
              "        text-align: right;\n",
              "    }\n",
              "</style>\n",
              "<table border=\"1\" class=\"dataframe\">\n",
              "  <thead>\n",
              "    <tr style=\"text-align: right;\">\n",
              "      <th></th>\n",
              "      <th>順位</th>\n",
              "      <th>名前</th>\n",
              "      <th>チーム名</th>\n",
              "      <th>スコア</th>\n",
              "    </tr>\n",
              "  </thead>\n",
              "  <tbody>\n",
              "    <tr>\n",
              "      <th>0</th>\n",
              "      <td>1</td>\n",
              "      <td>takekinmkk</td>\n",
              "      <td>松竹梅</td>\n",
              "      <td>48951109803</td>\n",
              "    </tr>\n",
              "    <tr>\n",
              "      <th>1</th>\n",
              "      <td>2</td>\n",
              "      <td>jabee</td>\n",
              "      <td>a･Cyan</td>\n",
              "      <td>48663972389</td>\n",
              "    </tr>\n",
              "    <tr>\n",
              "      <th>2</th>\n",
              "      <td>3</td>\n",
              "      <td>ponjuice</td>\n",
              "      <td>松竹梅</td>\n",
              "      <td>48154137543</td>\n",
              "    </tr>\n",
              "    <tr>\n",
              "      <th>3</th>\n",
              "      <td>4</td>\n",
              "      <td>keroru</td>\n",
              "      <td>松竹梅</td>\n",
              "      <td>48103891151</td>\n",
              "    </tr>\n",
              "    <tr>\n",
              "      <th>4</th>\n",
              "      <td>5</td>\n",
              "      <td>fujikawahiroaki</td>\n",
              "      <td>バベルクライマーズ</td>\n",
              "      <td>48036924202</td>\n",
              "    </tr>\n",
              "  </tbody>\n",
              "</table>\n",
              "</div>\n",
              "      <button class=\"colab-df-convert\" onclick=\"convertToInteractive('df-d9c79040-f7d1-483a-9d5c-25c13a4e40a0')\"\n",
              "              title=\"Convert this dataframe to an interactive table.\"\n",
              "              style=\"display:none;\">\n",
              "        \n",
              "  <svg xmlns=\"http://www.w3.org/2000/svg\" height=\"24px\"viewBox=\"0 0 24 24\"\n",
              "       width=\"24px\">\n",
              "    <path d=\"M0 0h24v24H0V0z\" fill=\"none\"/>\n",
              "    <path d=\"M18.56 5.44l.94 2.06.94-2.06 2.06-.94-2.06-.94-.94-2.06-.94 2.06-2.06.94zm-11 1L8.5 8.5l.94-2.06 2.06-.94-2.06-.94L8.5 2.5l-.94 2.06-2.06.94zm10 10l.94 2.06.94-2.06 2.06-.94-2.06-.94-.94-2.06-.94 2.06-2.06.94z\"/><path d=\"M17.41 7.96l-1.37-1.37c-.4-.4-.92-.59-1.43-.59-.52 0-1.04.2-1.43.59L10.3 9.45l-7.72 7.72c-.78.78-.78 2.05 0 2.83L4 21.41c.39.39.9.59 1.41.59.51 0 1.02-.2 1.41-.59l7.78-7.78 2.81-2.81c.8-.78.8-2.07 0-2.86zM5.41 20L4 18.59l7.72-7.72 1.47 1.35L5.41 20z\"/>\n",
              "  </svg>\n",
              "      </button>\n",
              "      \n",
              "  <style>\n",
              "    .colab-df-container {\n",
              "      display:flex;\n",
              "      flex-wrap:wrap;\n",
              "      gap: 12px;\n",
              "    }\n",
              "\n",
              "    .colab-df-convert {\n",
              "      background-color: #E8F0FE;\n",
              "      border: none;\n",
              "      border-radius: 50%;\n",
              "      cursor: pointer;\n",
              "      display: none;\n",
              "      fill: #1967D2;\n",
              "      height: 32px;\n",
              "      padding: 0 0 0 0;\n",
              "      width: 32px;\n",
              "    }\n",
              "\n",
              "    .colab-df-convert:hover {\n",
              "      background-color: #E2EBFA;\n",
              "      box-shadow: 0px 1px 2px rgba(60, 64, 67, 0.3), 0px 1px 3px 1px rgba(60, 64, 67, 0.15);\n",
              "      fill: #174EA6;\n",
              "    }\n",
              "\n",
              "    [theme=dark] .colab-df-convert {\n",
              "      background-color: #3B4455;\n",
              "      fill: #D2E3FC;\n",
              "    }\n",
              "\n",
              "    [theme=dark] .colab-df-convert:hover {\n",
              "      background-color: #434B5C;\n",
              "      box-shadow: 0px 1px 3px 1px rgba(0, 0, 0, 0.15);\n",
              "      filter: drop-shadow(0px 1px 2px rgba(0, 0, 0, 0.3));\n",
              "      fill: #FFFFFF;\n",
              "    }\n",
              "  </style>\n",
              "\n",
              "      <script>\n",
              "        const buttonEl =\n",
              "          document.querySelector('#df-d9c79040-f7d1-483a-9d5c-25c13a4e40a0 button.colab-df-convert');\n",
              "        buttonEl.style.display =\n",
              "          google.colab.kernel.accessAllowed ? 'block' : 'none';\n",
              "\n",
              "        async function convertToInteractive(key) {\n",
              "          const element = document.querySelector('#df-d9c79040-f7d1-483a-9d5c-25c13a4e40a0');\n",
              "          const dataTable =\n",
              "            await google.colab.kernel.invokeFunction('convertToInteractive',\n",
              "                                                     [key], {});\n",
              "          if (!dataTable) return;\n",
              "\n",
              "          const docLinkHtml = 'Like what you see? Visit the ' +\n",
              "            '<a target=\"_blank\" href=https://colab.research.google.com/notebooks/data_table.ipynb>data table notebook</a>'\n",
              "            + ' to learn more about interactive tables.';\n",
              "          element.innerHTML = '';\n",
              "          dataTable['output_type'] = 'display_data';\n",
              "          await google.colab.output.renderOutput(dataTable, element);\n",
              "          const docLink = document.createElement('div');\n",
              "          docLink.innerHTML = docLinkHtml;\n",
              "          element.appendChild(docLink);\n",
              "        }\n",
              "      </script>\n",
              "    </div>\n",
              "  </div>\n",
              "  "
            ]
          },
          "metadata": {},
          "execution_count": 4
        }
      ]
    },
    {
      "cell_type": "markdown",
      "source": [
        "## チームランキング"
      ],
      "metadata": {
        "id": "I8403JFSk3d_"
      }
    },
    {
      "cell_type": "code",
      "source": [
        "df_team = df.loc[df.groupby(\"チーム名\")[\"スコア\"].idxmax()]\n",
        "df_team = df_team.drop(columns = [\"言語\", \"提出日時\", \"実行時間\"])\n",
        "df_team = df_team.reindex(columns = [\"チーム名\", \"名前\", \"スコア\"])\n",
        "df_team.sort_values(\"スコア\", ascending = False, inplace = True)\n",
        "df_team.reset_index(inplace = True, drop = True)\n",
        "df_team[\"順位\"] = range(1,len(df_team)+1)\n",
        "df_team = df_team.reindex(columns = [\"順位\", \"チーム名\", \"名前\", \"スコア\"]) \n",
        "df_team.head()"
      ],
      "metadata": {
        "colab": {
          "base_uri": "https://localhost:8080/",
          "height": 204
        },
        "id": "f0VxhuVQgBeE",
        "outputId": "f9a68ff0-fa83-400a-aa10-6aaf634ad5f1"
      },
      "execution_count": 5,
      "outputs": [
        {
          "output_type": "execute_result",
          "data": {
            "text/plain": [
              "   順位       チーム名               名前          スコア\n",
              "0   1        松竹梅       takekinmkk  48951109803\n",
              "1   2     a･Cyan            jabee  48663972389\n",
              "2   3  バベルクライマーズ  fujikawahiroaki  48036924202\n",
              "3   4         運営            ainem  47945432845\n",
              "4   5        家買え         akane831  47594319404"
            ],
            "text/html": [
              "\n",
              "  <div id=\"df-e07d8191-d388-46a4-be77-119b719265cb\">\n",
              "    <div class=\"colab-df-container\">\n",
              "      <div>\n",
              "<style scoped>\n",
              "    .dataframe tbody tr th:only-of-type {\n",
              "        vertical-align: middle;\n",
              "    }\n",
              "\n",
              "    .dataframe tbody tr th {\n",
              "        vertical-align: top;\n",
              "    }\n",
              "\n",
              "    .dataframe thead th {\n",
              "        text-align: right;\n",
              "    }\n",
              "</style>\n",
              "<table border=\"1\" class=\"dataframe\">\n",
              "  <thead>\n",
              "    <tr style=\"text-align: right;\">\n",
              "      <th></th>\n",
              "      <th>順位</th>\n",
              "      <th>チーム名</th>\n",
              "      <th>名前</th>\n",
              "      <th>スコア</th>\n",
              "    </tr>\n",
              "  </thead>\n",
              "  <tbody>\n",
              "    <tr>\n",
              "      <th>0</th>\n",
              "      <td>1</td>\n",
              "      <td>松竹梅</td>\n",
              "      <td>takekinmkk</td>\n",
              "      <td>48951109803</td>\n",
              "    </tr>\n",
              "    <tr>\n",
              "      <th>1</th>\n",
              "      <td>2</td>\n",
              "      <td>a･Cyan</td>\n",
              "      <td>jabee</td>\n",
              "      <td>48663972389</td>\n",
              "    </tr>\n",
              "    <tr>\n",
              "      <th>2</th>\n",
              "      <td>3</td>\n",
              "      <td>バベルクライマーズ</td>\n",
              "      <td>fujikawahiroaki</td>\n",
              "      <td>48036924202</td>\n",
              "    </tr>\n",
              "    <tr>\n",
              "      <th>3</th>\n",
              "      <td>4</td>\n",
              "      <td>運営</td>\n",
              "      <td>ainem</td>\n",
              "      <td>47945432845</td>\n",
              "    </tr>\n",
              "    <tr>\n",
              "      <th>4</th>\n",
              "      <td>5</td>\n",
              "      <td>家買え</td>\n",
              "      <td>akane831</td>\n",
              "      <td>47594319404</td>\n",
              "    </tr>\n",
              "  </tbody>\n",
              "</table>\n",
              "</div>\n",
              "      <button class=\"colab-df-convert\" onclick=\"convertToInteractive('df-e07d8191-d388-46a4-be77-119b719265cb')\"\n",
              "              title=\"Convert this dataframe to an interactive table.\"\n",
              "              style=\"display:none;\">\n",
              "        \n",
              "  <svg xmlns=\"http://www.w3.org/2000/svg\" height=\"24px\"viewBox=\"0 0 24 24\"\n",
              "       width=\"24px\">\n",
              "    <path d=\"M0 0h24v24H0V0z\" fill=\"none\"/>\n",
              "    <path d=\"M18.56 5.44l.94 2.06.94-2.06 2.06-.94-2.06-.94-.94-2.06-.94 2.06-2.06.94zm-11 1L8.5 8.5l.94-2.06 2.06-.94-2.06-.94L8.5 2.5l-.94 2.06-2.06.94zm10 10l.94 2.06.94-2.06 2.06-.94-2.06-.94-.94-2.06-.94 2.06-2.06.94z\"/><path d=\"M17.41 7.96l-1.37-1.37c-.4-.4-.92-.59-1.43-.59-.52 0-1.04.2-1.43.59L10.3 9.45l-7.72 7.72c-.78.78-.78 2.05 0 2.83L4 21.41c.39.39.9.59 1.41.59.51 0 1.02-.2 1.41-.59l7.78-7.78 2.81-2.81c.8-.78.8-2.07 0-2.86zM5.41 20L4 18.59l7.72-7.72 1.47 1.35L5.41 20z\"/>\n",
              "  </svg>\n",
              "      </button>\n",
              "      \n",
              "  <style>\n",
              "    .colab-df-container {\n",
              "      display:flex;\n",
              "      flex-wrap:wrap;\n",
              "      gap: 12px;\n",
              "    }\n",
              "\n",
              "    .colab-df-convert {\n",
              "      background-color: #E8F0FE;\n",
              "      border: none;\n",
              "      border-radius: 50%;\n",
              "      cursor: pointer;\n",
              "      display: none;\n",
              "      fill: #1967D2;\n",
              "      height: 32px;\n",
              "      padding: 0 0 0 0;\n",
              "      width: 32px;\n",
              "    }\n",
              "\n",
              "    .colab-df-convert:hover {\n",
              "      background-color: #E2EBFA;\n",
              "      box-shadow: 0px 1px 2px rgba(60, 64, 67, 0.3), 0px 1px 3px 1px rgba(60, 64, 67, 0.15);\n",
              "      fill: #174EA6;\n",
              "    }\n",
              "\n",
              "    [theme=dark] .colab-df-convert {\n",
              "      background-color: #3B4455;\n",
              "      fill: #D2E3FC;\n",
              "    }\n",
              "\n",
              "    [theme=dark] .colab-df-convert:hover {\n",
              "      background-color: #434B5C;\n",
              "      box-shadow: 0px 1px 3px 1px rgba(0, 0, 0, 0.15);\n",
              "      filter: drop-shadow(0px 1px 2px rgba(0, 0, 0, 0.3));\n",
              "      fill: #FFFFFF;\n",
              "    }\n",
              "  </style>\n",
              "\n",
              "      <script>\n",
              "        const buttonEl =\n",
              "          document.querySelector('#df-e07d8191-d388-46a4-be77-119b719265cb button.colab-df-convert');\n",
              "        buttonEl.style.display =\n",
              "          google.colab.kernel.accessAllowed ? 'block' : 'none';\n",
              "\n",
              "        async function convertToInteractive(key) {\n",
              "          const element = document.querySelector('#df-e07d8191-d388-46a4-be77-119b719265cb');\n",
              "          const dataTable =\n",
              "            await google.colab.kernel.invokeFunction('convertToInteractive',\n",
              "                                                     [key], {});\n",
              "          if (!dataTable) return;\n",
              "\n",
              "          const docLinkHtml = 'Like what you see? Visit the ' +\n",
              "            '<a target=\"_blank\" href=https://colab.research.google.com/notebooks/data_table.ipynb>data table notebook</a>'\n",
              "            + ' to learn more about interactive tables.';\n",
              "          element.innerHTML = '';\n",
              "          dataTable['output_type'] = 'display_data';\n",
              "          await google.colab.output.renderOutput(dataTable, element);\n",
              "          const docLink = document.createElement('div');\n",
              "          docLink.innerHTML = docLinkHtml;\n",
              "          element.appendChild(docLink);\n",
              "        }\n",
              "      </script>\n",
              "    </div>\n",
              "  </div>\n",
              "  "
            ]
          },
          "metadata": {},
          "execution_count": 5
        }
      ]
    },
    {
      "cell_type": "markdown",
      "source": [
        "# グラフ作成\n",
        "\n",
        "1.   縦軸：スコア、横軸：時間の折れ線グラフ（個人）\n",
        "2.   縦軸：スコア、横軸：時間の折れ線グラフ（チーム）\n",
        "3.   言語ごとのランキング\n",
        "4.   スコアとレートの相関関係（アルゴ、ヒューリスティック）\n",
        "\n",
        "\n"
      ],
      "metadata": {
        "id": "_0dtIvguk7ze"
      }
    },
    {
      "cell_type": "code",
      "source": [
        "df_line_indv = df.sort_values(\"提出日時\", ascending = True)\n",
        "df_line_indv[\"スコア\"] = df_line_indv.groupby(\"名前\")[\"スコア\"].cummax()\n",
        "\n",
        "fig_individual = px.line(df_line_indv , x=\"提出日時\", y=\"スコア\", color=\"名前\")\n",
        "fig_individual.show()"
      ],
      "metadata": {
        "colab": {
          "base_uri": "https://localhost:8080/",
          "height": 542
        },
        "id": "PPmlXrqPISnm",
        "outputId": "30119413-a07c-4b90-89b6-c2bf0d31f102"
      },
      "execution_count": 6,
      "outputs": [
        {
          "output_type": "display_data",
          "data": {
            "text/html": [
              "<html>\n",
              "<head><meta charset=\"utf-8\" /></head>\n",
              "<body>\n",
              "    <div>            <script src=\"https://cdnjs.cloudflare.com/ajax/libs/mathjax/2.7.5/MathJax.js?config=TeX-AMS-MML_SVG\"></script><script type=\"text/javascript\">if (window.MathJax && window.MathJax.Hub && window.MathJax.Hub.Config) {window.MathJax.Hub.Config({SVG: {font: \"STIX-Web\"}});}</script>                <script type=\"text/javascript\">window.PlotlyConfig = {MathJaxConfig: 'local'};</script>\n",
              "        <script src=\"https://cdn.plot.ly/plotly-2.18.2.min.js\"></script>                <div id=\"e73faee9-6e63-4130-a2c4-829aa6f95d90\" class=\"plotly-graph-div\" style=\"height:525px; width:100%;\"></div>            <script type=\"text/javascript\">                                    window.PLOTLYENV=window.PLOTLYENV || {};                                    if (document.getElementById(\"e73faee9-6e63-4130-a2c4-829aa6f95d90\")) {                    Plotly.newPlot(                        \"e73faee9-6e63-4130-a2c4-829aa6f95d90\",                        [{\"hovertemplate\":\"\\u540d\\u524d=tnodino<br>\\u63d0\\u51fa\\u65e5\\u6642=%{x}<br>\\u30b9\\u30b3\\u30a2=%{y}<extra></extra>\",\"legendgroup\":\"tnodino\",\"line\":{\"color\":\"#636efa\",\"dash\":\"solid\"},\"marker\":{\"symbol\":\"circle\"},\"mode\":\"lines\",\"name\":\"tnodino\",\"orientation\":\"v\",\"showlegend\":true,\"x\":[\"2022-10-13 19:14:09\",\"2022-10-13 20:43:42\",\"2022-10-13 21:22:08\",\"2022-10-13 22:00:18\",\"2022-10-13 23:03:22\"],\"xaxis\":\"x\",\"y\":[823090,3584631541,5500820915,6069881611,26553335715],\"yaxis\":\"y\",\"type\":\"scatter\"},{\"hovertemplate\":\"\\u540d\\u524d=gengar_094<br>\\u63d0\\u51fa\\u65e5\\u6642=%{x}<br>\\u30b9\\u30b3\\u30a2=%{y}<extra></extra>\",\"legendgroup\":\"gengar_094\",\"line\":{\"color\":\"#EF553B\",\"dash\":\"solid\"},\"marker\":{\"symbol\":\"circle\"},\"mode\":\"lines\",\"name\":\"gengar_094\",\"orientation\":\"v\",\"showlegend\":true,\"x\":[\"2022-10-13 19:58:48\",\"2022-10-13 20:51:49\",\"2022-10-13 21:22:20\",\"2022-10-13 22:59:45\",\"2022-10-13 23:30:25\",\"2022-10-15 20:05:57\"],\"xaxis\":\"x\",\"y\":[823090,21998727869,40979563254,40979563254,42090125611,42114627814],\"yaxis\":\"y\",\"type\":\"scatter\"},{\"hovertemplate\":\"\\u540d\\u524d=Gex777<br>\\u63d0\\u51fa\\u65e5\\u6642=%{x}<br>\\u30b9\\u30b3\\u30a2=%{y}<extra></extra>\",\"legendgroup\":\"Gex777\",\"line\":{\"color\":\"#00cc96\",\"dash\":\"solid\"},\"marker\":{\"symbol\":\"circle\"},\"mode\":\"lines\",\"name\":\"Gex777\",\"orientation\":\"v\",\"showlegend\":true,\"x\":[\"2022-10-13 20:41:58\",\"2022-10-14 01:05:33\",\"2022-10-14 01:56:23\",\"2022-10-14 13:39:44\",\"2022-10-14 19:09:04\",\"2022-10-14 19:40:55\",\"2022-10-14 20:12:08\",\"2022-10-14 20:42:41\",\"2022-10-14 22:54:58\",\"2022-10-14 23:51:31\",\"2022-10-15 01:02:00\",\"2022-10-15 01:38:42\",\"2022-10-15 02:13:55\",\"2022-10-15 02:43:55\",\"2022-10-16 14:44:25\",\"2022-10-17 05:02:47\",\"2022-10-17 05:40:38\",\"2022-10-17 06:18:14\",\"2022-10-17 17:29:00\",\"2022-10-17 18:51:07\",\"2022-10-17 19:56:50\",\"2022-10-17 21:02:01\",\"2022-10-18 15:37:49\",\"2022-10-19 21:21:58\",\"2022-10-19 22:01:56\",\"2022-10-19 23:03:09\"],\"xaxis\":\"x\",\"y\":[29415581618,41968001621,42708273131,42719719237,44214216255,44214216255,44214216255,44214216255,44240160314,44819495400,45077958285,45834159171,45834159171,45834159171,45834159171,45834159171,45834159171,45834159171,45834159171,45834159171,45834159171,45834159171,45834159171,45834159171,45834159171,45834159171],\"yaxis\":\"y\",\"type\":\"scatter\"},{\"hovertemplate\":\"\\u540d\\u524d=keroru<br>\\u63d0\\u51fa\\u65e5\\u6642=%{x}<br>\\u30b9\\u30b3\\u30a2=%{y}<extra></extra>\",\"legendgroup\":\"keroru\",\"line\":{\"color\":\"#ab63fa\",\"dash\":\"solid\"},\"marker\":{\"symbol\":\"circle\"},\"mode\":\"lines\",\"name\":\"keroru\",\"orientation\":\"v\",\"showlegend\":true,\"x\":[\"2022-10-13 20:41:59\",\"2022-10-15 16:49:27\",\"2022-10-15 19:16:27\",\"2022-10-15 20:58:57\",\"2022-10-15 23:14:48\",\"2022-10-16 00:10:19\",\"2022-10-19 17:47:05\",\"2022-10-20 00:53:52\",\"2022-10-20 01:39:39\",\"2022-10-20 02:12:01\",\"2022-10-20 13:03:42\",\"2022-10-20 13:34:58\",\"2022-10-20 16:52:24\",\"2022-10-20 18:11:24\",\"2022-10-20 18:48:47\"],\"xaxis\":\"x\",\"y\":[823090,47544232521,47581291199,47581291199,47944836102,47957904069,47957904069,47957904069,48103891151,48103891151,48103891151,48103891151,48103891151,48103891151,48103891151],\"yaxis\":\"y\",\"type\":\"scatter\"},{\"hovertemplate\":\"\\u540d\\u524d=r3yohei<br>\\u63d0\\u51fa\\u65e5\\u6642=%{x}<br>\\u30b9\\u30b3\\u30a2=%{y}<extra></extra>\",\"legendgroup\":\"r3yohei\",\"line\":{\"color\":\"#FFA15A\",\"dash\":\"solid\"},\"marker\":{\"symbol\":\"circle\"},\"mode\":\"lines\",\"name\":\"r3yohei\",\"orientation\":\"v\",\"showlegend\":true,\"x\":[\"2022-10-13 21:20:39\",\"2022-10-15 12:54:35\",\"2022-10-15 14:15:11\",\"2022-10-15 18:26:52\",\"2022-10-17 12:01:48\",\"2022-10-18 08:27:18\",\"2022-10-18 15:07:45\",\"2022-10-18 20:22:02\",\"2022-10-20 14:05:51\",\"2022-10-20 16:22:11\",\"2022-10-20 17:56:42\",\"2022-10-20 18:29:35\",\"2022-10-20 18:59:44\"],\"xaxis\":\"x\",\"y\":[29415581618,42860124322,43928563730,46497451832,46497451832,46497451832,46497451832,46497451832,47927104730,47927104730,47972092120,47972092120,47972092120],\"yaxis\":\"y\",\"type\":\"scatter\"},{\"hovertemplate\":\"\\u540d\\u524d=ponjuice<br>\\u63d0\\u51fa\\u65e5\\u6642=%{x}<br>\\u30b9\\u30b3\\u30a2=%{y}<extra></extra>\",\"legendgroup\":\"ponjuice\",\"line\":{\"color\":\"#19d3f3\",\"dash\":\"solid\"},\"marker\":{\"symbol\":\"circle\"},\"mode\":\"lines\",\"name\":\"ponjuice\",\"orientation\":\"v\",\"showlegend\":true,\"x\":[\"2022-10-13 22:46:17\",\"2022-10-13 23:18:54\",\"2022-10-14 21:01:34\",\"2022-10-14 23:17:25\",\"2022-10-15 08:50:03\",\"2022-10-15 17:59:38\",\"2022-10-15 18:29:52\",\"2022-10-20 02:30:27\",\"2022-10-20 03:47:59\",\"2022-10-20 18:54:16\"],\"xaxis\":\"x\",\"y\":[823090,45220213902,47000160704,47000160704,48036960943,48036960943,48067045350,48067045350,48067045350,48154137543],\"yaxis\":\"y\",\"type\":\"scatter\"},{\"hovertemplate\":\"\\u540d\\u524d=take911<br>\\u63d0\\u51fa\\u65e5\\u6642=%{x}<br>\\u30b9\\u30b3\\u30a2=%{y}<extra></extra>\",\"legendgroup\":\"take911\",\"line\":{\"color\":\"#FF6692\",\"dash\":\"solid\"},\"marker\":{\"symbol\":\"circle\"},\"mode\":\"lines\",\"name\":\"take911\",\"orientation\":\"v\",\"showlegend\":true,\"x\":[\"2022-10-14 00:53:44\",\"2022-10-18 00:42:31\",\"2022-10-18 01:30:20\",\"2022-10-18 02:01:29\",\"2022-10-18 02:39:08\",\"2022-10-18 03:10:10\",\"2022-10-18 06:24:36\"],\"xaxis\":\"x\",\"y\":[25191961312,44840412943,44840412943,45523377739,45738960199,45738960199,45738960199],\"yaxis\":\"y\",\"type\":\"scatter\"},{\"hovertemplate\":\"\\u540d\\u524d=jaku<br>\\u63d0\\u51fa\\u65e5\\u6642=%{x}<br>\\u30b9\\u30b3\\u30a2=%{y}<extra></extra>\",\"legendgroup\":\"jaku\",\"line\":{\"color\":\"#B6E880\",\"dash\":\"solid\"},\"marker\":{\"symbol\":\"circle\"},\"mode\":\"lines\",\"name\":\"jaku\",\"orientation\":\"v\",\"showlegend\":true,\"x\":[\"2022-10-14 01:10:29\",\"2022-10-14 15:38:01\",\"2022-10-14 17:01:38\",\"2022-10-14 18:40:41\",\"2022-10-14 20:31:54\",\"2022-10-14 21:43:32\",\"2022-10-14 23:20:59\",\"2022-10-15 00:49:18\",\"2022-10-15 09:37:11\",\"2022-10-15 13:42:27\",\"2022-10-16 21:17:34\",\"2022-10-16 21:49:28\",\"2022-10-16 22:22:04\",\"2022-10-17 00:11:55\",\"2022-10-17 00:59:03\",\"2022-10-17 15:35:18\",\"2022-10-17 18:11:41\",\"2022-10-17 22:40:54\"],\"xaxis\":\"x\",\"y\":[43557774355,43557774355,44145198934,44634100186,44638154031,44677912633,44677912633,44677912633,45455384704,45455384704,46450895835,46450895835,46450895835,46708435990,46867489982,47369635657,47369635657,47369635657],\"yaxis\":\"y\",\"type\":\"scatter\"},{\"hovertemplate\":\"\\u540d\\u524d=takekinmkk<br>\\u63d0\\u51fa\\u65e5\\u6642=%{x}<br>\\u30b9\\u30b3\\u30a2=%{y}<extra></extra>\",\"legendgroup\":\"takekinmkk\",\"line\":{\"color\":\"#FF97FF\",\"dash\":\"solid\"},\"marker\":{\"symbol\":\"circle\"},\"mode\":\"lines\",\"name\":\"takekinmkk\",\"orientation\":\"v\",\"showlegend\":true,\"x\":[\"2022-10-14 01:46:37\",\"2022-10-14 20:32:39\",\"2022-10-14 21:11:04\",\"2022-10-14 22:28:35\",\"2022-10-16 00:49:28\",\"2022-10-16 14:43:08\",\"2022-10-18 00:13:16\",\"2022-10-18 01:21:03\",\"2022-10-18 09:46:43\",\"2022-10-19 22:41:40\"],\"xaxis\":\"x\",\"y\":[823090,31565997345,45253457918,45253457918,48212983172,48634477081,48634477081,48634477081,48666030036,48951109803],\"yaxis\":\"y\",\"type\":\"scatter\"},{\"hovertemplate\":\"\\u540d\\u524d=michirakara<br>\\u63d0\\u51fa\\u65e5\\u6642=%{x}<br>\\u30b9\\u30b3\\u30a2=%{y}<extra></extra>\",\"legendgroup\":\"michirakara\",\"line\":{\"color\":\"#FECB52\",\"dash\":\"solid\"},\"marker\":{\"symbol\":\"circle\"},\"mode\":\"lines\",\"name\":\"michirakara\",\"orientation\":\"v\",\"showlegend\":true,\"x\":[\"2022-10-14 10:22:09\",\"2022-10-14 10:55:59\",\"2022-10-14 14:51:39\",\"2022-10-14 15:22:50\",\"2022-10-14 23:23:17\",\"2022-10-15 00:27:27\",\"2022-10-15 02:19:08\",\"2022-10-15 05:07:54\",\"2022-10-15 08:55:01\",\"2022-10-15 09:28:00\",\"2022-10-15 11:59:23\",\"2022-10-15 13:03:05\",\"2022-10-15 13:36:51\",\"2022-10-17 04:36:53\",\"2022-10-17 05:13:57\",\"2022-10-19 15:41:10\"],\"xaxis\":\"x\",\"y\":[42052397885,42052397885,43178649678,43688274551,43688274551,43688274551,43688274551,43713955008,43713955008,43713955008,43713955008,43713955008,43713955008,45050575633,45050575633,45050575633],\"yaxis\":\"y\",\"type\":\"scatter\"},{\"hovertemplate\":\"\\u540d\\u524d=akane831<br>\\u63d0\\u51fa\\u65e5\\u6642=%{x}<br>\\u30b9\\u30b3\\u30a2=%{y}<extra></extra>\",\"legendgroup\":\"akane831\",\"line\":{\"color\":\"#636efa\",\"dash\":\"solid\"},\"marker\":{\"symbol\":\"circle\"},\"mode\":\"lines\",\"name\":\"akane831\",\"orientation\":\"v\",\"showlegend\":true,\"x\":[\"2022-10-14 12:34:58\",\"2022-10-14 14:38:35\",\"2022-10-14 15:11:33\",\"2022-10-14 15:42:00\",\"2022-10-14 16:12:50\",\"2022-10-14 17:20:20\",\"2022-10-14 17:50:36\",\"2022-10-17 12:52:41\",\"2022-10-17 13:40:09\",\"2022-10-17 14:39:19\",\"2022-10-17 15:36:19\",\"2022-10-17 16:41:02\",\"2022-10-17 17:11:57\",\"2022-10-17 18:00:14\",\"2022-10-17 18:53:47\",\"2022-10-17 19:35:22\",\"2022-10-17 20:17:00\",\"2022-10-17 21:19:09\",\"2022-10-17 21:49:12\",\"2022-10-18 12:58:40\",\"2022-10-18 13:31:21\",\"2022-10-18 14:02:07\",\"2022-10-18 14:32:11\"],\"xaxis\":\"x\",\"y\":[823090,34634936701,34634936701,34634936701,36796145328,36796145328,45215768052,45215768067,47576940478,47576940478,47576940478,47576940478,47576940478,47576940478,47576940478,47576940478,47576940478,47594319404,47594319404,47594319404,47594319404,47594319404,47594319404],\"yaxis\":\"y\",\"type\":\"scatter\"},{\"hovertemplate\":\"\\u540d\\u524d=meowmeowcats<br>\\u63d0\\u51fa\\u65e5\\u6642=%{x}<br>\\u30b9\\u30b3\\u30a2=%{y}<extra></extra>\",\"legendgroup\":\"meowmeowcats\",\"line\":{\"color\":\"#EF553B\",\"dash\":\"solid\"},\"marker\":{\"symbol\":\"circle\"},\"mode\":\"lines\",\"name\":\"meowmeowcats\",\"orientation\":\"v\",\"showlegend\":true,\"x\":[\"2022-10-14 13:26:16\",\"2022-10-14 13:56:22\",\"2022-10-14 15:05:36\",\"2022-10-15 00:45:51\",\"2022-10-15 01:23:03\",\"2022-10-15 23:35:21\",\"2022-10-16 00:09:09\",\"2022-10-16 00:41:02\",\"2022-10-16 16:00:42\",\"2022-10-17 17:10:09\",\"2022-10-17 18:11:57\",\"2022-10-17 18:57:54\",\"2022-10-17 19:58:51\",\"2022-10-17 20:28:51\",\"2022-10-17 22:32:33\",\"2022-10-17 23:04:00\",\"2022-10-17 23:34:30\",\"2022-10-18 00:19:46\",\"2022-10-18 23:24:44\",\"2022-10-18 23:59:36\",\"2022-10-19 00:29:39\",\"2022-10-19 01:00:44\",\"2022-10-19 13:04:03\",\"2022-10-19 14:25:11\",\"2022-10-19 15:31:54\",\"2022-10-19 17:35:34\",\"2022-10-19 19:18:03\",\"2022-10-19 19:48:05\",\"2022-10-19 20:20:10\",\"2022-10-19 20:50:10\",\"2022-10-19 21:21:43\",\"2022-10-19 22:41:51\",\"2022-10-20 10:07:05\",\"2022-10-20 11:08:08\",\"2022-10-20 12:46:40\",\"2022-10-20 13:18:23\",\"2022-10-20 14:23:29\",\"2022-10-20 16:07:03\",\"2022-10-20 16:37:05\",\"2022-10-20 17:07:46\",\"2022-10-20 17:42:24\",\"2022-10-20 18:25:12\"],\"xaxis\":\"x\",\"y\":[35527373532,43808446474,43815555581,44485693283,45463947917,45780369947,45855186723,45855186723,45855186723,47248663481,47248663481,47248663481,47248663481,47605643373,47611077846,47611077846,47611985129,47620307562,47620307562,47620307562,47620637836,47620637836,47620637836,47700471577,47700471577,47700471577,47814093902,47814093902,47902471236,47923496208,47923496208,47923816160,47923816160,47923816160,47923816160,47923816160,47923816160,47938240234,47998834118,47998834118,47998834118,48006025749],\"yaxis\":\"y\",\"type\":\"scatter\"},{\"hovertemplate\":\"\\u540d\\u524d=ainem<br>\\u63d0\\u51fa\\u65e5\\u6642=%{x}<br>\\u30b9\\u30b3\\u30a2=%{y}<extra></extra>\",\"legendgroup\":\"ainem\",\"line\":{\"color\":\"#00cc96\",\"dash\":\"solid\"},\"marker\":{\"symbol\":\"circle\"},\"mode\":\"lines\",\"name\":\"ainem\",\"orientation\":\"v\",\"showlegend\":true,\"x\":[\"2022-10-14 13:50:40\",\"2022-10-14 14:37:50\",\"2022-10-17 17:20:35\",\"2022-10-17 17:54:23\",\"2022-10-17 19:01:15\",\"2022-10-17 22:18:58\",\"2022-10-18 10:43:29\",\"2022-10-18 11:30:52\",\"2022-10-18 12:10:09\",\"2022-10-18 13:27:30\",\"2022-10-18 17:34:48\",\"2022-10-19 11:42:13\",\"2022-10-19 12:22:37\",\"2022-10-19 13:17:29\",\"2022-10-20 12:29:58\",\"2022-10-20 13:01:00\",\"2022-10-20 13:31:14\",\"2022-10-20 16:56:28\",\"2022-10-20 17:27:07\",\"2022-10-20 18:33:53\"],\"xaxis\":\"x\",\"y\":[34185890689,34185890689,45275440412,47646957765,47646957765,47646957765,47646957765,47646957765,47646957765,47646957765,47646957765,47646957765,47647528749,47647528749,47726028894,47835052056,47835052056,47944677475,47944677475,47945432845],\"yaxis\":\"y\",\"type\":\"scatter\"},{\"hovertemplate\":\"\\u540d\\u524d=kaede2020<br>\\u63d0\\u51fa\\u65e5\\u6642=%{x}<br>\\u30b9\\u30b3\\u30a2=%{y}<extra></extra>\",\"legendgroup\":\"kaede2020\",\"line\":{\"color\":\"#ab63fa\",\"dash\":\"solid\"},\"marker\":{\"symbol\":\"circle\"},\"mode\":\"lines\",\"name\":\"kaede2020\",\"orientation\":\"v\",\"showlegend\":true,\"x\":[\"2022-10-14 21:30:50\",\"2022-10-14 22:12:59\",\"2022-10-14 22:43:00\",\"2022-10-16 11:23:02\",\"2022-10-16 13:06:16\",\"2022-10-16 16:36:18\",\"2022-10-16 18:09:42\",\"2022-10-16 21:09:25\",\"2022-10-17 07:20:51\",\"2022-10-17 20:05:11\",\"2022-10-17 20:35:11\",\"2022-10-17 21:55:58\",\"2022-10-19 21:46:53\",\"2022-10-19 23:17:01\",\"2022-10-20 07:10:27\",\"2022-10-20 07:51:08\"],\"xaxis\":\"x\",\"y\":[29490827527,38365116334,43508008405,45087514417,45087514417,45517526673,46200551006,46200551006,46429519772,46586564496,46879645980,46879645980,47777417079,47777417079,47777417079,47777417079],\"yaxis\":\"y\",\"type\":\"scatter\"},{\"hovertemplate\":\"\\u540d\\u524d=nakashiii<br>\\u63d0\\u51fa\\u65e5\\u6642=%{x}<br>\\u30b9\\u30b3\\u30a2=%{y}<extra></extra>\",\"legendgroup\":\"nakashiii\",\"line\":{\"color\":\"#FFA15A\",\"dash\":\"solid\"},\"marker\":{\"symbol\":\"circle\"},\"mode\":\"lines\",\"name\":\"nakashiii\",\"orientation\":\"v\",\"showlegend\":true,\"x\":[\"2022-10-14 23:48:27\",\"2022-10-15 00:57:30\",\"2022-10-15 22:31:21\",\"2022-10-17 10:38:05\",\"2022-10-17 11:19:12\",\"2022-10-17 11:50:28\",\"2022-10-17 13:11:39\"],\"xaxis\":\"x\",\"y\":[35933352106,42473286621,42473286621,43405486906,43518893075,43518893075,44095986810],\"yaxis\":\"y\",\"type\":\"scatter\"},{\"hovertemplate\":\"\\u540d\\u524d=hiraku<br>\\u63d0\\u51fa\\u65e5\\u6642=%{x}<br>\\u30b9\\u30b3\\u30a2=%{y}<extra></extra>\",\"legendgroup\":\"hiraku\",\"line\":{\"color\":\"#19d3f3\",\"dash\":\"solid\"},\"marker\":{\"symbol\":\"circle\"},\"mode\":\"lines\",\"name\":\"hiraku\",\"orientation\":\"v\",\"showlegend\":true,\"x\":[\"2022-10-15 05:12:17\",\"2022-10-15 05:43:59\",\"2022-10-15 10:05:27\",\"2022-10-17 15:49:12\",\"2022-10-17 18:25:01\",\"2022-10-17 19:33:27\",\"2022-10-17 20:22:24\",\"2022-10-18 04:00:56\",\"2022-10-19 05:41:57\"],\"xaxis\":\"x\",\"y\":[45599330739,47445526994,47458115532,47458115532,47458115532,47540090982,47540090982,47566083767,47566083767],\"yaxis\":\"y\",\"type\":\"scatter\"},{\"hovertemplate\":\"\\u540d\\u524d=matsu7874<br>\\u63d0\\u51fa\\u65e5\\u6642=%{x}<br>\\u30b9\\u30b3\\u30a2=%{y}<extra></extra>\",\"legendgroup\":\"matsu7874\",\"line\":{\"color\":\"#FF6692\",\"dash\":\"solid\"},\"marker\":{\"symbol\":\"circle\"},\"mode\":\"lines\",\"name\":\"matsu7874\",\"orientation\":\"v\",\"showlegend\":true,\"x\":[\"2022-10-15 05:35:41\",\"2022-10-15 10:29:37\",\"2022-10-15 16:04:11\",\"2022-10-15 17:09:30\",\"2022-10-15 17:39:30\"],\"xaxis\":\"x\",\"y\":[46949429894,46949429894,46949429894,46949429894,47801921886],\"yaxis\":\"y\",\"type\":\"scatter\"},{\"hovertemplate\":\"\\u540d\\u524d=jabee<br>\\u63d0\\u51fa\\u65e5\\u6642=%{x}<br>\\u30b9\\u30b3\\u30a2=%{y}<extra></extra>\",\"legendgroup\":\"jabee\",\"line\":{\"color\":\"#B6E880\",\"dash\":\"solid\"},\"marker\":{\"symbol\":\"circle\"},\"mode\":\"lines\",\"name\":\"jabee\",\"orientation\":\"v\",\"showlegend\":true,\"x\":[\"2022-10-15 09:41:11\",\"2022-10-15 16:17:38\",\"2022-10-16 12:58:54\",\"2022-10-17 23:20:55\",\"2022-10-18 23:02:39\",\"2022-10-19 00:08:11\",\"2022-10-19 06:20:12\",\"2022-10-19 23:26:33\",\"2022-10-20 00:41:55\",\"2022-10-20 06:32:21\",\"2022-10-20 18:03:48\",\"2022-10-20 18:56:31\"],\"xaxis\":\"x\",\"y\":[43085218665,45204729508,45957297328,47055982143,47289050455,48138474628,48220203169,48591881580,48631422289,48663972389,48663972389,48663972389],\"yaxis\":\"y\",\"type\":\"scatter\"},{\"hovertemplate\":\"\\u540d\\u524d=negibose2020<br>\\u63d0\\u51fa\\u65e5\\u6642=%{x}<br>\\u30b9\\u30b3\\u30a2=%{y}<extra></extra>\",\"legendgroup\":\"negibose2020\",\"line\":{\"color\":\"#FF97FF\",\"dash\":\"solid\"},\"marker\":{\"symbol\":\"circle\"},\"mode\":\"lines\",\"name\":\"negibose2020\",\"orientation\":\"v\",\"showlegend\":true,\"x\":[\"2022-10-15 17:30:59\",\"2022-10-15 20:36:41\",\"2022-10-16 22:56:17\",\"2022-10-16 23:41:15\"],\"xaxis\":\"x\",\"y\":[3602740204,3602740204,3602740204,5992414293],\"yaxis\":\"y\",\"type\":\"scatter\"},{\"hovertemplate\":\"\\u540d\\u524d=fujikawahiroaki<br>\\u63d0\\u51fa\\u65e5\\u6642=%{x}<br>\\u30b9\\u30b3\\u30a2=%{y}<extra></extra>\",\"legendgroup\":\"fujikawahiroaki\",\"line\":{\"color\":\"#FECB52\",\"dash\":\"solid\"},\"marker\":{\"symbol\":\"circle\"},\"mode\":\"lines\",\"name\":\"fujikawahiroaki\",\"orientation\":\"v\",\"showlegend\":true,\"x\":[\"2022-10-18 16:59:25\",\"2022-10-18 19:11:28\",\"2022-10-19 14:53:53\",\"2022-10-19 20:02:27\",\"2022-10-19 21:00:29\",\"2022-10-19 21:43:14\",\"2022-10-19 22:14:41\",\"2022-10-20 15:41:14\",\"2022-10-20 16:25:41\",\"2022-10-20 16:55:51\",\"2022-10-20 17:48:56\"],\"xaxis\":\"x\",\"y\":[47622758885,47622758885,47727277266,47882406119,47932638176,47962232267,47962232267,47979555772,48005060255,48006283815,48036924202],\"yaxis\":\"y\",\"type\":\"scatter\"},{\"hovertemplate\":\"\\u540d\\u524d=netobas<br>\\u63d0\\u51fa\\u65e5\\u6642=%{x}<br>\\u30b9\\u30b3\\u30a2=%{y}<extra></extra>\",\"legendgroup\":\"netobas\",\"line\":{\"color\":\"#636efa\",\"dash\":\"solid\"},\"marker\":{\"symbol\":\"circle\"},\"mode\":\"lines\",\"name\":\"netobas\",\"orientation\":\"v\",\"showlegend\":true,\"x\":[\"2022-10-18 22:14:31\",\"2022-10-18 22:54:50\",\"2022-10-19 20:31:29\"],\"xaxis\":\"x\",\"y\":[823090,42910236721,42910236721],\"yaxis\":\"y\",\"type\":\"scatter\"}],                        {\"template\":{\"data\":{\"histogram2dcontour\":[{\"type\":\"histogram2dcontour\",\"colorbar\":{\"outlinewidth\":0,\"ticks\":\"\"},\"colorscale\":[[0.0,\"#0d0887\"],[0.1111111111111111,\"#46039f\"],[0.2222222222222222,\"#7201a8\"],[0.3333333333333333,\"#9c179e\"],[0.4444444444444444,\"#bd3786\"],[0.5555555555555556,\"#d8576b\"],[0.6666666666666666,\"#ed7953\"],[0.7777777777777778,\"#fb9f3a\"],[0.8888888888888888,\"#fdca26\"],[1.0,\"#f0f921\"]]}],\"choropleth\":[{\"type\":\"choropleth\",\"colorbar\":{\"outlinewidth\":0,\"ticks\":\"\"}}],\"histogram2d\":[{\"type\":\"histogram2d\",\"colorbar\":{\"outlinewidth\":0,\"ticks\":\"\"},\"colorscale\":[[0.0,\"#0d0887\"],[0.1111111111111111,\"#46039f\"],[0.2222222222222222,\"#7201a8\"],[0.3333333333333333,\"#9c179e\"],[0.4444444444444444,\"#bd3786\"],[0.5555555555555556,\"#d8576b\"],[0.6666666666666666,\"#ed7953\"],[0.7777777777777778,\"#fb9f3a\"],[0.8888888888888888,\"#fdca26\"],[1.0,\"#f0f921\"]]}],\"heatmap\":[{\"type\":\"heatmap\",\"colorbar\":{\"outlinewidth\":0,\"ticks\":\"\"},\"colorscale\":[[0.0,\"#0d0887\"],[0.1111111111111111,\"#46039f\"],[0.2222222222222222,\"#7201a8\"],[0.3333333333333333,\"#9c179e\"],[0.4444444444444444,\"#bd3786\"],[0.5555555555555556,\"#d8576b\"],[0.6666666666666666,\"#ed7953\"],[0.7777777777777778,\"#fb9f3a\"],[0.8888888888888888,\"#fdca26\"],[1.0,\"#f0f921\"]]}],\"heatmapgl\":[{\"type\":\"heatmapgl\",\"colorbar\":{\"outlinewidth\":0,\"ticks\":\"\"},\"colorscale\":[[0.0,\"#0d0887\"],[0.1111111111111111,\"#46039f\"],[0.2222222222222222,\"#7201a8\"],[0.3333333333333333,\"#9c179e\"],[0.4444444444444444,\"#bd3786\"],[0.5555555555555556,\"#d8576b\"],[0.6666666666666666,\"#ed7953\"],[0.7777777777777778,\"#fb9f3a\"],[0.8888888888888888,\"#fdca26\"],[1.0,\"#f0f921\"]]}],\"contourcarpet\":[{\"type\":\"contourcarpet\",\"colorbar\":{\"outlinewidth\":0,\"ticks\":\"\"}}],\"contour\":[{\"type\":\"contour\",\"colorbar\":{\"outlinewidth\":0,\"ticks\":\"\"},\"colorscale\":[[0.0,\"#0d0887\"],[0.1111111111111111,\"#46039f\"],[0.2222222222222222,\"#7201a8\"],[0.3333333333333333,\"#9c179e\"],[0.4444444444444444,\"#bd3786\"],[0.5555555555555556,\"#d8576b\"],[0.6666666666666666,\"#ed7953\"],[0.7777777777777778,\"#fb9f3a\"],[0.8888888888888888,\"#fdca26\"],[1.0,\"#f0f921\"]]}],\"surface\":[{\"type\":\"surface\",\"colorbar\":{\"outlinewidth\":0,\"ticks\":\"\"},\"colorscale\":[[0.0,\"#0d0887\"],[0.1111111111111111,\"#46039f\"],[0.2222222222222222,\"#7201a8\"],[0.3333333333333333,\"#9c179e\"],[0.4444444444444444,\"#bd3786\"],[0.5555555555555556,\"#d8576b\"],[0.6666666666666666,\"#ed7953\"],[0.7777777777777778,\"#fb9f3a\"],[0.8888888888888888,\"#fdca26\"],[1.0,\"#f0f921\"]]}],\"mesh3d\":[{\"type\":\"mesh3d\",\"colorbar\":{\"outlinewidth\":0,\"ticks\":\"\"}}],\"scatter\":[{\"fillpattern\":{\"fillmode\":\"overlay\",\"size\":10,\"solidity\":0.2},\"type\":\"scatter\"}],\"parcoords\":[{\"type\":\"parcoords\",\"line\":{\"colorbar\":{\"outlinewidth\":0,\"ticks\":\"\"}}}],\"scatterpolargl\":[{\"type\":\"scatterpolargl\",\"marker\":{\"colorbar\":{\"outlinewidth\":0,\"ticks\":\"\"}}}],\"bar\":[{\"error_x\":{\"color\":\"#2a3f5f\"},\"error_y\":{\"color\":\"#2a3f5f\"},\"marker\":{\"line\":{\"color\":\"#E5ECF6\",\"width\":0.5},\"pattern\":{\"fillmode\":\"overlay\",\"size\":10,\"solidity\":0.2}},\"type\":\"bar\"}],\"scattergeo\":[{\"type\":\"scattergeo\",\"marker\":{\"colorbar\":{\"outlinewidth\":0,\"ticks\":\"\"}}}],\"scatterpolar\":[{\"type\":\"scatterpolar\",\"marker\":{\"colorbar\":{\"outlinewidth\":0,\"ticks\":\"\"}}}],\"histogram\":[{\"marker\":{\"pattern\":{\"fillmode\":\"overlay\",\"size\":10,\"solidity\":0.2}},\"type\":\"histogram\"}],\"scattergl\":[{\"type\":\"scattergl\",\"marker\":{\"colorbar\":{\"outlinewidth\":0,\"ticks\":\"\"}}}],\"scatter3d\":[{\"type\":\"scatter3d\",\"line\":{\"colorbar\":{\"outlinewidth\":0,\"ticks\":\"\"}},\"marker\":{\"colorbar\":{\"outlinewidth\":0,\"ticks\":\"\"}}}],\"scattermapbox\":[{\"type\":\"scattermapbox\",\"marker\":{\"colorbar\":{\"outlinewidth\":0,\"ticks\":\"\"}}}],\"scatterternary\":[{\"type\":\"scatterternary\",\"marker\":{\"colorbar\":{\"outlinewidth\":0,\"ticks\":\"\"}}}],\"scattercarpet\":[{\"type\":\"scattercarpet\",\"marker\":{\"colorbar\":{\"outlinewidth\":0,\"ticks\":\"\"}}}],\"carpet\":[{\"aaxis\":{\"endlinecolor\":\"#2a3f5f\",\"gridcolor\":\"white\",\"linecolor\":\"white\",\"minorgridcolor\":\"white\",\"startlinecolor\":\"#2a3f5f\"},\"baxis\":{\"endlinecolor\":\"#2a3f5f\",\"gridcolor\":\"white\",\"linecolor\":\"white\",\"minorgridcolor\":\"white\",\"startlinecolor\":\"#2a3f5f\"},\"type\":\"carpet\"}],\"table\":[{\"cells\":{\"fill\":{\"color\":\"#EBF0F8\"},\"line\":{\"color\":\"white\"}},\"header\":{\"fill\":{\"color\":\"#C8D4E3\"},\"line\":{\"color\":\"white\"}},\"type\":\"table\"}],\"barpolar\":[{\"marker\":{\"line\":{\"color\":\"#E5ECF6\",\"width\":0.5},\"pattern\":{\"fillmode\":\"overlay\",\"size\":10,\"solidity\":0.2}},\"type\":\"barpolar\"}],\"pie\":[{\"automargin\":true,\"type\":\"pie\"}]},\"layout\":{\"autotypenumbers\":\"strict\",\"colorway\":[\"#636efa\",\"#EF553B\",\"#00cc96\",\"#ab63fa\",\"#FFA15A\",\"#19d3f3\",\"#FF6692\",\"#B6E880\",\"#FF97FF\",\"#FECB52\"],\"font\":{\"color\":\"#2a3f5f\"},\"hovermode\":\"closest\",\"hoverlabel\":{\"align\":\"left\"},\"paper_bgcolor\":\"white\",\"plot_bgcolor\":\"#E5ECF6\",\"polar\":{\"bgcolor\":\"#E5ECF6\",\"angularaxis\":{\"gridcolor\":\"white\",\"linecolor\":\"white\",\"ticks\":\"\"},\"radialaxis\":{\"gridcolor\":\"white\",\"linecolor\":\"white\",\"ticks\":\"\"}},\"ternary\":{\"bgcolor\":\"#E5ECF6\",\"aaxis\":{\"gridcolor\":\"white\",\"linecolor\":\"white\",\"ticks\":\"\"},\"baxis\":{\"gridcolor\":\"white\",\"linecolor\":\"white\",\"ticks\":\"\"},\"caxis\":{\"gridcolor\":\"white\",\"linecolor\":\"white\",\"ticks\":\"\"}},\"coloraxis\":{\"colorbar\":{\"outlinewidth\":0,\"ticks\":\"\"}},\"colorscale\":{\"sequential\":[[0.0,\"#0d0887\"],[0.1111111111111111,\"#46039f\"],[0.2222222222222222,\"#7201a8\"],[0.3333333333333333,\"#9c179e\"],[0.4444444444444444,\"#bd3786\"],[0.5555555555555556,\"#d8576b\"],[0.6666666666666666,\"#ed7953\"],[0.7777777777777778,\"#fb9f3a\"],[0.8888888888888888,\"#fdca26\"],[1.0,\"#f0f921\"]],\"sequentialminus\":[[0.0,\"#0d0887\"],[0.1111111111111111,\"#46039f\"],[0.2222222222222222,\"#7201a8\"],[0.3333333333333333,\"#9c179e\"],[0.4444444444444444,\"#bd3786\"],[0.5555555555555556,\"#d8576b\"],[0.6666666666666666,\"#ed7953\"],[0.7777777777777778,\"#fb9f3a\"],[0.8888888888888888,\"#fdca26\"],[1.0,\"#f0f921\"]],\"diverging\":[[0,\"#8e0152\"],[0.1,\"#c51b7d\"],[0.2,\"#de77ae\"],[0.3,\"#f1b6da\"],[0.4,\"#fde0ef\"],[0.5,\"#f7f7f7\"],[0.6,\"#e6f5d0\"],[0.7,\"#b8e186\"],[0.8,\"#7fbc41\"],[0.9,\"#4d9221\"],[1,\"#276419\"]]},\"xaxis\":{\"gridcolor\":\"white\",\"linecolor\":\"white\",\"ticks\":\"\",\"title\":{\"standoff\":15},\"zerolinecolor\":\"white\",\"automargin\":true,\"zerolinewidth\":2},\"yaxis\":{\"gridcolor\":\"white\",\"linecolor\":\"white\",\"ticks\":\"\",\"title\":{\"standoff\":15},\"zerolinecolor\":\"white\",\"automargin\":true,\"zerolinewidth\":2},\"scene\":{\"xaxis\":{\"backgroundcolor\":\"#E5ECF6\",\"gridcolor\":\"white\",\"linecolor\":\"white\",\"showbackground\":true,\"ticks\":\"\",\"zerolinecolor\":\"white\",\"gridwidth\":2},\"yaxis\":{\"backgroundcolor\":\"#E5ECF6\",\"gridcolor\":\"white\",\"linecolor\":\"white\",\"showbackground\":true,\"ticks\":\"\",\"zerolinecolor\":\"white\",\"gridwidth\":2},\"zaxis\":{\"backgroundcolor\":\"#E5ECF6\",\"gridcolor\":\"white\",\"linecolor\":\"white\",\"showbackground\":true,\"ticks\":\"\",\"zerolinecolor\":\"white\",\"gridwidth\":2}},\"shapedefaults\":{\"line\":{\"color\":\"#2a3f5f\"}},\"annotationdefaults\":{\"arrowcolor\":\"#2a3f5f\",\"arrowhead\":0,\"arrowwidth\":1},\"geo\":{\"bgcolor\":\"white\",\"landcolor\":\"#E5ECF6\",\"subunitcolor\":\"white\",\"showland\":true,\"showlakes\":true,\"lakecolor\":\"white\"},\"title\":{\"x\":0.05},\"mapbox\":{\"style\":\"light\"}}},\"xaxis\":{\"anchor\":\"y\",\"domain\":[0.0,1.0],\"title\":{\"text\":\"\\u63d0\\u51fa\\u65e5\\u6642\"}},\"yaxis\":{\"anchor\":\"x\",\"domain\":[0.0,1.0],\"title\":{\"text\":\"\\u30b9\\u30b3\\u30a2\"}},\"legend\":{\"title\":{\"text\":\"\\u540d\\u524d\"},\"tracegroupgap\":0},\"margin\":{\"t\":60}},                        {\"responsive\": true}                    ).then(function(){\n",
              "                            \n",
              "var gd = document.getElementById('e73faee9-6e63-4130-a2c4-829aa6f95d90');\n",
              "var x = new MutationObserver(function (mutations, observer) {{\n",
              "        var display = window.getComputedStyle(gd).display;\n",
              "        if (!display || display === 'none') {{\n",
              "            console.log([gd, 'removed!']);\n",
              "            Plotly.purge(gd);\n",
              "            observer.disconnect();\n",
              "        }}\n",
              "}});\n",
              "\n",
              "// Listen for the removal of the full notebook cells\n",
              "var notebookContainer = gd.closest('#notebook-container');\n",
              "if (notebookContainer) {{\n",
              "    x.observe(notebookContainer, {childList: true});\n",
              "}}\n",
              "\n",
              "// Listen for the clearing of the current output cell\n",
              "var outputEl = gd.closest('.output');\n",
              "if (outputEl) {{\n",
              "    x.observe(outputEl, {childList: true});\n",
              "}}\n",
              "\n",
              "                        })                };                            </script>        </div>\n",
              "</body>\n",
              "</html>"
            ]
          },
          "metadata": {}
        }
      ]
    },
    {
      "cell_type": "code",
      "source": [
        "df_line_team = df.sort_values(\"提出日時\", ascending = True)\n",
        "df_line_team[\"スコア\"] = df_line_team.groupby(\"チーム名\")[\"スコア\"].cummax()\n",
        "\n",
        "fig_team = px.line(df_line_team, x=\"提出日時\", y=\"スコア\", color=\"チーム名\")\n",
        "fig_team.show()"
      ],
      "metadata": {
        "colab": {
          "base_uri": "https://localhost:8080/",
          "height": 542
        },
        "id": "EpxqzKzMJTRE",
        "outputId": "72fddaad-fe31-44e1-bfc2-20b960f7ffae"
      },
      "execution_count": 7,
      "outputs": [
        {
          "output_type": "display_data",
          "data": {
            "text/html": [
              "<html>\n",
              "<head><meta charset=\"utf-8\" /></head>\n",
              "<body>\n",
              "    <div>            <script src=\"https://cdnjs.cloudflare.com/ajax/libs/mathjax/2.7.5/MathJax.js?config=TeX-AMS-MML_SVG\"></script><script type=\"text/javascript\">if (window.MathJax && window.MathJax.Hub && window.MathJax.Hub.Config) {window.MathJax.Hub.Config({SVG: {font: \"STIX-Web\"}});}</script>                <script type=\"text/javascript\">window.PlotlyConfig = {MathJaxConfig: 'local'};</script>\n",
              "        <script src=\"https://cdn.plot.ly/plotly-2.18.2.min.js\"></script>                <div id=\"6032d592-2046-47ec-bab1-2d9971492d6b\" class=\"plotly-graph-div\" style=\"height:525px; width:100%;\"></div>            <script type=\"text/javascript\">                                    window.PLOTLYENV=window.PLOTLYENV || {};                                    if (document.getElementById(\"6032d592-2046-47ec-bab1-2d9971492d6b\")) {                    Plotly.newPlot(                        \"6032d592-2046-47ec-bab1-2d9971492d6b\",                        [{\"hovertemplate\":\"\\u30c1\\u30fc\\u30e0\\u540d=\\u30d6\\u30ec\\u30a4\\u30f3\\u30d0\\u30af\\u30cf\\u30fc\\u30ba<br>\\u63d0\\u51fa\\u65e5\\u6642=%{x}<br>\\u30b9\\u30b3\\u30a2=%{y}<extra></extra>\",\"legendgroup\":\"\\u30d6\\u30ec\\u30a4\\u30f3\\u30d0\\u30af\\u30cf\\u30fc\\u30ba\",\"line\":{\"color\":\"#636efa\",\"dash\":\"solid\"},\"marker\":{\"symbol\":\"circle\"},\"mode\":\"lines\",\"name\":\"\\u30d6\\u30ec\\u30a4\\u30f3\\u30d0\\u30af\\u30cf\\u30fc\\u30ba\",\"orientation\":\"v\",\"showlegend\":true,\"x\":[\"2022-10-13 19:14:09\",\"2022-10-13 19:58:48\",\"2022-10-13 20:43:42\",\"2022-10-13 20:51:49\",\"2022-10-13 21:22:08\",\"2022-10-13 21:22:20\",\"2022-10-13 22:00:18\",\"2022-10-13 22:59:45\",\"2022-10-13 23:03:22\",\"2022-10-13 23:30:25\",\"2022-10-15 05:12:17\",\"2022-10-15 05:43:59\",\"2022-10-15 10:05:27\",\"2022-10-15 17:30:59\",\"2022-10-15 20:05:57\",\"2022-10-15 20:36:41\",\"2022-10-16 22:56:17\",\"2022-10-16 23:41:15\",\"2022-10-17 15:49:12\",\"2022-10-17 18:25:01\",\"2022-10-17 19:33:27\",\"2022-10-17 20:22:24\",\"2022-10-18 04:00:56\",\"2022-10-19 05:41:57\"],\"xaxis\":\"x\",\"y\":[823090,823090,3584631541,21998727869,21998727869,40979563254,40979563254,40979563254,40979563254,42090125611,45599330739,47445526994,47458115532,47458115532,47458115532,47458115532,47458115532,47458115532,47458115532,47458115532,47540090982,47540090982,47566083767,47566083767],\"yaxis\":\"y\",\"type\":\"scatter\"},{\"hovertemplate\":\"\\u30c1\\u30fc\\u30e0\\u540d=\\u5bb6\\u8cb7\\u3048<br>\\u63d0\\u51fa\\u65e5\\u6642=%{x}<br>\\u30b9\\u30b3\\u30a2=%{y}<extra></extra>\",\"legendgroup\":\"\\u5bb6\\u8cb7\\u3048\",\"line\":{\"color\":\"#EF553B\",\"dash\":\"solid\"},\"marker\":{\"symbol\":\"circle\"},\"mode\":\"lines\",\"name\":\"\\u5bb6\\u8cb7\\u3048\",\"orientation\":\"v\",\"showlegend\":true,\"x\":[\"2022-10-13 20:41:58\",\"2022-10-14 01:05:33\",\"2022-10-14 01:56:23\",\"2022-10-14 10:22:09\",\"2022-10-14 10:55:59\",\"2022-10-14 12:34:58\",\"2022-10-14 13:39:44\",\"2022-10-14 14:38:35\",\"2022-10-14 14:51:39\",\"2022-10-14 15:11:33\",\"2022-10-14 15:22:50\",\"2022-10-14 15:42:00\",\"2022-10-14 16:12:50\",\"2022-10-14 17:20:20\",\"2022-10-14 17:50:36\",\"2022-10-14 19:09:04\",\"2022-10-14 19:40:55\",\"2022-10-14 20:12:08\",\"2022-10-14 20:42:41\",\"2022-10-14 22:54:58\",\"2022-10-14 23:23:17\",\"2022-10-14 23:48:27\",\"2022-10-14 23:51:31\",\"2022-10-15 00:27:27\",\"2022-10-15 00:57:30\",\"2022-10-15 01:02:00\",\"2022-10-15 01:38:42\",\"2022-10-15 02:13:55\",\"2022-10-15 02:19:08\",\"2022-10-15 02:43:55\",\"2022-10-15 05:07:54\",\"2022-10-15 08:55:01\",\"2022-10-15 09:28:00\",\"2022-10-15 11:59:23\",\"2022-10-15 13:03:05\",\"2022-10-15 13:36:51\",\"2022-10-15 22:31:21\",\"2022-10-16 14:44:25\",\"2022-10-17 04:36:53\",\"2022-10-17 05:02:47\",\"2022-10-17 05:13:57\",\"2022-10-17 05:40:38\",\"2022-10-17 06:18:14\",\"2022-10-17 10:38:05\",\"2022-10-17 11:19:12\",\"2022-10-17 11:50:28\",\"2022-10-17 12:52:41\",\"2022-10-17 13:11:39\",\"2022-10-17 13:40:09\",\"2022-10-17 14:39:19\",\"2022-10-17 15:36:19\",\"2022-10-17 16:41:02\",\"2022-10-17 17:11:57\",\"2022-10-17 17:29:00\",\"2022-10-17 18:00:14\",\"2022-10-17 18:51:07\",\"2022-10-17 18:53:47\",\"2022-10-17 19:35:22\",\"2022-10-17 19:56:50\",\"2022-10-17 20:17:00\",\"2022-10-17 21:02:01\",\"2022-10-17 21:19:09\",\"2022-10-17 21:49:12\",\"2022-10-18 12:58:40\",\"2022-10-18 13:31:21\",\"2022-10-18 14:02:07\",\"2022-10-18 14:32:11\",\"2022-10-18 15:37:49\",\"2022-10-18 22:14:31\",\"2022-10-18 22:54:50\",\"2022-10-19 15:41:10\",\"2022-10-19 20:31:29\",\"2022-10-19 21:21:58\",\"2022-10-19 22:01:56\",\"2022-10-19 23:03:09\"],\"xaxis\":\"x\",\"y\":[29415581618,41968001621,42708273131,42708273131,42708273131,42708273131,42719719237,42719719237,43178649678,43178649678,43688274551,43688274551,43688274551,43688274551,45215768052,45215768052,45215768052,45215768052,45215768052,45215768052,45215768052,45215768052,45215768052,45215768052,45215768052,45215768052,45834159171,45834159171,45834159171,45834159171,45834159171,45834159171,45834159171,45834159171,45834159171,45834159171,45834159171,45834159171,45834159171,45834159171,45834159171,45834159171,45834159171,45834159171,45834159171,45834159171,45834159171,45834159171,47576940478,47576940478,47576940478,47576940478,47576940478,47576940478,47576940478,47576940478,47576940478,47576940478,47576940478,47576940478,47576940478,47594319404,47594319404,47594319404,47594319404,47594319404,47594319404,47594319404,47594319404,47594319404,47594319404,47594319404,47594319404,47594319404,47594319404],\"yaxis\":\"y\",\"type\":\"scatter\"},{\"hovertemplate\":\"\\u30c1\\u30fc\\u30e0\\u540d=\\u677e\\u7af9\\u6885<br>\\u63d0\\u51fa\\u65e5\\u6642=%{x}<br>\\u30b9\\u30b3\\u30a2=%{y}<extra></extra>\",\"legendgroup\":\"\\u677e\\u7af9\\u6885\",\"line\":{\"color\":\"#00cc96\",\"dash\":\"solid\"},\"marker\":{\"symbol\":\"circle\"},\"mode\":\"lines\",\"name\":\"\\u677e\\u7af9\\u6885\",\"orientation\":\"v\",\"showlegend\":true,\"x\":[\"2022-10-13 20:41:59\",\"2022-10-13 22:46:17\",\"2022-10-13 23:18:54\",\"2022-10-14 01:46:37\",\"2022-10-14 20:32:39\",\"2022-10-14 21:01:34\",\"2022-10-14 21:11:04\",\"2022-10-14 22:28:35\",\"2022-10-14 23:17:25\",\"2022-10-15 05:35:41\",\"2022-10-15 08:50:03\",\"2022-10-15 10:29:37\",\"2022-10-15 16:04:11\",\"2022-10-15 16:49:27\",\"2022-10-15 17:09:30\",\"2022-10-15 17:39:30\",\"2022-10-15 17:59:38\",\"2022-10-15 18:29:52\",\"2022-10-15 19:16:27\",\"2022-10-15 20:58:57\",\"2022-10-15 23:14:48\",\"2022-10-16 00:10:19\",\"2022-10-16 00:49:28\",\"2022-10-16 14:43:08\",\"2022-10-18 00:13:16\",\"2022-10-18 01:21:03\",\"2022-10-18 09:46:43\",\"2022-10-19 17:47:05\",\"2022-10-19 22:41:40\",\"2022-10-20 00:53:52\",\"2022-10-20 01:39:39\",\"2022-10-20 02:12:01\",\"2022-10-20 02:30:27\",\"2022-10-20 03:47:59\",\"2022-10-20 13:03:42\",\"2022-10-20 13:34:58\",\"2022-10-20 16:52:24\",\"2022-10-20 18:11:24\",\"2022-10-20 18:48:47\",\"2022-10-20 18:54:16\"],\"xaxis\":\"x\",\"y\":[823090,823090,45220213902,45220213902,45220213902,47000160704,47000160704,47000160704,47000160704,47000160704,48036960943,48036960943,48036960943,48036960943,48036960943,48036960943,48036960943,48067045350,48067045350,48067045350,48067045350,48067045350,48212983172,48634477081,48634477081,48634477081,48666030036,48666030036,48951109803,48951109803,48951109803,48951109803,48951109803,48951109803,48951109803,48951109803,48951109803,48951109803,48951109803,48951109803],\"yaxis\":\"y\",\"type\":\"scatter\"},{\"hovertemplate\":\"\\u30c1\\u30fc\\u30e0\\u540d=\\u30d0\\u30d9\\u30eb\\u30af\\u30e9\\u30a4\\u30de\\u30fc\\u30ba<br>\\u63d0\\u51fa\\u65e5\\u6642=%{x}<br>\\u30b9\\u30b3\\u30a2=%{y}<extra></extra>\",\"legendgroup\":\"\\u30d0\\u30d9\\u30eb\\u30af\\u30e9\\u30a4\\u30de\\u30fc\\u30ba\",\"line\":{\"color\":\"#ab63fa\",\"dash\":\"solid\"},\"marker\":{\"symbol\":\"circle\"},\"mode\":\"lines\",\"name\":\"\\u30d0\\u30d9\\u30eb\\u30af\\u30e9\\u30a4\\u30de\\u30fc\\u30ba\",\"orientation\":\"v\",\"showlegend\":true,\"x\":[\"2022-10-13 21:20:39\",\"2022-10-14 13:26:16\",\"2022-10-14 13:56:22\",\"2022-10-14 15:05:36\",\"2022-10-15 00:45:51\",\"2022-10-15 01:23:03\",\"2022-10-15 12:54:35\",\"2022-10-15 14:15:11\",\"2022-10-15 18:26:52\",\"2022-10-15 23:35:21\",\"2022-10-16 00:09:09\",\"2022-10-16 00:41:02\",\"2022-10-16 16:00:42\",\"2022-10-17 12:01:48\",\"2022-10-17 17:10:09\",\"2022-10-17 18:11:57\",\"2022-10-17 18:57:54\",\"2022-10-17 19:58:51\",\"2022-10-17 20:28:51\",\"2022-10-17 22:32:33\",\"2022-10-17 23:04:00\",\"2022-10-17 23:34:30\",\"2022-10-18 00:19:46\",\"2022-10-18 08:27:18\",\"2022-10-18 15:07:45\",\"2022-10-18 16:59:25\",\"2022-10-18 19:11:28\",\"2022-10-18 20:22:02\",\"2022-10-18 23:24:44\",\"2022-10-18 23:59:36\",\"2022-10-19 00:29:39\",\"2022-10-19 01:00:44\",\"2022-10-19 13:04:03\",\"2022-10-19 14:25:11\",\"2022-10-19 14:53:53\",\"2022-10-19 15:31:54\",\"2022-10-19 17:35:34\",\"2022-10-19 19:18:03\",\"2022-10-19 19:48:05\",\"2022-10-19 20:02:27\",\"2022-10-19 20:20:10\",\"2022-10-19 20:50:10\",\"2022-10-19 21:00:29\",\"2022-10-19 21:21:43\",\"2022-10-19 21:43:14\",\"2022-10-19 22:14:41\",\"2022-10-19 22:41:51\",\"2022-10-20 10:07:05\",\"2022-10-20 11:08:08\",\"2022-10-20 12:46:40\",\"2022-10-20 13:18:23\",\"2022-10-20 14:05:51\",\"2022-10-20 14:23:29\",\"2022-10-20 15:41:14\",\"2022-10-20 16:07:03\",\"2022-10-20 16:22:11\",\"2022-10-20 16:25:41\",\"2022-10-20 16:37:05\",\"2022-10-20 16:55:51\",\"2022-10-20 17:07:46\",\"2022-10-20 17:42:24\",\"2022-10-20 17:48:56\",\"2022-10-20 17:56:42\",\"2022-10-20 18:25:12\",\"2022-10-20 18:29:35\",\"2022-10-20 18:59:44\"],\"xaxis\":\"x\",\"y\":[29415581618,35527373532,43808446474,43815555581,44485693283,45463947917,45463947917,45463947917,46497451832,46497451832,46497451832,46497451832,46497451832,46497451832,47248663481,47248663481,47248663481,47248663481,47605643373,47611077846,47611077846,47611985129,47620307562,47620307562,47620307562,47622758885,47622758885,47622758885,47622758885,47622758885,47622758885,47622758885,47622758885,47700471577,47727277266,47727277266,47727277266,47814093902,47814093902,47882406119,47902471236,47923496208,47932638176,47932638176,47962232267,47962232267,47962232267,47962232267,47962232267,47962232267,47962232267,47962232267,47962232267,47979555772,47979555772,47979555772,48005060255,48005060255,48006283815,48006283815,48006283815,48036924202,48036924202,48036924202,48036924202,48036924202],\"yaxis\":\"y\",\"type\":\"scatter\"},{\"hovertemplate\":\"\\u30c1\\u30fc\\u30e0\\u540d=a\\uff65Cyan<br>\\u63d0\\u51fa\\u65e5\\u6642=%{x}<br>\\u30b9\\u30b3\\u30a2=%{y}<extra></extra>\",\"legendgroup\":\"a\\uff65Cyan\",\"line\":{\"color\":\"#FFA15A\",\"dash\":\"solid\"},\"marker\":{\"symbol\":\"circle\"},\"mode\":\"lines\",\"name\":\"a\\uff65Cyan\",\"orientation\":\"v\",\"showlegend\":true,\"x\":[\"2022-10-14 00:53:44\",\"2022-10-14 01:10:29\",\"2022-10-14 15:38:01\",\"2022-10-14 17:01:38\",\"2022-10-14 18:40:41\",\"2022-10-14 20:31:54\",\"2022-10-14 21:30:50\",\"2022-10-14 21:43:32\",\"2022-10-14 22:12:59\",\"2022-10-14 22:43:00\",\"2022-10-14 23:20:59\",\"2022-10-15 00:49:18\",\"2022-10-15 09:37:11\",\"2022-10-15 09:41:11\",\"2022-10-15 13:42:27\",\"2022-10-15 16:17:38\",\"2022-10-16 11:23:02\",\"2022-10-16 12:58:54\",\"2022-10-16 13:06:16\",\"2022-10-16 16:36:18\",\"2022-10-16 18:09:42\",\"2022-10-16 21:09:25\",\"2022-10-16 21:17:34\",\"2022-10-16 21:49:28\",\"2022-10-16 22:22:04\",\"2022-10-17 00:11:55\",\"2022-10-17 00:59:03\",\"2022-10-17 07:20:51\",\"2022-10-17 15:35:18\",\"2022-10-17 18:11:41\",\"2022-10-17 20:05:11\",\"2022-10-17 20:35:11\",\"2022-10-17 21:55:58\",\"2022-10-17 22:40:54\",\"2022-10-17 23:20:55\",\"2022-10-18 00:42:31\",\"2022-10-18 01:30:20\",\"2022-10-18 02:01:29\",\"2022-10-18 02:39:08\",\"2022-10-18 03:10:10\",\"2022-10-18 06:24:36\",\"2022-10-18 23:02:39\",\"2022-10-19 00:08:11\",\"2022-10-19 06:20:12\",\"2022-10-19 21:46:53\",\"2022-10-19 23:17:01\",\"2022-10-19 23:26:33\",\"2022-10-20 00:41:55\",\"2022-10-20 06:32:21\",\"2022-10-20 07:10:27\",\"2022-10-20 07:51:08\",\"2022-10-20 18:03:48\",\"2022-10-20 18:56:31\"],\"xaxis\":\"x\",\"y\":[25191961312,43557774355,43557774355,44145198934,44634100186,44638154031,44638154031,44677912633,44677912633,44677912633,44677912633,44677912633,45455384704,45455384704,45455384704,45455384704,45455384704,45957297328,45957297328,45957297328,46200551006,46200551006,46450895835,46450895835,46450895835,46708435990,46867489982,46867489982,47369635657,47369635657,47369635657,47369635657,47369635657,47369635657,47369635657,47369635657,47369635657,47369635657,47369635657,47369635657,47369635657,47369635657,48138474628,48220203169,48220203169,48220203169,48591881580,48631422289,48663972389,48663972389,48663972389,48663972389,48663972389],\"yaxis\":\"y\",\"type\":\"scatter\"},{\"hovertemplate\":\"\\u30c1\\u30fc\\u30e0\\u540d=\\u904b\\u55b6<br>\\u63d0\\u51fa\\u65e5\\u6642=%{x}<br>\\u30b9\\u30b3\\u30a2=%{y}<extra></extra>\",\"legendgroup\":\"\\u904b\\u55b6\",\"line\":{\"color\":\"#19d3f3\",\"dash\":\"solid\"},\"marker\":{\"symbol\":\"circle\"},\"mode\":\"lines\",\"name\":\"\\u904b\\u55b6\",\"orientation\":\"v\",\"showlegend\":true,\"x\":[\"2022-10-14 13:50:40\",\"2022-10-14 14:37:50\",\"2022-10-17 17:20:35\",\"2022-10-17 17:54:23\",\"2022-10-17 19:01:15\",\"2022-10-17 22:18:58\",\"2022-10-18 10:43:29\",\"2022-10-18 11:30:52\",\"2022-10-18 12:10:09\",\"2022-10-18 13:27:30\",\"2022-10-18 17:34:48\",\"2022-10-19 11:42:13\",\"2022-10-19 12:22:37\",\"2022-10-19 13:17:29\",\"2022-10-20 12:29:58\",\"2022-10-20 13:01:00\",\"2022-10-20 13:31:14\",\"2022-10-20 16:56:28\",\"2022-10-20 17:27:07\",\"2022-10-20 18:33:53\"],\"xaxis\":\"x\",\"y\":[34185890689,34185890689,45275440412,47646957765,47646957765,47646957765,47646957765,47646957765,47646957765,47646957765,47646957765,47646957765,47647528749,47647528749,47726028894,47835052056,47835052056,47944677475,47944677475,47945432845],\"yaxis\":\"y\",\"type\":\"scatter\"}],                        {\"template\":{\"data\":{\"histogram2dcontour\":[{\"type\":\"histogram2dcontour\",\"colorbar\":{\"outlinewidth\":0,\"ticks\":\"\"},\"colorscale\":[[0.0,\"#0d0887\"],[0.1111111111111111,\"#46039f\"],[0.2222222222222222,\"#7201a8\"],[0.3333333333333333,\"#9c179e\"],[0.4444444444444444,\"#bd3786\"],[0.5555555555555556,\"#d8576b\"],[0.6666666666666666,\"#ed7953\"],[0.7777777777777778,\"#fb9f3a\"],[0.8888888888888888,\"#fdca26\"],[1.0,\"#f0f921\"]]}],\"choropleth\":[{\"type\":\"choropleth\",\"colorbar\":{\"outlinewidth\":0,\"ticks\":\"\"}}],\"histogram2d\":[{\"type\":\"histogram2d\",\"colorbar\":{\"outlinewidth\":0,\"ticks\":\"\"},\"colorscale\":[[0.0,\"#0d0887\"],[0.1111111111111111,\"#46039f\"],[0.2222222222222222,\"#7201a8\"],[0.3333333333333333,\"#9c179e\"],[0.4444444444444444,\"#bd3786\"],[0.5555555555555556,\"#d8576b\"],[0.6666666666666666,\"#ed7953\"],[0.7777777777777778,\"#fb9f3a\"],[0.8888888888888888,\"#fdca26\"],[1.0,\"#f0f921\"]]}],\"heatmap\":[{\"type\":\"heatmap\",\"colorbar\":{\"outlinewidth\":0,\"ticks\":\"\"},\"colorscale\":[[0.0,\"#0d0887\"],[0.1111111111111111,\"#46039f\"],[0.2222222222222222,\"#7201a8\"],[0.3333333333333333,\"#9c179e\"],[0.4444444444444444,\"#bd3786\"],[0.5555555555555556,\"#d8576b\"],[0.6666666666666666,\"#ed7953\"],[0.7777777777777778,\"#fb9f3a\"],[0.8888888888888888,\"#fdca26\"],[1.0,\"#f0f921\"]]}],\"heatmapgl\":[{\"type\":\"heatmapgl\",\"colorbar\":{\"outlinewidth\":0,\"ticks\":\"\"},\"colorscale\":[[0.0,\"#0d0887\"],[0.1111111111111111,\"#46039f\"],[0.2222222222222222,\"#7201a8\"],[0.3333333333333333,\"#9c179e\"],[0.4444444444444444,\"#bd3786\"],[0.5555555555555556,\"#d8576b\"],[0.6666666666666666,\"#ed7953\"],[0.7777777777777778,\"#fb9f3a\"],[0.8888888888888888,\"#fdca26\"],[1.0,\"#f0f921\"]]}],\"contourcarpet\":[{\"type\":\"contourcarpet\",\"colorbar\":{\"outlinewidth\":0,\"ticks\":\"\"}}],\"contour\":[{\"type\":\"contour\",\"colorbar\":{\"outlinewidth\":0,\"ticks\":\"\"},\"colorscale\":[[0.0,\"#0d0887\"],[0.1111111111111111,\"#46039f\"],[0.2222222222222222,\"#7201a8\"],[0.3333333333333333,\"#9c179e\"],[0.4444444444444444,\"#bd3786\"],[0.5555555555555556,\"#d8576b\"],[0.6666666666666666,\"#ed7953\"],[0.7777777777777778,\"#fb9f3a\"],[0.8888888888888888,\"#fdca26\"],[1.0,\"#f0f921\"]]}],\"surface\":[{\"type\":\"surface\",\"colorbar\":{\"outlinewidth\":0,\"ticks\":\"\"},\"colorscale\":[[0.0,\"#0d0887\"],[0.1111111111111111,\"#46039f\"],[0.2222222222222222,\"#7201a8\"],[0.3333333333333333,\"#9c179e\"],[0.4444444444444444,\"#bd3786\"],[0.5555555555555556,\"#d8576b\"],[0.6666666666666666,\"#ed7953\"],[0.7777777777777778,\"#fb9f3a\"],[0.8888888888888888,\"#fdca26\"],[1.0,\"#f0f921\"]]}],\"mesh3d\":[{\"type\":\"mesh3d\",\"colorbar\":{\"outlinewidth\":0,\"ticks\":\"\"}}],\"scatter\":[{\"fillpattern\":{\"fillmode\":\"overlay\",\"size\":10,\"solidity\":0.2},\"type\":\"scatter\"}],\"parcoords\":[{\"type\":\"parcoords\",\"line\":{\"colorbar\":{\"outlinewidth\":0,\"ticks\":\"\"}}}],\"scatterpolargl\":[{\"type\":\"scatterpolargl\",\"marker\":{\"colorbar\":{\"outlinewidth\":0,\"ticks\":\"\"}}}],\"bar\":[{\"error_x\":{\"color\":\"#2a3f5f\"},\"error_y\":{\"color\":\"#2a3f5f\"},\"marker\":{\"line\":{\"color\":\"#E5ECF6\",\"width\":0.5},\"pattern\":{\"fillmode\":\"overlay\",\"size\":10,\"solidity\":0.2}},\"type\":\"bar\"}],\"scattergeo\":[{\"type\":\"scattergeo\",\"marker\":{\"colorbar\":{\"outlinewidth\":0,\"ticks\":\"\"}}}],\"scatterpolar\":[{\"type\":\"scatterpolar\",\"marker\":{\"colorbar\":{\"outlinewidth\":0,\"ticks\":\"\"}}}],\"histogram\":[{\"marker\":{\"pattern\":{\"fillmode\":\"overlay\",\"size\":10,\"solidity\":0.2}},\"type\":\"histogram\"}],\"scattergl\":[{\"type\":\"scattergl\",\"marker\":{\"colorbar\":{\"outlinewidth\":0,\"ticks\":\"\"}}}],\"scatter3d\":[{\"type\":\"scatter3d\",\"line\":{\"colorbar\":{\"outlinewidth\":0,\"ticks\":\"\"}},\"marker\":{\"colorbar\":{\"outlinewidth\":0,\"ticks\":\"\"}}}],\"scattermapbox\":[{\"type\":\"scattermapbox\",\"marker\":{\"colorbar\":{\"outlinewidth\":0,\"ticks\":\"\"}}}],\"scatterternary\":[{\"type\":\"scatterternary\",\"marker\":{\"colorbar\":{\"outlinewidth\":0,\"ticks\":\"\"}}}],\"scattercarpet\":[{\"type\":\"scattercarpet\",\"marker\":{\"colorbar\":{\"outlinewidth\":0,\"ticks\":\"\"}}}],\"carpet\":[{\"aaxis\":{\"endlinecolor\":\"#2a3f5f\",\"gridcolor\":\"white\",\"linecolor\":\"white\",\"minorgridcolor\":\"white\",\"startlinecolor\":\"#2a3f5f\"},\"baxis\":{\"endlinecolor\":\"#2a3f5f\",\"gridcolor\":\"white\",\"linecolor\":\"white\",\"minorgridcolor\":\"white\",\"startlinecolor\":\"#2a3f5f\"},\"type\":\"carpet\"}],\"table\":[{\"cells\":{\"fill\":{\"color\":\"#EBF0F8\"},\"line\":{\"color\":\"white\"}},\"header\":{\"fill\":{\"color\":\"#C8D4E3\"},\"line\":{\"color\":\"white\"}},\"type\":\"table\"}],\"barpolar\":[{\"marker\":{\"line\":{\"color\":\"#E5ECF6\",\"width\":0.5},\"pattern\":{\"fillmode\":\"overlay\",\"size\":10,\"solidity\":0.2}},\"type\":\"barpolar\"}],\"pie\":[{\"automargin\":true,\"type\":\"pie\"}]},\"layout\":{\"autotypenumbers\":\"strict\",\"colorway\":[\"#636efa\",\"#EF553B\",\"#00cc96\",\"#ab63fa\",\"#FFA15A\",\"#19d3f3\",\"#FF6692\",\"#B6E880\",\"#FF97FF\",\"#FECB52\"],\"font\":{\"color\":\"#2a3f5f\"},\"hovermode\":\"closest\",\"hoverlabel\":{\"align\":\"left\"},\"paper_bgcolor\":\"white\",\"plot_bgcolor\":\"#E5ECF6\",\"polar\":{\"bgcolor\":\"#E5ECF6\",\"angularaxis\":{\"gridcolor\":\"white\",\"linecolor\":\"white\",\"ticks\":\"\"},\"radialaxis\":{\"gridcolor\":\"white\",\"linecolor\":\"white\",\"ticks\":\"\"}},\"ternary\":{\"bgcolor\":\"#E5ECF6\",\"aaxis\":{\"gridcolor\":\"white\",\"linecolor\":\"white\",\"ticks\":\"\"},\"baxis\":{\"gridcolor\":\"white\",\"linecolor\":\"white\",\"ticks\":\"\"},\"caxis\":{\"gridcolor\":\"white\",\"linecolor\":\"white\",\"ticks\":\"\"}},\"coloraxis\":{\"colorbar\":{\"outlinewidth\":0,\"ticks\":\"\"}},\"colorscale\":{\"sequential\":[[0.0,\"#0d0887\"],[0.1111111111111111,\"#46039f\"],[0.2222222222222222,\"#7201a8\"],[0.3333333333333333,\"#9c179e\"],[0.4444444444444444,\"#bd3786\"],[0.5555555555555556,\"#d8576b\"],[0.6666666666666666,\"#ed7953\"],[0.7777777777777778,\"#fb9f3a\"],[0.8888888888888888,\"#fdca26\"],[1.0,\"#f0f921\"]],\"sequentialminus\":[[0.0,\"#0d0887\"],[0.1111111111111111,\"#46039f\"],[0.2222222222222222,\"#7201a8\"],[0.3333333333333333,\"#9c179e\"],[0.4444444444444444,\"#bd3786\"],[0.5555555555555556,\"#d8576b\"],[0.6666666666666666,\"#ed7953\"],[0.7777777777777778,\"#fb9f3a\"],[0.8888888888888888,\"#fdca26\"],[1.0,\"#f0f921\"]],\"diverging\":[[0,\"#8e0152\"],[0.1,\"#c51b7d\"],[0.2,\"#de77ae\"],[0.3,\"#f1b6da\"],[0.4,\"#fde0ef\"],[0.5,\"#f7f7f7\"],[0.6,\"#e6f5d0\"],[0.7,\"#b8e186\"],[0.8,\"#7fbc41\"],[0.9,\"#4d9221\"],[1,\"#276419\"]]},\"xaxis\":{\"gridcolor\":\"white\",\"linecolor\":\"white\",\"ticks\":\"\",\"title\":{\"standoff\":15},\"zerolinecolor\":\"white\",\"automargin\":true,\"zerolinewidth\":2},\"yaxis\":{\"gridcolor\":\"white\",\"linecolor\":\"white\",\"ticks\":\"\",\"title\":{\"standoff\":15},\"zerolinecolor\":\"white\",\"automargin\":true,\"zerolinewidth\":2},\"scene\":{\"xaxis\":{\"backgroundcolor\":\"#E5ECF6\",\"gridcolor\":\"white\",\"linecolor\":\"white\",\"showbackground\":true,\"ticks\":\"\",\"zerolinecolor\":\"white\",\"gridwidth\":2},\"yaxis\":{\"backgroundcolor\":\"#E5ECF6\",\"gridcolor\":\"white\",\"linecolor\":\"white\",\"showbackground\":true,\"ticks\":\"\",\"zerolinecolor\":\"white\",\"gridwidth\":2},\"zaxis\":{\"backgroundcolor\":\"#E5ECF6\",\"gridcolor\":\"white\",\"linecolor\":\"white\",\"showbackground\":true,\"ticks\":\"\",\"zerolinecolor\":\"white\",\"gridwidth\":2}},\"shapedefaults\":{\"line\":{\"color\":\"#2a3f5f\"}},\"annotationdefaults\":{\"arrowcolor\":\"#2a3f5f\",\"arrowhead\":0,\"arrowwidth\":1},\"geo\":{\"bgcolor\":\"white\",\"landcolor\":\"#E5ECF6\",\"subunitcolor\":\"white\",\"showland\":true,\"showlakes\":true,\"lakecolor\":\"white\"},\"title\":{\"x\":0.05},\"mapbox\":{\"style\":\"light\"}}},\"xaxis\":{\"anchor\":\"y\",\"domain\":[0.0,1.0],\"title\":{\"text\":\"\\u63d0\\u51fa\\u65e5\\u6642\"}},\"yaxis\":{\"anchor\":\"x\",\"domain\":[0.0,1.0],\"title\":{\"text\":\"\\u30b9\\u30b3\\u30a2\"}},\"legend\":{\"title\":{\"text\":\"\\u30c1\\u30fc\\u30e0\\u540d\"},\"tracegroupgap\":0},\"margin\":{\"t\":60}},                        {\"responsive\": true}                    ).then(function(){\n",
              "                            \n",
              "var gd = document.getElementById('6032d592-2046-47ec-bab1-2d9971492d6b');\n",
              "var x = new MutationObserver(function (mutations, observer) {{\n",
              "        var display = window.getComputedStyle(gd).display;\n",
              "        if (!display || display === 'none') {{\n",
              "            console.log([gd, 'removed!']);\n",
              "            Plotly.purge(gd);\n",
              "            observer.disconnect();\n",
              "        }}\n",
              "}});\n",
              "\n",
              "// Listen for the removal of the full notebook cells\n",
              "var notebookContainer = gd.closest('#notebook-container');\n",
              "if (notebookContainer) {{\n",
              "    x.observe(notebookContainer, {childList: true});\n",
              "}}\n",
              "\n",
              "// Listen for the clearing of the current output cell\n",
              "var outputEl = gd.closest('.output');\n",
              "if (outputEl) {{\n",
              "    x.observe(outputEl, {childList: true});\n",
              "}}\n",
              "\n",
              "                        })                };                            </script>        </div>\n",
              "</body>\n",
              "</html>"
            ]
          },
          "metadata": {}
        }
      ]
    },
    {
      "cell_type": "code",
      "source": [
        "df_lang = df.replace(\"C++ (GCC 9.2.1)\", \"C++\"\n",
        "            ).replace(\"C++ (Clang 10.0.0)\", \"C++\"\n",
        "            ).replace(\"C++14\", \"C++\"\n",
        "            ).replace(\"C# (.NET Core 3.1.201)\", \"C#\"\n",
        "            ).replace(\"PyPy3 (7.3.0)\", \"Python\"\n",
        "            ).replace(\"Python (3.8.2)\", \"Python\"\n",
        "            ).replace(\"Rust (1.42.0)\", \"Rust\"\n",
        "            ).replace(\"Crystal (0.33.0)\", \"Crystal\"\n",
        "            ).replace(\"D (DMD 2.091.0)\", \"D\"\n",
        "            )\n",
        "df_lang = df_lang.loc[df_lang.groupby(\"名前\")[\"スコア\"].idxmax()]\n",
        "\n",
        "fig_lang = px.box(df_lang, x=\"言語\", y=\"スコア\", points='all')\n",
        "fig_lang.show()"
      ],
      "metadata": {
        "colab": {
          "base_uri": "https://localhost:8080/",
          "height": 542
        },
        "id": "vruofln8JyYq",
        "outputId": "0e8d305c-15f5-4121-9f68-ee72104840dc"
      },
      "execution_count": 8,
      "outputs": [
        {
          "output_type": "display_data",
          "data": {
            "text/html": [
              "<html>\n",
              "<head><meta charset=\"utf-8\" /></head>\n",
              "<body>\n",
              "    <div>            <script src=\"https://cdnjs.cloudflare.com/ajax/libs/mathjax/2.7.5/MathJax.js?config=TeX-AMS-MML_SVG\"></script><script type=\"text/javascript\">if (window.MathJax && window.MathJax.Hub && window.MathJax.Hub.Config) {window.MathJax.Hub.Config({SVG: {font: \"STIX-Web\"}});}</script>                <script type=\"text/javascript\">window.PlotlyConfig = {MathJaxConfig: 'local'};</script>\n",
              "        <script src=\"https://cdn.plot.ly/plotly-2.18.2.min.js\"></script>                <div id=\"9f51496d-5f1c-4c05-879b-f049967b877a\" class=\"plotly-graph-div\" style=\"height:525px; width:100%;\"></div>            <script type=\"text/javascript\">                                    window.PLOTLYENV=window.PLOTLYENV || {};                                    if (document.getElementById(\"9f51496d-5f1c-4c05-879b-f049967b877a\")) {                    Plotly.newPlot(                        \"9f51496d-5f1c-4c05-879b-f049967b877a\",                        [{\"alignmentgroup\":\"True\",\"boxpoints\":\"all\",\"hovertemplate\":\"\\u8a00\\u8a9e=%{x}<br>\\u30b9\\u30b3\\u30a2=%{y}<extra></extra>\",\"legendgroup\":\"\",\"marker\":{\"color\":\"#636efa\"},\"name\":\"\",\"notched\":false,\"offsetgroup\":\"\",\"orientation\":\"v\",\"showlegend\":false,\"x\":[\"C++\",\"Rust\",\"C++\",\"Crystal\",\"C++\",\"Python\",\"C++\",\"Python\",\"C++\",\"Python\",\"Rust\",\"Python\",\"C++\",\"C++\",\"Python\",\"Python\",\"C++\",\"Rust\",\"Python\",\"C++\",\"Python\"],\"x0\":\" \",\"xaxis\":\"x\",\"y\":[45834159171,47945432845,47594319404,48036924202,42114627814,47566083767,48663972389,47369635657,47777417079,48103891151,47801921886,48006025749,45050575633,44095986810,5992414293,42910236721,48154137543,47972092120,45738960199,48951109803,26553335715],\"y0\":\" \",\"yaxis\":\"y\",\"type\":\"box\"}],                        {\"template\":{\"data\":{\"histogram2dcontour\":[{\"type\":\"histogram2dcontour\",\"colorbar\":{\"outlinewidth\":0,\"ticks\":\"\"},\"colorscale\":[[0.0,\"#0d0887\"],[0.1111111111111111,\"#46039f\"],[0.2222222222222222,\"#7201a8\"],[0.3333333333333333,\"#9c179e\"],[0.4444444444444444,\"#bd3786\"],[0.5555555555555556,\"#d8576b\"],[0.6666666666666666,\"#ed7953\"],[0.7777777777777778,\"#fb9f3a\"],[0.8888888888888888,\"#fdca26\"],[1.0,\"#f0f921\"]]}],\"choropleth\":[{\"type\":\"choropleth\",\"colorbar\":{\"outlinewidth\":0,\"ticks\":\"\"}}],\"histogram2d\":[{\"type\":\"histogram2d\",\"colorbar\":{\"outlinewidth\":0,\"ticks\":\"\"},\"colorscale\":[[0.0,\"#0d0887\"],[0.1111111111111111,\"#46039f\"],[0.2222222222222222,\"#7201a8\"],[0.3333333333333333,\"#9c179e\"],[0.4444444444444444,\"#bd3786\"],[0.5555555555555556,\"#d8576b\"],[0.6666666666666666,\"#ed7953\"],[0.7777777777777778,\"#fb9f3a\"],[0.8888888888888888,\"#fdca26\"],[1.0,\"#f0f921\"]]}],\"heatmap\":[{\"type\":\"heatmap\",\"colorbar\":{\"outlinewidth\":0,\"ticks\":\"\"},\"colorscale\":[[0.0,\"#0d0887\"],[0.1111111111111111,\"#46039f\"],[0.2222222222222222,\"#7201a8\"],[0.3333333333333333,\"#9c179e\"],[0.4444444444444444,\"#bd3786\"],[0.5555555555555556,\"#d8576b\"],[0.6666666666666666,\"#ed7953\"],[0.7777777777777778,\"#fb9f3a\"],[0.8888888888888888,\"#fdca26\"],[1.0,\"#f0f921\"]]}],\"heatmapgl\":[{\"type\":\"heatmapgl\",\"colorbar\":{\"outlinewidth\":0,\"ticks\":\"\"},\"colorscale\":[[0.0,\"#0d0887\"],[0.1111111111111111,\"#46039f\"],[0.2222222222222222,\"#7201a8\"],[0.3333333333333333,\"#9c179e\"],[0.4444444444444444,\"#bd3786\"],[0.5555555555555556,\"#d8576b\"],[0.6666666666666666,\"#ed7953\"],[0.7777777777777778,\"#fb9f3a\"],[0.8888888888888888,\"#fdca26\"],[1.0,\"#f0f921\"]]}],\"contourcarpet\":[{\"type\":\"contourcarpet\",\"colorbar\":{\"outlinewidth\":0,\"ticks\":\"\"}}],\"contour\":[{\"type\":\"contour\",\"colorbar\":{\"outlinewidth\":0,\"ticks\":\"\"},\"colorscale\":[[0.0,\"#0d0887\"],[0.1111111111111111,\"#46039f\"],[0.2222222222222222,\"#7201a8\"],[0.3333333333333333,\"#9c179e\"],[0.4444444444444444,\"#bd3786\"],[0.5555555555555556,\"#d8576b\"],[0.6666666666666666,\"#ed7953\"],[0.7777777777777778,\"#fb9f3a\"],[0.8888888888888888,\"#fdca26\"],[1.0,\"#f0f921\"]]}],\"surface\":[{\"type\":\"surface\",\"colorbar\":{\"outlinewidth\":0,\"ticks\":\"\"},\"colorscale\":[[0.0,\"#0d0887\"],[0.1111111111111111,\"#46039f\"],[0.2222222222222222,\"#7201a8\"],[0.3333333333333333,\"#9c179e\"],[0.4444444444444444,\"#bd3786\"],[0.5555555555555556,\"#d8576b\"],[0.6666666666666666,\"#ed7953\"],[0.7777777777777778,\"#fb9f3a\"],[0.8888888888888888,\"#fdca26\"],[1.0,\"#f0f921\"]]}],\"mesh3d\":[{\"type\":\"mesh3d\",\"colorbar\":{\"outlinewidth\":0,\"ticks\":\"\"}}],\"scatter\":[{\"fillpattern\":{\"fillmode\":\"overlay\",\"size\":10,\"solidity\":0.2},\"type\":\"scatter\"}],\"parcoords\":[{\"type\":\"parcoords\",\"line\":{\"colorbar\":{\"outlinewidth\":0,\"ticks\":\"\"}}}],\"scatterpolargl\":[{\"type\":\"scatterpolargl\",\"marker\":{\"colorbar\":{\"outlinewidth\":0,\"ticks\":\"\"}}}],\"bar\":[{\"error_x\":{\"color\":\"#2a3f5f\"},\"error_y\":{\"color\":\"#2a3f5f\"},\"marker\":{\"line\":{\"color\":\"#E5ECF6\",\"width\":0.5},\"pattern\":{\"fillmode\":\"overlay\",\"size\":10,\"solidity\":0.2}},\"type\":\"bar\"}],\"scattergeo\":[{\"type\":\"scattergeo\",\"marker\":{\"colorbar\":{\"outlinewidth\":0,\"ticks\":\"\"}}}],\"scatterpolar\":[{\"type\":\"scatterpolar\",\"marker\":{\"colorbar\":{\"outlinewidth\":0,\"ticks\":\"\"}}}],\"histogram\":[{\"marker\":{\"pattern\":{\"fillmode\":\"overlay\",\"size\":10,\"solidity\":0.2}},\"type\":\"histogram\"}],\"scattergl\":[{\"type\":\"scattergl\",\"marker\":{\"colorbar\":{\"outlinewidth\":0,\"ticks\":\"\"}}}],\"scatter3d\":[{\"type\":\"scatter3d\",\"line\":{\"colorbar\":{\"outlinewidth\":0,\"ticks\":\"\"}},\"marker\":{\"colorbar\":{\"outlinewidth\":0,\"ticks\":\"\"}}}],\"scattermapbox\":[{\"type\":\"scattermapbox\",\"marker\":{\"colorbar\":{\"outlinewidth\":0,\"ticks\":\"\"}}}],\"scatterternary\":[{\"type\":\"scatterternary\",\"marker\":{\"colorbar\":{\"outlinewidth\":0,\"ticks\":\"\"}}}],\"scattercarpet\":[{\"type\":\"scattercarpet\",\"marker\":{\"colorbar\":{\"outlinewidth\":0,\"ticks\":\"\"}}}],\"carpet\":[{\"aaxis\":{\"endlinecolor\":\"#2a3f5f\",\"gridcolor\":\"white\",\"linecolor\":\"white\",\"minorgridcolor\":\"white\",\"startlinecolor\":\"#2a3f5f\"},\"baxis\":{\"endlinecolor\":\"#2a3f5f\",\"gridcolor\":\"white\",\"linecolor\":\"white\",\"minorgridcolor\":\"white\",\"startlinecolor\":\"#2a3f5f\"},\"type\":\"carpet\"}],\"table\":[{\"cells\":{\"fill\":{\"color\":\"#EBF0F8\"},\"line\":{\"color\":\"white\"}},\"header\":{\"fill\":{\"color\":\"#C8D4E3\"},\"line\":{\"color\":\"white\"}},\"type\":\"table\"}],\"barpolar\":[{\"marker\":{\"line\":{\"color\":\"#E5ECF6\",\"width\":0.5},\"pattern\":{\"fillmode\":\"overlay\",\"size\":10,\"solidity\":0.2}},\"type\":\"barpolar\"}],\"pie\":[{\"automargin\":true,\"type\":\"pie\"}]},\"layout\":{\"autotypenumbers\":\"strict\",\"colorway\":[\"#636efa\",\"#EF553B\",\"#00cc96\",\"#ab63fa\",\"#FFA15A\",\"#19d3f3\",\"#FF6692\",\"#B6E880\",\"#FF97FF\",\"#FECB52\"],\"font\":{\"color\":\"#2a3f5f\"},\"hovermode\":\"closest\",\"hoverlabel\":{\"align\":\"left\"},\"paper_bgcolor\":\"white\",\"plot_bgcolor\":\"#E5ECF6\",\"polar\":{\"bgcolor\":\"#E5ECF6\",\"angularaxis\":{\"gridcolor\":\"white\",\"linecolor\":\"white\",\"ticks\":\"\"},\"radialaxis\":{\"gridcolor\":\"white\",\"linecolor\":\"white\",\"ticks\":\"\"}},\"ternary\":{\"bgcolor\":\"#E5ECF6\",\"aaxis\":{\"gridcolor\":\"white\",\"linecolor\":\"white\",\"ticks\":\"\"},\"baxis\":{\"gridcolor\":\"white\",\"linecolor\":\"white\",\"ticks\":\"\"},\"caxis\":{\"gridcolor\":\"white\",\"linecolor\":\"white\",\"ticks\":\"\"}},\"coloraxis\":{\"colorbar\":{\"outlinewidth\":0,\"ticks\":\"\"}},\"colorscale\":{\"sequential\":[[0.0,\"#0d0887\"],[0.1111111111111111,\"#46039f\"],[0.2222222222222222,\"#7201a8\"],[0.3333333333333333,\"#9c179e\"],[0.4444444444444444,\"#bd3786\"],[0.5555555555555556,\"#d8576b\"],[0.6666666666666666,\"#ed7953\"],[0.7777777777777778,\"#fb9f3a\"],[0.8888888888888888,\"#fdca26\"],[1.0,\"#f0f921\"]],\"sequentialminus\":[[0.0,\"#0d0887\"],[0.1111111111111111,\"#46039f\"],[0.2222222222222222,\"#7201a8\"],[0.3333333333333333,\"#9c179e\"],[0.4444444444444444,\"#bd3786\"],[0.5555555555555556,\"#d8576b\"],[0.6666666666666666,\"#ed7953\"],[0.7777777777777778,\"#fb9f3a\"],[0.8888888888888888,\"#fdca26\"],[1.0,\"#f0f921\"]],\"diverging\":[[0,\"#8e0152\"],[0.1,\"#c51b7d\"],[0.2,\"#de77ae\"],[0.3,\"#f1b6da\"],[0.4,\"#fde0ef\"],[0.5,\"#f7f7f7\"],[0.6,\"#e6f5d0\"],[0.7,\"#b8e186\"],[0.8,\"#7fbc41\"],[0.9,\"#4d9221\"],[1,\"#276419\"]]},\"xaxis\":{\"gridcolor\":\"white\",\"linecolor\":\"white\",\"ticks\":\"\",\"title\":{\"standoff\":15},\"zerolinecolor\":\"white\",\"automargin\":true,\"zerolinewidth\":2},\"yaxis\":{\"gridcolor\":\"white\",\"linecolor\":\"white\",\"ticks\":\"\",\"title\":{\"standoff\":15},\"zerolinecolor\":\"white\",\"automargin\":true,\"zerolinewidth\":2},\"scene\":{\"xaxis\":{\"backgroundcolor\":\"#E5ECF6\",\"gridcolor\":\"white\",\"linecolor\":\"white\",\"showbackground\":true,\"ticks\":\"\",\"zerolinecolor\":\"white\",\"gridwidth\":2},\"yaxis\":{\"backgroundcolor\":\"#E5ECF6\",\"gridcolor\":\"white\",\"linecolor\":\"white\",\"showbackground\":true,\"ticks\":\"\",\"zerolinecolor\":\"white\",\"gridwidth\":2},\"zaxis\":{\"backgroundcolor\":\"#E5ECF6\",\"gridcolor\":\"white\",\"linecolor\":\"white\",\"showbackground\":true,\"ticks\":\"\",\"zerolinecolor\":\"white\",\"gridwidth\":2}},\"shapedefaults\":{\"line\":{\"color\":\"#2a3f5f\"}},\"annotationdefaults\":{\"arrowcolor\":\"#2a3f5f\",\"arrowhead\":0,\"arrowwidth\":1},\"geo\":{\"bgcolor\":\"white\",\"landcolor\":\"#E5ECF6\",\"subunitcolor\":\"white\",\"showland\":true,\"showlakes\":true,\"lakecolor\":\"white\"},\"title\":{\"x\":0.05},\"mapbox\":{\"style\":\"light\"}}},\"xaxis\":{\"anchor\":\"y\",\"domain\":[0.0,1.0],\"title\":{\"text\":\"\\u8a00\\u8a9e\"}},\"yaxis\":{\"anchor\":\"x\",\"domain\":[0.0,1.0],\"title\":{\"text\":\"\\u30b9\\u30b3\\u30a2\"}},\"legend\":{\"tracegroupgap\":0},\"margin\":{\"t\":60},\"boxmode\":\"group\"},                        {\"responsive\": true}                    ).then(function(){\n",
              "                            \n",
              "var gd = document.getElementById('9f51496d-5f1c-4c05-879b-f049967b877a');\n",
              "var x = new MutationObserver(function (mutations, observer) {{\n",
              "        var display = window.getComputedStyle(gd).display;\n",
              "        if (!display || display === 'none') {{\n",
              "            console.log([gd, 'removed!']);\n",
              "            Plotly.purge(gd);\n",
              "            observer.disconnect();\n",
              "        }}\n",
              "}});\n",
              "\n",
              "// Listen for the removal of the full notebook cells\n",
              "var notebookContainer = gd.closest('#notebook-container');\n",
              "if (notebookContainer) {{\n",
              "    x.observe(notebookContainer, {childList: true});\n",
              "}}\n",
              "\n",
              "// Listen for the clearing of the current output cell\n",
              "var outputEl = gd.closest('.output');\n",
              "if (outputEl) {{\n",
              "    x.observe(outputEl, {childList: true});\n",
              "}}\n",
              "\n",
              "                        })                };                            </script>        </div>\n",
              "</body>\n",
              "</html>"
            ]
          },
          "metadata": {}
        }
      ]
    },
    {
      "cell_type": "code",
      "source": [
        "\"\"\"\n",
        "df_rate = df.loc[df.groupby(\"名前\")[\"スコア\"].idxmax()]\n",
        "\n",
        "layout = go.Layout(\n",
        "    xaxis = dict(title=\"レート\", range = [0,3001], dtick=500),   # rangeで範囲、dtick で区間幅\n",
        "    yaxis = dict(title=\"スコア（対数）\"))\n",
        "\n",
        "fig_rate = go.Figure(layout = layout)\n",
        "fig_rate.add_trace(go.Scatter(x = df_rate[\"アルゴレート\"],\n",
        "                              y = df_rate[\"スコア\"],\n",
        "                              mode = \"markers\",\n",
        "                              name = \"アルゴ\"))\n",
        "fig_rate.add_trace(go.Scatter(x = df_rate[\"ヒューリスティックレート\"],\n",
        "                              y = df_rate[\"スコア\"],\n",
        "                              mode = \"markers\",\n",
        "                              name = \"ヒューリスティック\"))\n",
        "fig_rate.update_yaxes(type=\"log\")\n",
        "fig_rate.show()\n",
        "\"\"\""
      ],
      "metadata": {
        "colab": {
          "base_uri": "https://localhost:8080/",
          "height": 154
        },
        "id": "RilTd-rqPwP_",
        "outputId": "ed55f1da-a365-4825-fbac-2d58ba34d1c2"
      },
      "execution_count": 9,
      "outputs": [
        {
          "output_type": "execute_result",
          "data": {
            "text/plain": [
              "'\\ndf_rate = df.loc[df.groupby(\"名前\")[\"スコア\"].idxmax()]\\n\\nlayout = go.Layout(\\n    xaxis = dict(title=\"レート\", range = [0,3001], dtick=500),   # rangeで範囲、dtick で区間幅\\n    yaxis = dict(title=\"スコア（対数）\"))\\n\\nfig_rate = go.Figure(layout = layout)\\nfig_rate.add_trace(go.Scatter(x = df_rate[\"アルゴレート\"],\\n                              y = df_rate[\"スコア\"],\\n                              mode = \"markers\",\\n                              name = \"アルゴ\"))\\nfig_rate.add_trace(go.Scatter(x = df_rate[\"ヒューリスティックレート\"],\\n                              y = df_rate[\"スコア\"],\\n                              mode = \"markers\",\\n                              name = \"ヒューリスティック\"))\\nfig_rate.update_yaxes(type=\"log\")\\nfig_rate.show()\\n'"
            ],
            "application/vnd.google.colaboratory.intrinsic+json": {
              "type": "string"
            }
          },
          "metadata": {},
          "execution_count": 9
        }
      ]
    },
    {
      "cell_type": "markdown",
      "source": [
        "## HTMLで書き出し"
      ],
      "metadata": {
        "id": "H00Xt_2d-kz1"
      }
    },
    {
      "cell_type": "code",
      "source": [
        "fig_individual.write_html(\"line_individual.html\")\n",
        "fig_team.write_html(\"line_team.html\")\n",
        "fig_lang.write_html(\"box_lang.html\")\n",
        "#fig_rate.write_html(\"scatter_rate.html\")"
      ],
      "metadata": {
        "id": "A1N18qR7NI4L"
      },
      "execution_count": 10,
      "outputs": []
    },
    {
      "cell_type": "code",
      "source": [
        "df_individual.to_html(border = 0,\n",
        "                      classes = [\"table\", \"table-striped\", \"table-hover\"],\n",
        "                      index = False,\n",
        "                      justify = \"left\")"
      ],
      "metadata": {
        "colab": {
          "base_uri": "https://localhost:8080/",
          "height": 205
        },
        "id": "K7S5xxFWNjB2",
        "outputId": "8409c0b4-1b4c-43bf-abaa-9f7f69ee1953"
      },
      "execution_count": 11,
      "outputs": [
        {
          "output_type": "execute_result",
          "data": {
            "text/plain": [
              "'<table class=\"dataframe table table-striped table-hover\">\\n  <thead>\\n    <tr style=\"text-align: left;\">\\n      <th>順位</th>\\n      <th>名前</th>\\n      <th>チーム名</th>\\n      <th>スコア</th>\\n    </tr>\\n  </thead>\\n  <tbody>\\n    <tr>\\n      <td>1</td>\\n      <td>takekinmkk</td>\\n      <td>松竹梅</td>\\n      <td>48951109803</td>\\n    </tr>\\n    <tr>\\n      <td>2</td>\\n      <td>jabee</td>\\n      <td>a･Cyan</td>\\n      <td>48663972389</td>\\n    </tr>\\n    <tr>\\n      <td>3</td>\\n      <td>ponjuice</td>\\n      <td>松竹梅</td>\\n      <td>48154137543</td>\\n    </tr>\\n    <tr>\\n      <td>4</td>\\n      <td>keroru</td>\\n      <td>松竹梅</td>\\n      <td>48103891151</td>\\n    </tr>\\n    <tr>\\n      <td>5</td>\\n      <td>fujikawahiroaki</td>\\n      <td>バベルクライマーズ</td>\\n      <td>48036924202</td>\\n    </tr>\\n    <tr>\\n      <td>6</td>\\n      <td>meowmeowcats</td>\\n      <td>バベルクライマーズ</td>\\n      <td>48006025749</td>\\n    </tr>\\n    <tr>\\n      <td>7</td>\\n      <td>r3yohei</td>\\n      <td>バベルクライマーズ</td>\\n      <td>47972092120</td>\\n    </tr>\\n    <tr>\\n      <td>8</td>\\n      <td>ainem</td>\\n      <td>運営</td>\\n      <td>47945432845</td>\\n    </tr>\\n    <tr>\\n      <td>9</td>\\n      <td>matsu7874</td>\\n      <td>松竹梅</td>\\n      <td>47801921886</td>\\n    </tr>\\n    <tr>\\n      <td>10</td>\\n      <td>kaede2020</td>\\n      <td>a･Cyan</td>\\n      <td>47777417079</td>\\n    </tr>\\n    <tr>\\n      <td>11</td>\\n      <td>akane831</td>\\n      <td>家買え</td>\\n      <td>47594319404</td>\\n    </tr>\\n    <tr>\\n      <td>12</td>\\n      <td>hiraku</td>\\n      <td>ブレインバクハーズ</td>\\n      <td>47566083767</td>\\n    </tr>\\n    <tr>\\n      <td>13</td>\\n      <td>jaku</td>\\n      <td>a･Cyan</td>\\n      <td>47369635657</td>\\n    </tr>\\n    <tr>\\n      <td>14</td>\\n      <td>Gex777</td>\\n      <td>家買え</td>\\n      <td>45834159171</td>\\n    </tr>\\n    <tr>\\n      <td>15</td>\\n      <td>take911</td>\\n      <td>a･Cyan</td>\\n      <td>45738960199</td>\\n    </tr>\\n    <tr>\\n      <td>16</td>\\n      <td>michirakara</td>\\n      <td>家買え</td>\\n      <td>45050575633</td>\\n    </tr>\\n    <tr>\\n      <td>17</td>\\n      <td>nakashiii</td>\\n      <td>家買え</td>\\n      <td>44095986810</td>\\n    </tr>\\n    <tr>\\n      <td>18</td>\\n      <td>netobas</td>\\n      <td>家買え</td>\\n      <td>42910236721</td>\\n    </tr>\\n    <tr>\\n      <td>19</td>\\n      <td>gengar_094</td>\\n      <td>ブレインバクハーズ</td>\\n      <td>42114627814</td>\\n    </tr>\\n    <tr>\\n      <td>20</td>\\n      <td>tnodino</td>\\n      <td>ブレインバクハーズ</td>\\n      <td>26553335715</td>\\n    </tr>\\n    <tr>\\n      <td>21</td>\\n      <td>negibose2020</td>\\n      <td>ブレインバクハーズ</td>\\n      <td>5992414293</td>\\n    </tr>\\n  </tbody>\\n</table>'"
            ],
            "application/vnd.google.colaboratory.intrinsic+json": {
              "type": "string"
            }
          },
          "metadata": {},
          "execution_count": 11
        }
      ]
    },
    {
      "cell_type": "code",
      "source": [
        "df_team.to_html(border = 0,\n",
        "                classes = [\"table\", \"table-striped\", \"table-hover\"],\n",
        "                index = False,\n",
        "                justify = \"left\")"
      ],
      "metadata": {
        "colab": {
          "base_uri": "https://localhost:8080/",
          "height": 188
        },
        "id": "rPPEgEgTQANd",
        "outputId": "808d81e6-2f02-4a41-b2d6-c03838858b4d"
      },
      "execution_count": 12,
      "outputs": [
        {
          "output_type": "execute_result",
          "data": {
            "text/plain": [
              "'<table class=\"dataframe table table-striped table-hover\">\\n  <thead>\\n    <tr style=\"text-align: left;\">\\n      <th>順位</th>\\n      <th>チーム名</th>\\n      <th>名前</th>\\n      <th>スコア</th>\\n    </tr>\\n  </thead>\\n  <tbody>\\n    <tr>\\n      <td>1</td>\\n      <td>松竹梅</td>\\n      <td>takekinmkk</td>\\n      <td>48951109803</td>\\n    </tr>\\n    <tr>\\n      <td>2</td>\\n      <td>a･Cyan</td>\\n      <td>jabee</td>\\n      <td>48663972389</td>\\n    </tr>\\n    <tr>\\n      <td>3</td>\\n      <td>バベルクライマーズ</td>\\n      <td>fujikawahiroaki</td>\\n      <td>48036924202</td>\\n    </tr>\\n    <tr>\\n      <td>4</td>\\n      <td>運営</td>\\n      <td>ainem</td>\\n      <td>47945432845</td>\\n    </tr>\\n    <tr>\\n      <td>5</td>\\n      <td>家買え</td>\\n      <td>akane831</td>\\n      <td>47594319404</td>\\n    </tr>\\n    <tr>\\n      <td>6</td>\\n      <td>ブレインバクハーズ</td>\\n      <td>hiraku</td>\\n      <td>47566083767</td>\\n    </tr>\\n  </tbody>\\n</table>'"
            ],
            "application/vnd.google.colaboratory.intrinsic+json": {
              "type": "string"
            }
          },
          "metadata": {},
          "execution_count": 12
        }
      ]
    }
  ]
}