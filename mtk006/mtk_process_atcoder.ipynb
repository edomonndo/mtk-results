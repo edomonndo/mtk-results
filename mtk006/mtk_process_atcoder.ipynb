{
  "cells": [
    {
      "cell_type": "code",
      "execution_count": 1,
      "metadata": {
        "id": "6kgO41IRNcEw"
      },
      "outputs": [],
      "source": [
        "import requests\n",
        "import json\n",
        "import time\n",
        "from bs4 import BeautifulSoup\n",
        "import pandas as pd\n",
        "import datetime\n",
        "\n",
        "import plotly.express as px\n",
        "import plotly.graph_objects as go"
      ]
    },
    {
      "attachments": {},
      "cell_type": "markdown",
      "metadata": {
        "id": "ZVMvrAK5kA7U"
      },
      "source": [
        "# コンテスト情報"
      ]
    },
    {
      "cell_type": "code",
      "execution_count": 2,
      "metadata": {
        "id": "6uQPN9knj_91"
      },
      "outputs": [],
      "source": [
        "contest_id = \"ahc020\"\n",
        "problem_id = \"ahc020_a\"\n",
        "\n",
        "contest_start = datetime.datetime(2023,6,11,15,0,0)\n",
        "contest_end = datetime.datetime(2023,6,18,19,0,0)\n"
      ]
    },
    {
      "attachments": {},
      "cell_type": "markdown",
      "metadata": {
        "id": "zsl6xeLCkjIS"
      },
      "source": [
        "# データ作成\n",
        "コンテスト期間中の提出結果から、リストを作成"
      ]
    },
    {
      "cell_type": "code",
      "execution_count": 3,
      "metadata": {
        "colab": {
          "base_uri": "https://localhost:8080/",
          "height": 204
        },
        "id": "zXJ2DNSwYBgG",
        "outputId": "94ea45d7-ae63-4f8f-8c93-47ee99f63638"
      },
      "outputs": [
        {
          "data": {
            "text/html": [
              "\n",
              "  <div id=\"df-2a9fbebe-24c8-4dfa-bde6-8d46e370a4df\">\n",
              "    <div class=\"colab-df-container\">\n",
              "      <div>\n",
              "<style scoped>\n",
              "    .dataframe tbody tr th:only-of-type {\n",
              "        vertical-align: middle;\n",
              "    }\n",
              "\n",
              "    .dataframe tbody tr th {\n",
              "        vertical-align: top;\n",
              "    }\n",
              "\n",
              "    .dataframe thead th {\n",
              "        text-align: right;\n",
              "    }\n",
              "</style>\n",
              "<table border=\"1\" class=\"dataframe\">\n",
              "  <thead>\n",
              "    <tr style=\"text-align: right;\">\n",
              "      <th></th>\n",
              "      <th>名前</th>\n",
              "      <th>チーム名</th>\n",
              "      <th>言語</th>\n",
              "      <th>スコア</th>\n",
              "      <th>提出日時</th>\n",
              "      <th>実行時間</th>\n",
              "    </tr>\n",
              "  </thead>\n",
              "  <tbody>\n",
              "    <tr>\n",
              "      <th>0</th>\n",
              "      <td>june193</td>\n",
              "      <td>ネバーギブアップの掟</td>\n",
              "      <td>Python (3.8.2)</td>\n",
              "      <td>257158</td>\n",
              "      <td>2023-02-15 18:59:02</td>\n",
              "      <td>3838 ms</td>\n",
              "    </tr>\n",
              "    <tr>\n",
              "      <th>1</th>\n",
              "      <td>yu_w</td>\n",
              "      <td>Homy Jabirus</td>\n",
              "      <td>PyPy3 (7.3.0)</td>\n",
              "      <td>113354</td>\n",
              "      <td>2023-02-15 18:59:01</td>\n",
              "      <td>1243 ms</td>\n",
              "    </tr>\n",
              "    <tr>\n",
              "      <th>2</th>\n",
              "      <td>gootara</td>\n",
              "      <td>へびつかい</td>\n",
              "      <td>Rust (1.42.0)</td>\n",
              "      <td>261211</td>\n",
              "      <td>2023-02-15 18:55:04</td>\n",
              "      <td>3692 ms</td>\n",
              "    </tr>\n",
              "    <tr>\n",
              "      <th>3</th>\n",
              "      <td>r3yohei</td>\n",
              "      <td>チョコ零個焼きなます！</td>\n",
              "      <td>Rust (1.42.0)</td>\n",
              "      <td>254253</td>\n",
              "      <td>2023-02-15 18:55:01</td>\n",
              "      <td>3998 ms</td>\n",
              "    </tr>\n",
              "    <tr>\n",
              "      <th>4</th>\n",
              "      <td>brthyyjp</td>\n",
              "      <td>Homy Jabirus</td>\n",
              "      <td>PyPy3 (7.3.0)</td>\n",
              "      <td>270211</td>\n",
              "      <td>2023-02-15 18:53:01</td>\n",
              "      <td>3874 ms</td>\n",
              "    </tr>\n",
              "  </tbody>\n",
              "</table>\n",
              "</div>\n",
              "      <button class=\"colab-df-convert\" onclick=\"convertToInteractive('df-2a9fbebe-24c8-4dfa-bde6-8d46e370a4df')\"\n",
              "              title=\"Convert this dataframe to an interactive table.\"\n",
              "              style=\"display:none;\">\n",
              "        \n",
              "  <svg xmlns=\"http://www.w3.org/2000/svg\" height=\"24px\"viewBox=\"0 0 24 24\"\n",
              "       width=\"24px\">\n",
              "    <path d=\"M0 0h24v24H0V0z\" fill=\"none\"/>\n",
              "    <path d=\"M18.56 5.44l.94 2.06.94-2.06 2.06-.94-2.06-.94-.94-2.06-.94 2.06-2.06.94zm-11 1L8.5 8.5l.94-2.06 2.06-.94-2.06-.94L8.5 2.5l-.94 2.06-2.06.94zm10 10l.94 2.06.94-2.06 2.06-.94-2.06-.94-.94-2.06-.94 2.06-2.06.94z\"/><path d=\"M17.41 7.96l-1.37-1.37c-.4-.4-.92-.59-1.43-.59-.52 0-1.04.2-1.43.59L10.3 9.45l-7.72 7.72c-.78.78-.78 2.05 0 2.83L4 21.41c.39.39.9.59 1.41.59.51 0 1.02-.2 1.41-.59l7.78-7.78 2.81-2.81c.8-.78.8-2.07 0-2.86zM5.41 20L4 18.59l7.72-7.72 1.47 1.35L5.41 20z\"/>\n",
              "  </svg>\n",
              "      </button>\n",
              "      \n",
              "  <style>\n",
              "    .colab-df-container {\n",
              "      display:flex;\n",
              "      flex-wrap:wrap;\n",
              "      gap: 12px;\n",
              "    }\n",
              "\n",
              "    .colab-df-convert {\n",
              "      background-color: #E8F0FE;\n",
              "      border: none;\n",
              "      border-radius: 50%;\n",
              "      cursor: pointer;\n",
              "      display: none;\n",
              "      fill: #1967D2;\n",
              "      height: 32px;\n",
              "      padding: 0 0 0 0;\n",
              "      width: 32px;\n",
              "    }\n",
              "\n",
              "    .colab-df-convert:hover {\n",
              "      background-color: #E2EBFA;\n",
              "      box-shadow: 0px 1px 2px rgba(60, 64, 67, 0.3), 0px 1px 3px 1px rgba(60, 64, 67, 0.15);\n",
              "      fill: #174EA6;\n",
              "    }\n",
              "\n",
              "    [theme=dark] .colab-df-convert {\n",
              "      background-color: #3B4455;\n",
              "      fill: #D2E3FC;\n",
              "    }\n",
              "\n",
              "    [theme=dark] .colab-df-convert:hover {\n",
              "      background-color: #434B5C;\n",
              "      box-shadow: 0px 1px 3px 1px rgba(0, 0, 0, 0.15);\n",
              "      filter: drop-shadow(0px 1px 2px rgba(0, 0, 0, 0.3));\n",
              "      fill: #FFFFFF;\n",
              "    }\n",
              "  </style>\n",
              "\n",
              "      <script>\n",
              "        const buttonEl =\n",
              "          document.querySelector('#df-2a9fbebe-24c8-4dfa-bde6-8d46e370a4df button.colab-df-convert');\n",
              "        buttonEl.style.display =\n",
              "          google.colab.kernel.accessAllowed ? 'block' : 'none';\n",
              "\n",
              "        async function convertToInteractive(key) {\n",
              "          const element = document.querySelector('#df-2a9fbebe-24c8-4dfa-bde6-8d46e370a4df');\n",
              "          const dataTable =\n",
              "            await google.colab.kernel.invokeFunction('convertToInteractive',\n",
              "                                                     [key], {});\n",
              "          if (!dataTable) return;\n",
              "\n",
              "          const docLinkHtml = 'Like what you see? Visit the ' +\n",
              "            '<a target=\"_blank\" href=https://colab.research.google.com/notebooks/data_table.ipynb>data table notebook</a>'\n",
              "            + ' to learn more about interactive tables.';\n",
              "          element.innerHTML = '';\n",
              "          dataTable['output_type'] = 'display_data';\n",
              "          await google.colab.output.renderOutput(dataTable, element);\n",
              "          const docLink = document.createElement('div');\n",
              "          docLink.innerHTML = docLinkHtml;\n",
              "          element.appendChild(docLink);\n",
              "        }\n",
              "      </script>\n",
              "    </div>\n",
              "  </div>\n",
              "  "
            ],
            "text/plain": [
              "         名前          チーム名              言語     スコア                 提出日時  \\\n",
              "0   june193    ネバーギブアップの掟  Python (3.8.2)  257158  2023-02-15 18:59:02   \n",
              "1      yu_w  Homy Jabirus   PyPy3 (7.3.0)  113354  2023-02-15 18:59:01   \n",
              "2   gootara         へびつかい   Rust (1.42.0)  261211  2023-02-15 18:55:04   \n",
              "3   r3yohei   チョコ零個焼きなます！   Rust (1.42.0)  254253  2023-02-15 18:55:01   \n",
              "4  brthyyjp  Homy Jabirus   PyPy3 (7.3.0)  270211  2023-02-15 18:53:01   \n",
              "\n",
              "      実行時間  \n",
              "0  3838 ms  \n",
              "1  1243 ms  \n",
              "2  3692 ms  \n",
              "3  3998 ms  \n",
              "4  3874 ms  "
            ]
          },
          "execution_count": 3,
          "metadata": {},
          "output_type": "execute_result"
        }
      ],
      "source": [
        "df = pd.read_csv(\"submissions.csv\", index_col = 0)\n",
        "df.columns = [\"名前\",\"チーム名\", \"言語\", \"スコア\", \"提出日時\", \"実行時間\"]\n",
        "df.head()"
      ]
    },
    {
      "attachments": {},
      "cell_type": "markdown",
      "metadata": {
        "id": "dVxMTUStkw6a"
      },
      "source": [
        "## 個人ランキング"
      ]
    },
    {
      "cell_type": "code",
      "execution_count": 4,
      "metadata": {
        "colab": {
          "base_uri": "https://localhost:8080/",
          "height": 204
        },
        "id": "fBO_hNgPZAE0",
        "outputId": "9c5d1163-dab0-4a52-ab6f-3252d60617ec"
      },
      "outputs": [
        {
          "data": {
            "text/html": [
              "\n",
              "  <div id=\"df-651ec560-fc1f-4b68-b067-2035dd82dd0f\">\n",
              "    <div class=\"colab-df-container\">\n",
              "      <div>\n",
              "<style scoped>\n",
              "    .dataframe tbody tr th:only-of-type {\n",
              "        vertical-align: middle;\n",
              "    }\n",
              "\n",
              "    .dataframe tbody tr th {\n",
              "        vertical-align: top;\n",
              "    }\n",
              "\n",
              "    .dataframe thead th {\n",
              "        text-align: right;\n",
              "    }\n",
              "</style>\n",
              "<table border=\"1\" class=\"dataframe\">\n",
              "  <thead>\n",
              "    <tr style=\"text-align: right;\">\n",
              "      <th></th>\n",
              "      <th>順位</th>\n",
              "      <th>名前</th>\n",
              "      <th>チーム名</th>\n",
              "      <th>スコア</th>\n",
              "    </tr>\n",
              "  </thead>\n",
              "  <tbody>\n",
              "    <tr>\n",
              "      <th>0</th>\n",
              "      <td>1</td>\n",
              "      <td>ssaattoo</td>\n",
              "      <td>チョコ零個焼きなます！</td>\n",
              "      <td>318595</td>\n",
              "    </tr>\n",
              "    <tr>\n",
              "      <th>1</th>\n",
              "      <td>2</td>\n",
              "      <td>highjump</td>\n",
              "      <td>ネバーギブアップの掟</td>\n",
              "      <td>312969</td>\n",
              "    </tr>\n",
              "    <tr>\n",
              "      <th>2</th>\n",
              "      <td>3</td>\n",
              "      <td>ainem</td>\n",
              "      <td>運営</td>\n",
              "      <td>311336</td>\n",
              "    </tr>\n",
              "    <tr>\n",
              "      <th>3</th>\n",
              "      <td>4</td>\n",
              "      <td>hotpepsi</td>\n",
              "      <td>Hypertext Assasins</td>\n",
              "      <td>309461</td>\n",
              "    </tr>\n",
              "    <tr>\n",
              "      <th>4</th>\n",
              "      <td>5</td>\n",
              "      <td>yamake</td>\n",
              "      <td>Hypertext Assasins</td>\n",
              "      <td>301888</td>\n",
              "    </tr>\n",
              "  </tbody>\n",
              "</table>\n",
              "</div>\n",
              "      <button class=\"colab-df-convert\" onclick=\"convertToInteractive('df-651ec560-fc1f-4b68-b067-2035dd82dd0f')\"\n",
              "              title=\"Convert this dataframe to an interactive table.\"\n",
              "              style=\"display:none;\">\n",
              "        \n",
              "  <svg xmlns=\"http://www.w3.org/2000/svg\" height=\"24px\"viewBox=\"0 0 24 24\"\n",
              "       width=\"24px\">\n",
              "    <path d=\"M0 0h24v24H0V0z\" fill=\"none\"/>\n",
              "    <path d=\"M18.56 5.44l.94 2.06.94-2.06 2.06-.94-2.06-.94-.94-2.06-.94 2.06-2.06.94zm-11 1L8.5 8.5l.94-2.06 2.06-.94-2.06-.94L8.5 2.5l-.94 2.06-2.06.94zm10 10l.94 2.06.94-2.06 2.06-.94-2.06-.94-.94-2.06-.94 2.06-2.06.94z\"/><path d=\"M17.41 7.96l-1.37-1.37c-.4-.4-.92-.59-1.43-.59-.52 0-1.04.2-1.43.59L10.3 9.45l-7.72 7.72c-.78.78-.78 2.05 0 2.83L4 21.41c.39.39.9.59 1.41.59.51 0 1.02-.2 1.41-.59l7.78-7.78 2.81-2.81c.8-.78.8-2.07 0-2.86zM5.41 20L4 18.59l7.72-7.72 1.47 1.35L5.41 20z\"/>\n",
              "  </svg>\n",
              "      </button>\n",
              "      \n",
              "  <style>\n",
              "    .colab-df-container {\n",
              "      display:flex;\n",
              "      flex-wrap:wrap;\n",
              "      gap: 12px;\n",
              "    }\n",
              "\n",
              "    .colab-df-convert {\n",
              "      background-color: #E8F0FE;\n",
              "      border: none;\n",
              "      border-radius: 50%;\n",
              "      cursor: pointer;\n",
              "      display: none;\n",
              "      fill: #1967D2;\n",
              "      height: 32px;\n",
              "      padding: 0 0 0 0;\n",
              "      width: 32px;\n",
              "    }\n",
              "\n",
              "    .colab-df-convert:hover {\n",
              "      background-color: #E2EBFA;\n",
              "      box-shadow: 0px 1px 2px rgba(60, 64, 67, 0.3), 0px 1px 3px 1px rgba(60, 64, 67, 0.15);\n",
              "      fill: #174EA6;\n",
              "    }\n",
              "\n",
              "    [theme=dark] .colab-df-convert {\n",
              "      background-color: #3B4455;\n",
              "      fill: #D2E3FC;\n",
              "    }\n",
              "\n",
              "    [theme=dark] .colab-df-convert:hover {\n",
              "      background-color: #434B5C;\n",
              "      box-shadow: 0px 1px 3px 1px rgba(0, 0, 0, 0.15);\n",
              "      filter: drop-shadow(0px 1px 2px rgba(0, 0, 0, 0.3));\n",
              "      fill: #FFFFFF;\n",
              "    }\n",
              "  </style>\n",
              "\n",
              "      <script>\n",
              "        const buttonEl =\n",
              "          document.querySelector('#df-651ec560-fc1f-4b68-b067-2035dd82dd0f button.colab-df-convert');\n",
              "        buttonEl.style.display =\n",
              "          google.colab.kernel.accessAllowed ? 'block' : 'none';\n",
              "\n",
              "        async function convertToInteractive(key) {\n",
              "          const element = document.querySelector('#df-651ec560-fc1f-4b68-b067-2035dd82dd0f');\n",
              "          const dataTable =\n",
              "            await google.colab.kernel.invokeFunction('convertToInteractive',\n",
              "                                                     [key], {});\n",
              "          if (!dataTable) return;\n",
              "\n",
              "          const docLinkHtml = 'Like what you see? Visit the ' +\n",
              "            '<a target=\"_blank\" href=https://colab.research.google.com/notebooks/data_table.ipynb>data table notebook</a>'\n",
              "            + ' to learn more about interactive tables.';\n",
              "          element.innerHTML = '';\n",
              "          dataTable['output_type'] = 'display_data';\n",
              "          await google.colab.output.renderOutput(dataTable, element);\n",
              "          const docLink = document.createElement('div');\n",
              "          docLink.innerHTML = docLinkHtml;\n",
              "          element.appendChild(docLink);\n",
              "        }\n",
              "      </script>\n",
              "    </div>\n",
              "  </div>\n",
              "  "
            ],
            "text/plain": [
              "   順位        名前                チーム名     スコア\n",
              "0   1  ssaattoo         チョコ零個焼きなます！  318595\n",
              "1   2  highjump          ネバーギブアップの掟  312969\n",
              "2   3     ainem                  運営  311336\n",
              "3   4  hotpepsi  Hypertext Assasins  309461\n",
              "4   5    yamake  Hypertext Assasins  301888"
            ]
          },
          "execution_count": 4,
          "metadata": {},
          "output_type": "execute_result"
        }
      ],
      "source": [
        "df_individual = df.loc[df.groupby(\"名前\")[\"スコア\"].idxmax()]\n",
        "df_individual = df_individual.drop(columns = [\"言語\", \"提出日時\", \"実行時間\"])\n",
        "df_individual.sort_values(\"スコア\", ascending=False, inplace=True)\n",
        "df_individual.reset_index(inplace=True, drop=True)\n",
        "df_individual[\"順位\"] = range(1,len(df_individual)+1)\n",
        "df_individual = df_individual.reindex(columns = [\"順位\", \"名前\", \"チーム名\", \"スコア\"]) \n",
        "df_individual.head()"
      ]
    },
    {
      "attachments": {},
      "cell_type": "markdown",
      "metadata": {
        "id": "I8403JFSk3d_"
      },
      "source": [
        "## チームランキング"
      ]
    },
    {
      "cell_type": "code",
      "execution_count": 5,
      "metadata": {
        "colab": {
          "base_uri": "https://localhost:8080/",
          "height": 204
        },
        "id": "f0VxhuVQgBeE",
        "outputId": "f59a7989-9b4e-40b6-afee-5a7de6246ddb"
      },
      "outputs": [
        {
          "data": {
            "text/html": [
              "\n",
              "  <div id=\"df-09087a8d-5e8c-4305-8fe3-ce4e0454ad5f\">\n",
              "    <div class=\"colab-df-container\">\n",
              "      <div>\n",
              "<style scoped>\n",
              "    .dataframe tbody tr th:only-of-type {\n",
              "        vertical-align: middle;\n",
              "    }\n",
              "\n",
              "    .dataframe tbody tr th {\n",
              "        vertical-align: top;\n",
              "    }\n",
              "\n",
              "    .dataframe thead th {\n",
              "        text-align: right;\n",
              "    }\n",
              "</style>\n",
              "<table border=\"1\" class=\"dataframe\">\n",
              "  <thead>\n",
              "    <tr style=\"text-align: right;\">\n",
              "      <th></th>\n",
              "      <th>順位</th>\n",
              "      <th>チーム名</th>\n",
              "      <th>名前</th>\n",
              "      <th>スコア</th>\n",
              "    </tr>\n",
              "  </thead>\n",
              "  <tbody>\n",
              "    <tr>\n",
              "      <th>0</th>\n",
              "      <td>1</td>\n",
              "      <td>チョコ零個焼きなます！</td>\n",
              "      <td>ssaattoo</td>\n",
              "      <td>318595</td>\n",
              "    </tr>\n",
              "    <tr>\n",
              "      <th>1</th>\n",
              "      <td>2</td>\n",
              "      <td>ネバーギブアップの掟</td>\n",
              "      <td>highjump</td>\n",
              "      <td>312969</td>\n",
              "    </tr>\n",
              "    <tr>\n",
              "      <th>2</th>\n",
              "      <td>3</td>\n",
              "      <td>運営</td>\n",
              "      <td>ainem</td>\n",
              "      <td>311336</td>\n",
              "    </tr>\n",
              "    <tr>\n",
              "      <th>3</th>\n",
              "      <td>4</td>\n",
              "      <td>Hypertext Assasins</td>\n",
              "      <td>hotpepsi</td>\n",
              "      <td>309461</td>\n",
              "    </tr>\n",
              "    <tr>\n",
              "      <th>4</th>\n",
              "      <td>5</td>\n",
              "      <td>Homy Jabirus</td>\n",
              "      <td>brthyyjp</td>\n",
              "      <td>270211</td>\n",
              "    </tr>\n",
              "  </tbody>\n",
              "</table>\n",
              "</div>\n",
              "      <button class=\"colab-df-convert\" onclick=\"convertToInteractive('df-09087a8d-5e8c-4305-8fe3-ce4e0454ad5f')\"\n",
              "              title=\"Convert this dataframe to an interactive table.\"\n",
              "              style=\"display:none;\">\n",
              "        \n",
              "  <svg xmlns=\"http://www.w3.org/2000/svg\" height=\"24px\"viewBox=\"0 0 24 24\"\n",
              "       width=\"24px\">\n",
              "    <path d=\"M0 0h24v24H0V0z\" fill=\"none\"/>\n",
              "    <path d=\"M18.56 5.44l.94 2.06.94-2.06 2.06-.94-2.06-.94-.94-2.06-.94 2.06-2.06.94zm-11 1L8.5 8.5l.94-2.06 2.06-.94-2.06-.94L8.5 2.5l-.94 2.06-2.06.94zm10 10l.94 2.06.94-2.06 2.06-.94-2.06-.94-.94-2.06-.94 2.06-2.06.94z\"/><path d=\"M17.41 7.96l-1.37-1.37c-.4-.4-.92-.59-1.43-.59-.52 0-1.04.2-1.43.59L10.3 9.45l-7.72 7.72c-.78.78-.78 2.05 0 2.83L4 21.41c.39.39.9.59 1.41.59.51 0 1.02-.2 1.41-.59l7.78-7.78 2.81-2.81c.8-.78.8-2.07 0-2.86zM5.41 20L4 18.59l7.72-7.72 1.47 1.35L5.41 20z\"/>\n",
              "  </svg>\n",
              "      </button>\n",
              "      \n",
              "  <style>\n",
              "    .colab-df-container {\n",
              "      display:flex;\n",
              "      flex-wrap:wrap;\n",
              "      gap: 12px;\n",
              "    }\n",
              "\n",
              "    .colab-df-convert {\n",
              "      background-color: #E8F0FE;\n",
              "      border: none;\n",
              "      border-radius: 50%;\n",
              "      cursor: pointer;\n",
              "      display: none;\n",
              "      fill: #1967D2;\n",
              "      height: 32px;\n",
              "      padding: 0 0 0 0;\n",
              "      width: 32px;\n",
              "    }\n",
              "\n",
              "    .colab-df-convert:hover {\n",
              "      background-color: #E2EBFA;\n",
              "      box-shadow: 0px 1px 2px rgba(60, 64, 67, 0.3), 0px 1px 3px 1px rgba(60, 64, 67, 0.15);\n",
              "      fill: #174EA6;\n",
              "    }\n",
              "\n",
              "    [theme=dark] .colab-df-convert {\n",
              "      background-color: #3B4455;\n",
              "      fill: #D2E3FC;\n",
              "    }\n",
              "\n",
              "    [theme=dark] .colab-df-convert:hover {\n",
              "      background-color: #434B5C;\n",
              "      box-shadow: 0px 1px 3px 1px rgba(0, 0, 0, 0.15);\n",
              "      filter: drop-shadow(0px 1px 2px rgba(0, 0, 0, 0.3));\n",
              "      fill: #FFFFFF;\n",
              "    }\n",
              "  </style>\n",
              "\n",
              "      <script>\n",
              "        const buttonEl =\n",
              "          document.querySelector('#df-09087a8d-5e8c-4305-8fe3-ce4e0454ad5f button.colab-df-convert');\n",
              "        buttonEl.style.display =\n",
              "          google.colab.kernel.accessAllowed ? 'block' : 'none';\n",
              "\n",
              "        async function convertToInteractive(key) {\n",
              "          const element = document.querySelector('#df-09087a8d-5e8c-4305-8fe3-ce4e0454ad5f');\n",
              "          const dataTable =\n",
              "            await google.colab.kernel.invokeFunction('convertToInteractive',\n",
              "                                                     [key], {});\n",
              "          if (!dataTable) return;\n",
              "\n",
              "          const docLinkHtml = 'Like what you see? Visit the ' +\n",
              "            '<a target=\"_blank\" href=https://colab.research.google.com/notebooks/data_table.ipynb>data table notebook</a>'\n",
              "            + ' to learn more about interactive tables.';\n",
              "          element.innerHTML = '';\n",
              "          dataTable['output_type'] = 'display_data';\n",
              "          await google.colab.output.renderOutput(dataTable, element);\n",
              "          const docLink = document.createElement('div');\n",
              "          docLink.innerHTML = docLinkHtml;\n",
              "          element.appendChild(docLink);\n",
              "        }\n",
              "      </script>\n",
              "    </div>\n",
              "  </div>\n",
              "  "
            ],
            "text/plain": [
              "   順位                チーム名        名前     スコア\n",
              "0   1         チョコ零個焼きなます！  ssaattoo  318595\n",
              "1   2          ネバーギブアップの掟  highjump  312969\n",
              "2   3                  運営     ainem  311336\n",
              "3   4  Hypertext Assasins  hotpepsi  309461\n",
              "4   5        Homy Jabirus  brthyyjp  270211"
            ]
          },
          "execution_count": 5,
          "metadata": {},
          "output_type": "execute_result"
        }
      ],
      "source": [
        "df_team = df.loc[df.groupby(\"チーム名\")[\"スコア\"].idxmax()]\n",
        "df_team = df_team.drop(columns = [\"言語\", \"提出日時\", \"実行時間\"])\n",
        "df_team = df_team.reindex(columns = [\"チーム名\", \"名前\", \"スコア\"])\n",
        "df_team.sort_values(\"スコア\", ascending = False, inplace = True)\n",
        "df_team.reset_index(inplace = True, drop = True)\n",
        "df_team[\"順位\"] = range(1,len(df_team)+1)\n",
        "df_team = df_team.reindex(columns = [\"順位\", \"チーム名\", \"名前\", \"スコア\"]) \n",
        "df_team.head()"
      ]
    },
    {
      "attachments": {},
      "cell_type": "markdown",
      "metadata": {
        "id": "_0dtIvguk7ze"
      },
      "source": [
        "# グラフ作成\n",
        "\n",
        "1.   縦軸：スコア、横軸：時間の折れ線グラフ（個人）\n",
        "2.   縦軸：スコア、横軸：時間の折れ線グラフ（チーム）\n",
        "3.   言語ごとのランキング\n",
        "4.   スコアとレートの相関関係（アルゴ、ヒューリスティック）\n",
        "\n",
        "\n"
      ]
    },
    {
      "cell_type": "code",
      "execution_count": 6,
      "metadata": {
        "colab": {
          "base_uri": "https://localhost:8080/",
          "height": 542
        },
        "id": "PPmlXrqPISnm",
        "outputId": "8f112a79-6321-4492-bd93-3ca50e0a2c98"
      },
      "outputs": [
        {
          "data": {
            "text/html": [
              "<html>\n",
              "<head><meta charset=\"utf-8\" /></head>\n",
              "<body>\n",
              "    <div>            <script src=\"https://cdnjs.cloudflare.com/ajax/libs/mathjax/2.7.5/MathJax.js?config=TeX-AMS-MML_SVG\"></script><script type=\"text/javascript\">if (window.MathJax && window.MathJax.Hub && window.MathJax.Hub.Config) {window.MathJax.Hub.Config({SVG: {font: \"STIX-Web\"}});}</script>                <script type=\"text/javascript\">window.PlotlyConfig = {MathJaxConfig: 'local'};</script>\n",
              "        <script src=\"https://cdn.plot.ly/plotly-2.18.2.min.js\"></script>                <div id=\"5833f4c2-a0ac-4577-bd6e-11cfbe6772a0\" class=\"plotly-graph-div\" style=\"height:525px; width:100%;\"></div>            <script type=\"text/javascript\">                                    window.PLOTLYENV=window.PLOTLYENV || {};                                    if (document.getElementById(\"5833f4c2-a0ac-4577-bd6e-11cfbe6772a0\")) {                    Plotly.newPlot(                        \"5833f4c2-a0ac-4577-bd6e-11cfbe6772a0\",                        [{\"hovertemplate\":\"\\u540d\\u524d=tardigrade<br>\\u63d0\\u51fa\\u65e5\\u6642=%{x}<br>\\u30b9\\u30b3\\u30a2=%{y}<extra></extra>\",\"legendgroup\":\"tardigrade\",\"line\":{\"color\":\"#636efa\",\"dash\":\"solid\"},\"marker\":{\"symbol\":\"circle\"},\"mode\":\"lines\",\"name\":\"tardigrade\",\"orientation\":\"v\",\"showlegend\":true,\"x\":[\"2023-02-09 19:06:00\",\"2023-02-10 06:10:42\",\"2023-02-10 06:18:24\",\"2023-02-10 06:24:26\",\"2023-02-10 06:31:19\",\"2023-02-10 06:36:19\",\"2023-02-10 07:22:26\",\"2023-02-10 08:28:12\",\"2023-02-10 08:34:13\",\"2023-02-10 16:49:21\",\"2023-02-10 17:17:38\",\"2023-02-10 17:33:26\",\"2023-02-10 17:38:44\",\"2023-02-10 20:08:58\",\"2023-02-10 20:14:07\",\"2023-02-11 03:58:59\",\"2023-02-11 04:17:11\",\"2023-02-11 04:30:26\",\"2023-02-11 05:20:52\"],\"xaxis\":\"x\",\"y\":[652,814,814,46022,83471,89296,265366,265366,286305,286305,286305,286305,286305,286305,286305,286305,286305,286305,286305],\"yaxis\":\"y\",\"type\":\"scatter\"},{\"hovertemplate\":\"\\u540d\\u524d=tnodino<br>\\u63d0\\u51fa\\u65e5\\u6642=%{x}<br>\\u30b9\\u30b3\\u30a2=%{y}<extra></extra>\",\"legendgroup\":\"tnodino\",\"line\":{\"color\":\"#EF553B\",\"dash\":\"solid\"},\"marker\":{\"symbol\":\"circle\"},\"mode\":\"lines\",\"name\":\"tnodino\",\"orientation\":\"v\",\"showlegend\":true,\"x\":[\"2023-02-09 19:20:26\",\"2023-02-09 21:05:13\",\"2023-02-10 19:06:58\",\"2023-02-11 12:39:28\",\"2023-02-11 15:09:11\",\"2023-02-11 15:26:14\",\"2023-02-12 18:05:49\",\"2023-02-12 18:20:09\",\"2023-02-14 18:52:45\",\"2023-02-15 05:02:43\",\"2023-02-15 05:17:27\"],\"xaxis\":\"x\",\"y\":[181,4418,6123,49806,49806,60210,60210,60210,60210,60210,173949],\"yaxis\":\"y\",\"type\":\"scatter\"},{\"hovertemplate\":\"\\u540d\\u524d=utprg<br>\\u63d0\\u51fa\\u65e5\\u6642=%{x}<br>\\u30b9\\u30b3\\u30a2=%{y}<extra></extra>\",\"legendgroup\":\"utprg\",\"line\":{\"color\":\"#00cc96\",\"dash\":\"solid\"},\"marker\":{\"symbol\":\"circle\"},\"mode\":\"lines\",\"name\":\"utprg\",\"orientation\":\"v\",\"showlegend\":true,\"x\":[\"2023-02-09 19:30:51\",\"2023-02-09 19:56:14\",\"2023-02-10 06:52:56\",\"2023-02-10 20:31:48\",\"2023-02-11 07:34:36\",\"2023-02-13 15:23:44\",\"2023-02-13 15:44:38\",\"2023-02-14 09:36:10\"],\"xaxis\":\"x\",\"y\":[10033,10033,10033,21088,21637,21637,21637,22330],\"yaxis\":\"y\",\"type\":\"scatter\"},{\"hovertemplate\":\"\\u540d\\u524d=ococonomy1<br>\\u63d0\\u51fa\\u65e5\\u6642=%{x}<br>\\u30b9\\u30b3\\u30a2=%{y}<extra></extra>\",\"legendgroup\":\"ococonomy1\",\"line\":{\"color\":\"#ab63fa\",\"dash\":\"solid\"},\"marker\":{\"symbol\":\"circle\"},\"mode\":\"lines\",\"name\":\"ococonomy1\",\"orientation\":\"v\",\"showlegend\":true,\"x\":[\"2023-02-09 19:47:01\",\"2023-02-12 03:04:43\"],\"xaxis\":\"x\",\"y\":[5893,34005],\"yaxis\":\"y\",\"type\":\"scatter\"},{\"hovertemplate\":\"\\u540d\\u524d=yamake<br>\\u63d0\\u51fa\\u65e5\\u6642=%{x}<br>\\u30b9\\u30b3\\u30a2=%{y}<extra></extra>\",\"legendgroup\":\"yamake\",\"line\":{\"color\":\"#FFA15A\",\"dash\":\"solid\"},\"marker\":{\"symbol\":\"circle\"},\"mode\":\"lines\",\"name\":\"yamake\",\"orientation\":\"v\",\"showlegend\":true,\"x\":[\"2023-02-09 20:07:04\",\"2023-02-09 23:56:27\",\"2023-02-11 23:38:22\",\"2023-02-13 20:13:29\",\"2023-02-13 20:38:37\",\"2023-02-13 21:25:07\",\"2023-02-13 22:43:35\",\"2023-02-13 23:27:29\",\"2023-02-14 01:54:07\",\"2023-02-14 02:10:17\",\"2023-02-14 02:15:42\",\"2023-02-14 02:21:32\",\"2023-02-14 02:27:25\",\"2023-02-14 02:38:59\",\"2023-02-14 02:45:13\",\"2023-02-14 02:54:02\",\"2023-02-14 10:29:29\",\"2023-02-14 20:41:12\",\"2023-02-14 20:55:31\",\"2023-02-14 21:01:00\",\"2023-02-14 21:07:48\",\"2023-02-14 21:14:15\",\"2023-02-14 21:22:00\",\"2023-02-14 21:29:58\",\"2023-02-14 21:35:12\",\"2023-02-14 21:40:42\",\"2023-02-14 21:45:47\",\"2023-02-14 21:50:57\",\"2023-02-14 21:58:10\",\"2023-02-14 22:10:44\",\"2023-02-14 22:15:53\",\"2023-02-14 22:22:10\",\"2023-02-14 22:29:49\",\"2023-02-14 22:35:49\",\"2023-02-14 22:41:18\",\"2023-02-14 22:46:23\",\"2023-02-14 22:51:33\",\"2023-02-14 22:56:35\",\"2023-02-14 23:22:34\",\"2023-02-15 01:29:27\",\"2023-02-15 01:47:28\",\"2023-02-15 01:52:30\"],\"xaxis\":\"x\",\"y\":[483,6891,23050,284881,288924,288924,288924,288924,288924,288924,291272,292020,292020,292020,295874,295874,295874,295874,295874,295984,295984,295984,295984,297116,298190,298190,298190,298190,300213,300213,300213,300213,300213,301888,301888,301888,301888,301888,301888,301888,301888,301888],\"yaxis\":\"y\",\"type\":\"scatter\"},{\"hovertemplate\":\"\\u540d\\u524d=yu_w<br>\\u63d0\\u51fa\\u65e5\\u6642=%{x}<br>\\u30b9\\u30b3\\u30a2=%{y}<extra></extra>\",\"legendgroup\":\"yu_w\",\"line\":{\"color\":\"#19d3f3\",\"dash\":\"solid\"},\"marker\":{\"symbol\":\"circle\"},\"mode\":\"lines\",\"name\":\"yu_w\",\"orientation\":\"v\",\"showlegend\":true,\"x\":[\"2023-02-09 20:25:35\",\"2023-02-09 20:48:06\",\"2023-02-11 08:52:49\",\"2023-02-11 12:17:00\",\"2023-02-11 12:23:36\",\"2023-02-11 13:11:51\",\"2023-02-11 13:35:35\",\"2023-02-11 13:50:54\",\"2023-02-15 18:59:01\"],\"xaxis\":\"x\",\"y\":[11736,14003,14003,61735,99639,118749,118749,118749,118749],\"yaxis\":\"y\",\"type\":\"scatter\"},{\"hovertemplate\":\"\\u540d\\u524d=keroru<br>\\u63d0\\u51fa\\u65e5\\u6642=%{x}<br>\\u30b9\\u30b3\\u30a2=%{y}<extra></extra>\",\"legendgroup\":\"keroru\",\"line\":{\"color\":\"#FF6692\",\"dash\":\"solid\"},\"marker\":{\"symbol\":\"circle\"},\"mode\":\"lines\",\"name\":\"keroru\",\"orientation\":\"v\",\"showlegend\":true,\"x\":[\"2023-02-09 20:52:23\",\"2023-02-09 21:16:31\",\"2023-02-10 11:55:35\",\"2023-02-10 17:38:17\",\"2023-02-14 18:46:03\",\"2023-02-14 19:01:07\",\"2023-02-15 12:46:49\",\"2023-02-15 13:00:40\",\"2023-02-15 17:35:15\",\"2023-02-15 17:40:18\",\"2023-02-15 17:46:10\",\"2023-02-15 18:04:29\"],\"xaxis\":\"x\",\"y\":[36651,36651,36651,36651,230656,282453,282453,290928,290928,290928,290928,290928],\"yaxis\":\"y\",\"type\":\"scatter\"},{\"hovertemplate\":\"\\u540d\\u524d=brthyyjp<br>\\u63d0\\u51fa\\u65e5\\u6642=%{x}<br>\\u30b9\\u30b3\\u30a2=%{y}<extra></extra>\",\"legendgroup\":\"brthyyjp\",\"line\":{\"color\":\"#B6E880\",\"dash\":\"solid\"},\"marker\":{\"symbol\":\"circle\"},\"mode\":\"lines\",\"name\":\"brthyyjp\",\"orientation\":\"v\",\"showlegend\":true,\"x\":[\"2023-02-09 21:23:56\",\"2023-02-09 22:04:16\",\"2023-02-09 23:46:58\",\"2023-02-10 22:52:43\",\"2023-02-12 20:43:31\",\"2023-02-12 20:56:01\",\"2023-02-12 21:24:52\",\"2023-02-13 00:31:38\",\"2023-02-13 00:37:32\",\"2023-02-13 21:38:44\",\"2023-02-13 21:44:32\",\"2023-02-13 21:58:53\",\"2023-02-13 22:08:33\",\"2023-02-13 22:36:56\",\"2023-02-13 23:21:26\",\"2023-02-14 06:38:30\",\"2023-02-14 19:50:14\",\"2023-02-14 20:49:57\",\"2023-02-14 21:42:10\",\"2023-02-14 21:55:47\",\"2023-02-14 22:22:09\",\"2023-02-14 22:30:40\",\"2023-02-15 16:57:44\",\"2023-02-15 17:13:56\",\"2023-02-15 17:34:53\",\"2023-02-15 17:44:13\",\"2023-02-15 18:28:30\",\"2023-02-15 18:38:11\",\"2023-02-15 18:53:01\"],\"xaxis\":\"x\",\"y\":[8391,11488,21591,62336,62336,101040,175431,175431,175431,217957,234645,234645,242437,242437,242437,242437,249858,253580,253580,253580,258614,258614,258614,258614,258614,260239,260239,263480,270211],\"yaxis\":\"y\",\"type\":\"scatter\"},{\"hovertemplate\":\"\\u540d\\u524d=shu8Cream<br>\\u63d0\\u51fa\\u65e5\\u6642=%{x}<br>\\u30b9\\u30b3\\u30a2=%{y}<extra></extra>\",\"legendgroup\":\"shu8Cream\",\"line\":{\"color\":\"#FF97FF\",\"dash\":\"solid\"},\"marker\":{\"symbol\":\"circle\"},\"mode\":\"lines\",\"name\":\"shu8Cream\",\"orientation\":\"v\",\"showlegend\":true,\"x\":[\"2023-02-09 22:02:59\",\"2023-02-09 22:24:50\",\"2023-02-10 14:18:42\",\"2023-02-10 15:19:49\"],\"xaxis\":\"x\",\"y\":[6513,20619,74228,80013],\"yaxis\":\"y\",\"type\":\"scatter\"},{\"hovertemplate\":\"\\u540d\\u524d=gootara<br>\\u63d0\\u51fa\\u65e5\\u6642=%{x}<br>\\u30b9\\u30b3\\u30a2=%{y}<extra></extra>\",\"legendgroup\":\"gootara\",\"line\":{\"color\":\"#FECB52\",\"dash\":\"solid\"},\"marker\":{\"symbol\":\"circle\"},\"mode\":\"lines\",\"name\":\"gootara\",\"orientation\":\"v\",\"showlegend\":true,\"x\":[\"2023-02-09 22:18:04\",\"2023-02-09 22:23:51\",\"2023-02-10 20:29:50\",\"2023-02-10 21:36:32\",\"2023-02-10 22:26:20\",\"2023-02-10 22:31:34\",\"2023-02-11 00:58:58\",\"2023-02-11 01:14:50\",\"2023-02-11 01:21:28\",\"2023-02-12 02:00:59\",\"2023-02-12 02:28:44\",\"2023-02-12 02:35:29\",\"2023-02-12 11:38:15\",\"2023-02-12 12:02:37\",\"2023-02-12 12:07:46\",\"2023-02-12 12:14:30\",\"2023-02-12 12:19:30\",\"2023-02-12 12:29:03\",\"2023-02-13 12:32:05\",\"2023-02-13 12:46:23\",\"2023-02-13 12:52:12\",\"2023-02-13 13:13:47\",\"2023-02-13 13:44:54\",\"2023-02-13 17:07:58\",\"2023-02-13 17:14:00\",\"2023-02-13 17:22:22\",\"2023-02-13 19:24:19\",\"2023-02-13 19:30:30\",\"2023-02-13 19:57:52\",\"2023-02-13 20:04:03\",\"2023-02-13 20:22:47\",\"2023-02-13 23:27:38\",\"2023-02-13 23:37:09\",\"2023-02-13 23:42:57\",\"2023-02-13 23:48:13\",\"2023-02-14 00:10:44\",\"2023-02-14 00:22:51\",\"2023-02-14 00:27:55\",\"2023-02-14 16:43:37\",\"2023-02-14 16:52:44\",\"2023-02-14 18:12:25\",\"2023-02-14 18:19:16\",\"2023-02-14 18:35:47\",\"2023-02-14 18:40:48\",\"2023-02-14 18:48:49\",\"2023-02-15 12:37:54\",\"2023-02-15 12:45:41\",\"2023-02-15 13:01:19\",\"2023-02-15 13:07:00\",\"2023-02-15 13:13:03\",\"2023-02-15 13:45:59\",\"2023-02-15 18:32:02\",\"2023-02-15 18:40:08\",\"2023-02-15 18:50:02\",\"2023-02-15 18:55:04\"],\"xaxis\":\"x\",\"y\":[3588,6380,6496,7544,7544,7544,21015,21651,21651,44579,44579,71276,71276,71276,71276,71276,71276,82119,113323,113323,113677,115648,115648,115648,115648,115648,115648,115648,115648,115648,118139,118139,118139,118139,118139,154428,154428,156255,156255,156255,160703,160703,160703,160703,160703,199975,255484,255484,255484,255484,258292,258292,265371,268146,268146],\"yaxis\":\"y\",\"type\":\"scatter\"},{\"hovertemplate\":\"\\u540d\\u524d=jamuojisan<br>\\u63d0\\u51fa\\u65e5\\u6642=%{x}<br>\\u30b9\\u30b3\\u30a2=%{y}<extra></extra>\",\"legendgroup\":\"jamuojisan\",\"line\":{\"color\":\"#636efa\",\"dash\":\"solid\"},\"marker\":{\"symbol\":\"circle\"},\"mode\":\"lines\",\"name\":\"jamuojisan\",\"orientation\":\"v\",\"showlegend\":true,\"x\":[\"2023-02-09 22:32:02\",\"2023-02-09 23:28:17\",\"2023-02-11 14:55:35\",\"2023-02-11 16:40:28\"],\"xaxis\":\"x\",\"y\":[10033,22251,91183,91183],\"yaxis\":\"y\",\"type\":\"scatter\"},{\"hovertemplate\":\"\\u540d\\u524d=june193<br>\\u63d0\\u51fa\\u65e5\\u6642=%{x}<br>\\u30b9\\u30b3\\u30a2=%{y}<extra></extra>\",\"legendgroup\":\"june193\",\"line\":{\"color\":\"#EF553B\",\"dash\":\"solid\"},\"marker\":{\"symbol\":\"circle\"},\"mode\":\"lines\",\"name\":\"june193\",\"orientation\":\"v\",\"showlegend\":true,\"x\":[\"2023-02-09 22:45:42\",\"2023-02-10 14:18:34\",\"2023-02-10 20:46:25\",\"2023-02-11 10:33:06\",\"2023-02-11 14:50:13\",\"2023-02-11 15:29:40\",\"2023-02-11 15:44:54\",\"2023-02-13 11:04:35\",\"2023-02-13 11:26:46\",\"2023-02-14 10:24:04\",\"2023-02-14 16:59:38\",\"2023-02-15 15:55:27\",\"2023-02-15 16:03:42\",\"2023-02-15 16:29:10\",\"2023-02-15 16:38:31\",\"2023-02-15 18:59:02\"],\"xaxis\":\"x\",\"y\":[440,137733,219676,219676,226739,226739,226739,226739,251764,261301,261301,266507,267561,267561,267561,267561],\"yaxis\":\"y\",\"type\":\"scatter\"},{\"hovertemplate\":\"\\u540d\\u524d=ntk_ta01<br>\\u63d0\\u51fa\\u65e5\\u6642=%{x}<br>\\u30b9\\u30b3\\u30a2=%{y}<extra></extra>\",\"legendgroup\":\"ntk_ta01\",\"line\":{\"color\":\"#00cc96\",\"dash\":\"solid\"},\"marker\":{\"symbol\":\"circle\"},\"mode\":\"lines\",\"name\":\"ntk_ta01\",\"orientation\":\"v\",\"showlegend\":true,\"x\":[\"2023-02-09 22:57:33\",\"2023-02-10 13:13:23\",\"2023-02-14 03:24:12\"],\"xaxis\":\"x\",\"y\":[815,48320,48591],\"yaxis\":\"y\",\"type\":\"scatter\"},{\"hovertemplate\":\"\\u540d\\u524d=cplusplusonly<br>\\u63d0\\u51fa\\u65e5\\u6642=%{x}<br>\\u30b9\\u30b3\\u30a2=%{y}<extra></extra>\",\"legendgroup\":\"cplusplusonly\",\"line\":{\"color\":\"#ab63fa\",\"dash\":\"solid\"},\"marker\":{\"symbol\":\"circle\"},\"mode\":\"lines\",\"name\":\"cplusplusonly\",\"orientation\":\"v\",\"showlegend\":true,\"x\":[\"2023-02-09 23:32:08\",\"2023-02-11 21:20:37\",\"2023-02-11 23:38:01\",\"2023-02-14 00:21:46\",\"2023-02-14 01:12:31\",\"2023-02-14 01:21:19\",\"2023-02-14 21:28:37\",\"2023-02-14 21:34:25\",\"2023-02-14 22:09:07\",\"2023-02-14 22:34:20\",\"2023-02-14 22:40:35\",\"2023-02-14 23:25:05\",\"2023-02-14 23:41:21\"],\"xaxis\":\"x\",\"y\":[6127,8103,30010,133367,147740,192716,208556,208556,208556,208556,217197,239199,239199],\"yaxis\":\"y\",\"type\":\"scatter\"},{\"hovertemplate\":\"\\u540d\\u524d=kokatsu<br>\\u63d0\\u51fa\\u65e5\\u6642=%{x}<br>\\u30b9\\u30b3\\u30a2=%{y}<extra></extra>\",\"legendgroup\":\"kokatsu\",\"line\":{\"color\":\"#FFA15A\",\"dash\":\"solid\"},\"marker\":{\"symbol\":\"circle\"},\"mode\":\"lines\",\"name\":\"kokatsu\",\"orientation\":\"v\",\"showlegend\":true,\"x\":[\"2023-02-10 00:05:32\",\"2023-02-10 21:51:13\",\"2023-02-10 22:00:09\",\"2023-02-13 23:00:35\",\"2023-02-13 23:06:09\",\"2023-02-13 23:11:30\",\"2023-02-14 00:17:48\",\"2023-02-15 00:56:28\",\"2023-02-15 01:09:42\",\"2023-02-15 01:21:38\",\"2023-02-15 01:28:27\",\"2023-02-15 01:33:32\",\"2023-02-15 01:39:27\",\"2023-02-15 01:45:32\",\"2023-02-15 01:50:33\",\"2023-02-15 01:56:16\",\"2023-02-15 02:02:11\",\"2023-02-15 02:08:46\",\"2023-02-15 02:14:01\",\"2023-02-15 02:19:11\",\"2023-02-15 02:24:42\",\"2023-02-15 02:29:47\",\"2023-02-15 02:35:01\",\"2023-02-15 02:41:08\",\"2023-02-15 02:46:24\",\"2023-02-15 02:52:01\",\"2023-02-15 02:57:06\",\"2023-02-15 03:02:07\",\"2023-02-15 03:07:16\",\"2023-02-15 03:12:24\",\"2023-02-15 03:17:27\",\"2023-02-15 03:28:21\",\"2023-02-15 12:34:15\",\"2023-02-15 12:39:25\",\"2023-02-15 12:48:29\"],\"xaxis\":\"x\",\"y\":[34096,34096,34138,34138,40013,63382,63382,64483,86800,86800,86800,87592,87592,87592,99150,111363,111363,111363,111363,111363,111363,111363,111363,111363,111363,111363,111363,111363,111363,111363,111363,111363,111363,111363,111363],\"yaxis\":\"y\",\"type\":\"scatter\"},{\"hovertemplate\":\"\\u540d\\u524d=jaku<br>\\u63d0\\u51fa\\u65e5\\u6642=%{x}<br>\\u30b9\\u30b3\\u30a2=%{y}<extra></extra>\",\"legendgroup\":\"jaku\",\"line\":{\"color\":\"#19d3f3\",\"dash\":\"solid\"},\"marker\":{\"symbol\":\"circle\"},\"mode\":\"lines\",\"name\":\"jaku\",\"orientation\":\"v\",\"showlegend\":true,\"x\":[\"2023-02-10 00:29:53\",\"2023-02-10 10:09:07\",\"2023-02-10 11:24:18\",\"2023-02-10 12:21:32\",\"2023-02-13 22:49:49\",\"2023-02-14 01:27:46\",\"2023-02-14 13:14:58\",\"2023-02-14 14:55:55\",\"2023-02-14 15:53:22\",\"2023-02-14 16:25:51\",\"2023-02-14 20:22:00\",\"2023-02-15 15:26:23\",\"2023-02-15 15:47:10\",\"2023-02-15 16:23:32\",\"2023-02-15 17:50:06\",\"2023-02-15 18:49:11\"],\"xaxis\":\"x\",\"y\":[57779,66246,76424,76424,140463,181274,181274,181274,181274,181274,190421,190421,196894,212006,262901,269926],\"yaxis\":\"y\",\"type\":\"scatter\"},{\"hovertemplate\":\"\\u540d\\u524d=highjump<br>\\u63d0\\u51fa\\u65e5\\u6642=%{x}<br>\\u30b9\\u30b3\\u30a2=%{y}<extra></extra>\",\"legendgroup\":\"highjump\",\"line\":{\"color\":\"#FF6692\",\"dash\":\"solid\"},\"marker\":{\"symbol\":\"circle\"},\"mode\":\"lines\",\"name\":\"highjump\",\"orientation\":\"v\",\"showlegend\":true,\"x\":[\"2023-02-10 00:57:45\",\"2023-02-10 21:35:31\",\"2023-02-10 22:12:53\",\"2023-02-10 23:03:24\",\"2023-02-11 01:48:55\",\"2023-02-11 02:25:56\",\"2023-02-11 17:43:03\",\"2023-02-11 19:26:33\",\"2023-02-13 19:32:09\",\"2023-02-14 00:01:54\",\"2023-02-14 21:30:43\",\"2023-02-14 21:59:34\",\"2023-02-15 00:25:20\",\"2023-02-15 00:50:50\",\"2023-02-15 01:31:00\",\"2023-02-15 01:36:50\"],\"xaxis\":\"x\",\"y\":[35304,118605,140407,204692,295264,297004,299283,302798,304566,306436,308329,309759,311014,312969,312969,312969],\"yaxis\":\"y\",\"type\":\"scatter\"},{\"hovertemplate\":\"\\u540d\\u524d=yas_yasyu<br>\\u63d0\\u51fa\\u65e5\\u6642=%{x}<br>\\u30b9\\u30b3\\u30a2=%{y}<extra></extra>\",\"legendgroup\":\"yas_yasyu\",\"line\":{\"color\":\"#B6E880\",\"dash\":\"solid\"},\"marker\":{\"symbol\":\"circle\"},\"mode\":\"lines\",\"name\":\"yas_yasyu\",\"orientation\":\"v\",\"showlegend\":true,\"x\":[\"2023-02-10 02:59:26\",\"2023-02-10 04:12:30\",\"2023-02-10 05:58:14\",\"2023-02-14 09:29:26\",\"2023-02-14 15:42:07\",\"2023-02-14 15:47:15\",\"2023-02-14 16:57:43\"],\"xaxis\":\"x\",\"y\":[10033,28513,28513,28513,28513,28513,28513],\"yaxis\":\"y\",\"type\":\"scatter\"},{\"hovertemplate\":\"\\u540d\\u524d=ainem<br>\\u63d0\\u51fa\\u65e5\\u6642=%{x}<br>\\u30b9\\u30b3\\u30a2=%{y}<extra></extra>\",\"legendgroup\":\"ainem\",\"line\":{\"color\":\"#FF97FF\",\"dash\":\"solid\"},\"marker\":{\"symbol\":\"circle\"},\"mode\":\"lines\",\"name\":\"ainem\",\"orientation\":\"v\",\"showlegend\":true,\"x\":[\"2023-02-10 12:07:37\",\"2023-02-10 12:48:53\",\"2023-02-10 14:36:30\",\"2023-02-10 16:55:04\",\"2023-02-13 18:14:09\",\"2023-02-13 18:29:09\",\"2023-02-13 23:41:37\",\"2023-02-14 09:18:02\",\"2023-02-14 09:48:07\",\"2023-02-14 10:04:05\",\"2023-02-14 10:16:12\",\"2023-02-14 10:53:14\"],\"xaxis\":\"x\",\"y\":[4523,5817,140832,144363,311336,311336,311336,311336,311336,311336,311336,311336],\"yaxis\":\"y\",\"type\":\"scatter\"},{\"hovertemplate\":\"\\u540d\\u524d=edomondo<br>\\u63d0\\u51fa\\u65e5\\u6642=%{x}<br>\\u30b9\\u30b3\\u30a2=%{y}<extra></extra>\",\"legendgroup\":\"edomondo\",\"line\":{\"color\":\"#FECB52\",\"dash\":\"solid\"},\"marker\":{\"symbol\":\"circle\"},\"mode\":\"lines\",\"name\":\"edomondo\",\"orientation\":\"v\",\"showlegend\":true,\"x\":[\"2023-02-10 12:32:37\",\"2023-02-12 22:29:19\",\"2023-02-13 03:10:10\",\"2023-02-13 04:08:23\",\"2023-02-14 10:15:09\",\"2023-02-14 10:33:55\",\"2023-02-14 10:41:24\",\"2023-02-14 12:28:33\",\"2023-02-14 12:54:55\",\"2023-02-14 13:50:38\",\"2023-02-14 15:03:43\",\"2023-02-14 15:51:22\"],\"xaxis\":\"x\",\"y\":[32797,46552,259260,280287,298411,299032,299032,299032,299032,299032,299032,300971],\"yaxis\":\"y\",\"type\":\"scatter\"},{\"hovertemplate\":\"\\u540d\\u524d=r3yohei<br>\\u63d0\\u51fa\\u65e5\\u6642=%{x}<br>\\u30b9\\u30b3\\u30a2=%{y}<extra></extra>\",\"legendgroup\":\"r3yohei\",\"line\":{\"color\":\"#636efa\",\"dash\":\"solid\"},\"marker\":{\"symbol\":\"circle\"},\"mode\":\"lines\",\"name\":\"r3yohei\",\"orientation\":\"v\",\"showlegend\":true,\"x\":[\"2023-02-10 19:11:18\",\"2023-02-12 13:47:53\",\"2023-02-12 14:10:12\",\"2023-02-12 15:23:02\",\"2023-02-12 15:43:31\",\"2023-02-12 20:56:29\",\"2023-02-12 21:23:33\",\"2023-02-12 21:44:56\",\"2023-02-13 13:53:25\",\"2023-02-13 14:59:22\",\"2023-02-13 18:15:50\",\"2023-02-13 19:52:38\",\"2023-02-13 20:14:30\",\"2023-02-13 20:23:10\",\"2023-02-13 20:46:36\",\"2023-02-13 23:12:33\",\"2023-02-13 23:18:24\",\"2023-02-13 23:40:19\",\"2023-02-13 23:45:56\",\"2023-02-14 00:01:11\",\"2023-02-14 03:04:55\",\"2023-02-14 03:11:42\",\"2023-02-14 03:17:23\",\"2023-02-14 13:55:57\",\"2023-02-14 21:05:31\",\"2023-02-14 22:10:37\",\"2023-02-14 23:28:16\",\"2023-02-15 02:45:47\",\"2023-02-15 02:51:02\",\"2023-02-15 04:19:39\",\"2023-02-15 04:54:35\",\"2023-02-15 05:00:19\",\"2023-02-15 17:08:54\",\"2023-02-15 17:21:12\",\"2023-02-15 17:26:27\",\"2023-02-15 18:00:07\",\"2023-02-15 18:31:47\",\"2023-02-15 18:38:11\",\"2023-02-15 18:44:30\",\"2023-02-15 18:49:41\",\"2023-02-15 18:55:01\"],\"xaxis\":\"x\",\"y\":[6661,125680,125680,125680,141660,143860,152759,152759,152759,152759,183601,226679,226679,248548,248548,248548,248548,248548,248548,248548,248548,248548,248548,248548,248548,248548,248548,248548,248548,248548,254985,271421,271421,271421,275219,275219,275219,275219,278379,278379,278379],\"yaxis\":\"y\",\"type\":\"scatter\"},{\"hovertemplate\":\"\\u540d\\u524d=2bit<br>\\u63d0\\u51fa\\u65e5\\u6642=%{x}<br>\\u30b9\\u30b3\\u30a2=%{y}<extra></extra>\",\"legendgroup\":\"2bit\",\"line\":{\"color\":\"#EF553B\",\"dash\":\"solid\"},\"marker\":{\"symbol\":\"circle\"},\"mode\":\"lines\",\"name\":\"2bit\",\"orientation\":\"v\",\"showlegend\":true,\"x\":[\"2023-02-10 21:09:44\",\"2023-02-10 22:19:07\",\"2023-02-10 22:24:11\",\"2023-02-10 23:06:14\",\"2023-02-10 23:34:38\",\"2023-02-10 23:46:46\",\"2023-02-11 00:08:48\",\"2023-02-11 00:16:58\",\"2023-02-11 00:49:47\",\"2023-02-11 00:54:47\",\"2023-02-11 01:03:57\",\"2023-02-11 01:09:05\",\"2023-02-11 01:34:35\",\"2023-02-11 01:39:38\",\"2023-02-11 01:44:42\",\"2023-02-11 01:50:09\",\"2023-02-11 10:00:44\",\"2023-02-11 10:17:34\",\"2023-02-11 10:33:35\",\"2023-02-11 11:03:03\",\"2023-02-11 11:22:02\",\"2023-02-11 11:39:07\",\"2023-02-11 12:04:05\",\"2023-02-11 12:39:24\",\"2023-02-11 13:50:32\",\"2023-02-11 13:57:11\",\"2023-02-11 15:23:58\",\"2023-02-11 19:05:39\"],\"xaxis\":\"x\",\"y\":[6122,6122,6122,6686,46030,75511,90539,90539,90539,90539,98513,98513,98513,98513,172479,172479,172479,172479,182504,188643,193597,193597,193701,193701,193701,194333,194333,194333],\"yaxis\":\"y\",\"type\":\"scatter\"},{\"hovertemplate\":\"\\u540d\\u524d=tmikada<br>\\u63d0\\u51fa\\u65e5\\u6642=%{x}<br>\\u30b9\\u30b3\\u30a2=%{y}<extra></extra>\",\"legendgroup\":\"tmikada\",\"line\":{\"color\":\"#00cc96\",\"dash\":\"solid\"},\"marker\":{\"symbol\":\"circle\"},\"mode\":\"lines\",\"name\":\"tmikada\",\"orientation\":\"v\",\"showlegend\":true,\"x\":[\"2023-02-11 01:01:50\",\"2023-02-11 18:36:21\",\"2023-02-12 16:41:06\",\"2023-02-12 17:17:37\",\"2023-02-12 19:17:29\"],\"xaxis\":\"x\",\"y\":[51077,83615,83615,83615,83615],\"yaxis\":\"y\",\"type\":\"scatter\"},{\"hovertemplate\":\"\\u540d\\u524d=midnq<br>\\u63d0\\u51fa\\u65e5\\u6642=%{x}<br>\\u30b9\\u30b3\\u30a2=%{y}<extra></extra>\",\"legendgroup\":\"midnq\",\"line\":{\"color\":\"#ab63fa\",\"dash\":\"solid\"},\"marker\":{\"symbol\":\"circle\"},\"mode\":\"lines\",\"name\":\"midnq\",\"orientation\":\"v\",\"showlegend\":true,\"x\":[\"2023-02-11 09:08:40\",\"2023-02-11 09:13:40\",\"2023-02-11 09:59:15\",\"2023-02-11 10:06:41\",\"2023-02-11 10:20:42\",\"2023-02-11 10:39:27\",\"2023-02-11 17:41:23\",\"2023-02-11 17:51:31\",\"2023-02-11 19:23:07\",\"2023-02-12 17:09:11\",\"2023-02-12 17:40:05\",\"2023-02-13 17:10:30\",\"2023-02-14 16:17:39\",\"2023-02-14 17:28:27\",\"2023-02-14 17:36:13\",\"2023-02-14 17:41:20\",\"2023-02-14 18:27:07\",\"2023-02-14 18:32:55\",\"2023-02-14 19:03:36\",\"2023-02-14 20:18:11\",\"2023-02-14 20:40:58\",\"2023-02-14 22:09:53\",\"2023-02-14 22:15:26\",\"2023-02-14 22:30:43\"],\"xaxis\":\"x\",\"y\":[0,6703,6703,6703,6703,6703,6703,6703,6703,6703,6967,6967,137478,137478,137478,137478,160647,166792,178523,178523,178523,178523,178523,178523],\"yaxis\":\"y\",\"type\":\"scatter\"},{\"hovertemplate\":\"\\u540d\\u524d=meowmeowcats<br>\\u63d0\\u51fa\\u65e5\\u6642=%{x}<br>\\u30b9\\u30b3\\u30a2=%{y}<extra></extra>\",\"legendgroup\":\"meowmeowcats\",\"line\":{\"color\":\"#FFA15A\",\"dash\":\"solid\"},\"marker\":{\"symbol\":\"circle\"},\"mode\":\"lines\",\"name\":\"meowmeowcats\",\"orientation\":\"v\",\"showlegend\":true,\"x\":[\"2023-02-11 10:57:28\",\"2023-02-15 08:46:03\",\"2023-02-15 10:14:23\"],\"xaxis\":\"x\",\"y\":[26721,26721,26721],\"yaxis\":\"y\",\"type\":\"scatter\"},{\"hovertemplate\":\"\\u540d\\u524d=motoshira<br>\\u63d0\\u51fa\\u65e5\\u6642=%{x}<br>\\u30b9\\u30b3\\u30a2=%{y}<extra></extra>\",\"legendgroup\":\"motoshira\",\"line\":{\"color\":\"#19d3f3\",\"dash\":\"solid\"},\"marker\":{\"symbol\":\"circle\"},\"mode\":\"lines\",\"name\":\"motoshira\",\"orientation\":\"v\",\"showlegend\":true,\"x\":[\"2023-02-11 18:06:29\",\"2023-02-11 19:38:49\",\"2023-02-11 20:13:28\",\"2023-02-11 22:43:04\",\"2023-02-14 00:01:38\",\"2023-02-14 20:56:27\"],\"xaxis\":\"x\",\"y\":[7033,237779,238347,238347,244314,244388],\"yaxis\":\"y\",\"type\":\"scatter\"},{\"hovertemplate\":\"\\u540d\\u524d=donphan<br>\\u63d0\\u51fa\\u65e5\\u6642=%{x}<br>\\u30b9\\u30b3\\u30a2=%{y}<extra></extra>\",\"legendgroup\":\"donphan\",\"line\":{\"color\":\"#FF6692\",\"dash\":\"solid\"},\"marker\":{\"symbol\":\"circle\"},\"mode\":\"lines\",\"name\":\"donphan\",\"orientation\":\"v\",\"showlegend\":true,\"x\":[\"2023-02-11 20:07:58\"],\"xaxis\":\"x\",\"y\":[10033],\"yaxis\":\"y\",\"type\":\"scatter\"},{\"hovertemplate\":\"\\u540d\\u524d=ssaattoo<br>\\u63d0\\u51fa\\u65e5\\u6642=%{x}<br>\\u30b9\\u30b3\\u30a2=%{y}<extra></extra>\",\"legendgroup\":\"ssaattoo\",\"line\":{\"color\":\"#B6E880\",\"dash\":\"solid\"},\"marker\":{\"symbol\":\"circle\"},\"mode\":\"lines\",\"name\":\"ssaattoo\",\"orientation\":\"v\",\"showlegend\":true,\"x\":[\"2023-02-11 21:04:26\",\"2023-02-11 21:22:56\",\"2023-02-11 21:40:01\",\"2023-02-11 22:15:46\",\"2023-02-12 21:33:00\",\"2023-02-13 14:30:42\",\"2023-02-13 17:32:19\",\"2023-02-13 20:29:56\",\"2023-02-13 21:16:08\",\"2023-02-13 21:39:14\",\"2023-02-14 11:26:05\",\"2023-02-14 16:50:24\",\"2023-02-14 17:22:15\",\"2023-02-14 19:08:09\",\"2023-02-14 21:32:03\",\"2023-02-15 10:55:48\",\"2023-02-15 11:05:26\",\"2023-02-15 11:11:39\",\"2023-02-15 16:17:34\",\"2023-02-15 18:49:48\"],\"xaxis\":\"x\",\"y\":[92912,203969,203969,203969,216553,244804,281810,299969,301696,301696,302975,306342,306772,308293,308293,318453,318595,318595,318595,318595],\"yaxis\":\"y\",\"type\":\"scatter\"},{\"hovertemplate\":\"\\u540d\\u524d=hotpepsi<br>\\u63d0\\u51fa\\u65e5\\u6642=%{x}<br>\\u30b9\\u30b3\\u30a2=%{y}<extra></extra>\",\"legendgroup\":\"hotpepsi\",\"line\":{\"color\":\"#FF97FF\",\"dash\":\"solid\"},\"marker\":{\"symbol\":\"circle\"},\"mode\":\"lines\",\"name\":\"hotpepsi\",\"orientation\":\"v\",\"showlegend\":true,\"x\":[\"2023-02-12 00:43:40\",\"2023-02-12 01:34:59\",\"2023-02-13 22:05:20\",\"2023-02-13 22:32:13\",\"2023-02-13 23:00:02\",\"2023-02-14 00:02:21\",\"2023-02-14 01:32:13\",\"2023-02-14 01:42:49\",\"2023-02-14 09:55:45\",\"2023-02-14 13:36:58\",\"2023-02-15 00:47:05\",\"2023-02-15 00:58:44\",\"2023-02-15 01:14:44\",\"2023-02-15 01:20:07\"],\"xaxis\":\"x\",\"y\":[294269,295118,295118,295267,297344,299788,299788,299788,299788,299788,305086,308012,308219,309461],\"yaxis\":\"y\",\"type\":\"scatter\"},{\"hovertemplate\":\"\\u540d\\u524d=platinum<br>\\u63d0\\u51fa\\u65e5\\u6642=%{x}<br>\\u30b9\\u30b3\\u30a2=%{y}<extra></extra>\",\"legendgroup\":\"platinum\",\"line\":{\"color\":\"#FECB52\",\"dash\":\"solid\"},\"marker\":{\"symbol\":\"circle\"},\"mode\":\"lines\",\"name\":\"platinum\",\"orientation\":\"v\",\"showlegend\":true,\"x\":[\"2023-02-13 18:24:14\",\"2023-02-14 09:07:35\",\"2023-02-14 12:42:06\",\"2023-02-14 18:24:23\"],\"xaxis\":\"x\",\"y\":[253922,257782,275523,278276],\"yaxis\":\"y\",\"type\":\"scatter\"},{\"hovertemplate\":\"\\u540d\\u524d=michirakara<br>\\u63d0\\u51fa\\u65e5\\u6642=%{x}<br>\\u30b9\\u30b3\\u30a2=%{y}<extra></extra>\",\"legendgroup\":\"michirakara\",\"line\":{\"color\":\"#636efa\",\"dash\":\"solid\"},\"marker\":{\"symbol\":\"circle\"},\"mode\":\"lines\",\"name\":\"michirakara\",\"orientation\":\"v\",\"showlegend\":true,\"x\":[\"2023-02-15 12:29:03\",\"2023-02-15 12:39:50\",\"2023-02-15 12:44:52\",\"2023-02-15 12:50:35\",\"2023-02-15 12:55:35\",\"2023-02-15 13:27:47\",\"2023-02-15 13:32:48\",\"2023-02-15 13:54:02\",\"2023-02-15 14:02:10\"],\"xaxis\":\"x\",\"y\":[189486,189486,197319,197441,197441,218095,218095,218095,218095],\"yaxis\":\"y\",\"type\":\"scatter\"}],                        {\"template\":{\"data\":{\"histogram2dcontour\":[{\"type\":\"histogram2dcontour\",\"colorbar\":{\"outlinewidth\":0,\"ticks\":\"\"},\"colorscale\":[[0.0,\"#0d0887\"],[0.1111111111111111,\"#46039f\"],[0.2222222222222222,\"#7201a8\"],[0.3333333333333333,\"#9c179e\"],[0.4444444444444444,\"#bd3786\"],[0.5555555555555556,\"#d8576b\"],[0.6666666666666666,\"#ed7953\"],[0.7777777777777778,\"#fb9f3a\"],[0.8888888888888888,\"#fdca26\"],[1.0,\"#f0f921\"]]}],\"choropleth\":[{\"type\":\"choropleth\",\"colorbar\":{\"outlinewidth\":0,\"ticks\":\"\"}}],\"histogram2d\":[{\"type\":\"histogram2d\",\"colorbar\":{\"outlinewidth\":0,\"ticks\":\"\"},\"colorscale\":[[0.0,\"#0d0887\"],[0.1111111111111111,\"#46039f\"],[0.2222222222222222,\"#7201a8\"],[0.3333333333333333,\"#9c179e\"],[0.4444444444444444,\"#bd3786\"],[0.5555555555555556,\"#d8576b\"],[0.6666666666666666,\"#ed7953\"],[0.7777777777777778,\"#fb9f3a\"],[0.8888888888888888,\"#fdca26\"],[1.0,\"#f0f921\"]]}],\"heatmap\":[{\"type\":\"heatmap\",\"colorbar\":{\"outlinewidth\":0,\"ticks\":\"\"},\"colorscale\":[[0.0,\"#0d0887\"],[0.1111111111111111,\"#46039f\"],[0.2222222222222222,\"#7201a8\"],[0.3333333333333333,\"#9c179e\"],[0.4444444444444444,\"#bd3786\"],[0.5555555555555556,\"#d8576b\"],[0.6666666666666666,\"#ed7953\"],[0.7777777777777778,\"#fb9f3a\"],[0.8888888888888888,\"#fdca26\"],[1.0,\"#f0f921\"]]}],\"heatmapgl\":[{\"type\":\"heatmapgl\",\"colorbar\":{\"outlinewidth\":0,\"ticks\":\"\"},\"colorscale\":[[0.0,\"#0d0887\"],[0.1111111111111111,\"#46039f\"],[0.2222222222222222,\"#7201a8\"],[0.3333333333333333,\"#9c179e\"],[0.4444444444444444,\"#bd3786\"],[0.5555555555555556,\"#d8576b\"],[0.6666666666666666,\"#ed7953\"],[0.7777777777777778,\"#fb9f3a\"],[0.8888888888888888,\"#fdca26\"],[1.0,\"#f0f921\"]]}],\"contourcarpet\":[{\"type\":\"contourcarpet\",\"colorbar\":{\"outlinewidth\":0,\"ticks\":\"\"}}],\"contour\":[{\"type\":\"contour\",\"colorbar\":{\"outlinewidth\":0,\"ticks\":\"\"},\"colorscale\":[[0.0,\"#0d0887\"],[0.1111111111111111,\"#46039f\"],[0.2222222222222222,\"#7201a8\"],[0.3333333333333333,\"#9c179e\"],[0.4444444444444444,\"#bd3786\"],[0.5555555555555556,\"#d8576b\"],[0.6666666666666666,\"#ed7953\"],[0.7777777777777778,\"#fb9f3a\"],[0.8888888888888888,\"#fdca26\"],[1.0,\"#f0f921\"]]}],\"surface\":[{\"type\":\"surface\",\"colorbar\":{\"outlinewidth\":0,\"ticks\":\"\"},\"colorscale\":[[0.0,\"#0d0887\"],[0.1111111111111111,\"#46039f\"],[0.2222222222222222,\"#7201a8\"],[0.3333333333333333,\"#9c179e\"],[0.4444444444444444,\"#bd3786\"],[0.5555555555555556,\"#d8576b\"],[0.6666666666666666,\"#ed7953\"],[0.7777777777777778,\"#fb9f3a\"],[0.8888888888888888,\"#fdca26\"],[1.0,\"#f0f921\"]]}],\"mesh3d\":[{\"type\":\"mesh3d\",\"colorbar\":{\"outlinewidth\":0,\"ticks\":\"\"}}],\"scatter\":[{\"fillpattern\":{\"fillmode\":\"overlay\",\"size\":10,\"solidity\":0.2},\"type\":\"scatter\"}],\"parcoords\":[{\"type\":\"parcoords\",\"line\":{\"colorbar\":{\"outlinewidth\":0,\"ticks\":\"\"}}}],\"scatterpolargl\":[{\"type\":\"scatterpolargl\",\"marker\":{\"colorbar\":{\"outlinewidth\":0,\"ticks\":\"\"}}}],\"bar\":[{\"error_x\":{\"color\":\"#2a3f5f\"},\"error_y\":{\"color\":\"#2a3f5f\"},\"marker\":{\"line\":{\"color\":\"#E5ECF6\",\"width\":0.5},\"pattern\":{\"fillmode\":\"overlay\",\"size\":10,\"solidity\":0.2}},\"type\":\"bar\"}],\"scattergeo\":[{\"type\":\"scattergeo\",\"marker\":{\"colorbar\":{\"outlinewidth\":0,\"ticks\":\"\"}}}],\"scatterpolar\":[{\"type\":\"scatterpolar\",\"marker\":{\"colorbar\":{\"outlinewidth\":0,\"ticks\":\"\"}}}],\"histogram\":[{\"marker\":{\"pattern\":{\"fillmode\":\"overlay\",\"size\":10,\"solidity\":0.2}},\"type\":\"histogram\"}],\"scattergl\":[{\"type\":\"scattergl\",\"marker\":{\"colorbar\":{\"outlinewidth\":0,\"ticks\":\"\"}}}],\"scatter3d\":[{\"type\":\"scatter3d\",\"line\":{\"colorbar\":{\"outlinewidth\":0,\"ticks\":\"\"}},\"marker\":{\"colorbar\":{\"outlinewidth\":0,\"ticks\":\"\"}}}],\"scattermapbox\":[{\"type\":\"scattermapbox\",\"marker\":{\"colorbar\":{\"outlinewidth\":0,\"ticks\":\"\"}}}],\"scatterternary\":[{\"type\":\"scatterternary\",\"marker\":{\"colorbar\":{\"outlinewidth\":0,\"ticks\":\"\"}}}],\"scattercarpet\":[{\"type\":\"scattercarpet\",\"marker\":{\"colorbar\":{\"outlinewidth\":0,\"ticks\":\"\"}}}],\"carpet\":[{\"aaxis\":{\"endlinecolor\":\"#2a3f5f\",\"gridcolor\":\"white\",\"linecolor\":\"white\",\"minorgridcolor\":\"white\",\"startlinecolor\":\"#2a3f5f\"},\"baxis\":{\"endlinecolor\":\"#2a3f5f\",\"gridcolor\":\"white\",\"linecolor\":\"white\",\"minorgridcolor\":\"white\",\"startlinecolor\":\"#2a3f5f\"},\"type\":\"carpet\"}],\"table\":[{\"cells\":{\"fill\":{\"color\":\"#EBF0F8\"},\"line\":{\"color\":\"white\"}},\"header\":{\"fill\":{\"color\":\"#C8D4E3\"},\"line\":{\"color\":\"white\"}},\"type\":\"table\"}],\"barpolar\":[{\"marker\":{\"line\":{\"color\":\"#E5ECF6\",\"width\":0.5},\"pattern\":{\"fillmode\":\"overlay\",\"size\":10,\"solidity\":0.2}},\"type\":\"barpolar\"}],\"pie\":[{\"automargin\":true,\"type\":\"pie\"}]},\"layout\":{\"autotypenumbers\":\"strict\",\"colorway\":[\"#636efa\",\"#EF553B\",\"#00cc96\",\"#ab63fa\",\"#FFA15A\",\"#19d3f3\",\"#FF6692\",\"#B6E880\",\"#FF97FF\",\"#FECB52\"],\"font\":{\"color\":\"#2a3f5f\"},\"hovermode\":\"closest\",\"hoverlabel\":{\"align\":\"left\"},\"paper_bgcolor\":\"white\",\"plot_bgcolor\":\"#E5ECF6\",\"polar\":{\"bgcolor\":\"#E5ECF6\",\"angularaxis\":{\"gridcolor\":\"white\",\"linecolor\":\"white\",\"ticks\":\"\"},\"radialaxis\":{\"gridcolor\":\"white\",\"linecolor\":\"white\",\"ticks\":\"\"}},\"ternary\":{\"bgcolor\":\"#E5ECF6\",\"aaxis\":{\"gridcolor\":\"white\",\"linecolor\":\"white\",\"ticks\":\"\"},\"baxis\":{\"gridcolor\":\"white\",\"linecolor\":\"white\",\"ticks\":\"\"},\"caxis\":{\"gridcolor\":\"white\",\"linecolor\":\"white\",\"ticks\":\"\"}},\"coloraxis\":{\"colorbar\":{\"outlinewidth\":0,\"ticks\":\"\"}},\"colorscale\":{\"sequential\":[[0.0,\"#0d0887\"],[0.1111111111111111,\"#46039f\"],[0.2222222222222222,\"#7201a8\"],[0.3333333333333333,\"#9c179e\"],[0.4444444444444444,\"#bd3786\"],[0.5555555555555556,\"#d8576b\"],[0.6666666666666666,\"#ed7953\"],[0.7777777777777778,\"#fb9f3a\"],[0.8888888888888888,\"#fdca26\"],[1.0,\"#f0f921\"]],\"sequentialminus\":[[0.0,\"#0d0887\"],[0.1111111111111111,\"#46039f\"],[0.2222222222222222,\"#7201a8\"],[0.3333333333333333,\"#9c179e\"],[0.4444444444444444,\"#bd3786\"],[0.5555555555555556,\"#d8576b\"],[0.6666666666666666,\"#ed7953\"],[0.7777777777777778,\"#fb9f3a\"],[0.8888888888888888,\"#fdca26\"],[1.0,\"#f0f921\"]],\"diverging\":[[0,\"#8e0152\"],[0.1,\"#c51b7d\"],[0.2,\"#de77ae\"],[0.3,\"#f1b6da\"],[0.4,\"#fde0ef\"],[0.5,\"#f7f7f7\"],[0.6,\"#e6f5d0\"],[0.7,\"#b8e186\"],[0.8,\"#7fbc41\"],[0.9,\"#4d9221\"],[1,\"#276419\"]]},\"xaxis\":{\"gridcolor\":\"white\",\"linecolor\":\"white\",\"ticks\":\"\",\"title\":{\"standoff\":15},\"zerolinecolor\":\"white\",\"automargin\":true,\"zerolinewidth\":2},\"yaxis\":{\"gridcolor\":\"white\",\"linecolor\":\"white\",\"ticks\":\"\",\"title\":{\"standoff\":15},\"zerolinecolor\":\"white\",\"automargin\":true,\"zerolinewidth\":2},\"scene\":{\"xaxis\":{\"backgroundcolor\":\"#E5ECF6\",\"gridcolor\":\"white\",\"linecolor\":\"white\",\"showbackground\":true,\"ticks\":\"\",\"zerolinecolor\":\"white\",\"gridwidth\":2},\"yaxis\":{\"backgroundcolor\":\"#E5ECF6\",\"gridcolor\":\"white\",\"linecolor\":\"white\",\"showbackground\":true,\"ticks\":\"\",\"zerolinecolor\":\"white\",\"gridwidth\":2},\"zaxis\":{\"backgroundcolor\":\"#E5ECF6\",\"gridcolor\":\"white\",\"linecolor\":\"white\",\"showbackground\":true,\"ticks\":\"\",\"zerolinecolor\":\"white\",\"gridwidth\":2}},\"shapedefaults\":{\"line\":{\"color\":\"#2a3f5f\"}},\"annotationdefaults\":{\"arrowcolor\":\"#2a3f5f\",\"arrowhead\":0,\"arrowwidth\":1},\"geo\":{\"bgcolor\":\"white\",\"landcolor\":\"#E5ECF6\",\"subunitcolor\":\"white\",\"showland\":true,\"showlakes\":true,\"lakecolor\":\"white\"},\"title\":{\"x\":0.05},\"mapbox\":{\"style\":\"light\"}}},\"xaxis\":{\"anchor\":\"y\",\"domain\":[0.0,1.0],\"title\":{\"text\":\"\\u63d0\\u51fa\\u65e5\\u6642\"}},\"yaxis\":{\"anchor\":\"x\",\"domain\":[0.0,1.0],\"title\":{\"text\":\"\\u30b9\\u30b3\\u30a2\"}},\"legend\":{\"title\":{\"text\":\"\\u540d\\u524d\"},\"tracegroupgap\":0},\"margin\":{\"t\":60}},                        {\"responsive\": true}                    ).then(function(){\n",
              "                            \n",
              "var gd = document.getElementById('5833f4c2-a0ac-4577-bd6e-11cfbe6772a0');\n",
              "var x = new MutationObserver(function (mutations, observer) {{\n",
              "        var display = window.getComputedStyle(gd).display;\n",
              "        if (!display || display === 'none') {{\n",
              "            console.log([gd, 'removed!']);\n",
              "            Plotly.purge(gd);\n",
              "            observer.disconnect();\n",
              "        }}\n",
              "}});\n",
              "\n",
              "// Listen for the removal of the full notebook cells\n",
              "var notebookContainer = gd.closest('#notebook-container');\n",
              "if (notebookContainer) {{\n",
              "    x.observe(notebookContainer, {childList: true});\n",
              "}}\n",
              "\n",
              "// Listen for the clearing of the current output cell\n",
              "var outputEl = gd.closest('.output');\n",
              "if (outputEl) {{\n",
              "    x.observe(outputEl, {childList: true});\n",
              "}}\n",
              "\n",
              "                        })                };                            </script>        </div>\n",
              "</body>\n",
              "</html>"
            ]
          },
          "metadata": {},
          "output_type": "display_data"
        }
      ],
      "source": [
        "df_line_indv = df.sort_values(\"提出日時\", ascending = True)\n",
        "df_line_indv[\"スコア\"] = df_line_indv.groupby(\"名前\")[\"スコア\"].cummax()\n",
        "\n",
        "fig_individual = px.line(df_line_indv , x=\"提出日時\", y=\"スコア\", color=\"名前\")\n",
        "fig_individual.show()"
      ]
    },
    {
      "cell_type": "code",
      "execution_count": 7,
      "metadata": {
        "colab": {
          "base_uri": "https://localhost:8080/",
          "height": 542
        },
        "id": "EpxqzKzMJTRE",
        "outputId": "37c09abb-edad-4be4-e301-a05e519a9539"
      },
      "outputs": [
        {
          "data": {
            "text/html": [
              "<html>\n",
              "<head><meta charset=\"utf-8\" /></head>\n",
              "<body>\n",
              "    <div>            <script src=\"https://cdnjs.cloudflare.com/ajax/libs/mathjax/2.7.5/MathJax.js?config=TeX-AMS-MML_SVG\"></script><script type=\"text/javascript\">if (window.MathJax && window.MathJax.Hub && window.MathJax.Hub.Config) {window.MathJax.Hub.Config({SVG: {font: \"STIX-Web\"}});}</script>                <script type=\"text/javascript\">window.PlotlyConfig = {MathJaxConfig: 'local'};</script>\n",
              "        <script src=\"https://cdn.plot.ly/plotly-2.18.2.min.js\"></script>                <div id=\"f2daf5ed-c181-490f-913c-0270751dc3e7\" class=\"plotly-graph-div\" style=\"height:525px; width:100%;\"></div>            <script type=\"text/javascript\">                                    window.PLOTLYENV=window.PLOTLYENV || {};                                    if (document.getElementById(\"f2daf5ed-c181-490f-913c-0270751dc3e7\")) {                    Plotly.newPlot(                        \"f2daf5ed-c181-490f-913c-0270751dc3e7\",                        [{\"hovertemplate\":\"\\u30c1\\u30fc\\u30e0\\u540d=\\u30cd\\u30d0\\u30fc\\u30ae\\u30d6\\u30a2\\u30c3\\u30d7\\u306e\\u639f<br>\\u63d0\\u51fa\\u65e5\\u6642=%{x}<br>\\u30b9\\u30b3\\u30a2=%{y}<extra></extra>\",\"legendgroup\":\"\\u30cd\\u30d0\\u30fc\\u30ae\\u30d6\\u30a2\\u30c3\\u30d7\\u306e\\u639f\",\"line\":{\"color\":\"#636efa\",\"dash\":\"solid\"},\"marker\":{\"symbol\":\"circle\"},\"mode\":\"lines\",\"name\":\"\\u30cd\\u30d0\\u30fc\\u30ae\\u30d6\\u30a2\\u30c3\\u30d7\\u306e\\u639f\",\"orientation\":\"v\",\"showlegend\":true,\"x\":[\"2023-02-09 19:06:00\",\"2023-02-09 20:52:23\",\"2023-02-09 21:16:31\",\"2023-02-09 22:32:02\",\"2023-02-09 22:45:42\",\"2023-02-09 23:28:17\",\"2023-02-10 00:57:45\",\"2023-02-10 06:10:42\",\"2023-02-10 06:18:24\",\"2023-02-10 06:24:26\",\"2023-02-10 06:31:19\",\"2023-02-10 06:36:19\",\"2023-02-10 07:22:26\",\"2023-02-10 08:28:12\",\"2023-02-10 08:34:13\",\"2023-02-10 11:55:35\",\"2023-02-10 12:32:37\",\"2023-02-10 14:18:34\",\"2023-02-10 16:49:21\",\"2023-02-10 17:17:38\",\"2023-02-10 17:33:26\",\"2023-02-10 17:38:17\",\"2023-02-10 17:38:44\",\"2023-02-10 20:08:58\",\"2023-02-10 20:14:07\",\"2023-02-10 20:46:25\",\"2023-02-10 21:35:31\",\"2023-02-10 22:12:53\",\"2023-02-10 23:03:24\",\"2023-02-11 01:48:55\",\"2023-02-11 02:25:56\",\"2023-02-11 03:58:59\",\"2023-02-11 04:17:11\",\"2023-02-11 04:30:26\",\"2023-02-11 05:20:52\",\"2023-02-11 10:33:06\",\"2023-02-11 14:50:13\",\"2023-02-11 14:55:35\",\"2023-02-11 15:29:40\",\"2023-02-11 15:44:54\",\"2023-02-11 16:40:28\",\"2023-02-11 17:43:03\",\"2023-02-11 19:26:33\",\"2023-02-12 22:29:19\",\"2023-02-13 03:10:10\",\"2023-02-13 04:08:23\",\"2023-02-13 11:04:35\",\"2023-02-13 11:26:46\",\"2023-02-13 19:32:09\",\"2023-02-14 00:01:54\",\"2023-02-14 10:15:09\",\"2023-02-14 10:24:04\",\"2023-02-14 10:33:55\",\"2023-02-14 10:41:24\",\"2023-02-14 12:28:33\",\"2023-02-14 12:54:55\",\"2023-02-14 13:50:38\",\"2023-02-14 15:03:43\",\"2023-02-14 15:51:22\",\"2023-02-14 16:59:38\",\"2023-02-14 18:46:03\",\"2023-02-14 19:01:07\",\"2023-02-14 21:30:43\",\"2023-02-14 21:59:34\",\"2023-02-15 00:25:20\",\"2023-02-15 00:50:50\",\"2023-02-15 01:31:00\",\"2023-02-15 01:36:50\",\"2023-02-15 12:46:49\",\"2023-02-15 13:00:40\",\"2023-02-15 15:55:27\",\"2023-02-15 16:03:42\",\"2023-02-15 16:29:10\",\"2023-02-15 16:38:31\",\"2023-02-15 17:35:15\",\"2023-02-15 17:40:18\",\"2023-02-15 17:46:10\",\"2023-02-15 18:04:29\",\"2023-02-15 18:59:02\"],\"xaxis\":\"x\",\"y\":[652,36651,36651,36651,36651,36651,36651,36651,36651,46022,83471,89296,265366,265366,286305,286305,286305,286305,286305,286305,286305,286305,286305,286305,286305,286305,286305,286305,286305,295264,297004,297004,297004,297004,297004,297004,297004,297004,297004,297004,297004,299283,302798,302798,302798,302798,302798,302798,304566,306436,306436,306436,306436,306436,306436,306436,306436,306436,306436,306436,306436,306436,308329,309759,311014,312969,312969,312969,312969,312969,312969,312969,312969,312969,312969,312969,312969,312969,312969],\"yaxis\":\"y\",\"type\":\"scatter\"},{\"hovertemplate\":\"\\u30c1\\u30fc\\u30e0\\u540d=\\u3078\\u3073\\u3064\\u304b\\u3044<br>\\u63d0\\u51fa\\u65e5\\u6642=%{x}<br>\\u30b9\\u30b3\\u30a2=%{y}<extra></extra>\",\"legendgroup\":\"\\u3078\\u3073\\u3064\\u304b\\u3044\",\"line\":{\"color\":\"#EF553B\",\"dash\":\"solid\"},\"marker\":{\"symbol\":\"circle\"},\"mode\":\"lines\",\"name\":\"\\u3078\\u3073\\u3064\\u304b\\u3044\",\"orientation\":\"v\",\"showlegend\":true,\"x\":[\"2023-02-09 19:20:26\",\"2023-02-09 21:05:13\",\"2023-02-09 22:18:04\",\"2023-02-09 22:23:51\",\"2023-02-10 02:59:26\",\"2023-02-10 04:12:30\",\"2023-02-10 05:58:14\",\"2023-02-10 19:06:58\",\"2023-02-10 20:29:50\",\"2023-02-10 21:36:32\",\"2023-02-10 22:26:20\",\"2023-02-10 22:31:34\",\"2023-02-11 00:58:58\",\"2023-02-11 01:14:50\",\"2023-02-11 01:21:28\",\"2023-02-11 09:08:40\",\"2023-02-11 09:13:40\",\"2023-02-11 09:59:15\",\"2023-02-11 10:06:41\",\"2023-02-11 10:20:42\",\"2023-02-11 10:39:27\",\"2023-02-11 12:39:28\",\"2023-02-11 15:09:11\",\"2023-02-11 15:26:14\",\"2023-02-11 17:41:23\",\"2023-02-11 17:51:31\",\"2023-02-11 19:23:07\",\"2023-02-11 20:07:58\",\"2023-02-12 02:00:59\",\"2023-02-12 02:28:44\",\"2023-02-12 02:35:29\",\"2023-02-12 11:38:15\",\"2023-02-12 12:02:37\",\"2023-02-12 12:07:46\",\"2023-02-12 12:14:30\",\"2023-02-12 12:19:30\",\"2023-02-12 12:29:03\",\"2023-02-12 17:09:11\",\"2023-02-12 17:40:05\",\"2023-02-12 18:05:49\",\"2023-02-12 18:20:09\",\"2023-02-13 12:32:05\",\"2023-02-13 12:46:23\",\"2023-02-13 12:52:12\",\"2023-02-13 13:13:47\",\"2023-02-13 13:44:54\",\"2023-02-13 17:07:58\",\"2023-02-13 17:10:30\",\"2023-02-13 17:14:00\",\"2023-02-13 17:22:22\",\"2023-02-13 19:24:19\",\"2023-02-13 19:30:30\",\"2023-02-13 19:57:52\",\"2023-02-13 20:04:03\",\"2023-02-13 20:22:47\",\"2023-02-13 23:27:38\",\"2023-02-13 23:37:09\",\"2023-02-13 23:42:57\",\"2023-02-13 23:48:13\",\"2023-02-14 00:10:44\",\"2023-02-14 00:22:51\",\"2023-02-14 00:27:55\",\"2023-02-14 09:29:26\",\"2023-02-14 15:42:07\",\"2023-02-14 15:47:15\",\"2023-02-14 16:17:39\",\"2023-02-14 16:43:37\",\"2023-02-14 16:52:44\",\"2023-02-14 16:57:43\",\"2023-02-14 17:28:27\",\"2023-02-14 17:36:13\",\"2023-02-14 17:41:20\",\"2023-02-14 18:12:25\",\"2023-02-14 18:19:16\",\"2023-02-14 18:27:07\",\"2023-02-14 18:32:55\",\"2023-02-14 18:35:47\",\"2023-02-14 18:40:48\",\"2023-02-14 18:48:49\",\"2023-02-14 18:52:45\",\"2023-02-14 19:03:36\",\"2023-02-14 20:18:11\",\"2023-02-14 20:40:58\",\"2023-02-14 22:09:53\",\"2023-02-14 22:15:26\",\"2023-02-14 22:30:43\",\"2023-02-15 05:02:43\",\"2023-02-15 05:17:27\",\"2023-02-15 12:29:03\",\"2023-02-15 12:37:54\",\"2023-02-15 12:39:50\",\"2023-02-15 12:44:52\",\"2023-02-15 12:45:41\",\"2023-02-15 12:50:35\",\"2023-02-15 12:55:35\",\"2023-02-15 13:01:19\",\"2023-02-15 13:07:00\",\"2023-02-15 13:13:03\",\"2023-02-15 13:27:47\",\"2023-02-15 13:32:48\",\"2023-02-15 13:45:59\",\"2023-02-15 13:54:02\",\"2023-02-15 14:02:10\",\"2023-02-15 18:32:02\",\"2023-02-15 18:40:08\",\"2023-02-15 18:50:02\",\"2023-02-15 18:55:04\"],\"xaxis\":\"x\",\"y\":[181,4418,4418,6380,10033,28513,28513,28513,28513,28513,28513,28513,28513,28513,28513,28513,28513,28513,28513,28513,28513,49806,49806,60210,60210,60210,60210,60210,60210,60210,71276,71276,71276,71276,71276,71276,82119,82119,82119,82119,82119,113323,113323,113677,115648,115648,115648,115648,115648,115648,115648,115648,115648,115648,118139,118139,118139,118139,118139,154428,154428,156255,156255,156255,156255,156255,156255,156255,156255,156255,156255,156255,160703,160703,160703,166792,166792,166792,166792,166792,178523,178523,178523,178523,178523,178523,178523,178523,189486,199975,199975,199975,255484,255484,255484,255484,255484,255484,255484,255484,258292,258292,258292,258292,265371,268146,268146],\"yaxis\":\"y\",\"type\":\"scatter\"},{\"hovertemplate\":\"\\u30c1\\u30fc\\u30e0\\u540d=TheCodeGang5<br>\\u63d0\\u51fa\\u65e5\\u6642=%{x}<br>\\u30b9\\u30b3\\u30a2=%{y}<extra></extra>\",\"legendgroup\":\"TheCodeGang5\",\"line\":{\"color\":\"#00cc96\",\"dash\":\"solid\"},\"marker\":{\"symbol\":\"circle\"},\"mode\":\"lines\",\"name\":\"TheCodeGang5\",\"orientation\":\"v\",\"showlegend\":true,\"x\":[\"2023-02-09 19:30:51\",\"2023-02-09 19:56:14\",\"2023-02-10 06:52:56\",\"2023-02-10 20:31:48\",\"2023-02-10 21:09:44\",\"2023-02-10 22:19:07\",\"2023-02-10 22:24:11\",\"2023-02-10 23:06:14\",\"2023-02-10 23:34:38\",\"2023-02-10 23:46:46\",\"2023-02-11 00:08:48\",\"2023-02-11 00:16:58\",\"2023-02-11 00:49:47\",\"2023-02-11 00:54:47\",\"2023-02-11 01:01:50\",\"2023-02-11 01:03:57\",\"2023-02-11 01:09:05\",\"2023-02-11 01:34:35\",\"2023-02-11 01:39:38\",\"2023-02-11 01:44:42\",\"2023-02-11 01:50:09\",\"2023-02-11 07:34:36\",\"2023-02-11 10:00:44\",\"2023-02-11 10:17:34\",\"2023-02-11 10:33:35\",\"2023-02-11 10:57:28\",\"2023-02-11 11:03:03\",\"2023-02-11 11:22:02\",\"2023-02-11 11:39:07\",\"2023-02-11 12:04:05\",\"2023-02-11 12:39:24\",\"2023-02-11 13:50:32\",\"2023-02-11 13:57:11\",\"2023-02-11 15:23:58\",\"2023-02-11 18:36:21\",\"2023-02-11 19:05:39\",\"2023-02-12 16:41:06\",\"2023-02-12 17:17:37\",\"2023-02-12 19:17:29\",\"2023-02-13 15:23:44\",\"2023-02-13 15:44:38\",\"2023-02-14 09:36:10\",\"2023-02-15 08:46:03\",\"2023-02-15 10:14:23\"],\"xaxis\":\"x\",\"y\":[10033,10033,10033,21088,21088,21088,21088,21088,46030,75511,90539,90539,90539,90539,90539,98513,98513,98513,98513,172479,172479,172479,172479,172479,182504,182504,188643,193597,193597,193701,193701,193701,194333,194333,194333,194333,194333,194333,194333,194333,194333,194333,194333,194333],\"yaxis\":\"y\",\"type\":\"scatter\"},{\"hovertemplate\":\"\\u30c1\\u30fc\\u30e0\\u540d=\\u30c1\\u30e7\\u30b3\\u96f6\\u500b\\u713c\\u304d\\u306a\\u307e\\u3059\\uff01<br>\\u63d0\\u51fa\\u65e5\\u6642=%{x}<br>\\u30b9\\u30b3\\u30a2=%{y}<extra></extra>\",\"legendgroup\":\"\\u30c1\\u30e7\\u30b3\\u96f6\\u500b\\u713c\\u304d\\u306a\\u307e\\u3059\\uff01\",\"line\":{\"color\":\"#ab63fa\",\"dash\":\"solid\"},\"marker\":{\"symbol\":\"circle\"},\"mode\":\"lines\",\"name\":\"\\u30c1\\u30e7\\u30b3\\u96f6\\u500b\\u713c\\u304d\\u306a\\u307e\\u3059\\uff01\",\"orientation\":\"v\",\"showlegend\":true,\"x\":[\"2023-02-09 19:47:01\",\"2023-02-09 22:57:33\",\"2023-02-10 00:05:32\",\"2023-02-10 13:13:23\",\"2023-02-10 19:11:18\",\"2023-02-10 21:51:13\",\"2023-02-10 22:00:09\",\"2023-02-11 21:04:26\",\"2023-02-11 21:22:56\",\"2023-02-11 21:40:01\",\"2023-02-11 22:15:46\",\"2023-02-12 03:04:43\",\"2023-02-12 13:47:53\",\"2023-02-12 14:10:12\",\"2023-02-12 15:23:02\",\"2023-02-12 15:43:31\",\"2023-02-12 20:56:29\",\"2023-02-12 21:23:33\",\"2023-02-12 21:33:00\",\"2023-02-12 21:44:56\",\"2023-02-13 13:53:25\",\"2023-02-13 14:30:42\",\"2023-02-13 14:59:22\",\"2023-02-13 17:32:19\",\"2023-02-13 18:15:50\",\"2023-02-13 19:52:38\",\"2023-02-13 20:14:30\",\"2023-02-13 20:23:10\",\"2023-02-13 20:29:56\",\"2023-02-13 20:46:36\",\"2023-02-13 21:16:08\",\"2023-02-13 21:39:14\",\"2023-02-13 23:00:35\",\"2023-02-13 23:06:09\",\"2023-02-13 23:11:30\",\"2023-02-13 23:12:33\",\"2023-02-13 23:18:24\",\"2023-02-13 23:40:19\",\"2023-02-13 23:45:56\",\"2023-02-14 00:01:11\",\"2023-02-14 00:17:48\",\"2023-02-14 03:04:55\",\"2023-02-14 03:11:42\",\"2023-02-14 03:17:23\",\"2023-02-14 03:24:12\",\"2023-02-14 11:26:05\",\"2023-02-14 13:55:57\",\"2023-02-14 16:50:24\",\"2023-02-14 17:22:15\",\"2023-02-14 19:08:09\",\"2023-02-14 21:05:31\",\"2023-02-14 21:32:03\",\"2023-02-14 22:10:37\",\"2023-02-14 23:28:16\",\"2023-02-15 00:56:28\",\"2023-02-15 01:09:42\",\"2023-02-15 01:21:38\",\"2023-02-15 01:28:27\",\"2023-02-15 01:33:32\",\"2023-02-15 01:39:27\",\"2023-02-15 01:45:32\",\"2023-02-15 01:50:33\",\"2023-02-15 01:56:16\",\"2023-02-15 02:02:11\",\"2023-02-15 02:08:46\",\"2023-02-15 02:14:01\",\"2023-02-15 02:19:11\",\"2023-02-15 02:24:42\",\"2023-02-15 02:29:47\",\"2023-02-15 02:35:01\",\"2023-02-15 02:41:08\",\"2023-02-15 02:45:47\",\"2023-02-15 02:46:24\",\"2023-02-15 02:51:02\",\"2023-02-15 02:52:01\",\"2023-02-15 02:57:06\",\"2023-02-15 03:02:07\",\"2023-02-15 03:07:16\",\"2023-02-15 03:12:24\",\"2023-02-15 03:17:27\",\"2023-02-15 03:28:21\",\"2023-02-15 04:19:39\",\"2023-02-15 04:54:35\",\"2023-02-15 05:00:19\",\"2023-02-15 10:55:48\",\"2023-02-15 11:05:26\",\"2023-02-15 11:11:39\",\"2023-02-15 12:34:15\",\"2023-02-15 12:39:25\",\"2023-02-15 12:48:29\",\"2023-02-15 16:17:34\",\"2023-02-15 17:08:54\",\"2023-02-15 17:21:12\",\"2023-02-15 17:26:27\",\"2023-02-15 18:00:07\",\"2023-02-15 18:31:47\",\"2023-02-15 18:38:11\",\"2023-02-15 18:44:30\",\"2023-02-15 18:49:41\",\"2023-02-15 18:49:48\",\"2023-02-15 18:55:01\"],\"xaxis\":\"x\",\"y\":[5893,5893,34096,48320,48320,48320,48320,92912,203969,203969,203969,203969,203969,203969,203969,203969,203969,203969,216553,216553,216553,244804,244804,281810,281810,281810,281810,281810,299969,299969,301696,301696,301696,301696,301696,301696,301696,301696,301696,301696,301696,301696,301696,301696,301696,302975,302975,306342,306772,308293,308293,308293,308293,308293,308293,308293,308293,308293,308293,308293,308293,308293,308293,308293,308293,308293,308293,308293,308293,308293,308293,308293,308293,308293,308293,308293,308293,308293,308293,308293,308293,308293,308293,308293,318453,318595,318595,318595,318595,318595,318595,318595,318595,318595,318595,318595,318595,318595,318595,318595,318595],\"yaxis\":\"y\",\"type\":\"scatter\"},{\"hovertemplate\":\"\\u30c1\\u30fc\\u30e0\\u540d=Hypertext Assasins<br>\\u63d0\\u51fa\\u65e5\\u6642=%{x}<br>\\u30b9\\u30b3\\u30a2=%{y}<extra></extra>\",\"legendgroup\":\"Hypertext Assasins\",\"line\":{\"color\":\"#FFA15A\",\"dash\":\"solid\"},\"marker\":{\"symbol\":\"circle\"},\"mode\":\"lines\",\"name\":\"Hypertext Assasins\",\"orientation\":\"v\",\"showlegend\":true,\"x\":[\"2023-02-09 20:07:04\",\"2023-02-09 23:32:08\",\"2023-02-09 23:56:27\",\"2023-02-11 21:20:37\",\"2023-02-11 23:38:01\",\"2023-02-11 23:38:22\",\"2023-02-12 00:43:40\",\"2023-02-12 01:34:59\",\"2023-02-13 18:24:14\",\"2023-02-13 20:13:29\",\"2023-02-13 20:38:37\",\"2023-02-13 21:25:07\",\"2023-02-13 22:05:20\",\"2023-02-13 22:32:13\",\"2023-02-13 22:43:35\",\"2023-02-13 23:00:02\",\"2023-02-13 23:27:29\",\"2023-02-14 00:02:21\",\"2023-02-14 00:21:46\",\"2023-02-14 01:12:31\",\"2023-02-14 01:21:19\",\"2023-02-14 01:32:13\",\"2023-02-14 01:42:49\",\"2023-02-14 01:54:07\",\"2023-02-14 02:10:17\",\"2023-02-14 02:15:42\",\"2023-02-14 02:21:32\",\"2023-02-14 02:27:25\",\"2023-02-14 02:38:59\",\"2023-02-14 02:45:13\",\"2023-02-14 02:54:02\",\"2023-02-14 09:07:35\",\"2023-02-14 09:55:45\",\"2023-02-14 10:29:29\",\"2023-02-14 12:42:06\",\"2023-02-14 13:36:58\",\"2023-02-14 18:24:23\",\"2023-02-14 20:41:12\",\"2023-02-14 20:55:31\",\"2023-02-14 21:01:00\",\"2023-02-14 21:07:48\",\"2023-02-14 21:14:15\",\"2023-02-14 21:22:00\",\"2023-02-14 21:28:37\",\"2023-02-14 21:29:58\",\"2023-02-14 21:34:25\",\"2023-02-14 21:35:12\",\"2023-02-14 21:40:42\",\"2023-02-14 21:45:47\",\"2023-02-14 21:50:57\",\"2023-02-14 21:58:10\",\"2023-02-14 22:09:07\",\"2023-02-14 22:10:44\",\"2023-02-14 22:15:53\",\"2023-02-14 22:22:10\",\"2023-02-14 22:29:49\",\"2023-02-14 22:34:20\",\"2023-02-14 22:35:49\",\"2023-02-14 22:40:35\",\"2023-02-14 22:41:18\",\"2023-02-14 22:46:23\",\"2023-02-14 22:51:33\",\"2023-02-14 22:56:35\",\"2023-02-14 23:22:34\",\"2023-02-14 23:25:05\",\"2023-02-14 23:41:21\",\"2023-02-15 00:47:05\",\"2023-02-15 00:58:44\",\"2023-02-15 01:14:44\",\"2023-02-15 01:20:07\",\"2023-02-15 01:29:27\",\"2023-02-15 01:47:28\",\"2023-02-15 01:52:30\"],\"xaxis\":\"x\",\"y\":[483,6127,6891,8103,30010,30010,294269,295118,295118,295118,295118,295118,295118,295267,295267,297344,297344,299788,299788,299788,299788,299788,299788,299788,299788,299788,299788,299788,299788,299788,299788,299788,299788,299788,299788,299788,299788,299788,299788,299788,299788,299788,299788,299788,299788,299788,299788,299788,299788,299788,300213,300213,300213,300213,300213,300213,300213,301888,301888,301888,301888,301888,301888,301888,301888,301888,305086,308012,308219,309461,309461,309461,309461],\"yaxis\":\"y\",\"type\":\"scatter\"},{\"hovertemplate\":\"\\u30c1\\u30fc\\u30e0\\u540d=Homy Jabirus<br>\\u63d0\\u51fa\\u65e5\\u6642=%{x}<br>\\u30b9\\u30b3\\u30a2=%{y}<extra></extra>\",\"legendgroup\":\"Homy Jabirus\",\"line\":{\"color\":\"#19d3f3\",\"dash\":\"solid\"},\"marker\":{\"symbol\":\"circle\"},\"mode\":\"lines\",\"name\":\"Homy Jabirus\",\"orientation\":\"v\",\"showlegend\":true,\"x\":[\"2023-02-09 20:25:35\",\"2023-02-09 20:48:06\",\"2023-02-09 21:23:56\",\"2023-02-09 22:02:59\",\"2023-02-09 22:04:16\",\"2023-02-09 22:24:50\",\"2023-02-09 23:46:58\",\"2023-02-10 00:29:53\",\"2023-02-10 10:09:07\",\"2023-02-10 11:24:18\",\"2023-02-10 12:21:32\",\"2023-02-10 14:18:42\",\"2023-02-10 15:19:49\",\"2023-02-10 22:52:43\",\"2023-02-11 08:52:49\",\"2023-02-11 12:17:00\",\"2023-02-11 12:23:36\",\"2023-02-11 13:11:51\",\"2023-02-11 13:35:35\",\"2023-02-11 13:50:54\",\"2023-02-11 18:06:29\",\"2023-02-11 19:38:49\",\"2023-02-11 20:13:28\",\"2023-02-11 22:43:04\",\"2023-02-12 20:43:31\",\"2023-02-12 20:56:01\",\"2023-02-12 21:24:52\",\"2023-02-13 00:31:38\",\"2023-02-13 00:37:32\",\"2023-02-13 21:38:44\",\"2023-02-13 21:44:32\",\"2023-02-13 21:58:53\",\"2023-02-13 22:08:33\",\"2023-02-13 22:36:56\",\"2023-02-13 22:49:49\",\"2023-02-13 23:21:26\",\"2023-02-14 00:01:38\",\"2023-02-14 01:27:46\",\"2023-02-14 06:38:30\",\"2023-02-14 13:14:58\",\"2023-02-14 14:55:55\",\"2023-02-14 15:53:22\",\"2023-02-14 16:25:51\",\"2023-02-14 19:50:14\",\"2023-02-14 20:22:00\",\"2023-02-14 20:49:57\",\"2023-02-14 20:56:27\",\"2023-02-14 21:42:10\",\"2023-02-14 21:55:47\",\"2023-02-14 22:22:09\",\"2023-02-14 22:30:40\",\"2023-02-15 15:26:23\",\"2023-02-15 15:47:10\",\"2023-02-15 16:23:32\",\"2023-02-15 16:57:44\",\"2023-02-15 17:13:56\",\"2023-02-15 17:34:53\",\"2023-02-15 17:44:13\",\"2023-02-15 17:50:06\",\"2023-02-15 18:28:30\",\"2023-02-15 18:38:11\",\"2023-02-15 18:49:11\",\"2023-02-15 18:53:01\",\"2023-02-15 18:59:01\"],\"xaxis\":\"x\",\"y\":[11736,14003,14003,14003,14003,20619,21591,57779,66246,76424,76424,76424,80013,80013,80013,80013,99639,118749,118749,118749,118749,237779,238347,238347,238347,238347,238347,238347,238347,238347,238347,238347,242437,242437,242437,242437,244314,244314,244314,244314,244314,244314,244314,249858,249858,253580,253580,253580,253580,258614,258614,258614,258614,258614,258614,258614,258614,260239,262901,262901,263480,269926,270211,270211],\"yaxis\":\"y\",\"type\":\"scatter\"},{\"hovertemplate\":\"\\u30c1\\u30fc\\u30e0\\u540d=\\u904b\\u55b6<br>\\u63d0\\u51fa\\u65e5\\u6642=%{x}<br>\\u30b9\\u30b3\\u30a2=%{y}<extra></extra>\",\"legendgroup\":\"\\u904b\\u55b6\",\"line\":{\"color\":\"#FF6692\",\"dash\":\"solid\"},\"marker\":{\"symbol\":\"circle\"},\"mode\":\"lines\",\"name\":\"\\u904b\\u55b6\",\"orientation\":\"v\",\"showlegend\":true,\"x\":[\"2023-02-10 12:07:37\",\"2023-02-10 12:48:53\",\"2023-02-10 14:36:30\",\"2023-02-10 16:55:04\",\"2023-02-13 18:14:09\",\"2023-02-13 18:29:09\",\"2023-02-13 23:41:37\",\"2023-02-14 09:18:02\",\"2023-02-14 09:48:07\",\"2023-02-14 10:04:05\",\"2023-02-14 10:16:12\",\"2023-02-14 10:53:14\"],\"xaxis\":\"x\",\"y\":[4523,5817,140832,144363,311336,311336,311336,311336,311336,311336,311336,311336],\"yaxis\":\"y\",\"type\":\"scatter\"}],                        {\"template\":{\"data\":{\"histogram2dcontour\":[{\"type\":\"histogram2dcontour\",\"colorbar\":{\"outlinewidth\":0,\"ticks\":\"\"},\"colorscale\":[[0.0,\"#0d0887\"],[0.1111111111111111,\"#46039f\"],[0.2222222222222222,\"#7201a8\"],[0.3333333333333333,\"#9c179e\"],[0.4444444444444444,\"#bd3786\"],[0.5555555555555556,\"#d8576b\"],[0.6666666666666666,\"#ed7953\"],[0.7777777777777778,\"#fb9f3a\"],[0.8888888888888888,\"#fdca26\"],[1.0,\"#f0f921\"]]}],\"choropleth\":[{\"type\":\"choropleth\",\"colorbar\":{\"outlinewidth\":0,\"ticks\":\"\"}}],\"histogram2d\":[{\"type\":\"histogram2d\",\"colorbar\":{\"outlinewidth\":0,\"ticks\":\"\"},\"colorscale\":[[0.0,\"#0d0887\"],[0.1111111111111111,\"#46039f\"],[0.2222222222222222,\"#7201a8\"],[0.3333333333333333,\"#9c179e\"],[0.4444444444444444,\"#bd3786\"],[0.5555555555555556,\"#d8576b\"],[0.6666666666666666,\"#ed7953\"],[0.7777777777777778,\"#fb9f3a\"],[0.8888888888888888,\"#fdca26\"],[1.0,\"#f0f921\"]]}],\"heatmap\":[{\"type\":\"heatmap\",\"colorbar\":{\"outlinewidth\":0,\"ticks\":\"\"},\"colorscale\":[[0.0,\"#0d0887\"],[0.1111111111111111,\"#46039f\"],[0.2222222222222222,\"#7201a8\"],[0.3333333333333333,\"#9c179e\"],[0.4444444444444444,\"#bd3786\"],[0.5555555555555556,\"#d8576b\"],[0.6666666666666666,\"#ed7953\"],[0.7777777777777778,\"#fb9f3a\"],[0.8888888888888888,\"#fdca26\"],[1.0,\"#f0f921\"]]}],\"heatmapgl\":[{\"type\":\"heatmapgl\",\"colorbar\":{\"outlinewidth\":0,\"ticks\":\"\"},\"colorscale\":[[0.0,\"#0d0887\"],[0.1111111111111111,\"#46039f\"],[0.2222222222222222,\"#7201a8\"],[0.3333333333333333,\"#9c179e\"],[0.4444444444444444,\"#bd3786\"],[0.5555555555555556,\"#d8576b\"],[0.6666666666666666,\"#ed7953\"],[0.7777777777777778,\"#fb9f3a\"],[0.8888888888888888,\"#fdca26\"],[1.0,\"#f0f921\"]]}],\"contourcarpet\":[{\"type\":\"contourcarpet\",\"colorbar\":{\"outlinewidth\":0,\"ticks\":\"\"}}],\"contour\":[{\"type\":\"contour\",\"colorbar\":{\"outlinewidth\":0,\"ticks\":\"\"},\"colorscale\":[[0.0,\"#0d0887\"],[0.1111111111111111,\"#46039f\"],[0.2222222222222222,\"#7201a8\"],[0.3333333333333333,\"#9c179e\"],[0.4444444444444444,\"#bd3786\"],[0.5555555555555556,\"#d8576b\"],[0.6666666666666666,\"#ed7953\"],[0.7777777777777778,\"#fb9f3a\"],[0.8888888888888888,\"#fdca26\"],[1.0,\"#f0f921\"]]}],\"surface\":[{\"type\":\"surface\",\"colorbar\":{\"outlinewidth\":0,\"ticks\":\"\"},\"colorscale\":[[0.0,\"#0d0887\"],[0.1111111111111111,\"#46039f\"],[0.2222222222222222,\"#7201a8\"],[0.3333333333333333,\"#9c179e\"],[0.4444444444444444,\"#bd3786\"],[0.5555555555555556,\"#d8576b\"],[0.6666666666666666,\"#ed7953\"],[0.7777777777777778,\"#fb9f3a\"],[0.8888888888888888,\"#fdca26\"],[1.0,\"#f0f921\"]]}],\"mesh3d\":[{\"type\":\"mesh3d\",\"colorbar\":{\"outlinewidth\":0,\"ticks\":\"\"}}],\"scatter\":[{\"fillpattern\":{\"fillmode\":\"overlay\",\"size\":10,\"solidity\":0.2},\"type\":\"scatter\"}],\"parcoords\":[{\"type\":\"parcoords\",\"line\":{\"colorbar\":{\"outlinewidth\":0,\"ticks\":\"\"}}}],\"scatterpolargl\":[{\"type\":\"scatterpolargl\",\"marker\":{\"colorbar\":{\"outlinewidth\":0,\"ticks\":\"\"}}}],\"bar\":[{\"error_x\":{\"color\":\"#2a3f5f\"},\"error_y\":{\"color\":\"#2a3f5f\"},\"marker\":{\"line\":{\"color\":\"#E5ECF6\",\"width\":0.5},\"pattern\":{\"fillmode\":\"overlay\",\"size\":10,\"solidity\":0.2}},\"type\":\"bar\"}],\"scattergeo\":[{\"type\":\"scattergeo\",\"marker\":{\"colorbar\":{\"outlinewidth\":0,\"ticks\":\"\"}}}],\"scatterpolar\":[{\"type\":\"scatterpolar\",\"marker\":{\"colorbar\":{\"outlinewidth\":0,\"ticks\":\"\"}}}],\"histogram\":[{\"marker\":{\"pattern\":{\"fillmode\":\"overlay\",\"size\":10,\"solidity\":0.2}},\"type\":\"histogram\"}],\"scattergl\":[{\"type\":\"scattergl\",\"marker\":{\"colorbar\":{\"outlinewidth\":0,\"ticks\":\"\"}}}],\"scatter3d\":[{\"type\":\"scatter3d\",\"line\":{\"colorbar\":{\"outlinewidth\":0,\"ticks\":\"\"}},\"marker\":{\"colorbar\":{\"outlinewidth\":0,\"ticks\":\"\"}}}],\"scattermapbox\":[{\"type\":\"scattermapbox\",\"marker\":{\"colorbar\":{\"outlinewidth\":0,\"ticks\":\"\"}}}],\"scatterternary\":[{\"type\":\"scatterternary\",\"marker\":{\"colorbar\":{\"outlinewidth\":0,\"ticks\":\"\"}}}],\"scattercarpet\":[{\"type\":\"scattercarpet\",\"marker\":{\"colorbar\":{\"outlinewidth\":0,\"ticks\":\"\"}}}],\"carpet\":[{\"aaxis\":{\"endlinecolor\":\"#2a3f5f\",\"gridcolor\":\"white\",\"linecolor\":\"white\",\"minorgridcolor\":\"white\",\"startlinecolor\":\"#2a3f5f\"},\"baxis\":{\"endlinecolor\":\"#2a3f5f\",\"gridcolor\":\"white\",\"linecolor\":\"white\",\"minorgridcolor\":\"white\",\"startlinecolor\":\"#2a3f5f\"},\"type\":\"carpet\"}],\"table\":[{\"cells\":{\"fill\":{\"color\":\"#EBF0F8\"},\"line\":{\"color\":\"white\"}},\"header\":{\"fill\":{\"color\":\"#C8D4E3\"},\"line\":{\"color\":\"white\"}},\"type\":\"table\"}],\"barpolar\":[{\"marker\":{\"line\":{\"color\":\"#E5ECF6\",\"width\":0.5},\"pattern\":{\"fillmode\":\"overlay\",\"size\":10,\"solidity\":0.2}},\"type\":\"barpolar\"}],\"pie\":[{\"automargin\":true,\"type\":\"pie\"}]},\"layout\":{\"autotypenumbers\":\"strict\",\"colorway\":[\"#636efa\",\"#EF553B\",\"#00cc96\",\"#ab63fa\",\"#FFA15A\",\"#19d3f3\",\"#FF6692\",\"#B6E880\",\"#FF97FF\",\"#FECB52\"],\"font\":{\"color\":\"#2a3f5f\"},\"hovermode\":\"closest\",\"hoverlabel\":{\"align\":\"left\"},\"paper_bgcolor\":\"white\",\"plot_bgcolor\":\"#E5ECF6\",\"polar\":{\"bgcolor\":\"#E5ECF6\",\"angularaxis\":{\"gridcolor\":\"white\",\"linecolor\":\"white\",\"ticks\":\"\"},\"radialaxis\":{\"gridcolor\":\"white\",\"linecolor\":\"white\",\"ticks\":\"\"}},\"ternary\":{\"bgcolor\":\"#E5ECF6\",\"aaxis\":{\"gridcolor\":\"white\",\"linecolor\":\"white\",\"ticks\":\"\"},\"baxis\":{\"gridcolor\":\"white\",\"linecolor\":\"white\",\"ticks\":\"\"},\"caxis\":{\"gridcolor\":\"white\",\"linecolor\":\"white\",\"ticks\":\"\"}},\"coloraxis\":{\"colorbar\":{\"outlinewidth\":0,\"ticks\":\"\"}},\"colorscale\":{\"sequential\":[[0.0,\"#0d0887\"],[0.1111111111111111,\"#46039f\"],[0.2222222222222222,\"#7201a8\"],[0.3333333333333333,\"#9c179e\"],[0.4444444444444444,\"#bd3786\"],[0.5555555555555556,\"#d8576b\"],[0.6666666666666666,\"#ed7953\"],[0.7777777777777778,\"#fb9f3a\"],[0.8888888888888888,\"#fdca26\"],[1.0,\"#f0f921\"]],\"sequentialminus\":[[0.0,\"#0d0887\"],[0.1111111111111111,\"#46039f\"],[0.2222222222222222,\"#7201a8\"],[0.3333333333333333,\"#9c179e\"],[0.4444444444444444,\"#bd3786\"],[0.5555555555555556,\"#d8576b\"],[0.6666666666666666,\"#ed7953\"],[0.7777777777777778,\"#fb9f3a\"],[0.8888888888888888,\"#fdca26\"],[1.0,\"#f0f921\"]],\"diverging\":[[0,\"#8e0152\"],[0.1,\"#c51b7d\"],[0.2,\"#de77ae\"],[0.3,\"#f1b6da\"],[0.4,\"#fde0ef\"],[0.5,\"#f7f7f7\"],[0.6,\"#e6f5d0\"],[0.7,\"#b8e186\"],[0.8,\"#7fbc41\"],[0.9,\"#4d9221\"],[1,\"#276419\"]]},\"xaxis\":{\"gridcolor\":\"white\",\"linecolor\":\"white\",\"ticks\":\"\",\"title\":{\"standoff\":15},\"zerolinecolor\":\"white\",\"automargin\":true,\"zerolinewidth\":2},\"yaxis\":{\"gridcolor\":\"white\",\"linecolor\":\"white\",\"ticks\":\"\",\"title\":{\"standoff\":15},\"zerolinecolor\":\"white\",\"automargin\":true,\"zerolinewidth\":2},\"scene\":{\"xaxis\":{\"backgroundcolor\":\"#E5ECF6\",\"gridcolor\":\"white\",\"linecolor\":\"white\",\"showbackground\":true,\"ticks\":\"\",\"zerolinecolor\":\"white\",\"gridwidth\":2},\"yaxis\":{\"backgroundcolor\":\"#E5ECF6\",\"gridcolor\":\"white\",\"linecolor\":\"white\",\"showbackground\":true,\"ticks\":\"\",\"zerolinecolor\":\"white\",\"gridwidth\":2},\"zaxis\":{\"backgroundcolor\":\"#E5ECF6\",\"gridcolor\":\"white\",\"linecolor\":\"white\",\"showbackground\":true,\"ticks\":\"\",\"zerolinecolor\":\"white\",\"gridwidth\":2}},\"shapedefaults\":{\"line\":{\"color\":\"#2a3f5f\"}},\"annotationdefaults\":{\"arrowcolor\":\"#2a3f5f\",\"arrowhead\":0,\"arrowwidth\":1},\"geo\":{\"bgcolor\":\"white\",\"landcolor\":\"#E5ECF6\",\"subunitcolor\":\"white\",\"showland\":true,\"showlakes\":true,\"lakecolor\":\"white\"},\"title\":{\"x\":0.05},\"mapbox\":{\"style\":\"light\"}}},\"xaxis\":{\"anchor\":\"y\",\"domain\":[0.0,1.0],\"title\":{\"text\":\"\\u63d0\\u51fa\\u65e5\\u6642\"}},\"yaxis\":{\"anchor\":\"x\",\"domain\":[0.0,1.0],\"title\":{\"text\":\"\\u30b9\\u30b3\\u30a2\"}},\"legend\":{\"title\":{\"text\":\"\\u30c1\\u30fc\\u30e0\\u540d\"},\"tracegroupgap\":0},\"margin\":{\"t\":60}},                        {\"responsive\": true}                    ).then(function(){\n",
              "                            \n",
              "var gd = document.getElementById('f2daf5ed-c181-490f-913c-0270751dc3e7');\n",
              "var x = new MutationObserver(function (mutations, observer) {{\n",
              "        var display = window.getComputedStyle(gd).display;\n",
              "        if (!display || display === 'none') {{\n",
              "            console.log([gd, 'removed!']);\n",
              "            Plotly.purge(gd);\n",
              "            observer.disconnect();\n",
              "        }}\n",
              "}});\n",
              "\n",
              "// Listen for the removal of the full notebook cells\n",
              "var notebookContainer = gd.closest('#notebook-container');\n",
              "if (notebookContainer) {{\n",
              "    x.observe(notebookContainer, {childList: true});\n",
              "}}\n",
              "\n",
              "// Listen for the clearing of the current output cell\n",
              "var outputEl = gd.closest('.output');\n",
              "if (outputEl) {{\n",
              "    x.observe(outputEl, {childList: true});\n",
              "}}\n",
              "\n",
              "                        })                };                            </script>        </div>\n",
              "</body>\n",
              "</html>"
            ]
          },
          "metadata": {},
          "output_type": "display_data"
        }
      ],
      "source": [
        "df_line_team = df.sort_values(\"提出日時\", ascending = True)\n",
        "df_line_team[\"スコア\"] = df_line_team.groupby(\"チーム名\")[\"スコア\"].cummax()\n",
        "\n",
        "fig_team = px.line(df_line_team, x=\"提出日時\", y=\"スコア\", color=\"チーム名\")\n",
        "fig_team.show()"
      ]
    },
    {
      "cell_type": "code",
      "execution_count": 8,
      "metadata": {
        "colab": {
          "base_uri": "https://localhost:8080/",
          "height": 542
        },
        "id": "vruofln8JyYq",
        "outputId": "e4b35acb-0633-4301-d6e2-d74053ac1a52"
      },
      "outputs": [
        {
          "data": {
            "text/html": [
              "<html>\n",
              "<head><meta charset=\"utf-8\" /></head>\n",
              "<body>\n",
              "    <div>            <script src=\"https://cdnjs.cloudflare.com/ajax/libs/mathjax/2.7.5/MathJax.js?config=TeX-AMS-MML_SVG\"></script><script type=\"text/javascript\">if (window.MathJax && window.MathJax.Hub && window.MathJax.Hub.Config) {window.MathJax.Hub.Config({SVG: {font: \"STIX-Web\"}});}</script>                <script type=\"text/javascript\">window.PlotlyConfig = {MathJaxConfig: 'local'};</script>\n",
              "        <script src=\"https://cdn.plot.ly/plotly-2.18.2.min.js\"></script>                <div id=\"33b366ee-d06b-41c0-b59f-f2c28b9cfbd8\" class=\"plotly-graph-div\" style=\"height:525px; width:100%;\"></div>            <script type=\"text/javascript\">                                    window.PLOTLYENV=window.PLOTLYENV || {};                                    if (document.getElementById(\"33b366ee-d06b-41c0-b59f-f2c28b9cfbd8\")) {                    Plotly.newPlot(                        \"33b366ee-d06b-41c0-b59f-f2c28b9cfbd8\",                        [{\"alignmentgroup\":\"True\",\"boxpoints\":\"all\",\"hovertemplate\":\"\\u8a00\\u8a9e=%{x}<br>\\u30b9\\u30b3\\u30a2=%{y}<extra></extra>\",\"legendgroup\":\"\",\"marker\":{\"color\":\"#636efa\"},\"name\":\"\",\"notched\":false,\"offsetgroup\":\"\",\"orientation\":\"v\",\"showlegend\":false,\"x\":[\"C++\",\"Rust\",\"Python\",\"C++\",\"Python\",\"Python\",\"Rust\",\"C++\",\"C++\",\"Python\",\"Python\",\"Python\",\"Python\",\"D\",\"Python\",\"Python\",\"Python\",\"Common Lisp\",\"Rust\",\"C++\",\"C++\",\"Rust\",\"C++\",\"C++\",\"C++\",\"C++\",\"Python\",\"Python\",\"C++\",\"Python\",\"Python\"],\"x0\":\" \",\"xaxis\":\"x\",\"y\":[194333,311336,270211,239199,10033,300971,268146,312969,309461,269926,91183,267561,290928,111363,26721,218095,178523,244388,48591,34005,278276,278379,80013,318595,286305,83615,173949,22330,301888,28513,118749],\"y0\":\" \",\"yaxis\":\"y\",\"type\":\"box\"}],                        {\"template\":{\"data\":{\"histogram2dcontour\":[{\"type\":\"histogram2dcontour\",\"colorbar\":{\"outlinewidth\":0,\"ticks\":\"\"},\"colorscale\":[[0.0,\"#0d0887\"],[0.1111111111111111,\"#46039f\"],[0.2222222222222222,\"#7201a8\"],[0.3333333333333333,\"#9c179e\"],[0.4444444444444444,\"#bd3786\"],[0.5555555555555556,\"#d8576b\"],[0.6666666666666666,\"#ed7953\"],[0.7777777777777778,\"#fb9f3a\"],[0.8888888888888888,\"#fdca26\"],[1.0,\"#f0f921\"]]}],\"choropleth\":[{\"type\":\"choropleth\",\"colorbar\":{\"outlinewidth\":0,\"ticks\":\"\"}}],\"histogram2d\":[{\"type\":\"histogram2d\",\"colorbar\":{\"outlinewidth\":0,\"ticks\":\"\"},\"colorscale\":[[0.0,\"#0d0887\"],[0.1111111111111111,\"#46039f\"],[0.2222222222222222,\"#7201a8\"],[0.3333333333333333,\"#9c179e\"],[0.4444444444444444,\"#bd3786\"],[0.5555555555555556,\"#d8576b\"],[0.6666666666666666,\"#ed7953\"],[0.7777777777777778,\"#fb9f3a\"],[0.8888888888888888,\"#fdca26\"],[1.0,\"#f0f921\"]]}],\"heatmap\":[{\"type\":\"heatmap\",\"colorbar\":{\"outlinewidth\":0,\"ticks\":\"\"},\"colorscale\":[[0.0,\"#0d0887\"],[0.1111111111111111,\"#46039f\"],[0.2222222222222222,\"#7201a8\"],[0.3333333333333333,\"#9c179e\"],[0.4444444444444444,\"#bd3786\"],[0.5555555555555556,\"#d8576b\"],[0.6666666666666666,\"#ed7953\"],[0.7777777777777778,\"#fb9f3a\"],[0.8888888888888888,\"#fdca26\"],[1.0,\"#f0f921\"]]}],\"heatmapgl\":[{\"type\":\"heatmapgl\",\"colorbar\":{\"outlinewidth\":0,\"ticks\":\"\"},\"colorscale\":[[0.0,\"#0d0887\"],[0.1111111111111111,\"#46039f\"],[0.2222222222222222,\"#7201a8\"],[0.3333333333333333,\"#9c179e\"],[0.4444444444444444,\"#bd3786\"],[0.5555555555555556,\"#d8576b\"],[0.6666666666666666,\"#ed7953\"],[0.7777777777777778,\"#fb9f3a\"],[0.8888888888888888,\"#fdca26\"],[1.0,\"#f0f921\"]]}],\"contourcarpet\":[{\"type\":\"contourcarpet\",\"colorbar\":{\"outlinewidth\":0,\"ticks\":\"\"}}],\"contour\":[{\"type\":\"contour\",\"colorbar\":{\"outlinewidth\":0,\"ticks\":\"\"},\"colorscale\":[[0.0,\"#0d0887\"],[0.1111111111111111,\"#46039f\"],[0.2222222222222222,\"#7201a8\"],[0.3333333333333333,\"#9c179e\"],[0.4444444444444444,\"#bd3786\"],[0.5555555555555556,\"#d8576b\"],[0.6666666666666666,\"#ed7953\"],[0.7777777777777778,\"#fb9f3a\"],[0.8888888888888888,\"#fdca26\"],[1.0,\"#f0f921\"]]}],\"surface\":[{\"type\":\"surface\",\"colorbar\":{\"outlinewidth\":0,\"ticks\":\"\"},\"colorscale\":[[0.0,\"#0d0887\"],[0.1111111111111111,\"#46039f\"],[0.2222222222222222,\"#7201a8\"],[0.3333333333333333,\"#9c179e\"],[0.4444444444444444,\"#bd3786\"],[0.5555555555555556,\"#d8576b\"],[0.6666666666666666,\"#ed7953\"],[0.7777777777777778,\"#fb9f3a\"],[0.8888888888888888,\"#fdca26\"],[1.0,\"#f0f921\"]]}],\"mesh3d\":[{\"type\":\"mesh3d\",\"colorbar\":{\"outlinewidth\":0,\"ticks\":\"\"}}],\"scatter\":[{\"fillpattern\":{\"fillmode\":\"overlay\",\"size\":10,\"solidity\":0.2},\"type\":\"scatter\"}],\"parcoords\":[{\"type\":\"parcoords\",\"line\":{\"colorbar\":{\"outlinewidth\":0,\"ticks\":\"\"}}}],\"scatterpolargl\":[{\"type\":\"scatterpolargl\",\"marker\":{\"colorbar\":{\"outlinewidth\":0,\"ticks\":\"\"}}}],\"bar\":[{\"error_x\":{\"color\":\"#2a3f5f\"},\"error_y\":{\"color\":\"#2a3f5f\"},\"marker\":{\"line\":{\"color\":\"#E5ECF6\",\"width\":0.5},\"pattern\":{\"fillmode\":\"overlay\",\"size\":10,\"solidity\":0.2}},\"type\":\"bar\"}],\"scattergeo\":[{\"type\":\"scattergeo\",\"marker\":{\"colorbar\":{\"outlinewidth\":0,\"ticks\":\"\"}}}],\"scatterpolar\":[{\"type\":\"scatterpolar\",\"marker\":{\"colorbar\":{\"outlinewidth\":0,\"ticks\":\"\"}}}],\"histogram\":[{\"marker\":{\"pattern\":{\"fillmode\":\"overlay\",\"size\":10,\"solidity\":0.2}},\"type\":\"histogram\"}],\"scattergl\":[{\"type\":\"scattergl\",\"marker\":{\"colorbar\":{\"outlinewidth\":0,\"ticks\":\"\"}}}],\"scatter3d\":[{\"type\":\"scatter3d\",\"line\":{\"colorbar\":{\"outlinewidth\":0,\"ticks\":\"\"}},\"marker\":{\"colorbar\":{\"outlinewidth\":0,\"ticks\":\"\"}}}],\"scattermapbox\":[{\"type\":\"scattermapbox\",\"marker\":{\"colorbar\":{\"outlinewidth\":0,\"ticks\":\"\"}}}],\"scatterternary\":[{\"type\":\"scatterternary\",\"marker\":{\"colorbar\":{\"outlinewidth\":0,\"ticks\":\"\"}}}],\"scattercarpet\":[{\"type\":\"scattercarpet\",\"marker\":{\"colorbar\":{\"outlinewidth\":0,\"ticks\":\"\"}}}],\"carpet\":[{\"aaxis\":{\"endlinecolor\":\"#2a3f5f\",\"gridcolor\":\"white\",\"linecolor\":\"white\",\"minorgridcolor\":\"white\",\"startlinecolor\":\"#2a3f5f\"},\"baxis\":{\"endlinecolor\":\"#2a3f5f\",\"gridcolor\":\"white\",\"linecolor\":\"white\",\"minorgridcolor\":\"white\",\"startlinecolor\":\"#2a3f5f\"},\"type\":\"carpet\"}],\"table\":[{\"cells\":{\"fill\":{\"color\":\"#EBF0F8\"},\"line\":{\"color\":\"white\"}},\"header\":{\"fill\":{\"color\":\"#C8D4E3\"},\"line\":{\"color\":\"white\"}},\"type\":\"table\"}],\"barpolar\":[{\"marker\":{\"line\":{\"color\":\"#E5ECF6\",\"width\":0.5},\"pattern\":{\"fillmode\":\"overlay\",\"size\":10,\"solidity\":0.2}},\"type\":\"barpolar\"}],\"pie\":[{\"automargin\":true,\"type\":\"pie\"}]},\"layout\":{\"autotypenumbers\":\"strict\",\"colorway\":[\"#636efa\",\"#EF553B\",\"#00cc96\",\"#ab63fa\",\"#FFA15A\",\"#19d3f3\",\"#FF6692\",\"#B6E880\",\"#FF97FF\",\"#FECB52\"],\"font\":{\"color\":\"#2a3f5f\"},\"hovermode\":\"closest\",\"hoverlabel\":{\"align\":\"left\"},\"paper_bgcolor\":\"white\",\"plot_bgcolor\":\"#E5ECF6\",\"polar\":{\"bgcolor\":\"#E5ECF6\",\"angularaxis\":{\"gridcolor\":\"white\",\"linecolor\":\"white\",\"ticks\":\"\"},\"radialaxis\":{\"gridcolor\":\"white\",\"linecolor\":\"white\",\"ticks\":\"\"}},\"ternary\":{\"bgcolor\":\"#E5ECF6\",\"aaxis\":{\"gridcolor\":\"white\",\"linecolor\":\"white\",\"ticks\":\"\"},\"baxis\":{\"gridcolor\":\"white\",\"linecolor\":\"white\",\"ticks\":\"\"},\"caxis\":{\"gridcolor\":\"white\",\"linecolor\":\"white\",\"ticks\":\"\"}},\"coloraxis\":{\"colorbar\":{\"outlinewidth\":0,\"ticks\":\"\"}},\"colorscale\":{\"sequential\":[[0.0,\"#0d0887\"],[0.1111111111111111,\"#46039f\"],[0.2222222222222222,\"#7201a8\"],[0.3333333333333333,\"#9c179e\"],[0.4444444444444444,\"#bd3786\"],[0.5555555555555556,\"#d8576b\"],[0.6666666666666666,\"#ed7953\"],[0.7777777777777778,\"#fb9f3a\"],[0.8888888888888888,\"#fdca26\"],[1.0,\"#f0f921\"]],\"sequentialminus\":[[0.0,\"#0d0887\"],[0.1111111111111111,\"#46039f\"],[0.2222222222222222,\"#7201a8\"],[0.3333333333333333,\"#9c179e\"],[0.4444444444444444,\"#bd3786\"],[0.5555555555555556,\"#d8576b\"],[0.6666666666666666,\"#ed7953\"],[0.7777777777777778,\"#fb9f3a\"],[0.8888888888888888,\"#fdca26\"],[1.0,\"#f0f921\"]],\"diverging\":[[0,\"#8e0152\"],[0.1,\"#c51b7d\"],[0.2,\"#de77ae\"],[0.3,\"#f1b6da\"],[0.4,\"#fde0ef\"],[0.5,\"#f7f7f7\"],[0.6,\"#e6f5d0\"],[0.7,\"#b8e186\"],[0.8,\"#7fbc41\"],[0.9,\"#4d9221\"],[1,\"#276419\"]]},\"xaxis\":{\"gridcolor\":\"white\",\"linecolor\":\"white\",\"ticks\":\"\",\"title\":{\"standoff\":15},\"zerolinecolor\":\"white\",\"automargin\":true,\"zerolinewidth\":2},\"yaxis\":{\"gridcolor\":\"white\",\"linecolor\":\"white\",\"ticks\":\"\",\"title\":{\"standoff\":15},\"zerolinecolor\":\"white\",\"automargin\":true,\"zerolinewidth\":2},\"scene\":{\"xaxis\":{\"backgroundcolor\":\"#E5ECF6\",\"gridcolor\":\"white\",\"linecolor\":\"white\",\"showbackground\":true,\"ticks\":\"\",\"zerolinecolor\":\"white\",\"gridwidth\":2},\"yaxis\":{\"backgroundcolor\":\"#E5ECF6\",\"gridcolor\":\"white\",\"linecolor\":\"white\",\"showbackground\":true,\"ticks\":\"\",\"zerolinecolor\":\"white\",\"gridwidth\":2},\"zaxis\":{\"backgroundcolor\":\"#E5ECF6\",\"gridcolor\":\"white\",\"linecolor\":\"white\",\"showbackground\":true,\"ticks\":\"\",\"zerolinecolor\":\"white\",\"gridwidth\":2}},\"shapedefaults\":{\"line\":{\"color\":\"#2a3f5f\"}},\"annotationdefaults\":{\"arrowcolor\":\"#2a3f5f\",\"arrowhead\":0,\"arrowwidth\":1},\"geo\":{\"bgcolor\":\"white\",\"landcolor\":\"#E5ECF6\",\"subunitcolor\":\"white\",\"showland\":true,\"showlakes\":true,\"lakecolor\":\"white\"},\"title\":{\"x\":0.05},\"mapbox\":{\"style\":\"light\"}}},\"xaxis\":{\"anchor\":\"y\",\"domain\":[0.0,1.0],\"title\":{\"text\":\"\\u8a00\\u8a9e\"}},\"yaxis\":{\"anchor\":\"x\",\"domain\":[0.0,1.0],\"title\":{\"text\":\"\\u30b9\\u30b3\\u30a2\"}},\"legend\":{\"tracegroupgap\":0},\"margin\":{\"t\":60},\"boxmode\":\"group\"},                        {\"responsive\": true}                    ).then(function(){\n",
              "                            \n",
              "var gd = document.getElementById('33b366ee-d06b-41c0-b59f-f2c28b9cfbd8');\n",
              "var x = new MutationObserver(function (mutations, observer) {{\n",
              "        var display = window.getComputedStyle(gd).display;\n",
              "        if (!display || display === 'none') {{\n",
              "            console.log([gd, 'removed!']);\n",
              "            Plotly.purge(gd);\n",
              "            observer.disconnect();\n",
              "        }}\n",
              "}});\n",
              "\n",
              "// Listen for the removal of the full notebook cells\n",
              "var notebookContainer = gd.closest('#notebook-container');\n",
              "if (notebookContainer) {{\n",
              "    x.observe(notebookContainer, {childList: true});\n",
              "}}\n",
              "\n",
              "// Listen for the clearing of the current output cell\n",
              "var outputEl = gd.closest('.output');\n",
              "if (outputEl) {{\n",
              "    x.observe(outputEl, {childList: true});\n",
              "}}\n",
              "\n",
              "                        })                };                            </script>        </div>\n",
              "</body>\n",
              "</html>"
            ]
          },
          "metadata": {},
          "output_type": "display_data"
        }
      ],
      "source": [
        "df_lang = df.replace(\"C++ (GCC 9.2.1)\", \"C++\"\n",
        "            ).replace(\"C++ (Clang 10.0.0)\", \"C++\"\n",
        "            ).replace(\"C++14\", \"C++\"\n",
        "            ).replace(\"C# (.NET Core 3.1.201)\", \"C#\"\n",
        "            ).replace(\"PyPy3 (7.3.0)\", \"Python\"\n",
        "            ).replace(\"Python (3.8.2)\", \"Python\"\n",
        "            ).replace(\"Rust (1.42.0)\", \"Rust\"\n",
        "            ).replace(\"Crystal (0.33.0)\", \"Crystal\"\n",
        "            ).replace(\"D (DMD 2.091.0)\", \"D\"\n",
        "            ).replace(\"D (LDC 1.20.1)\", \"D\"\n",
        "            ).replace(\"Common Lisp (SBCL 2.0.3)\", \"Common Lisp\"\n",
        "            ).replace(\"Java (OpenJDK 11.0.6)\", \"Java\"\n",
        "            )\n",
        "df_lang = df_lang.loc[df_lang.groupby(\"名前\")[\"スコア\"].idxmax()]\n",
        "\n",
        "fig_lang = px.box(df_lang, x=\"言語\", y=\"スコア\", points='all')\n",
        "fig_lang.show()"
      ]
    },
    {
      "cell_type": "code",
      "execution_count": 9,
      "metadata": {
        "colab": {
          "base_uri": "https://localhost:8080/",
          "height": 154
        },
        "id": "RilTd-rqPwP_",
        "outputId": "b80e511d-2c3a-485c-d511-2bf6ef5ea999"
      },
      "outputs": [
        {
          "data": {
            "application/vnd.google.colaboratory.intrinsic+json": {
              "type": "string"
            },
            "text/plain": [
              "'\\ndf_rate = df.loc[df.groupby(\"名前\")[\"スコア\"].idxmax()]\\n\\nlayout = go.Layout(\\n    xaxis = dict(title=\"レート\", range = [0,3001], dtick=500),   # rangeで範囲、dtick で区間幅\\n    yaxis = dict(title=\"スコア（対数）\"))\\n\\nfig_rate = go.Figure(layout = layout)\\nfig_rate.add_trace(go.Scatter(x = df_rate[\"アルゴレート\"],\\n                              y = df_rate[\"スコア\"],\\n                              mode = \"markers\",\\n                              name = \"アルゴ\"))\\nfig_rate.add_trace(go.Scatter(x = df_rate[\"ヒューリスティックレート\"],\\n                              y = df_rate[\"スコア\"],\\n                              mode = \"markers\",\\n                              name = \"ヒューリスティック\"))\\nfig_rate.update_yaxes(type=\"log\")\\nfig_rate.show()\\n'"
            ]
          },
          "execution_count": 9,
          "metadata": {},
          "output_type": "execute_result"
        }
      ],
      "source": [
        "\"\"\"\n",
        "df_rate = df.loc[df.groupby(\"名前\")[\"スコア\"].idxmax()]\n",
        "\n",
        "layout = go.Layout(\n",
        "    xaxis = dict(title=\"レート\", range = [0,3001], dtick=500),   # rangeで範囲、dtick で区間幅\n",
        "    yaxis = dict(title=\"スコア（対数）\"))\n",
        "\n",
        "fig_rate = go.Figure(layout = layout)\n",
        "fig_rate.add_trace(go.Scatter(x = df_rate[\"アルゴレート\"],\n",
        "                              y = df_rate[\"スコア\"],\n",
        "                              mode = \"markers\",\n",
        "                              name = \"アルゴ\"))\n",
        "fig_rate.add_trace(go.Scatter(x = df_rate[\"ヒューリスティックレート\"],\n",
        "                              y = df_rate[\"スコア\"],\n",
        "                              mode = \"markers\",\n",
        "                              name = \"ヒューリスティック\"))\n",
        "fig_rate.update_yaxes(type=\"log\")\n",
        "fig_rate.show()\n",
        "\"\"\""
      ]
    },
    {
      "attachments": {},
      "cell_type": "markdown",
      "metadata": {
        "id": "H00Xt_2d-kz1"
      },
      "source": [
        "## HTMLで書き出し"
      ]
    },
    {
      "cell_type": "code",
      "execution_count": 10,
      "metadata": {
        "id": "A1N18qR7NI4L"
      },
      "outputs": [],
      "source": [
        "fig_individual.write_html(\"line_individual.html\")\n",
        "fig_team.write_html(\"line_team.html\")\n",
        "#fig_lang.write_html(\"box_lang.html\")\n",
        "#fig_rate.write_html(\"scatter_rate.html\")"
      ]
    },
    {
      "cell_type": "code",
      "execution_count": 11,
      "metadata": {
        "colab": {
          "base_uri": "https://localhost:8080/",
          "height": 205
        },
        "id": "K7S5xxFWNjB2",
        "outputId": "9a63d7b3-a26c-474d-9449-84e62feab369"
      },
      "outputs": [
        {
          "data": {
            "application/vnd.google.colaboratory.intrinsic+json": {
              "type": "string"
            },
            "text/plain": [
              "'<table class=\"dataframe table table-striped table-hover\">\\n  <thead>\\n    <tr style=\"text-align: left;\">\\n      <th>順位</th>\\n      <th>名前</th>\\n      <th>チーム名</th>\\n      <th>スコア</th>\\n    </tr>\\n  </thead>\\n  <tbody>\\n    <tr>\\n      <td>1</td>\\n      <td>ssaattoo</td>\\n      <td>チョコ零個焼きなます！</td>\\n      <td>318595</td>\\n    </tr>\\n    <tr>\\n      <td>2</td>\\n      <td>highjump</td>\\n      <td>ネバーギブアップの掟</td>\\n      <td>312969</td>\\n    </tr>\\n    <tr>\\n      <td>3</td>\\n      <td>ainem</td>\\n      <td>運営</td>\\n      <td>311336</td>\\n    </tr>\\n    <tr>\\n      <td>4</td>\\n      <td>hotpepsi</td>\\n      <td>Hypertext Assasins</td>\\n      <td>309461</td>\\n    </tr>\\n    <tr>\\n      <td>5</td>\\n      <td>yamake</td>\\n      <td>Hypertext Assasins</td>\\n      <td>301888</td>\\n    </tr>\\n    <tr>\\n      <td>6</td>\\n      <td>edomondo</td>\\n      <td>ネバーギブアップの掟</td>\\n      <td>300971</td>\\n    </tr>\\n    <tr>\\n      <td>7</td>\\n      <td>keroru</td>\\n      <td>ネバーギブアップの掟</td>\\n      <td>290928</td>\\n    </tr>\\n    <tr>\\n      <td>8</td>\\n      <td>tardigrade</td>\\n      <td>ネバーギブアップの掟</td>\\n      <td>286305</td>\\n    </tr>\\n    <tr>\\n      <td>9</td>\\n      <td>r3yohei</td>\\n      <td>チョコ零個焼きなます！</td>\\n      <td>278379</td>\\n    </tr>\\n    <tr>\\n      <td>10</td>\\n      <td>platinum</td>\\n      <td>Hypertext Assasins</td>\\n      <td>278276</td>\\n    </tr>\\n    <tr>\\n      <td>11</td>\\n      <td>brthyyjp</td>\\n      <td>Homy Jabirus</td>\\n      <td>270211</td>\\n    </tr>\\n    <tr>\\n      <td>12</td>\\n      <td>jaku</td>\\n      <td>Homy Jabirus</td>\\n      <td>269926</td>\\n    </tr>\\n    <tr>\\n      <td>13</td>\\n      <td>gootara</td>\\n      <td>へびつかい</td>\\n      <td>268146</td>\\n    </tr>\\n    <tr>\\n      <td>14</td>\\n      <td>june193</td>\\n      <td>ネバーギブアップの掟</td>\\n      <td>267561</td>\\n    </tr>\\n    <tr>\\n      <td>15</td>\\n      <td>motoshira</td>\\n      <td>Homy Jabirus</td>\\n      <td>244388</td>\\n    </tr>\\n    <tr>\\n      <td>16</td>\\n      <td>cplusplusonly</td>\\n      <td>Hypertext Assasins</td>\\n      <td>239199</td>\\n    </tr>\\n    <tr>\\n      <td>17</td>\\n      <td>michirakara</td>\\n      <td>へびつかい</td>\\n      <td>218095</td>\\n    </tr>\\n    <tr>\\n      <td>18</td>\\n      <td>2bit</td>\\n      <td>TheCodeGang5</td>\\n      <td>194333</td>\\n    </tr>\\n    <tr>\\n      <td>19</td>\\n      <td>midnq</td>\\n      <td>へびつかい</td>\\n      <td>178523</td>\\n    </tr>\\n    <tr>\\n      <td>20</td>\\n      <td>tnodino</td>\\n      <td>へびつかい</td>\\n      <td>173949</td>\\n    </tr>\\n    <tr>\\n      <td>21</td>\\n      <td>yu_w</td>\\n      <td>Homy Jabirus</td>\\n      <td>118749</td>\\n    </tr>\\n    <tr>\\n      <td>22</td>\\n      <td>kokatsu</td>\\n      <td>チョコ零個焼きなます！</td>\\n      <td>111363</td>\\n    </tr>\\n    <tr>\\n      <td>23</td>\\n      <td>jamuojisan</td>\\n      <td>ネバーギブアップの掟</td>\\n      <td>91183</td>\\n    </tr>\\n    <tr>\\n      <td>24</td>\\n      <td>tmikada</td>\\n      <td>TheCodeGang5</td>\\n      <td>83615</td>\\n    </tr>\\n    <tr>\\n      <td>25</td>\\n      <td>shu8Cream</td>\\n      <td>Homy Jabirus</td>\\n      <td>80013</td>\\n    </tr>\\n    <tr>\\n      <td>26</td>\\n      <td>ntk_ta01</td>\\n      <td>チョコ零個焼きなます！</td>\\n      <td>48591</td>\\n    </tr>\\n    <tr>\\n      <td>27</td>\\n      <td>ococonomy1</td>\\n      <td>チョコ零個焼きなます！</td>\\n      <td>34005</td>\\n    </tr>\\n    <tr>\\n      <td>28</td>\\n      <td>yas_yasyu</td>\\n      <td>へびつかい</td>\\n      <td>28513</td>\\n    </tr>\\n    <tr>\\n      <td>29</td>\\n      <td>meowmeowcats</td>\\n      <td>TheCodeGang5</td>\\n      <td>26721</td>\\n    </tr>\\n    <tr>\\n      <td>30</td>\\n      <td>utprg</td>\\n      <td>TheCodeGang5</td>\\n      <td>22330</td>\\n    </tr>\\n    <tr>\\n      <td>31</td>\\n      <td>donphan</td>\\n      <td>へびつかい</td>\\n      <td>10033</td>\\n    </tr>\\n  </tbody>\\n</table>'"
            ]
          },
          "execution_count": 11,
          "metadata": {},
          "output_type": "execute_result"
        }
      ],
      "source": [
        "df_individual.to_html(border = 0,\n",
        "                      classes = [\"table\", \"table-striped\", \"table-hover\"],\n",
        "                      index = False,\n",
        "                      justify = \"left\")"
      ]
    },
    {
      "cell_type": "code",
      "execution_count": 12,
      "metadata": {
        "colab": {
          "base_uri": "https://localhost:8080/",
          "height": 205
        },
        "id": "rPPEgEgTQANd",
        "outputId": "c8da5d00-9ef6-4cd1-eb79-c764979f7cde"
      },
      "outputs": [
        {
          "data": {
            "application/vnd.google.colaboratory.intrinsic+json": {
              "type": "string"
            },
            "text/plain": [
              "'<table class=\"dataframe table table-striped table-hover\">\\n  <thead>\\n    <tr style=\"text-align: left;\">\\n      <th>順位</th>\\n      <th>チーム名</th>\\n      <th>名前</th>\\n      <th>スコア</th>\\n    </tr>\\n  </thead>\\n  <tbody>\\n    <tr>\\n      <td>1</td>\\n      <td>チョコ零個焼きなます！</td>\\n      <td>ssaattoo</td>\\n      <td>318595</td>\\n    </tr>\\n    <tr>\\n      <td>2</td>\\n      <td>ネバーギブアップの掟</td>\\n      <td>highjump</td>\\n      <td>312969</td>\\n    </tr>\\n    <tr>\\n      <td>3</td>\\n      <td>運営</td>\\n      <td>ainem</td>\\n      <td>311336</td>\\n    </tr>\\n    <tr>\\n      <td>4</td>\\n      <td>Hypertext Assasins</td>\\n      <td>hotpepsi</td>\\n      <td>309461</td>\\n    </tr>\\n    <tr>\\n      <td>5</td>\\n      <td>Homy Jabirus</td>\\n      <td>brthyyjp</td>\\n      <td>270211</td>\\n    </tr>\\n    <tr>\\n      <td>6</td>\\n      <td>へびつかい</td>\\n      <td>gootara</td>\\n      <td>268146</td>\\n    </tr>\\n    <tr>\\n      <td>7</td>\\n      <td>TheCodeGang5</td>\\n      <td>2bit</td>\\n      <td>194333</td>\\n    </tr>\\n  </tbody>\\n</table>'"
            ]
          },
          "execution_count": 12,
          "metadata": {},
          "output_type": "execute_result"
        }
      ],
      "source": [
        "df_team.to_html(border = 0,\n",
        "                classes = [\"table\", \"table-striped\", \"table-hover\"],\n",
        "                index = False,\n",
        "                justify = \"left\")"
      ]
    }
  ],
  "metadata": {
    "colab": {
      "provenance": []
    },
    "kernelspec": {
      "display_name": "Python 3",
      "name": "python3"
    },
    "language_info": {
      "name": "python"
    }
  },
  "nbformat": 4,
  "nbformat_minor": 0
}
